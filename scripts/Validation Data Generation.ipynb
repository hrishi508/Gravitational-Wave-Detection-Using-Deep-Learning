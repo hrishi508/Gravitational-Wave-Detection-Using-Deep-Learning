{
 "cells": [
  {
   "cell_type": "code",
   "execution_count": null,
   "metadata": {},
   "outputs": [],
   "source": [
    "################################\n",
    "########### IMPORTS ############\n",
    "################################"
   ]
  },
  {
   "cell_type": "code",
   "execution_count": 16,
   "metadata": {},
   "outputs": [],
   "source": [
    "from pycbc import distributions\n",
    "from pycbc.waveform import get_td_waveform, td_approximants\n",
    "from pycbc.detector import Detector\n",
    "import matplotlib.pyplot as plt\n",
    "import numpy as np\n",
    "import gwpy\n",
    "import pylab\n",
    "from tqdm.notebook import tqdm\n",
    "from gwpy.timeseries import TimeSeries\n",
    "import pandas as pd\n",
    "import os\n",
    "import csv\n",
    "import pycbc.noise\n",
    "import pycbc.psd\n",
    "from pycbc.filter import matched_filter"
   ]
  },
  {
   "cell_type": "code",
   "execution_count": null,
   "metadata": {},
   "outputs": [],
   "source": [
    "############################################\n",
    "########### BBH Data Generation ############\n",
    "############################################"
   ]
  },
  {
   "cell_type": "code",
   "execution_count": 5,
   "metadata": {},
   "outputs": [
    {
     "name": "stdout",
     "output_type": "stream",
     "text": [
      "Generated Binary Mass Distributions for BBH\n"
     ]
    }
   ],
   "source": [
    "\n",
    "print(\"Generated Binary Mass Distributions for BBH\")\n",
    "# We can make pairs of distributions together, instead of apart.\n",
    "bbh_two_mass_distributions = distributions.Uniform(mass1=(10, 50),\n",
    "                                               mass2=(10, 50))\n",
    "\n",
    "bbh_two_mass_samples = bbh_two_mass_distributions.rvs(size=1000)"
   ]
  },
  {
   "cell_type": "code",
   "execution_count": 7,
   "metadata": {},
   "outputs": [
    {
     "name": "stdout",
     "output_type": "stream",
     "text": [
      "Using Binary Mass Distributions to generate BBH waveforms\n"
     ]
    },
    {
     "data": {
      "application/vnd.jupyter.widget-view+json": {
       "model_id": "af3f5d3a54ec474b9bc3359e7a247c06",
       "version_major": 2,
       "version_minor": 0
      },
      "text/plain": [
       "  0%|          | 0/1000 [00:00<?, ?it/s]"
      ]
     },
     "metadata": {},
     "output_type": "display_data"
    }
   ],
   "source": [
    "print(\"Using Binary Mass Distributions to generate BBH waveforms\")\n",
    "for i in tqdm(range(len(bbh_two_mass_samples))):\n",
    "    hp, hc = get_td_waveform(approximant=\"SEOBNRv2\",                                # what are hp and hc?\n",
    "                         mass1=bbh_two_mass_samples[i][0],\n",
    "                         mass2=bbh_two_mass_samples[i][1],\n",
    "                         delta_t=1.0/4096,\n",
    "                         f_lower=40)                                                # change to 40 Hz\n",
    "\n",
    "    \n",
    "    signal = TimeSeries.from_pycbc(hp)\n",
    "    signal.write(\"/home/hrishi/SOP/Gravitational Wave Detection Using Deep Learning/raw_val_data_files/bbh_signal/bbh_4k_\"+str(i)+\".txt\")\n",
    "    \n",
    "    # st = np.random.randint(0,2)\n",
    "    \n",
    "    # generate a random float \"st\" in the range [0,2)\n",
    "    st = 2*np.random.random()\n",
    "    signal.t0 = st\n",
    "    \n",
    "    noise = TimeSeries(np.random.normal(scale=.1, size=16384), sample_rate=4096)    # did not understand clearly    # try scale = 1 \n",
    "    noise= noise*1e-18\n",
    "    \n",
    "    \n",
    "    noise.write(\"/home/hrishi/SOP/Gravitational Wave Detection Using Deep Learning/raw_val_data_files/noise_templates/noise_4k_\"+str(i)+\".txt\")\n",
    "    \n",
    "    data = noise.inject(signal)\n",
    "\n",
    "    data.write(\"/home/hrishi/SOP/Gravitational Wave Detection Using Deep Learning/raw_val_data_files/merged_bbh_noise_signal/merged_noise_signal_\"+str(i)+\".txt\")"
   ]
  },
  {
   "cell_type": "code",
   "execution_count": 17,
   "metadata": {},
   "outputs": [
    {
     "data": {
      "application/vnd.jupyter.widget-view+json": {
       "model_id": "ef67dd0c571541d5b872dea21ccb0dfb",
       "version_major": 2,
       "version_minor": 0
      },
      "text/plain": [
       "  0%|          | 0/1000 [00:00<?, ?it/s]"
      ]
     },
     "metadata": {},
     "output_type": "display_data"
    }
   ],
   "source": [
    "# for i in tqdm(range(1000)):\n",
    "#     signal = TimeSeries.read(\"/home/hrishi/SOP/Gravitational Wave Detection Using Deep Learning/raw_val_data_files/bbh_signal/bbh_4k_\"+str(i)+\".txt\")\n",
    "#     st = np.random.randint(0,2)\n",
    "#     signal.t0 = st\n",
    "#     noise = TimeSeries.read(\"/home/hrishi/SOP/Gravitational Wave Detection Using Deep Learning/raw_val_data_files/noise_templates/noise_4k_\"+str(i)+\".txt\")\n",
    "#     data = noise.inject(signal)\n",
    "#     data.write(\"/home/hrishi/SOP/Gravitational Wave Detection Using Deep Learning/raw_val_data_files/merged_bbh_noise_signal/merged_noise_signal_\"+str(i)+\".txt\")\n",
    "    "
   ]
  },
  {
   "cell_type": "code",
   "execution_count": 18,
   "metadata": {},
   "outputs": [
    {
     "data": {
      "application/vnd.jupyter.widget-view+json": {
       "model_id": "2f76d61fbb814409b75e9dd79a8cc401",
       "version_major": 2,
       "version_minor": 0
      },
      "text/plain": [
       "  0%|          | 0/1000 [00:00<?, ?it/s]"
      ]
     },
     "metadata": {},
     "output_type": "display_data"
    }
   ],
   "source": [
    "# Merging Noise + Signal Templates into single csv file\n",
    "\n",
    "path = \"/home/hrishi/SOP/Gravitational Wave Detection Using Deep Learning/raw_val_data_files/merged_bbh_noise_signal/\"\n",
    "files= os.listdir(path)\n",
    "f = open('/home/hrishi/SOP/Gravitational Wave Detection Using Deep Learning/raw_val_data_files/val_Final_BBH_Merged_Noise_Signal_Reduced_No_ABS.csv', 'w')\n",
    "cw = csv.writer(f)\n",
    "\n",
    "for i in tqdm(files):\n",
    "    df = pd.read_csv(path+i,sep = ' ', header=None)\n",
    "    c = df[:][1]\n",
    "    cw.writerow(c)\n",
    "f.close()"
   ]
  },
  {
   "cell_type": "code",
   "execution_count": 9,
   "metadata": {},
   "outputs": [
    {
     "data": {
      "application/vnd.jupyter.widget-view+json": {
       "model_id": "b9ef1cb98cfd43d18a92387d3ea6bde6",
       "version_major": 2,
       "version_minor": 0
      },
      "text/plain": [
       "  0%|          | 0/1000 [00:00<?, ?it/s]"
      ]
     },
     "metadata": {},
     "output_type": "display_data"
    }
   ],
   "source": [
    "# Merging Noise Templates into single csv file\n",
    "\n",
    "path_1 = \"/home/hrishi/SOP/Gravitational Wave Detection Using Deep Learning/raw_val_data_files/noise_templates/\"\n",
    "files_1= os.listdir(path_1)\n",
    "f1 = open('/home/hrishi/SOP/Gravitational Wave Detection Using Deep Learning/raw_val_data_files/val_Final_Merged_Noise_Reduced_No_Abs.csv', 'w')\n",
    "cw_1 = csv.writer(f1)\n",
    "\n",
    "for i in tqdm(files_1):\n",
    "    #print(files)\n",
    "    df = pd.read_csv(path_1+i,sep = ' ', header=None)\n",
    "    c = df[:][1]\n",
    "    cw_1.writerow(c)\n",
    "f1.close()"
   ]
  },
  {
   "cell_type": "code",
   "execution_count": 10,
   "metadata": {},
   "outputs": [
    {
     "data": {
      "application/vnd.jupyter.widget-view+json": {
       "model_id": "54ded4d847a1483aaec731091e05b113",
       "version_major": 2,
       "version_minor": 0
      },
      "text/plain": [
       "  0%|          | 0/1000 [00:00<?, ?it/s]"
      ]
     },
     "metadata": {},
     "output_type": "display_data"
    }
   ],
   "source": [
    "# Merging Signal Templates into single file\n",
    "\n",
    "path_1 = \"/home/hrishi/SOP/Gravitational Wave Detection Using Deep Learning/raw_val_data_files/bbh_signal/\"\n",
    "files_1= os.listdir(path_1)\n",
    "f1 = open('/home/hrishi/SOP/Gravitational Wave Detection Using Deep Learning/raw_val_data_files/val_Final_Merged_bbh_Signal_Reduced_No_Abs.csv', 'w')\n",
    "cw_1 = csv.writer(f1)\n",
    "\n",
    "for i in tqdm(files_1):\n",
    "    #print(files)\n",
    "    df = pd.read_csv(path_1+i,sep = ' ', header=None)\n",
    "    c = df[:][1]\n",
    "    cw_1.writerow(c)\n",
    "f1.close()"
   ]
  },
  {
   "cell_type": "code",
   "execution_count": null,
   "metadata": {},
   "outputs": [],
   "source": [
    "############################################\n",
    "########### BNS Data Generation ############\n",
    "############################################"
   ]
  },
  {
   "cell_type": "code",
   "execution_count": 11,
   "metadata": {},
   "outputs": [
    {
     "name": "stdout",
     "output_type": "stream",
     "text": [
      "Generated Binary Mass Distributions for BNS\n"
     ]
    }
   ],
   "source": [
    "print(\"Generated Binary Mass Distributions for BNS\")\n",
    "# We can make pairs of distributions together, instead of apart.\n",
    "bns_two_mass_distributions = distributions.Uniform(mass1=(1, 2),\n",
    "                                               mass2=(1, 2))\n",
    "\n",
    "bns_two_mass_samples = bns_two_mass_distributions.rvs(size=1000)"
   ]
  },
  {
   "cell_type": "code",
   "execution_count": 12,
   "metadata": {},
   "outputs": [],
   "source": [
    "# i = 35\n",
    "# noise = TimeSeries.read(\"/home/hrishi/SOP/Gravitational Wave Detection Using Deep Learning/raw_val_data_files/noise_templates/noise_4k_\"+str(i)+\".txt\")\n",
    "# noise *= 0.1\n",
    "# noise /= 4\n",
    "# noise.plot()"
   ]
  },
  {
   "cell_type": "code",
   "execution_count": 13,
   "metadata": {},
   "outputs": [
    {
     "name": "stdout",
     "output_type": "stream",
     "text": [
      "Using Binary Mass Distributions to generate BNS waveforms\n"
     ]
    },
    {
     "data": {
      "application/vnd.jupyter.widget-view+json": {
       "model_id": "96d4e3d7669541ee98cb4ec874e6cc0a",
       "version_major": 2,
       "version_minor": 0
      },
      "text/plain": [
       "  0%|          | 0/1000 [00:00<?, ?it/s]"
      ]
     },
     "metadata": {},
     "output_type": "display_data"
    },
    {
     "name": "stderr",
     "output_type": "stream",
     "text": [
      "/home/hrishi/python-environments/env/lib/python3.6/site-packages/gwpy/types/series.py:1100: UserWarning: Series have overlapping xspan but their x-axis values are uniformly offset. Returning a copy of the original Series.\n",
      "  warn('Series have overlapping xspan but their x-axis values are '\n"
     ]
    }
   ],
   "source": [
    "print(\"Using Binary Mass Distributions to generate BNS waveforms\")\n",
    "for i in tqdm(range(len(bns_two_mass_samples))):\n",
    "    hp, hc = get_td_waveform(approximant=\"IMRPhenomPv2_NRTidal\", \n",
    "                         mass1=bns_two_mass_samples[i][0],\n",
    "                         mass2=bns_two_mass_samples[i][1],\n",
    "                         delta_t=1.0/4096,\n",
    "                         f_lower=40)            #change to 40   SEOBNRv2\n",
    "    \n",
    "    # noise = TimeSeries(np.random.normal(scale=.1, size=16384), sample_rate=4096)\n",
    "    # noise = noise*1e-18\n",
    "\n",
    "\n",
    "    # Extract the last 1 sec from the BNS signal\n",
    "    t = hp.get_end_time()\n",
    "    hp1 = hp.time_slice(t-1, t)\n",
    "\n",
    "    signal = TimeSeries.from_pycbc(hp1)\n",
    "    signal.write(\"/home/hrishi/SOP/Gravitational Wave Detection Using Deep Learning/raw_val_data_files/bns_signal/bns_signal_\"+str(i)+\".txt\")\n",
    "\n",
    "    # st = np.random.randint(0,2)\n",
    "\n",
    "    # generate a random float \"st\" in the range [0,2)\n",
    "    st = 2*np.random.random()\n",
    "    signal.t0 = st\n",
    "    signal = signal.taper()\n",
    "\n",
    "\n",
    "    noise = TimeSeries.read(\"/home/hrishi/SOP/Gravitational Wave Detection Using Deep Learning/raw_val_data_files/noise_templates/noise_4k_\"+str(i)+\".txt\")\n",
    "    noise *= 0.1\n",
    "    noise /= 4\n",
    "    \n",
    "    data = noise.inject(signal)\n",
    "\n",
    "    data.write(\"/home/hrishi/SOP/Gravitational Wave Detection Using Deep Learning/raw_val_data_files/merged_bns_noise_signal/bns_merged_noise_signal_\"+str(i)+\".txt\")"
   ]
  },
  {
   "cell_type": "code",
   "execution_count": 19,
   "metadata": {},
   "outputs": [
    {
     "data": {
      "application/vnd.jupyter.widget-view+json": {
       "model_id": "39b871ae5665408c8e1ed4bcd426078a",
       "version_major": 2,
       "version_minor": 0
      },
      "text/plain": [
       "  0%|          | 0/1000 [00:00<?, ?it/s]"
      ]
     },
     "metadata": {},
     "output_type": "display_data"
    }
   ],
   "source": [
    "# for i in tqdm(range(1000)):\n",
    "#     signal = TimeSeries.read(\"/home/hrishi/SOP/Gravitational Wave Detection Using Deep Learning/raw_val_data_files/bns_signal/bns_signal_\"+str(i)+\".txt\")\n",
    "    \n",
    "#     st = np.random.randint(0,2)\n",
    "#     signal.t0 = st\n",
    "#     signal = signal.taper()\n",
    "\n",
    "#     noise = TimeSeries.read(\"/home/hrishi/SOP/Gravitational Wave Detection Using Deep Learning/raw_val_data_files/noise_templates/noise_4k_\"+str(i)+\".txt\")\n",
    "    \n",
    "#     noise *= 0.1\n",
    "#     noise /= 4\n",
    "    \n",
    "#     data = noise.inject(signal)\n",
    "    \n",
    "#     data.write(\"/home/hrishi/SOP/Gravitational Wave Detection Using Deep Learning/raw_val_data_files/merged_bns_noise_signal/bns_merged_noise_signal_\"+str(i)+\".txt\")"
   ]
  },
  {
   "cell_type": "code",
   "execution_count": 20,
   "metadata": {},
   "outputs": [
    {
     "data": {
      "application/vnd.jupyter.widget-view+json": {
       "model_id": "638d65009a654e88ba7ce4fed91807b5",
       "version_major": 2,
       "version_minor": 0
      },
      "text/plain": [
       "  0%|          | 0/1000 [00:00<?, ?it/s]"
      ]
     },
     "metadata": {},
     "output_type": "display_data"
    }
   ],
   "source": [
    "# Merging Noise + Signal Templates into single csv file\n",
    "\n",
    "path = \"/home/hrishi/SOP/Gravitational Wave Detection Using Deep Learning/raw_val_data_files/merged_bns_noise_signal/\"\n",
    "files= os.listdir(path)\n",
    "f = open('/home/hrishi/SOP/Gravitational Wave Detection Using Deep Learning/raw_val_data_files/val_Final_BNS_Merged_Noise_Signal_Reduced_No_ABS.csv', 'w')\n",
    "cw = csv.writer(f)\n",
    "\n",
    "for i in tqdm(files):\n",
    "    df = pd.read_csv(path+i,sep = ' ', header=None)\n",
    "    c = df[:][1]\n",
    "    cw.writerow(c)\n",
    "f.close()"
   ]
  },
  {
   "cell_type": "code",
   "execution_count": 15,
   "metadata": {},
   "outputs": [
    {
     "data": {
      "application/vnd.jupyter.widget-view+json": {
       "model_id": "1f74d4aa1bf04f94a02353518a17e86e",
       "version_major": 2,
       "version_minor": 0
      },
      "text/plain": [
       "  0%|          | 0/1000 [00:00<?, ?it/s]"
      ]
     },
     "metadata": {},
     "output_type": "display_data"
    }
   ],
   "source": [
    "# Merging Signal Templates into single csv file\n",
    "\n",
    "path = \"/home/hrishi/SOP/Gravitational Wave Detection Using Deep Learning/raw_val_data_files/bns_signal/\"\n",
    "files= os.listdir(path)\n",
    "f = open('/home/hrishi/SOP/Gravitational Wave Detection Using Deep Learning/raw_val_data_files/val_Final_Merged_BNS_Signal.csv', 'w')\n",
    "cw = csv.writer(f)\n",
    "\n",
    "for i in tqdm(files):\n",
    "    df = pd.read_csv(path+i,sep = ' ', header=None)\n",
    "    c = df[:][1]\n",
    "    cw.writerow(c)\n",
    "f.close()"
   ]
  },
  {
   "cell_type": "code",
   "execution_count": null,
   "metadata": {},
   "outputs": [],
   "source": []
  }
 ],
 "metadata": {
  "kernelspec": {
   "display_name": "Python 3",
   "language": "python",
   "name": "python3"
  },
  "language_info": {
   "codemirror_mode": {
    "name": "ipython",
    "version": 3
   },
   "file_extension": ".py",
   "mimetype": "text/x-python",
   "name": "python",
   "nbconvert_exporter": "python",
   "pygments_lexer": "ipython3",
   "version": "3.6.9"
  }
 },
 "nbformat": 4,
 "nbformat_minor": 4
}
