{
  "cells": [
    {
      "cell_type": "code",
      "execution_count": 1,
      "metadata": {
        "colab": {
          "base_uri": "https://localhost:8080/"
        },
        "id": "Xs_OpQDIxDQW",
        "outputId": "725ce068-30f5-44d4-fce7-6d2f1343a2ec"
      },
      "outputs": [
        {
          "output_type": "stream",
          "name": "stdout",
          "text": [
            "Mounted at /content/gdrive\n"
          ]
        }
      ],
      "source": [
        "from google.colab import drive\n",
        "drive.mount('/content/gdrive')"
      ]
    },
    {
      "cell_type": "code",
      "execution_count": 2,
      "metadata": {
        "id": "L5inbyEdw1A7"
      },
      "outputs": [],
      "source": [
        "import numpy as np\n",
        "import pandas as pd\n",
        "import matplotlib.pyplot as plt\n",
        "from keras.models import load_model\n",
        "\n",
        "import tensorflow as tf\n",
        "from tensorflow.keras.models import Sequential\n",
        "from tensorflow.keras.layers import Dense, Conv1D, Dropout, MaxPool1D, ReLU, Flatten\n",
        "\n",
        "from sklearn.preprocessing import StandardScaler\n",
        "from sklearn.model_selection import train_test_split"
      ]
    },
    {
      "cell_type": "code",
      "execution_count": 19,
      "metadata": {
        "id": "MzCUizYfw1A_"
      },
      "outputs": [],
      "source": [
        "data_BBH_df = pd.read_csv(\"/content/gdrive/MyDrive/GW_SOP/Data/BBH_Merged.csv\", header=None)\n",
        "X = data_BBH_df.values.astype(float)"
      ]
    },
    {
      "cell_type": "code",
      "execution_count": 4,
      "metadata": {
        "colab": {
          "base_uri": "https://localhost:8080/"
        },
        "id": "kmYHuecJw1BB",
        "outputId": "4b23f6ad-259f-471c-d2df-8827363fa4b4"
      },
      "outputs": [
        {
          "output_type": "stream",
          "name": "stdout",
          "text": [
            "48\n",
            "[[ 1.18253696e-19  1.13227778e-19  1.07569806e-19 ...  8.04461658e-19\n",
            "   7.98344142e-19  7.92290841e-19]\n",
            " [ 3.45976600e-20  3.85912813e-20  3.11366157e-20 ... -6.98793280e-20\n",
            "  -8.41065544e-20 -7.69474724e-20]\n",
            " [-4.57705542e-20 -4.01982601e-20 -3.75960757e-20 ... -3.01223743e-19\n",
            "  -2.91567670e-19 -2.82206414e-19]\n",
            " ...\n",
            " [ 1.38596654e-19  6.91869816e-20  9.98726882e-20 ...  3.95382795e-19\n",
            "   3.20616930e-19  3.12722743e-19]\n",
            " [-1.98960552e-19 -1.96315297e-19 -1.90878367e-19 ...  1.78857410e-19\n",
            "   1.76397167e-19  1.73639402e-19]\n",
            " [-1.46733543e-19 -1.51102053e-19 -1.67376930e-19 ...  1.31814768e-19\n",
            "   1.31767538e-19  1.31666911e-19]]\n",
            "(48, 16384)\n"
          ]
        }
      ],
      "source": [
        "print(len(data_BBH_df.index))\n",
        "print(X)\n",
        "print(X.shape)"
      ]
    },
    {
      "cell_type": "code",
      "execution_count": 12,
      "metadata": {
        "colab": {
          "base_uri": "https://localhost:8080/"
        },
        "id": "J_dSmj6xw1BE",
        "outputId": "aa972dc1-0a3d-40e1-c971-ee9617c8ce35"
      },
      "outputs": [
        {
          "output_type": "stream",
          "name": "stdout",
          "text": [
            "[1, 1, 1, 1, 1, 1, 1, 1, 1, 1, 1, 1, 1, 1, 1, 1, 1, 1, 1, 1, 1, 1, 1, 1, 1, 1, 1, 1, 1, 1, 1, 1, 1, 1, 1, 1, 1, 1, 1, 1, 1, 1, 1, 1, 1, 1, 1, 1]\n"
          ]
        }
      ],
      "source": [
        "# Alternate way of creating y for the dataset\n",
        " \n",
        "y = [1 for i in range(48)]\n",
        "print(y)"
      ]
    },
    {
      "cell_type": "code",
      "execution_count": 20,
      "metadata": {
        "colab": {
          "base_uri": "https://localhost:8080/"
        },
        "id": "c9h1LUqxBQgm",
        "outputId": "00000c1c-b38a-4c5f-ca6b-4c1e272449e4"
      },
      "outputs": [
        {
          "output_type": "stream",
          "name": "stdout",
          "text": [
            "[[ 0.1182537   0.11322778  0.10756981 ...  0.80446166  0.79834414\n",
            "   0.79229084]\n",
            " [ 0.03459766  0.03859128  0.03113662 ... -0.06987933 -0.08410655\n",
            "  -0.07694747]\n",
            " [-0.04577055 -0.04019826 -0.03759608 ... -0.30122374 -0.29156767\n",
            "  -0.28220641]\n",
            " ...\n",
            " [ 0.13859665  0.06918698  0.09987269 ...  0.3953828   0.32061693\n",
            "   0.31272274]\n",
            " [-0.19896055 -0.1963153  -0.19087837 ...  0.17885741  0.17639717\n",
            "   0.1736394 ]\n",
            " [-0.14673354 -0.15110205 -0.16737693 ...  0.13181477  0.13176754\n",
            "   0.13166691]]\n"
          ]
        }
      ],
      "source": [
        "# X *= 1e19\n",
        "# print(X)\n",
        "\n",
        "X *= 1e18\n",
        "print(X)"
      ]
    },
    {
      "cell_type": "code",
      "execution_count": 21,
      "metadata": {
        "colab": {
          "base_uri": "https://localhost:8080/"
        },
        "id": "8xirD0GDBQgm",
        "outputId": "6ec68715-ab9e-4c95-e2c2-474328e49066"
      },
      "outputs": [
        {
          "output_type": "stream",
          "name": "stdout",
          "text": [
            "(48, 16384, 1)\n",
            "[[[ 0.1182537 ]\n",
            "  [ 0.11322778]\n",
            "  [ 0.10756981]\n",
            "  ...\n",
            "  [ 0.80446166]\n",
            "  [ 0.79834414]\n",
            "  [ 0.79229084]]\n",
            "\n",
            " [[ 0.03459766]\n",
            "  [ 0.03859128]\n",
            "  [ 0.03113662]\n",
            "  ...\n",
            "  [-0.06987933]\n",
            "  [-0.08410655]\n",
            "  [-0.07694747]]\n",
            "\n",
            " [[-0.04577055]\n",
            "  [-0.04019826]\n",
            "  [-0.03759608]\n",
            "  ...\n",
            "  [-0.30122374]\n",
            "  [-0.29156767]\n",
            "  [-0.28220641]]\n",
            "\n",
            " ...\n",
            "\n",
            " [[ 0.13859665]\n",
            "  [ 0.06918698]\n",
            "  [ 0.09987269]\n",
            "  ...\n",
            "  [ 0.3953828 ]\n",
            "  [ 0.32061693]\n",
            "  [ 0.31272274]]\n",
            "\n",
            " [[-0.19896055]\n",
            "  [-0.1963153 ]\n",
            "  [-0.19087837]\n",
            "  ...\n",
            "  [ 0.17885741]\n",
            "  [ 0.17639717]\n",
            "  [ 0.1736394 ]]\n",
            "\n",
            " [[-0.14673354]\n",
            "  [-0.15110205]\n",
            "  [-0.16737693]\n",
            "  ...\n",
            "  [ 0.13181477]\n",
            "  [ 0.13176754]\n",
            "  [ 0.13166691]]]\n"
          ]
        }
      ],
      "source": [
        "X = np.expand_dims(X, axis=-1)\n",
        "print(X.shape)\n",
        "print(X)"
      ]
    },
    {
      "cell_type": "code",
      "execution_count": null,
      "metadata": {
        "id": "qxVd6XC9w1BM"
      },
      "outputs": [],
      "source": [
        "model = load_model(\"/content/gdrive/MyDrive/GW_SOP/Data/bbh_classifier.h5\")"
      ]
    },
    {
      "cell_type": "code",
      "source": [
        "pred = model.predict(X)"
      ],
      "metadata": {
        "id": "SoKM20z9NKSa"
      },
      "execution_count": 22,
      "outputs": []
    },
    {
      "cell_type": "code",
      "source": [
        "# print(np.argmax(pred, axis = 1))"
      ],
      "metadata": {
        "id": "ixFavBuoKB2-"
      },
      "execution_count": 23,
      "outputs": []
    },
    {
      "cell_type": "code",
      "source": [
        "y_pred = np.argmax(pred, axis = 1)\n",
        "correct = 0\n",
        "\n",
        "for i in range(48):\n",
        "  if y_pred[i]==y[i]:\n",
        "    correct += 1\n",
        "\n",
        "acc = (correct/48)*100\n",
        "print(f\"Total no. of data samples: {len(y)}\")\n",
        "print(f\"No. of correct predictions: {correct}\")\n",
        "print(f\"accuracy: {acc}\")"
      ],
      "metadata": {
        "colab": {
          "base_uri": "https://localhost:8080/"
        },
        "id": "v-RsO7N_KEFR",
        "outputId": "afc0bbec-5a72-46ce-d344-860786772560"
      },
      "execution_count": 24,
      "outputs": [
        {
          "output_type": "stream",
          "name": "stdout",
          "text": [
            "Total no. of data samples: 48\n",
            "No. of correct predictions: 8\n",
            "accuracy: 16.666666666666664\n"
          ]
        }
      ]
    },
    {
      "cell_type": "code",
      "source": [
        ""
      ],
      "metadata": {
        "id": "cORId8_7Lo-h"
      },
      "execution_count": null,
      "outputs": []
    }
  ],
  "metadata": {
    "accelerator": "GPU",
    "colab": {
      "collapsed_sections": [],
      "name": "colab_model_testing_on_ligo_bbh_data.ipynb",
      "provenance": []
    },
    "interpreter": {
      "hash": "8356d31dd4c50017c60d528a0c40a4935f9d791f54e24c10e32e3a312d5b6882"
    },
    "kernelspec": {
      "display_name": "Python 3.7.6 64-bit ('base': conda)",
      "language": "python",
      "name": "python3"
    },
    "language_info": {
      "codemirror_mode": {
        "name": "ipython",
        "version": 3
      },
      "file_extension": ".py",
      "mimetype": "text/x-python",
      "name": "python",
      "nbconvert_exporter": "python",
      "pygments_lexer": "ipython3",
      "version": "3.6.9"
    },
    "orig_nbformat": 4
  },
  "nbformat": 4,
  "nbformat_minor": 0
}