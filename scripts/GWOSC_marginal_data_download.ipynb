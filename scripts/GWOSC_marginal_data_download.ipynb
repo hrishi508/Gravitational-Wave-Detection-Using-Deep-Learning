{
 "cells": [
  {
   "cell_type": "code",
   "execution_count": null,
   "metadata": {},
   "outputs": [],
   "source": [
    "################################\n",
    "########### IMPORTS ############\n",
    "################################"
   ]
  },
  {
   "cell_type": "code",
   "execution_count": null,
   "metadata": {},
   "outputs": [],
   "source": [
    "from pycbc import distributions\n",
    "from pycbc.waveform import get_td_waveform\n",
    "import matplotlib.pyplot as plt\n",
    "import numpy as np\n",
    "import pylab\n",
    "from tqdm.notebook import tqdm\n",
    "from gwpy.timeseries import TimeSeries\n",
    "import pandas as pd\n",
    "import os\n",
    "import csv\n",
    "from gwosc.datasets import event_gps\n",
    "from gwpy.timeseries import TimeSeries\n",
    "from pycbc.catalog import Merger\n",
    "import pylab\n",
    "from pycbc.filter import resample_to_delta_t, highpass\n",
    "import pycbc.psd\n",
    "import pycbc.noise"
   ]
  },
  {
   "cell_type": "code",
   "execution_count": null,
   "metadata": {},
   "outputs": [],
   "source": [
    "########################################################\n",
    "########### Marginal Events Data Download ##############\n",
    "########################################################"
   ]
  },
  {
   "cell_type": "code",
   "execution_count": null,
   "metadata": {},
   "outputs": [],
   "source": [
    "marginal_events =  [\"170720\",\n",
    "                    \"170705\",\n",
    "                    \"170630\",\n",
    "                    \"170616\",\n",
    "                    \"170423\",\n",
    "                    \"170412\",\n",
    "                    \"170405\",\n",
    "                    \"170219\",\n",
    "                    \"170208\",\n",
    "                    \"161217\",\n",
    "                    \"161202\",\n",
    "                    \"151116\",\n",
    "                    \"151012.2\",\n",
    "                    \"151008\",\n",
    "                    \"GW190531_023648\",\n",
    "                    \"GW190426_152155\",\n",
    "                    \"GW200311_103121\",\n",
    "                    \"200219_201407\",\n",
    "                    \"GW200201_203549\",\n",
    "                    \"200121_031748\",\n",
    "                    \"GW200105_162426\",\n",
    "                    \"GW191118_212859\",\n",
    "                    \"200214_224526\",\n",
    "                    \"200114_020818\",\n",
    "                    \"191225_215715\",\n",
    "                    \"191223_014159\",\n",
    "                    \"190924_232654\"]"
   ]
  },
  {
   "cell_type": "code",
   "execution_count": null,
   "metadata": {},
   "outputs": [],
   "source": [
    "print(len(marginal_events))"
   ]
  },
  {
   "cell_type": "code",
   "execution_count": null,
   "metadata": {},
   "outputs": [],
   "source": [
    "# Code to fetch strain data from GWOSC server\n",
    "\n",
    "for i in tqdm(range(len(marginal_events))):\n",
    "\n",
    "    gps = event_gps(marginal_events[i])\n",
    "    start = int(gps) - 15\n",
    "    end = int(gps) + 15\n",
    "\n",
    "    if i == 19:\n",
    "        data = TimeSeries.fetch_open_data('H1', start, end)\n",
    "\n",
    "    else:\n",
    "        data = TimeSeries.fetch_open_data('L1', start, end)\n",
    "\n",
    "    data.write(\"/home/hrishi/SOP/Gravitational Wave Detection Using Deep Learning/LIGO Detector Data/Marginal events/Original signals/\"+marginal_events[i]+\".txt\")    \n",
    "\n",
    "    data = TimeSeries.to_pycbc(data)\n",
    "    # data = data.whiten(4, 4)\n",
    "    # data = data.highpass_fir(30, 512).lowpass_fir(250, 512)\n",
    "    data = data.time_slice(gps - 2, gps + 2)\n",
    "    \n",
    "    data = TimeSeries.from_pycbc(data)\n",
    "    data.write(\"/home/hrishi/SOP/Gravitational Wave Detection Using Deep Learning/LIGO Detector Data/Marginal events/Processed signals/\"+marginal_events[i]+\".txt\")    \n",
    "    "
   ]
  },
  {
   "cell_type": "code",
   "execution_count": null,
   "metadata": {},
   "outputs": [],
   "source": [
    "# # Test data for hidden, not whitened, test 6, rescaled 0.2\n",
    "# # For the merger 'GW190424_180648', the original signal folder contains on 4 sec data, \n",
    "# # as the code for downloading 30 sec data kept running indefinitely.\n",
    "\n",
    "# for i in tqdm(range(len(marginal_events))):\n",
    "\n",
    "#     gps = event_gps(marginal_events[i])\n",
    "\n",
    "#     data = TimeSeries.read(\"/home/hrishi/SOP/Gravitational Wave Detection Using Deep Learning/LIGO Detector Data/Marginal events/Original signals/\"+marginal_events[i]+\".txt\")    \n",
    "\n",
    "#     # if marginal_events[i] == 'GW190424_180648':\n",
    "#     #     data.write(\"/home/hrishi/SOP/Gravitational Wave Detection Using Deep Learning/LIGO Detector Data/Marginal events/Processed signals/\"+marginal_events[i]+\".txt\")    \n",
    "#     #     continue\n",
    "    \n",
    "#     data = TimeSeries.to_pycbc(data)\n",
    "\n",
    "#     # data = resample_to_delta_t(highpass(data, 15.0), 1.0/4096)\n",
    "\n",
    "#     # data = data.whiten(4, 4)\n",
    "#     # data = data.highpass_fir(30, 512).lowpass_fir(250, 512)\n",
    "    \n",
    "#     data = data.time_slice(gps - 2, gps + 2)\n",
    "#     data.plot()\n",
    "    \n",
    "#     # data = TimeSeries.from_pycbc(data)\n",
    "#     # print(data.sample_rate)\n",
    "\n",
    "#     # data.write(\"/home/hrishi/SOP/Gravitational Wave Detection Using Deep Learning/LIGO Detector Data/Marginal events/Processed signals/\"+marginal_events[i]+\".txt\")    \n",
    "    "
   ]
  },
  {
   "cell_type": "code",
   "execution_count": null,
   "metadata": {},
   "outputs": [],
   "source": [
    "# Merging Original Strain Data Templates into single file\n",
    "\n",
    "path = \"/home/hrishi/SOP/Gravitational Wave Detection Using Deep Learning/LIGO Detector Data/Marginal events/Original signals/\"\n",
    "files= os.listdir(path)\n",
    "f = open('/home/hrishi/SOP/Gravitational Wave Detection Using Deep Learning/LIGO Detector Data/Marginal events/Original_signals.csv', 'w')\n",
    "cw = csv.writer(f)\n",
    "\n",
    "for i in tqdm(files):\n",
    "    df = pd.read_csv(path+i,sep = ' ', header=None)\n",
    "    c = df[:][1]\n",
    "    cw.writerow(c)\n",
    "f.close()"
   ]
  },
  {
   "cell_type": "code",
   "execution_count": null,
   "metadata": {},
   "outputs": [],
   "source": [
    "# Merging Processed Strain Data Templates into single file\n",
    "\n",
    "path = \"/home/hrishi/SOP/Gravitational Wave Detection Using Deep Learning/LIGO Detector Data/Marginal events/Processed signals/\"\n",
    "files= os.listdir(path)\n",
    "f = open('/home/hrishi/SOP/Gravitational Wave Detection Using Deep Learning/LIGO Detector Data/Marginal events/Processed_signals.csv', 'w')\n",
    "cw = csv.writer(f)\n",
    "\n",
    "for i in tqdm(files):\n",
    "    df = pd.read_csv(path+i,sep = ' ', header=None)\n",
    "    c = df[:][1]\n",
    "    cw.writerow(c)\n",
    "f.close()"
   ]
  },
  {
   "cell_type": "code",
   "execution_count": null,
   "metadata": {},
   "outputs": [],
   "source": [
    "# # Visualization of the Original Strain Data\n",
    "# # Duration of the data is 4s, i.e. a 2s interval around the merger\n",
    "\n",
    "# gps = event_gps(\"170720\")\n",
    "# print(gps)\n",
    "# start = int(gps) - 2\n",
    "# end = int(gps) + 2\n",
    "# data = TimeSeries.fetch_open_data('H1', start, end)\n",
    "# data.plot()\n",
    "# print(data.sample_rate)"
   ]
  },
  {
   "cell_type": "code",
   "execution_count": null,
   "metadata": {},
   "outputs": [],
   "source": [
    "# # Visualization of the Processed Strain Data\n",
    "# # Duration of the data is 4s, i.e. a 2s interval around the merger\n",
    "\n",
    "# i = 45\n",
    "# data = TimeSeries.read(\"/home/hrishi/SOP/Gravitational Wave Detection Using Deep Learning/LIGO Detector Data/Marginal events/Processed signals/\"+marginal_events[i]+\".txt\")\n",
    "# data.plot()"
   ]
  },
  {
   "cell_type": "code",
   "execution_count": null,
   "metadata": {},
   "outputs": [],
   "source": [
    "# # Visualization of the Processed Strain Data\n",
    "# # Duration of the data is 4s, i.e. a 2s interval around the merger\n",
    "# path = \"/home/hrishi/SOP/Gravitational Wave Detection Using Deep Learning/LIGO Detector Data/Marginal events/Processed signals/\"\n",
    "# files= os.listdir(path)\n",
    "# print(files)\n",
    "# i = 21\n",
    "# data = TimeSeries.read(\"/home/hrishi/SOP/Gravitational Wave Detection Using Deep Learning/LIGO Detector Data/Marginal events/Processed signals/\"+marginal_events[i]+\".txt\")\n",
    "# data.plot()"
   ]
  },
  {
   "cell_type": "code",
   "execution_count": null,
   "metadata": {},
   "outputs": [],
   "source": [
    "# for i in tqdm(range(len(marginal_events))):\n",
    "\n",
    "    # gps = event_gps(marginal_events[i])\n",
    "    # start = int(gps) - 2\n",
    "    # end = int(gps) + 2\n",
    "\n",
    "    # data = TimeSeries.fetch_open_data('L1', start, end)\n",
    "#     data.write(\"/home/hrishi/SOP/Gravitational Wave Detection Using Deep Learning/LIGO Detector Data/Marginal events/Original signals/\"+marginal_events[i]+\".txt\")    "
   ]
  },
  {
   "cell_type": "code",
   "execution_count": null,
   "metadata": {},
   "outputs": [],
   "source": [
    "# for i in tqdm(range(len(marginal_events))):\n",
    "\n",
    "#     m = Merger(marginal_events[i])\n",
    "#     data = m.strain('L1')\n",
    "\n",
    "#     data1 = TimeSeries.from_pycbc(data)\n",
    "#     data1.write(\"/home/hrishi/SOP/Gravitational Wave Detection Using Deep Learning/LIGO Detector Data/Marginal events/Original signals/\"+marginal_events[i]+\".txt\")    \n",
    "\n",
    "#     data = data.whiten(4, 4)\n",
    "#     data = data.highpass_fir(30, 512).lowpass_fir(250, 512)\n",
    "#     data = data.time_slice(m.time - 2, m.time + 2)\n",
    "#     data = TimeSeries.from_pycbc(data)\n",
    "    \n",
    "#     data.write(\"/home/hrishi/SOP/Gravitational Wave Detection Using Deep Learning/LIGO Detector Data/Marginal events/Processed signals/\"+marginal_events[i]+\".txt\")    \n",
    "    "
   ]
  },
  {
   "cell_type": "code",
   "execution_count": null,
   "metadata": {},
   "outputs": [],
   "source": [
    "# # Alternate\n",
    "\n",
    "# # As an example we use the GW150914 data\n",
    "# import pylab\n",
    "# from pycbc.catalog import Merger\n",
    "# from pycbc.filter import resample_to_delta_t, highpass\n",
    "\n",
    "# merger = Merger(\"GW150914\")\n",
    "\n",
    "# # Get the data from the Hanford detector\n",
    "# strain = merger.strain('H1')\n",
    "\n",
    "# # Remove the low frequency content and downsample the data to 2048Hz\n",
    "# strain = resample_to_delta_t(highpass(strain, 15.0), 1.0/4096)\n",
    "# strain = strain.time_slice(merger.time - 2, merger.time + 2)\n",
    "\n",
    "# data = TimeSeries.from_pycbc(strain)\n",
    "# data.plot()\n",
    "# print()\n",
    "\n",
    "# # pylab.plot(strain.sample_times, strain)\n",
    "# # pylab.xlabel('Time (s)')\n",
    "# # pylab.show()"
   ]
  }
 ],
 "metadata": {
  "interpreter": {
   "hash": "5ae5afe144f3c0bf1dcfc7fdee34d810f7ebf46ea2cb1bef3919155b1eefe020"
  },
  "kernelspec": {
   "display_name": "Python 3.6.9 64-bit",
   "language": "python",
   "name": "python3"
  },
  "language_info": {
   "codemirror_mode": {
    "name": "ipython",
    "version": 3
   },
   "file_extension": ".py",
   "mimetype": "text/x-python",
   "name": "python",
   "nbconvert_exporter": "python",
   "pygments_lexer": "ipython3",
   "version": "3.6.9"
  },
  "orig_nbformat": 4
 },
 "nbformat": 4,
 "nbformat_minor": 2
}
