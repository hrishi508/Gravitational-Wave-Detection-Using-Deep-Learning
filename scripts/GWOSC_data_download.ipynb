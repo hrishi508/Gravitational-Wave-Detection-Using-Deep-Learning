{
 "cells": [
  {
   "cell_type": "code",
   "execution_count": null,
   "metadata": {},
   "outputs": [],
   "source": [
    "from pycbc import distributions\n",
    "from pycbc.waveform import get_td_waveform\n",
    "import matplotlib.pyplot as plt\n",
    "import numpy as np\n",
    "import pylab\n",
    "from tqdm.notebook import tqdm\n",
    "from gwpy.timeseries import TimeSeries\n",
    "import pandas as pd\n",
    "import os\n",
    "import csv\n",
    "from gwosc.datasets import event_gps\n",
    "from gwpy.timeseries import TimeSeries"
   ]
  },
  {
   "cell_type": "code",
   "execution_count": null,
   "metadata": {},
   "outputs": [],
   "source": [
    "bbh_events = ['GW150914',\n",
    "              'GW151012',\n",
    "              'GW151226',\n",
    "              'GW170104',\n",
    "              'GW170608',\n",
    "              'GW170729',\n",
    "              'GW170809',\n",
    "              'GW170814',\n",
    "              'GW170818',\n",
    "              'GW170823',\n",
    "              'GW190408181802',\n",
    "              'GW190412',\n",
    "              'GW190413052954',\n",
    "              'GW190413134308',\n",
    "              'GW190421213856',\n",
    "              'GW190424180648',\n",
    "              'GW190425',\n",
    "              'GW190503185404',\n",
    "              'GW190512180714',\n",
    "              'GW190513205428',\n",
    "              'GW190514065416',\n",
    "              'GW190517055101',\n",
    "              'GW190519153544',\n",
    "              'GW190521',\n",
    "              'GW190521074359',\n",
    "              'GW190527092055',\n",
    "              'GW190602175927',\n",
    "              'GW190620030421',\n",
    "              'GW190630185205',\n",
    "              'GW190701203306',\n",
    "              'GW190706222641',\n",
    "              'GW190707093326',\n",
    "              'GW190708232457',\n",
    "              'GW190719215514',\n",
    "              'GW190720000836',\n",
    "              'GW190727060333',\n",
    "              'GW190728064510',\n",
    "              'GW190731140936',\n",
    "              'GW190803022701',\n",
    "              'GW190814',\n",
    "              'GW190828063405',\n",
    "              'GW190828065509',\n",
    "              'GW190909114149',\n",
    "              'GW190910112807',\n",
    "              'GW190915235702',\n",
    "              'GW190924021846',\n",
    "              'GW190929012149',\n",
    "              'GW190930133541',                           \n",
    "             ]"
   ]
  },
  {
   "cell_type": "code",
   "execution_count": null,
   "metadata": {},
   "outputs": [],
   "source": [
    "for i in tqdm(range(len(bbh_events))):\n",
    "\n",
    "    gps = event_gps(bbh_events[i])\n",
    "    start = int(gps) - 2\n",
    "    end = int(gps) + 2\n",
    "\n",
    "    data = TimeSeries.fetch_open_data('L1', start, end)\n",
    "    data.write(\"data/merged/bbh_merged_noise_signal_\"+str(i)+\".txt\")    "
   ]
  },
  {
   "cell_type": "code",
   "execution_count": null,
   "metadata": {},
   "outputs": [],
   "source": [
    "gps = event_gps(\"GW150914\")\n",
    "start = int(gps) - 2\n",
    "end = int(gps) + 2\n",
    "data = TimeSeries.fetch_open_data('L1', start, end)\n",
    "data.plot()"
   ]
  },
  {
   "cell_type": "code",
   "execution_count": null,
   "metadata": {},
   "outputs": [],
   "source": []
  },
  {
   "cell_type": "code",
   "execution_count": null,
   "metadata": {},
   "outputs": [],
   "source": []
  }
 ],
 "metadata": {
  "language_info": {
   "name": "python"
  },
  "orig_nbformat": 4
 },
 "nbformat": 4,
 "nbformat_minor": 2
}
