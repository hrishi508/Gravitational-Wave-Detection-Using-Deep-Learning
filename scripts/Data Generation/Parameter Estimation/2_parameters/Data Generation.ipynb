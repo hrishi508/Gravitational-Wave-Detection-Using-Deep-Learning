{
 "cells": [
  {
   "cell_type": "code",
   "execution_count": null,
   "metadata": {},
   "outputs": [],
   "source": [
    "################################\n",
    "########### IMPORTS ############\n",
    "################################"
   ]
  },
  {
   "cell_type": "code",
   "execution_count": null,
   "metadata": {},
   "outputs": [],
   "source": [
    "from pycbc import distributions\n",
    "from pycbc.waveform import get_td_waveform, td_approximants\n",
    "from pycbc.detector import Detector\n",
    "import matplotlib.pyplot as plt\n",
    "import numpy as np\n",
    "import gwpy\n",
    "import pylab\n",
    "from tqdm.notebook import tqdm\n",
    "from gwpy.timeseries import TimeSeries\n",
    "import pandas as pd\n",
    "import os\n",
    "import csv\n",
    "import pycbc.noise\n",
    "import pycbc.psd\n",
    "from pycbc.filter import matched_filter"
   ]
  },
  {
   "cell_type": "code",
   "execution_count": null,
   "metadata": {},
   "outputs": [],
   "source": [
    "no_of_params = 2\n",
    "directory = \"/home/hrishi/SOP/Gravitational Wave Detection Using Deep Learning/raw_data_files/Parameter Estimation/\"+str(no_of_params)+\"_parameters/\""
   ]
  },
  {
   "cell_type": "code",
   "execution_count": null,
   "metadata": {},
   "outputs": [],
   "source": [
    "############################################\n",
    "########### BBH Data Generation ############\n",
    "############################################"
   ]
  },
  {
   "cell_type": "code",
   "execution_count": null,
   "metadata": {},
   "outputs": [],
   "source": [
    "print(\"Generated Binary Mass Distributions for BBH\")\n",
    "# We can make pairs of distributions together, instead of apart.\n",
    "bbh_two_mass_distributions = distributions.Uniform(mass1=(10, 50),\n",
    "                                               mass2=(10, 50))\n",
    "\n",
    "bbh_two_mass_samples = bbh_two_mass_distributions.rvs(size=5000)"
   ]
  },
  {
   "cell_type": "code",
   "execution_count": null,
   "metadata": {},
   "outputs": [],
   "source": [
    "start_times_bbh = [0, 0.5, 1, 1.5, 2, 2.5, 3, 3.5]\n",
    "data_targets = np.zeros((len(bbh_two_mass_samples), no_of_params))\n",
    "\n",
    "for i in tqdm(range(len(bbh_two_mass_samples))):\n",
    "    m1 = max(bbh_two_mass_samples[i][0], bbh_two_mass_samples[i][1])\n",
    "    m2 = min(bbh_two_mass_samples[i][0], bbh_two_mass_samples[i][1])\n",
    "    \n",
    "    data_targets[i][0] = m1\n",
    "    data_targets[i][1] = m2\n",
    "    \n",
    "    hp, hc = get_td_waveform(approximant=\"SEOBNRv2\",                                \n",
    "                         mass1=m1,\n",
    "                         mass2=m2,\n",
    "                         delta_t=1.0/4096,\n",
    "                         f_lower=40)                                               \n",
    "\n",
    "    signal = TimeSeries.from_pycbc(hp)\n",
    "    signal = (signal/(max(signal.max(), np.abs(signal.min()))))*0.2\n",
    "\n",
    "    st1 = np.random.randint(0, 8)\n",
    "    signal.t0 = start_times_bbh[st1]\n",
    "    \n",
    "    # The color of the noise matches a PSD which you provide\n",
    "    flow = 30.0\n",
    "    delta_f = 1.0 / 16\n",
    "    flen = int(2048 / delta_f) + 1\n",
    "    psd = pycbc.psd.aLIGOZeroDetHighPower(flen, delta_f, flow)\n",
    "\n",
    "    # Generate 4 seconds of noise at 4096 Hz\n",
    "    delta_t = 1.0 / 4096\n",
    "    tsamples = int(4 / delta_t)\n",
    "    noise = pycbc.noise.noise_from_psd(tsamples, delta_t, psd)\n",
    "\n",
    "    noise *= 1e21\n",
    "    noise *= 0.4\n",
    "    noise = TimeSeries.from_pycbc(noise)\n",
    "    \n",
    "    data = noise.inject(signal)    \n",
    "    data *= 1e-17\n",
    "\n",
    "    data.write(directory + \"merged_bbh_noise_signal/merged_noise_signal_\"+str(i)+\".txt\")\n",
    "\n",
    "np.savetxt(directory + \"Final_BBH_Merged_Noise_Signal_Targets_\" + str(no_of_params) + \"_parameters.csv\", data_targets, delimiter = \",\")"
   ]
  },
  {
   "cell_type": "code",
   "execution_count": null,
   "metadata": {},
   "outputs": [],
   "source": [
    "# Merging Noise + Signal Templates into single csv file\n",
    "\n",
    "path = directory + \"merged_bbh_noise_signal/\"\n",
    "files= os.listdir(path)\n",
    "f = open(directory + 'Final_BBH_Merged_Noise_Signal_Reduced_No_ABS_' + str(no_of_params) + '_parameters.csv', 'w')\n",
    "cw = csv.writer(f)\n",
    "\n",
    "for i in tqdm(files):\n",
    "    df = pd.read_csv(path+i,sep = ' ', header=None)\n",
    "    c = df[:][1]\n",
    "    cw.writerow(c)\n",
    "f.close()"
   ]
  },
  {
   "cell_type": "code",
   "execution_count": null,
   "metadata": {},
   "outputs": [],
   "source": [
    "############################################\n",
    "########### BNS Data Generation ############\n",
    "############################################"
   ]
  },
  {
   "cell_type": "code",
   "execution_count": null,
   "metadata": {},
   "outputs": [],
   "source": [
    "print(\"Generated Binary Mass Distributions for BNS\")\n",
    "# We can make pairs of distributions together, instead of apart.\n",
    "bns_two_mass_distributions = distributions.Uniform(mass1=(1, 2),\n",
    "                                               mass2=(1, 2))\n",
    "\n",
    "bns_two_mass_samples = bns_two_mass_distributions.rvs(size=5000)"
   ]
  },
  {
   "cell_type": "code",
   "execution_count": null,
   "metadata": {},
   "outputs": [],
   "source": [
    "start_times_bns = [0, 0.5, 1, 1.5, 2, 2.5, 3]\n",
    "bns_data_targets = np.zeros((len(bns_two_mass_samples), no_of_params))\n",
    "\n",
    "for i in tqdm(range(len(bns_two_mass_samples))):\n",
    "\n",
    "    m1 = max(bns_two_mass_samples[i][0], bns_two_mass_samples[i][1])\n",
    "    m2 = min(bns_two_mass_samples[i][0], bns_two_mass_samples[i][1])\n",
    "    \n",
    "    bns_data_targets[i][0] = m1\n",
    "    bns_data_targets[i][1] = m2\n",
    "\n",
    "    hp2, hc2 = get_td_waveform(approximant=\"IMRPhenomPv2_NRTidal\", \n",
    "                         mass1=m1,\n",
    "                         mass2=m2,\n",
    "                         delta_t=1.0/4096,\n",
    "                         f_lower=40)\n",
    "    \n",
    "    # Extract the last 1 sec from the BNS signal\n",
    "    t = hp2.get_end_time()\n",
    "    hp2 = hp2.time_slice(t-1, t)\n",
    "\n",
    "    bns_signal = TimeSeries.from_pycbc(hp2)\n",
    "    st2 = np.random.randint(0, 7)\n",
    "    bns_signal.t0 = start_times_bns[st2]\n",
    "    bns_signal = bns_signal.taper()\n",
    "    bns_signal = (bns_signal/(max(bns_signal.max(), np.abs(bns_signal.min()))))*0.2\n",
    "\n",
    "    # The color of the noise matches a PSD which you provide\n",
    "    flow = 30.0\n",
    "    delta_f = 1.0 / 16\n",
    "    flen = int(2048 / delta_f) + 1\n",
    "    psd = pycbc.psd.aLIGOZeroDetHighPower(flen, delta_f, flow)\n",
    "\n",
    "    # Generate 4 seconds of noise at 4096 Hz\n",
    "    delta_t = 1.0 / 4096\n",
    "    tsamples = int(4 / delta_t)\n",
    "    noise = pycbc.noise.noise_from_psd(tsamples, delta_t, psd)\n",
    "\n",
    "    noise *= 1e21\n",
    "    noise *= 0.4\n",
    "    noise = TimeSeries.from_pycbc(noise)\n",
    "\n",
    "    data = noise.inject(bns_signal)\n",
    "    data *= 1e-17\n",
    "\n",
    "    data.write(directory + \"merged_bns_noise_signal/bns_merged_noise_signal_\"+str(i)+\".txt\")\n",
    "\n",
    "np.savetxt(directory + \"Final_BNS_Merged_Noise_Signal_Targets_\"+str(no_of_params)+\"_parameters.csv\", bns_data_targets, delimiter = \",\")"
   ]
  },
  {
   "cell_type": "code",
   "execution_count": null,
   "metadata": {},
   "outputs": [],
   "source": [
    "# Merging Noise + Signal Templates into single csv file\n",
    "\n",
    "path = directory + \"merged_bns_noise_signal/\"\n",
    "files= os.listdir(path)\n",
    "f = open(directory + 'Final_BNS_Merged_Noise_Signal_Reduced_No_ABS_' + str(no_of_params) + '_parameters.csv', 'w')\n",
    "cw = csv.writer(f)\n",
    "\n",
    "for i in tqdm(files):\n",
    "    df = pd.read_csv(path+i,sep = ' ', header=None)\n",
    "    c = df[:][1]\n",
    "    cw.writerow(c)\n",
    "f.close()"
   ]
  },
  {
   "cell_type": "code",
   "execution_count": null,
   "metadata": {},
   "outputs": [],
   "source": [
    "##############################################\n",
    "########### Noise Data Generation ############\n",
    "##############################################"
   ]
  },
  {
   "cell_type": "code",
   "execution_count": null,
   "metadata": {},
   "outputs": [],
   "source": [
    "for i in tqdm(range(len(bbh_two_mass_samples))):\n",
    "\n",
    "    # The color of the noise matches a PSD which you provide\n",
    "    flow = 30.0\n",
    "    delta_f = 1.0 / 16\n",
    "    flen = int(2048 / delta_f) + 1\n",
    "    psd = pycbc.psd.aLIGOZeroDetHighPower(flen, delta_f, flow)\n",
    "\n",
    "    # Generate 4 seconds of noise at 4096 Hz\n",
    "    delta_t = 1.0 / 4096\n",
    "    tsamples = int(4 / delta_t)\n",
    "    noise = pycbc.noise.noise_from_psd(tsamples, delta_t, psd)\n",
    "\n",
    "    noise *= 1e21\n",
    "    noise *= 0.4\n",
    "    noise = TimeSeries.from_pycbc(noise)\n",
    "    \n",
    "    noise *= 1e-17\n",
    "\n",
    "    noise.write(directory + \"noise/noise_\"+str(i)+\".txt\")"
   ]
  },
  {
   "cell_type": "code",
   "execution_count": null,
   "metadata": {},
   "outputs": [],
   "source": [
    "# Merging Noise Templates into single csv file\n",
    "\n",
    "path = directory + \"noise/\"\n",
    "files= os.listdir(path)\n",
    "f = open(directory + 'Final_Merged_Noise_Reduced_No_ABS_' + str(no_of_params) + '_parameters.csv', 'w')\n",
    "cw = csv.writer(f)\n",
    "\n",
    "for i in tqdm(files):\n",
    "    df = pd.read_csv(path+i,sep = ' ', header=None)\n",
    "    c = df[:][1]\n",
    "    cw.writerow(c)\n",
    "f.close()"
   ]
  },
  {
   "cell_type": "code",
   "execution_count": null,
   "metadata": {},
   "outputs": [],
   "source": [
    "##################################################################################################################################\n",
    "##################################################################################################################################"
   ]
  }
 ],
 "metadata": {
  "kernelspec": {
   "display_name": "Python 3",
   "language": "python",
   "name": "python3"
  },
  "language_info": {
   "codemirror_mode": {
    "name": "ipython",
    "version": 3
   },
   "file_extension": ".py",
   "mimetype": "text/x-python",
   "name": "python",
   "nbconvert_exporter": "python",
   "pygments_lexer": "ipython3",
   "version": "3.6.9"
  }
 },
 "nbformat": 4,
 "nbformat_minor": 4
}
