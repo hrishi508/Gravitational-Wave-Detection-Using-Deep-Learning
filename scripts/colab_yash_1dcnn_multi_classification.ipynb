{
  "cells": [
    {
      "cell_type": "code",
      "execution_count": null,
      "metadata": {
        "colab": {
          "base_uri": "https://localhost:8080/"
        },
        "id": "Xs_OpQDIxDQW",
        "outputId": "d240e179-ce34-4d36-8ffc-57d41d71a648"
      },
      "outputs": [
        {
          "name": "stdout",
          "output_type": "stream",
          "text": [
            "Mounted at /content/gdrive\n"
          ]
        }
      ],
      "source": [
        "from google.colab import drive\n",
        "drive.mount('/content/gdrive')"
      ]
    },
    {
      "cell_type": "code",
      "execution_count": null,
      "metadata": {
        "id": "L5inbyEdw1A7"
      },
      "outputs": [],
      "source": [
        "import numpy as np\n",
        "import pandas as pd\n",
        "\n",
        "import tensorflow as tf\n",
        "from tensorflow.keras.models import Sequential\n",
        "from tensorflow.keras.layers import Dense, Conv1D, Dropout, MaxPool1D, ReLU, Flatten\n",
        "\n",
        "from sklearn.preprocessing import StandardScaler\n",
        "from sklearn.model_selection import train_test_split"
      ]
    },
    {
      "cell_type": "code",
      "execution_count": null,
      "metadata": {
        "id": "hF5cR2kzw1A-"
      },
      "outputs": [],
      "source": [
        "samples_per_class = 5000\n",
        "no_of_classes = 3"
      ]
    },
    {
      "cell_type": "code",
      "execution_count": null,
      "metadata": {
        "id": "MzCUizYfw1A_"
      },
      "outputs": [],
      "source": [
        "noise_df = pd.read_csv(\"/content/gdrive/MyDrive/GW_SOP/Data/Final_Merged_Noise_Reduced_No_Abs.csv\", header=None)\n",
        "noise = noise_df.values.astype(float)\n",
        "\n",
        "\n",
        "data_BBH_df = pd.read_csv(\"/content/gdrive/MyDrive/GW_SOP/Data/Final_BBH_Merged_Noise_Signal_Reduced_No_ABS.csv\", header=None)\n",
        "data_BBH = data_BBH_df.values.astype(float)\n",
        "\n",
        "\n",
        "data_BNS_df = pd.read_csv(\"/content/gdrive/MyDrive/GW_SOP/Data/Final_BNS_Merged_Noise_Signal_Reduced_No_ABS.csv\", header=None)\n",
        "data_BNS = data_BNS_df.values.astype(float)"
      ]
    },
    {
      "cell_type": "code",
      "execution_count": null,
      "metadata": {
        "colab": {
          "base_uri": "https://localhost:8080/"
        },
        "id": "kmYHuecJw1BB",
        "outputId": "f433faf5-aacd-44c7-e05a-c43a0c1736ec"
      },
      "outputs": [
        {
          "name": "stdout",
          "output_type": "stream",
          "text": [
            "5000\n",
            "[[ 1.55952588e-19  9.48930874e-20 -2.03908807e-19 ... -1.42081173e-19\n",
            "   1.56639750e-19  2.06323581e-19]\n",
            " [ 1.68342261e-19 -2.32436731e-20  2.01099010e-19 ...  4.92764727e-20\n",
            "   6.88449772e-21  7.69596876e-20]\n",
            " [-1.77127428e-21 -1.16860154e-19 -2.75680221e-20 ...  9.51481870e-20\n",
            "   1.40486501e-19  1.42635313e-19]\n",
            " ...\n",
            " [ 1.24066490e-19  2.02760022e-19  7.02894628e-20 ... -1.74086976e-21\n",
            "   7.28379795e-20  6.74019667e-20]\n",
            " [-2.50812218e-19 -3.65408728e-19 -2.59820380e-19 ... -1.21963367e-19\n",
            "   4.15912167e-20 -2.15545938e-19]\n",
            " [-1.66340990e-19 -2.05033650e-20 -2.51719522e-19 ... -1.02534509e-19\n",
            "   1.37499247e-19 -3.59096226e-20]]\n"
          ]
        }
      ],
      "source": [
        "X = np.concatenate((noise, data_BBH, data_BNS), axis=0)\n",
        "\n",
        "print(len(noise_df.index))\n",
        "print(X)\n",
        "print(X.shape)"
      ]
    },
    {
      "cell_type": "code",
      "execution_count": null,
      "metadata": {
        "colab": {
          "base_uri": "https://localhost:8080/"
        },
        "id": "J_dSmj6xw1BE",
        "outputId": "c511b05e-f1a3-425b-fcfe-3e8c5abc2a94"
      },
      "outputs": [
        {
          "name": "stdout",
          "output_type": "stream",
          "text": [
            "[[1. 0.]\n",
            " [1. 0.]\n",
            " [1. 0.]\n",
            " ...\n",
            " [0. 1.]\n",
            " [0. 1.]\n",
            " [0. 1.]]\n"
          ]
        }
      ],
      "source": [
        "# Alternate way of creating y for the dataset\n",
        " \n",
        "y = [int(i/samples_per_class) for i in range(samples_per_class*no_of_classes)]\n",
        "y = tf.keras.utils.to_categorical(y)\n",
        "print(y)"
      ]
    },
    {
      "cell_type": "code",
      "execution_count": null,
      "metadata": {},
      "outputs": [],
      "source": [
        "scaler = StandardScaler()\n",
        "X = scaler.fit_transform(X)\n",
        "print(X)"
      ]
    },
    {
      "cell_type": "code",
      "execution_count": null,
      "metadata": {},
      "outputs": [],
      "source": [
        "X = np.expand_dims(X, axis=-1)\n",
        "print(X.shape)\n",
        "print(X)"
      ]
    },
    {
      "cell_type": "code",
      "execution_count": null,
      "metadata": {
        "id": "Zxu2uCZyz8kD"
      },
      "outputs": [],
      "source": [
        "X_train, X_val, y_train, y_val = train_test_split(X, y, test_size=0.01) #, random_state=1"
      ]
    },
    {
      "cell_type": "code",
      "execution_count": null,
      "metadata": {
        "colab": {
          "base_uri": "https://localhost:8080/"
        },
        "id": "-Cqz7kE80mty",
        "outputId": "cbbd5888-81b9-4a7f-a720-88af1b3a8553"
      },
      "outputs": [
        {
          "name": "stdout",
          "output_type": "stream",
          "text": [
            "(8000, 16384) (2000, 16384) (8000, 2) (2000, 2)\n"
          ]
        }
      ],
      "source": [
        "print(X_train.shape, X_val.shape, y_train.shape, y_val.shape)"
      ]
    },
    {
      "cell_type": "code",
      "execution_count": null,
      "metadata": {
        "id": "01pIkFC6w1BJ"
      },
      "outputs": [],
      "source": [
        "model = Sequential()\n",
        "\n",
        "model.add(Conv1D(64, 32, input_shape = (16384,1)))\n",
        "model.add(MaxPool1D(4, 4))\n",
        "model.add(ReLU())\n",
        "model.add(Conv1D(128, 64))\n",
        "model.add(MaxPool1D(4, 4))\n",
        "model.add(ReLU())\n",
        "model.add(Conv1D(256, 64))\n",
        "model.add(MaxPool1D(4, 4))\n",
        "model.add(ReLU())\n",
        "model.add(Conv1D(512, 128))\n",
        "model.add(MaxPool1D(4, 4))\n",
        "model.add(ReLU())\n",
        "model.add(Flatten())\n",
        "model.add(Dense(13824))\n",
        "model.add(Dense(128, activation='relu'))\n",
        "model.add(Dense(64, activation='relu'))\n",
        "model.add(Dropout(0.2))                         # dropout rate not givem\n",
        "model.add(Dense(3, activation=tf.nn.softmax))\n",
        "\n",
        "# learning rate not given\n",
        "model.compile(optimizer=tf.keras.optimizers.Adam(0.001), loss='categorical_crossentropy', metrics=['accuracy'])"
      ]
    },
    {
      "cell_type": "code",
      "execution_count": null,
      "metadata": {
        "id": "-2PqOqLjw1BK"
      },
      "outputs": [],
      "source": [
        "model.summary()"
      ]
    },
    {
      "cell_type": "code",
      "execution_count": null,
      "metadata": {
        "colab": {
          "base_uri": "https://localhost:8080/"
        },
        "id": "qxVd6XC9w1BM",
        "outputId": "64568c8f-4b5e-4c2f-8e4e-e3dbc550b365"
      },
      "outputs": [
        {
          "name": "stdout",
          "output_type": "stream",
          "text": [
            "Epoch 1/10\n",
            "63/63 [==============================] - 93s 1s/step - loss: 0.6932 - accuracy: 0.5041 - val_loss: 0.6934 - val_accuracy: 0.4895\n",
            "Epoch 2/10\n",
            "63/63 [==============================] - 91s 1s/step - loss: 0.6932 - accuracy: 0.5041 - val_loss: 0.6933 - val_accuracy: 0.4895\n",
            "Epoch 3/10\n",
            "63/63 [==============================] - 91s 1s/step - loss: 0.6931 - accuracy: 0.5019 - val_loss: 0.6933 - val_accuracy: 0.4895\n",
            "Epoch 4/10\n",
            "63/63 [==============================] - 91s 1s/step - loss: 0.6932 - accuracy: 0.5006 - val_loss: 0.6932 - val_accuracy: 0.4895\n",
            "Epoch 5/10\n",
            "63/63 [==============================] - 91s 1s/step - loss: 0.6932 - accuracy: 0.4966 - val_loss: 0.6933 - val_accuracy: 0.4895\n",
            "Epoch 6/10\n",
            "63/63 [==============================] - 91s 1s/step - loss: 0.6932 - accuracy: 0.4914 - val_loss: 0.6932 - val_accuracy: 0.4895\n",
            "Epoch 7/10\n",
            "63/63 [==============================] - 91s 1s/step - loss: 0.6932 - accuracy: 0.4922 - val_loss: 0.6932 - val_accuracy: 0.4895\n",
            "Epoch 8/10\n",
            "63/63 [==============================] - 91s 1s/step - loss: 0.6932 - accuracy: 0.5065 - val_loss: 0.6933 - val_accuracy: 0.4895\n",
            "Epoch 9/10\n",
            "63/63 [==============================] - 91s 1s/step - loss: 0.6932 - accuracy: 0.4956 - val_loss: 0.6932 - val_accuracy: 0.4895\n",
            "Epoch 10/10\n",
            "63/63 [==============================] - 91s 1s/step - loss: 0.6932 - accuracy: 0.5026 - val_loss: 0.6932 - val_accuracy: 0.4895\n"
          ]
        },
        {
          "data": {
            "text/plain": [
              "<keras.callbacks.History at 0x7fc8318fcb10>"
            ]
          },
          "execution_count": 14,
          "metadata": {},
          "output_type": "execute_result"
        }
      ],
      "source": [
        "model.fit(X_train, y_train, batch_size=128, epochs=10) #validation_data=(X_val, y_val)"
      ]
    },
    {
      "cell_type": "code",
      "execution_count": null,
      "metadata": {
        "id": "IqssaFdDw1BN"
      },
      "outputs": [],
      "source": []
    }
  ],
  "metadata": {
    "accelerator": "GPU",
    "colab": {
      "collapsed_sections": [],
      "name": "cnn_model_1.ipynb",
      "provenance": []
    },
    "interpreter": {
      "hash": "8356d31dd4c50017c60d528a0c40a4935f9d791f54e24c10e32e3a312d5b6882"
    },
    "kernelspec": {
      "display_name": "Python 3.7.6 64-bit ('base': conda)",
      "language": "python",
      "name": "python3"
    },
    "language_info": {
      "codemirror_mode": {
        "name": "ipython",
        "version": 3
      },
      "file_extension": ".py",
      "mimetype": "text/x-python",
      "name": "python",
      "nbconvert_exporter": "python",
      "pygments_lexer": "ipython3",
      "version": "3.6.9"
    },
    "orig_nbformat": 4
  },
  "nbformat": 4,
  "nbformat_minor": 0
}
