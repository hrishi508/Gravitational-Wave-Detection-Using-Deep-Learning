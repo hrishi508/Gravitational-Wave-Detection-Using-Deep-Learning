{
  "cells": [
    {
      "cell_type": "code",
      "execution_count": 1,
      "metadata": {
        "id": "Xs_OpQDIxDQW",
        "colab": {
          "base_uri": "https://localhost:8080/"
        },
        "outputId": "e1207b20-fee4-4518-b593-b1544c069de0"
      },
      "outputs": [
        {
          "output_type": "stream",
          "name": "stdout",
          "text": [
            "Mounted at /content/gdrive\n"
          ]
        }
      ],
      "source": [
        "from google.colab import drive\n",
        "drive.mount('/content/gdrive')"
      ]
    },
    {
      "cell_type": "code",
      "execution_count": 1,
      "metadata": {
        "id": "L5inbyEdw1A7"
      },
      "outputs": [],
      "source": [
        "import numpy as np\n",
        "import pandas as pd\n",
        "import matplotlib.pyplot as plt\n",
        "from keras.models import load_model\n",
        "\n",
        "import tensorflow as tf\n",
        "from tensorflow.keras.models import Sequential\n",
        "from tensorflow.keras.layers import Dense, Conv1D, Dropout, MaxPool1D, ReLU, Flatten\n",
        "\n",
        "from sklearn.preprocessing import StandardScaler\n",
        "from sklearn.model_selection import train_test_split"
      ]
    },
    {
      "cell_type": "code",
      "execution_count": 85,
      "metadata": {
        "id": "MzCUizYfw1A_"
      },
      "outputs": [],
      "source": [
        "noise_df = pd.read_csv(\"/content/gdrive/MyDrive/GW_SOP/Data/val_Final_Merged_Noise_Reduced_No_Abs.csv\", header=None)\n",
        "noise = noise_df.values.astype(float)\n",
        "\n",
        "\n",
        "data_BBH_df = pd.read_csv(\"/content/gdrive/MyDrive/GW_SOP/Data/val_Final_BBH_Merged_Noise_Signal_Reduced_No_ABS.csv\", header=None)\n",
        "data_BBH = data_BBH_df.values.astype(float)\n",
        "\n",
        "\n",
        "data_BNS_df = pd.read_csv(\"/content/gdrive/MyDrive/GW_SOP/Data/diff_val_Final_BNS_Merged_Noise_Signal_Reduced_No_ABS.csv\", header=None)\n",
        "data_BNS = data_BNS_df.values.astype(float)"
      ]
    },
    {
      "cell_type": "code",
      "execution_count": 86,
      "metadata": {
        "id": "B5Ioc-J9fEPL"
      },
      "outputs": [],
      "source": [
        "noise *= 1e19\n",
        "data_BBH *= 1e19\n",
        "data_BNS *= 1e20"
      ]
    },
    {
      "cell_type": "code",
      "execution_count": 87,
      "metadata": {
        "id": "kmYHuecJw1BB",
        "colab": {
          "base_uri": "https://localhost:8080/"
        },
        "outputId": "ac5b0310-4983-425f-cbb7-fe4a4e3f69f8"
      },
      "outputs": [
        {
          "output_type": "stream",
          "name": "stdout",
          "text": [
            "1000\n",
            "[[ 0.94702137 -0.26324898  1.33689108 ... -0.7913548   0.34316772\n",
            "  -0.91804836]\n",
            " [-0.96397029  0.23194914  0.01669288 ... -1.27912926  0.13591558\n",
            "  -0.36164634]\n",
            " [-0.09986968  1.85085328  0.35783558 ...  0.26078978 -0.85469271\n",
            "   0.40428457]\n",
            " ...\n",
            " [-0.08780296 -0.01443747  0.00614803 ...  0.12960821  0.01767292\n",
            "   0.39055772]\n",
            " [ 0.16229123 -0.24215442 -0.5537051  ... -0.13285482  0.01147719\n",
            "   0.03154607]\n",
            " [-0.1017297  -0.33965818 -0.1618192  ... -0.1976131  -0.2488811\n",
            "  -0.32401994]]\n",
            "(3000, 16384)\n"
          ]
        }
      ],
      "source": [
        "X = np.concatenate((noise, data_BBH, data_BNS), axis=0)\n",
        "\n",
        "print(len(noise_df.index))\n",
        "print(X)\n",
        "print(X.shape)"
      ]
    },
    {
      "cell_type": "code",
      "execution_count": 88,
      "metadata": {
        "id": "J_dSmj6xw1BE"
      },
      "outputs": [],
      "source": [
        "y = [[0, -1] for i in range(1000)] + [[1, 0] for i in range(1000)] + [[1, 1] for i in range(1000)]\n",
        "y = np.array(y)"
      ]
    },
    {
      "cell_type": "code",
      "execution_count": 89,
      "metadata": {
        "id": "8xirD0GDBQgm",
        "colab": {
          "base_uri": "https://localhost:8080/"
        },
        "outputId": "6598d04a-9b87-4ec6-8a59-396984254353"
      },
      "outputs": [
        {
          "output_type": "stream",
          "name": "stdout",
          "text": [
            "(3000, 16384, 1)\n"
          ]
        }
      ],
      "source": [
        "X = np.expand_dims(X, axis=-1)\n",
        "\n",
        "print(X.shape)\n",
        "# print(X)"
      ]
    },
    {
      "cell_type": "code",
      "execution_count": 90,
      "metadata": {
        "id": "I-Jk3rjDioj0"
      },
      "outputs": [],
      "source": [
        "X_val, _, y_val, _ = train_test_split(X, y, test_size=1) #, random_state=1\n",
        "\n",
        "y1 = [y_val[i,1] for i in range(len(y_val))]\n",
        "y_val = [y_val[i,0] for i in range(len(y_val))]"
      ]
    },
    {
      "cell_type": "code",
      "execution_count": 91,
      "metadata": {
        "id": "01pIkFC6w1BJ"
      },
      "outputs": [],
      "source": [
        "model1 = load_model(\"/content/gdrive/MyDrive/GW_SOP/Data/multi_level_model_level_1.h5\")"
      ]
    },
    {
      "cell_type": "code",
      "execution_count": 92,
      "metadata": {
        "id": "nNKY920YfEPO"
      },
      "outputs": [],
      "source": [
        "pred = model1.predict(X_val)"
      ]
    },
    {
      "cell_type": "code",
      "source": [
        "# y_pred = np.argmax(pred, axis = 1)\n",
        "# for i in range(2999):\n",
        "#   print(y_val[i], y_pred[i])"
      ],
      "metadata": {
        "id": "DzgSDMkks44o"
      },
      "execution_count": 93,
      "outputs": []
    },
    {
      "cell_type": "code",
      "execution_count": 94,
      "metadata": {
        "id": "q31_lNxgfEPO",
        "colab": {
          "base_uri": "https://localhost:8080/"
        },
        "outputId": "bcea17f3-8b8f-454b-9d26-13ac9e819044"
      },
      "outputs": [
        {
          "output_type": "stream",
          "name": "stdout",
          "text": [
            "Total no. of data samples in level 1: 3000\n",
            "No. of correct predictions: 2995\n",
            "Level 1 accuracy: 99.86662220740247\n"
          ]
        }
      ],
      "source": [
        "y_pred = np.argmax(pred, axis = 1)\n",
        "correct = 0\n",
        "correct2 = 0\n",
        "X1 = []\n",
        "y2 = []\n",
        "\n",
        "for i in range(len(y_val)):\n",
        "  if y_pred[i]==y_val[i]:\n",
        "    correct += 1\n",
        "    if y_pred[i]==0:\n",
        "      correct2 += 1\n",
        "\n",
        "  if y_pred[i]==1:\n",
        "    X1.append(X_val[i])\n",
        "    y2.append(y1[i])\n",
        "\n",
        "acc = (correct/len(y_val))*100\n",
        "print(f\"Total no. of data samples in level 1: {len(y)}\")\n",
        "print(f\"No. of correct predictions: {correct}\")\n",
        "print(f\"Level 1 accuracy: {acc}\")"
      ]
    },
    {
      "cell_type": "code",
      "execution_count": 95,
      "metadata": {
        "id": "QIgYfCOofEPP",
        "colab": {
          "base_uri": "https://localhost:8080/"
        },
        "outputId": "dd0cb9c4-1c88-4467-d6f3-8606fbe566c5"
      },
      "outputs": [
        {
          "output_type": "stream",
          "name": "stdout",
          "text": [
            "(1995, 16384, 1)\n"
          ]
        }
      ],
      "source": [
        "X1 = np.array(X1)\n",
        "y2 = np.array(y2)\n",
        "print(X1.shape)\n",
        "# print(X1)"
      ]
    },
    {
      "cell_type": "code",
      "source": [
        "X1_val, _, y1_val, _ = train_test_split(X1, y2, test_size=1) #, random_state=1\n",
        "print(X1_val.shape, y1_val.shape)"
      ],
      "metadata": {
        "id": "M3ekOGu8i7zq",
        "colab": {
          "base_uri": "https://localhost:8080/"
        },
        "outputId": "108a6d21-7277-49c3-c95e-5837a57e9d4a"
      },
      "execution_count": 96,
      "outputs": [
        {
          "output_type": "stream",
          "name": "stdout",
          "text": [
            "(1994, 16384, 1) (1994,)\n"
          ]
        }
      ]
    },
    {
      "cell_type": "code",
      "execution_count": 97,
      "metadata": {
        "id": "AUdwCsJLfEPP"
      },
      "outputs": [],
      "source": [
        "model2 = load_model(\"/content/gdrive/MyDrive/GW_SOP/Data/multi_level_model_level_2.h5\")"
      ]
    },
    {
      "cell_type": "code",
      "execution_count": 98,
      "metadata": {
        "id": "dlZCrHf-fEPQ"
      },
      "outputs": [],
      "source": [
        "pred = model2.predict(X1_val)"
      ]
    },
    {
      "cell_type": "code",
      "execution_count": 99,
      "metadata": {
        "id": "P5NSBSCPfEPQ",
        "colab": {
          "base_uri": "https://localhost:8080/"
        },
        "outputId": "b2578aee-8b30-4df7-8129-e309f871f6ec"
      },
      "outputs": [
        {
          "output_type": "stream",
          "name": "stdout",
          "text": [
            "Total no. of data samples in level 2: 1994\n",
            "No. of correct predictions: 1994\n",
            "Level 2 accuracy: 100.0\n"
          ]
        }
      ],
      "source": [
        "y_pred = np.argmax(pred, axis = 1)\n",
        "correct1 = 0\n",
        "\n",
        "for i in range(len(y1_val)):\n",
        "  if y_pred[i]==y1_val[i]:\n",
        "    correct1 += 1\n",
        "\n",
        "acc = (correct1/len(y1_val))*100\n",
        "print(f\"Total no. of data samples in level 2: {len(y1_val)}\")\n",
        "print(f\"No. of correct predictions: {correct1}\")\n",
        "print(f\"Level 2 accuracy: {acc}\")"
      ]
    },
    {
      "cell_type": "code",
      "source": [
        "final_acc = ((correct1 + correct2)/3000)*100\n",
        "print(f\"The final accuracy of the model is {final_acc}\")"
      ],
      "metadata": {
        "colab": {
          "base_uri": "https://localhost:8080/"
        },
        "id": "06qsFLfuq2KL",
        "outputId": "e2cbd3a0-efe7-47f4-df0f-200d6d705789"
      },
      "execution_count": 100,
      "outputs": [
        {
          "output_type": "stream",
          "name": "stdout",
          "text": [
            "The final accuracy of the model is 99.8\n"
          ]
        }
      ]
    }
  ],
  "metadata": {
    "accelerator": "GPU",
    "colab": {
      "collapsed_sections": [],
      "name": "colab_multi_level_model_testing_on_val_data.ipynb",
      "provenance": []
    },
    "interpreter": {
      "hash": "8356d31dd4c50017c60d528a0c40a4935f9d791f54e24c10e32e3a312d5b6882"
    },
    "kernelspec": {
      "display_name": "Python 3.7.6 64-bit ('base': conda)",
      "language": "python",
      "name": "python3"
    },
    "language_info": {
      "codemirror_mode": {
        "name": "ipython",
        "version": 3
      },
      "file_extension": ".py",
      "mimetype": "text/x-python",
      "name": "python",
      "nbconvert_exporter": "python",
      "pygments_lexer": "ipython3",
      "version": "3.7.6"
    },
    "orig_nbformat": 4
  },
  "nbformat": 4,
  "nbformat_minor": 0
}