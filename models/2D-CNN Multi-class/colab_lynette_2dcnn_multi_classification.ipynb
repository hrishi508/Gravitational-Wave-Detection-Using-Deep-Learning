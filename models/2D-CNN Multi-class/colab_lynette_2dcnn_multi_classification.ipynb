{
  "cells": [
    {
      "cell_type": "code",
      "execution_count": null,
      "metadata": {
        "colab": {
          "base_uri": "https://localhost:8080/"
        },
        "id": "Xs_OpQDIxDQW",
        "outputId": "2c318b83-3400-4513-e1df-ec167dad8688"
      },
      "outputs": [
        {
          "name": "stdout",
          "output_type": "stream",
          "text": [
            "Drive already mounted at /content/gdrive; to attempt to forcibly remount, call drive.mount(\"/content/gdrive\", force_remount=True).\n"
          ]
        }
      ],
      "source": [
        "from google.colab import drive\n",
        "drive.mount('/content/gdrive')"
      ]
    },
    {
      "cell_type": "code",
      "execution_count": null,
      "metadata": {
        "id": "L5inbyEdw1A7"
      },
      "outputs": [],
      "source": [
        "import numpy as np\n",
        "import pandas as pd\n",
        "import matplotlib.pyplot as plt\n",
        "\n",
        "import tensorflow as tf\n",
        "from tensorflow.keras.models import Sequential\n",
        "from tensorflow.keras.layers import Dense, Conv1D, Dropout, MaxPool1D, ReLU, Flatten\n",
        "\n",
        "from sklearn.preprocessing import StandardScaler\n",
        "from sklearn.model_selection import train_test_split"
      ]
    },
    {
      "cell_type": "code",
      "execution_count": null,
      "metadata": {
        "id": "hF5cR2kzw1A-"
      },
      "outputs": [],
      "source": [
        "samples_per_class = 5000\n",
        "no_of_classes = 2"
      ]
    },
    {
      "cell_type": "code",
      "execution_count": null,
      "metadata": {
        "id": "MzCUizYfw1A_"
      },
      "outputs": [],
      "source": [
        "noise_df = pd.read_csv(\"/content/gdrive/MyDrive/GW_SOP/Data/Final_Merged_Noise_Reduced_No_Abs.csv\", header=None)\n",
        "noise = noise_df.values.astype(float)\n",
        "\n",
        "\n",
        "data_BBH_df = pd.read_csv(\"/content/gdrive/MyDrive/GW_SOP/Data/Final_BBH_Merged_Noise_Signal_Reduced_No_ABS.csv\", header=None)\n",
        "data_BBH = data_BBH_df.values.astype(float)"
      ]
    },
    {
      "cell_type": "code",
      "execution_count": null,
      "metadata": {
        "colab": {
          "base_uri": "https://localhost:8080/"
        },
        "id": "kmYHuecJw1BB",
        "outputId": "5f2379b5-a96f-454d-b6a5-16f54286afab"
      },
      "outputs": [
        {
          "name": "stdout",
          "output_type": "stream",
          "text": [
            "5000\n",
            "[[-1.64907037e-19 -4.29360853e-20  3.12423747e-20 ... -2.04472673e-19\n",
            "  -1.81142159e-19 -1.51305791e-20]\n",
            " [ 9.92276697e-20 -1.80029547e-19 -1.23077317e-19 ...  6.22533943e-20\n",
            "  -9.09674752e-20  2.12523082e-19]\n",
            " [-6.44325773e-21  5.41100166e-20 -6.99219049e-20 ... -1.41370244e-20\n",
            "  -3.97475053e-20 -7.86069176e-20]\n",
            " ...\n",
            " [-3.23880911e-21 -7.34737312e-21  1.11265679e-20 ... -3.75220314e-20\n",
            "   3.05405540e-20 -7.12104955e-20]\n",
            " [-2.26903379e-19  4.35581982e-20 -6.56942361e-20 ... -6.74037998e-20\n",
            "   5.64279348e-20 -1.39437967e-19]\n",
            " [-9.73289950e-20  8.23111862e-20 -1.72899438e-20 ...  6.34110814e-20\n",
            "   3.22702001e-20  1.48113480e-20]]\n",
            "(15000, 16384)\n"
          ]
        }
      ],
      "source": [
        "X = np.concatenate((noise, data_BBH, data_BNS), axis=0)\n",
        "\n",
        "print(len(noise_df.index))\n",
        "print(X)\n",
        "print(X.shape)"
      ]
    },
    {
      "cell_type": "code",
      "execution_count": null,
      "metadata": {
        "colab": {
          "base_uri": "https://localhost:8080/"
        },
        "id": "J_dSmj6xw1BE",
        "outputId": "ebbe52aa-b078-4cca-f065-4a78a67a96dd"
      },
      "outputs": [
        {
          "name": "stdout",
          "output_type": "stream",
          "text": [
            "[[1. 0. 0.]\n",
            " [1. 0. 0.]\n",
            " [1. 0. 0.]\n",
            " ...\n",
            " [0. 0. 1.]\n",
            " [0. 0. 1.]\n",
            " [0. 0. 1.]]\n"
          ]
        }
      ],
      "source": [
        "# Alternate way of creating y for the dataset\n",
        " \n",
        "y = [int(i/samples_per_class) for i in range(samples_per_class*no_of_classes)]\n",
        "y = tf.keras.utils.to_categorical(y)\n",
        "print(y)"
      ]
    },
    {
      "cell_type": "code",
      "execution_count": null,
      "metadata": {
        "id": "c9h1LUqxBQgm"
      },
      "outputs": [],
      "source": [
        "# scaler = StandardScaler()\n",
        "# X = scaler.fit_transform(X)\n",
        "# print(X)"
      ]
    },
    {
      "cell_type": "code",
      "execution_count": null,
      "metadata": {
        "colab": {
          "base_uri": "https://localhost:8080/"
        },
        "id": "8xirD0GDBQgm",
        "outputId": "907999f7-ba46-4f93-88e5-c4e8b6fe8d26"
      },
      "outputs": [
        {
          "name": "stdout",
          "output_type": "stream",
          "text": [
            "(15000, 16384, 1)\n",
            "[[[-1.64907037e-19]\n",
            "  [-4.29360853e-20]\n",
            "  [ 3.12423747e-20]\n",
            "  ...\n",
            "  [-2.04472673e-19]\n",
            "  [-1.81142159e-19]\n",
            "  [-1.51305791e-20]]\n",
            "\n",
            " [[ 9.92276697e-20]\n",
            "  [-1.80029547e-19]\n",
            "  [-1.23077317e-19]\n",
            "  ...\n",
            "  [ 6.22533943e-20]\n",
            "  [-9.09674752e-20]\n",
            "  [ 2.12523082e-19]]\n",
            "\n",
            " [[-6.44325773e-21]\n",
            "  [ 5.41100166e-20]\n",
            "  [-6.99219049e-20]\n",
            "  ...\n",
            "  [-1.41370244e-20]\n",
            "  [-3.97475053e-20]\n",
            "  [-7.86069176e-20]]\n",
            "\n",
            " ...\n",
            "\n",
            " [[-3.23880911e-21]\n",
            "  [-7.34737312e-21]\n",
            "  [ 1.11265679e-20]\n",
            "  ...\n",
            "  [-3.75220314e-20]\n",
            "  [ 3.05405540e-20]\n",
            "  [-7.12104955e-20]]\n",
            "\n",
            " [[-2.26903379e-19]\n",
            "  [ 4.35581982e-20]\n",
            "  [-6.56942361e-20]\n",
            "  ...\n",
            "  [-6.74037998e-20]\n",
            "  [ 5.64279348e-20]\n",
            "  [-1.39437967e-19]]\n",
            "\n",
            " [[-9.73289950e-20]\n",
            "  [ 8.23111862e-20]\n",
            "  [-1.72899438e-20]\n",
            "  ...\n",
            "  [ 6.34110814e-20]\n",
            "  [ 3.22702001e-20]\n",
            "  [ 1.48113480e-20]]]\n"
          ]
        }
      ],
      "source": [
        "X = np.expand_dims(X, axis=-1)\n",
        "print(X.shape)\n",
        "print(X)"
      ]
    },
    {
      "cell_type": "code",
      "execution_count": null,
      "metadata": {
        "id": "Zxu2uCZyz8kD"
      },
      "outputs": [],
      "source": [
        "X_train, X_val, y_train, y_val = train_test_split(X, y, test_size=0.01) #, random_state=1"
      ]
    },
    {
      "cell_type": "code",
      "execution_count": null,
      "metadata": {
        "colab": {
          "base_uri": "https://localhost:8080/"
        },
        "id": "-Cqz7kE80mty",
        "outputId": "09d19ddc-c0d4-4eee-9e0c-5ddfd96dca04"
      },
      "outputs": [
        {
          "name": "stdout",
          "output_type": "stream",
          "text": [
            "(14850, 16384, 1) (150, 16384, 1) (14850, 3) (150, 3)\n"
          ]
        }
      ],
      "source": [
        "print(X_train.shape, X_val.shape, y_train.shape, y_val.shape)"
      ]
    },
    {
      "cell_type": "code",
      "execution_count": null,
      "metadata": {
        "id": "01pIkFC6w1BJ"
      },
      "outputs": [],
      "source": [
        "model = Sequential()\n",
        "\n",
        "model.add(Conv1D(16, 16, input_shape = (16384,1)))\n",
        "model.add(MaxPool1D(4, 4))\n",
        "model.add(ReLU())\n",
        "model.add(Conv1D(32, 8))\n",
        "model.add(MaxPool1D(4, 4))\n",
        "model.add(ReLU())\n",
        "model.add(Conv1D(64, 8))\n",
        "model.add(MaxPool1D(4, 4))\n",
        "model.add(ReLU())\n",
        "model.add(Conv1D(128, 8))\n",
        "model.add(MaxPool1D(4, 4))\n",
        "model.add(ReLU())\n",
        "model.add(Flatten())\n",
        "model.add(Dense(7808))\n",
        "model.add(Dense(64, activation='relu'))\n",
        "model.add(Dense(3, activation=tf.nn.softmax))\n",
        "\n",
        "model.compile(optimizer=tf.keras.optimizers.Adam(0.001), loss='categorical_crossentropy', metrics=['accuracy'])"
      ]
    },
    {
      "cell_type": "code",
      "execution_count": null,
      "metadata": {
        "id": "-2PqOqLjw1BK"
      },
      "outputs": [],
      "source": [
        "# model.summary()"
      ]
    },
    {
      "cell_type": "code",
      "execution_count": null,
      "metadata": {
        "colab": {
          "base_uri": "https://localhost:8080/"
        },
        "id": "qxVd6XC9w1BM",
        "outputId": "35808604-3485-4b15-e671-019cec865d9f"
      },
      "outputs": [
        {
          "name": "stdout",
          "output_type": "stream",
          "text": [
            "Epoch 1/100\n",
            "117/117 [==============================] - 21s 65ms/step - loss: 1.0998 - accuracy: 0.3283\n",
            "Epoch 2/100\n",
            "117/117 [==============================] - 7s 61ms/step - loss: 1.0990 - accuracy: 0.3251\n",
            "Epoch 3/100\n",
            "117/117 [==============================] - 7s 61ms/step - loss: 1.0988 - accuracy: 0.3336\n",
            "Epoch 4/100\n",
            "117/117 [==============================] - 7s 61ms/step - loss: 1.0987 - accuracy: 0.3331\n",
            "Epoch 5/100\n",
            "117/117 [==============================] - 7s 61ms/step - loss: 1.0986 - accuracy: 0.3331\n",
            "Epoch 6/100\n",
            "117/117 [==============================] - 7s 61ms/step - loss: 1.0987 - accuracy: 0.3271\n",
            "Epoch 7/100\n",
            "117/117 [==============================] - 7s 61ms/step - loss: 1.0987 - accuracy: 0.3333\n",
            "Epoch 8/100\n",
            "117/117 [==============================] - 7s 61ms/step - loss: 1.0987 - accuracy: 0.3342\n",
            "Epoch 9/100\n",
            "117/117 [==============================] - 7s 61ms/step - loss: 1.0987 - accuracy: 0.3277\n",
            "Epoch 10/100\n",
            "117/117 [==============================] - 7s 61ms/step - loss: 1.0987 - accuracy: 0.3342\n",
            "Epoch 11/100\n",
            "117/117 [==============================] - 7s 61ms/step - loss: 1.0986 - accuracy: 0.3331\n",
            "Epoch 12/100\n",
            "117/117 [==============================] - 7s 61ms/step - loss: 1.0987 - accuracy: 0.3331\n",
            "Epoch 13/100\n",
            "117/117 [==============================] - 7s 61ms/step - loss: 1.0986 - accuracy: 0.3292\n",
            "Epoch 14/100\n",
            "117/117 [==============================] - 7s 62ms/step - loss: 1.0986 - accuracy: 0.3339\n",
            "Epoch 15/100\n",
            "117/117 [==============================] - 7s 62ms/step - loss: 1.0987 - accuracy: 0.3304\n",
            "Epoch 16/100\n",
            "117/117 [==============================] - 7s 62ms/step - loss: 1.0987 - accuracy: 0.3296\n",
            "Epoch 17/100\n",
            "117/117 [==============================] - 7s 62ms/step - loss: 1.0986 - accuracy: 0.3308\n",
            "Epoch 18/100\n",
            "117/117 [==============================] - 7s 62ms/step - loss: 1.0987 - accuracy: 0.3339\n",
            "Epoch 19/100\n",
            "117/117 [==============================] - 7s 62ms/step - loss: 1.0987 - accuracy: 0.3313\n",
            "Epoch 20/100\n",
            "117/117 [==============================] - 7s 62ms/step - loss: 1.0987 - accuracy: 0.3339\n",
            "Epoch 21/100\n",
            "117/117 [==============================] - 7s 62ms/step - loss: 1.0987 - accuracy: 0.3339\n",
            "Epoch 22/100\n",
            "117/117 [==============================] - 7s 62ms/step - loss: 1.0987 - accuracy: 0.3339\n",
            "Epoch 23/100\n",
            "117/117 [==============================] - 7s 62ms/step - loss: 1.0986 - accuracy: 0.3311\n",
            "Epoch 24/100\n",
            "117/117 [==============================] - 7s 62ms/step - loss: 1.0987 - accuracy: 0.3312\n",
            "Epoch 25/100\n",
            "117/117 [==============================] - 7s 62ms/step - loss: 1.0987 - accuracy: 0.3293\n",
            "Epoch 26/100\n",
            "117/117 [==============================] - 7s 62ms/step - loss: 1.0987 - accuracy: 0.3331\n",
            "Epoch 27/100\n",
            "117/117 [==============================] - 7s 62ms/step - loss: 1.0986 - accuracy: 0.3209\n",
            "Epoch 28/100\n",
            "117/117 [==============================] - 7s 62ms/step - loss: 1.0987 - accuracy: 0.3288\n",
            "Epoch 29/100\n",
            "117/117 [==============================] - 7s 62ms/step - loss: 1.0987 - accuracy: 0.3331\n",
            "Epoch 30/100\n",
            "117/117 [==============================] - 7s 62ms/step - loss: 1.0987 - accuracy: 0.3286\n",
            "Epoch 31/100\n",
            "117/117 [==============================] - 7s 62ms/step - loss: 1.0987 - accuracy: 0.3324\n",
            "Epoch 32/100\n",
            "117/117 [==============================] - 7s 62ms/step - loss: 1.0986 - accuracy: 0.3297\n",
            "Epoch 33/100\n",
            "117/117 [==============================] - 7s 63ms/step - loss: 1.0987 - accuracy: 0.3337\n",
            "Epoch 34/100\n",
            "117/117 [==============================] - 8s 68ms/step - loss: 1.0986 - accuracy: 0.3312\n",
            "Epoch 35/100\n",
            "117/117 [==============================] - 7s 63ms/step - loss: 1.0986 - accuracy: 0.3304\n",
            "Epoch 36/100\n",
            "117/117 [==============================] - 7s 63ms/step - loss: 1.0987 - accuracy: 0.3263\n",
            "Epoch 37/100\n",
            "117/117 [==============================] - 7s 63ms/step - loss: 1.0987 - accuracy: 0.3312\n",
            "Epoch 38/100\n",
            "117/117 [==============================] - 7s 62ms/step - loss: 1.0986 - accuracy: 0.3323\n",
            "Epoch 39/100\n",
            "117/117 [==============================] - 7s 63ms/step - loss: 1.0986 - accuracy: 0.3296\n",
            "Epoch 40/100\n",
            "117/117 [==============================] - 7s 63ms/step - loss: 1.0987 - accuracy: 0.3257\n",
            "Epoch 41/100\n",
            "117/117 [==============================] - 7s 63ms/step - loss: 1.0987 - accuracy: 0.3325\n",
            "Epoch 42/100\n",
            "117/117 [==============================] - 7s 63ms/step - loss: 1.0986 - accuracy: 0.3306\n",
            "Epoch 43/100\n",
            "117/117 [==============================] - 7s 63ms/step - loss: 1.0987 - accuracy: 0.3300\n",
            "Epoch 44/100\n",
            "117/117 [==============================] - 7s 63ms/step - loss: 1.0987 - accuracy: 0.3291\n",
            "Epoch 45/100\n",
            "117/117 [==============================] - 7s 63ms/step - loss: 1.0987 - accuracy: 0.3331\n",
            "Epoch 46/100\n",
            "117/117 [==============================] - 7s 63ms/step - loss: 1.0987 - accuracy: 0.3331\n",
            "Epoch 47/100\n",
            "117/117 [==============================] - 7s 63ms/step - loss: 1.0987 - accuracy: 0.3331\n",
            "Epoch 48/100\n",
            "117/117 [==============================] - 7s 63ms/step - loss: 1.0987 - accuracy: 0.3312\n",
            "Epoch 49/100\n",
            "117/117 [==============================] - 7s 63ms/step - loss: 1.0987 - accuracy: 0.3310\n",
            "Epoch 50/100\n",
            "117/117 [==============================] - 7s 63ms/step - loss: 1.0986 - accuracy: 0.3326\n",
            "Epoch 51/100\n",
            "117/117 [==============================] - 7s 63ms/step - loss: 1.0987 - accuracy: 0.3336\n",
            "Epoch 52/100\n",
            "117/117 [==============================] - 7s 63ms/step - loss: 1.0987 - accuracy: 0.3321\n",
            "Epoch 53/100\n",
            "117/117 [==============================] - 7s 63ms/step - loss: 1.0986 - accuracy: 0.3353\n",
            "Epoch 54/100\n",
            "117/117 [==============================] - 7s 63ms/step - loss: 1.0987 - accuracy: 0.3293\n",
            "Epoch 55/100\n",
            "117/117 [==============================] - 7s 63ms/step - loss: 1.0987 - accuracy: 0.3331\n",
            "Epoch 56/100\n",
            "117/117 [==============================] - 7s 63ms/step - loss: 1.0986 - accuracy: 0.3335\n",
            "Epoch 57/100\n",
            "117/117 [==============================] - 7s 63ms/step - loss: 1.0987 - accuracy: 0.3321\n",
            "Epoch 58/100\n",
            "117/117 [==============================] - 7s 63ms/step - loss: 1.0987 - accuracy: 0.3331\n",
            "Epoch 59/100\n",
            "117/117 [==============================] - 7s 63ms/step - loss: 1.0987 - accuracy: 0.3327\n",
            "Epoch 60/100\n",
            "117/117 [==============================] - 7s 63ms/step - loss: 1.0987 - accuracy: 0.3339\n",
            "Epoch 61/100\n",
            "117/117 [==============================] - 7s 63ms/step - loss: 1.0987 - accuracy: 0.3337\n",
            "Epoch 62/100\n",
            "117/117 [==============================] - 7s 63ms/step - loss: 1.0986 - accuracy: 0.3339\n",
            "Epoch 63/100\n",
            "117/117 [==============================] - 7s 63ms/step - loss: 1.0987 - accuracy: 0.3284\n",
            "Epoch 64/100\n",
            "117/117 [==============================] - 7s 63ms/step - loss: 1.0987 - accuracy: 0.3331\n",
            "Epoch 65/100\n",
            "117/117 [==============================] - 7s 63ms/step - loss: 1.0986 - accuracy: 0.3331\n",
            "Epoch 66/100\n",
            "117/117 [==============================] - 7s 63ms/step - loss: 1.0987 - accuracy: 0.3294\n",
            "Epoch 67/100\n",
            "117/117 [==============================] - 7s 63ms/step - loss: 1.0987 - accuracy: 0.3262\n",
            "Epoch 68/100\n",
            "117/117 [==============================] - 7s 63ms/step - loss: 1.0986 - accuracy: 0.3339\n",
            "Epoch 69/100\n",
            "117/117 [==============================] - 7s 63ms/step - loss: 1.0986 - accuracy: 0.3325\n",
            "Epoch 70/100\n",
            "117/117 [==============================] - 7s 63ms/step - loss: 1.0987 - accuracy: 0.3315\n",
            "Epoch 71/100\n",
            "117/117 [==============================] - 7s 63ms/step - loss: 1.0986 - accuracy: 0.3329\n",
            "Epoch 72/100\n",
            "117/117 [==============================] - 7s 63ms/step - loss: 1.0987 - accuracy: 0.3273\n",
            "Epoch 73/100\n",
            "117/117 [==============================] - 7s 64ms/step - loss: 1.0987 - accuracy: 0.3244\n",
            "Epoch 74/100\n",
            "117/117 [==============================] - 7s 64ms/step - loss: 1.0987 - accuracy: 0.3339\n",
            "Epoch 75/100\n",
            "117/117 [==============================] - 7s 63ms/step - loss: 1.0987 - accuracy: 0.3334\n",
            "Epoch 76/100\n",
            "117/117 [==============================] - 7s 63ms/step - loss: 1.0987 - accuracy: 0.3264\n",
            "Epoch 77/100\n",
            "117/117 [==============================] - 7s 64ms/step - loss: 1.0987 - accuracy: 0.3331\n",
            "Epoch 78/100\n",
            "117/117 [==============================] - 7s 63ms/step - loss: 1.0987 - accuracy: 0.3292\n",
            "Epoch 79/100\n",
            "117/117 [==============================] - 7s 63ms/step - loss: 1.0987 - accuracy: 0.3326\n",
            "Epoch 80/100\n",
            "117/117 [==============================] - 7s 63ms/step - loss: 1.0987 - accuracy: 0.3335\n",
            "Epoch 81/100\n",
            "117/117 [==============================] - 7s 63ms/step - loss: 1.0987 - accuracy: 0.3339\n",
            "Epoch 82/100\n",
            "117/117 [==============================] - 7s 63ms/step - loss: 1.0987 - accuracy: 0.3339\n",
            "Epoch 83/100\n",
            "117/117 [==============================] - 7s 63ms/step - loss: 1.0987 - accuracy: 0.3328\n",
            "Epoch 84/100\n",
            "117/117 [==============================] - 7s 63ms/step - loss: 1.0987 - accuracy: 0.3341\n",
            "Epoch 85/100\n",
            "117/117 [==============================] - 7s 63ms/step - loss: 1.0987 - accuracy: 0.3339\n",
            "Epoch 86/100\n",
            "117/117 [==============================] - 7s 63ms/step - loss: 1.0987 - accuracy: 0.3339\n",
            "Epoch 87/100\n",
            "117/117 [==============================] - 7s 63ms/step - loss: 1.0987 - accuracy: 0.3339\n",
            "Epoch 88/100\n",
            "117/117 [==============================] - 7s 64ms/step - loss: 1.0987 - accuracy: 0.3339\n",
            "Epoch 89/100\n",
            "117/117 [==============================] - 7s 63ms/step - loss: 1.0987 - accuracy: 0.3339\n",
            "Epoch 90/100\n",
            "117/117 [==============================] - 7s 63ms/step - loss: 1.0987 - accuracy: 0.3294\n",
            "Epoch 91/100\n",
            "117/117 [==============================] - 7s 64ms/step - loss: 1.0987 - accuracy: 0.3267\n",
            "Epoch 92/100\n",
            "117/117 [==============================] - 7s 63ms/step - loss: 1.0986 - accuracy: 0.3334\n",
            "Epoch 93/100\n",
            "117/117 [==============================] - 7s 63ms/step - loss: 1.0987 - accuracy: 0.3331\n",
            "Epoch 94/100\n",
            "117/117 [==============================] - 7s 63ms/step - loss: 1.0987 - accuracy: 0.3299\n",
            "Epoch 95/100\n",
            "117/117 [==============================] - 7s 63ms/step - loss: 1.0987 - accuracy: 0.3331\n",
            "Epoch 96/100\n",
            "117/117 [==============================] - 7s 63ms/step - loss: 1.0987 - accuracy: 0.3297\n",
            "Epoch 97/100\n",
            "117/117 [==============================] - 7s 64ms/step - loss: 1.0987 - accuracy: 0.3320\n",
            "Epoch 98/100\n",
            "117/117 [==============================] - 7s 63ms/step - loss: 1.0987 - accuracy: 0.3322\n",
            "Epoch 99/100\n",
            "117/117 [==============================] - 7s 63ms/step - loss: 1.0987 - accuracy: 0.3292\n",
            "Epoch 100/100\n",
            "117/117 [==============================] - 7s 63ms/step - loss: 1.0987 - accuracy: 0.3300\n"
          ]
        }
      ],
      "source": [
        "history = model.fit(X_train, y_train, batch_size=128, epochs=100) #validation_data=(X_val, y_val)"
      ]
    },
    {
      "cell_type": "code",
      "execution_count": null,
      "metadata": {
        "id": "xyBVlYB6SHgK"
      },
      "outputs": [],
      "source": [
        "# import ctypes\n",
        "# history = tf.keras.callbacks.History()\n",
        "# history = ctypes.cast(0x7ff21a33f650, ctypes.py_object).value"
      ]
    },
    {
      "cell_type": "code",
      "execution_count": null,
      "metadata": {
        "colab": {
          "base_uri": "https://localhost:8080/",
          "height": 295
        },
        "id": "IqssaFdDw1BN",
        "outputId": "b80a4862-271a-47ab-ba19-4e8b895c1097"
      },
      "outputs": [
        {
          "data": {
            "image/png": "[encoded data removed]",
            "text/plain": [
              "<Figure size 936x288 with 2 Axes>"
            ]
          },
          "metadata": {
            "needs_background": "light"
          },
          "output_type": "display_data"
        }
      ],
      "source": [
        "acc = [0.] + history.history['accuracy']\n",
        "\n",
        "loss = history.history['loss']\n",
        "\n",
        "plt.figure(figsize=(13, 4))\n",
        "plt.subplot(1, 2, 1)\n",
        "plt.plot(acc, label='Training Accuracy')\n",
        "plt.legend(loc='lower right')\n",
        "plt.ylabel('Accuracy')\n",
        "plt.ylim([min(plt.ylim()),1])\n",
        "plt.title('Training Accuracy')\n",
        "plt.xlabel('epoch')\n",
        "\n",
        "plt.subplot(1, 2, 2)\n",
        "plt.plot(loss, label='Training Loss')\n",
        "plt.legend(loc='upper right')\n",
        "plt.ylabel('Categorical Cross Entropy')\n",
        "plt.ylim([0,2])\n",
        "plt.title('Training Loss')\n",
        "plt.xlabel('epoch')\n",
        "plt.show()"
      ]
    }
  ],
  "metadata": {
    "accelerator": "GPU",
    "colab": {
      "collapsed_sections": [],
      "name": "colab_krastev_1dcnn_multi_classification.ipynb",
      "provenance": []
    },
    "interpreter": {
      "hash": "8356d31dd4c50017c60d528a0c40a4935f9d791f54e24c10e32e3a312d5b6882"
    },
    "kernelspec": {
      "display_name": "Python 3.7.6 64-bit ('base': conda)",
      "language": "python",
      "name": "python3"
    },
    "language_info": {
      "codemirror_mode": {
        "name": "ipython",
        "version": 3
      },
      "file_extension": ".py",
      "mimetype": "text/x-python",
      "name": "python",
      "nbconvert_exporter": "python",
      "pygments_lexer": "ipython3",
      "version": "3.6.9"
    },
    "orig_nbformat": 4
  },
  "nbformat": 4,
  "nbformat_minor": 0
}
