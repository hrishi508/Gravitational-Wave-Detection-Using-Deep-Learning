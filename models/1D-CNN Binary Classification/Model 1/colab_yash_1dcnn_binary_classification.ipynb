{
  "cells": [
    {
      "cell_type": "code",
      "execution_count": 1,
      "metadata": {
        "colab": {
          "base_uri": "https://localhost:8080/"
        },
        "id": "Xs_OpQDIxDQW",
        "outputId": "a7501faa-b3d9-42bb-cb5c-4cf1a23c0014"
      },
      "outputs": [
        {
          "name": "stdout",
          "output_type": "stream",
          "text": [
            "Mounted at /content/gdrive\n"
          ]
        }
      ],
      "source": [
        "from google.colab import drive\n",
        "drive.mount('/content/gdrive')"
      ]
    },
    {
      "cell_type": "code",
      "execution_count": 1,
      "metadata": {
        "id": "L5inbyEdw1A7"
      },
      "outputs": [],
      "source": [
        "import numpy as np\n",
        "import pandas as pd\n",
        "import matplotlib.pyplot as plt\n",
        "\n",
        "import tensorflow as tf\n",
        "from tensorflow.keras.models import Sequential\n",
        "from tensorflow.keras.layers import Dense, Conv1D, Dropout, MaxPool1D, ReLU, Flatten\n",
        "\n",
        "from sklearn.preprocessing import StandardScaler\n",
        "from sklearn.model_selection import train_test_split"
      ]
    },
    {
      "cell_type": "code",
      "execution_count": 3,
      "metadata": {
        "id": "hF5cR2kzw1A-"
      },
      "outputs": [],
      "source": [
        "samples_per_class = 5000\n",
        "no_of_classes = 2"
      ]
    },
    {
      "cell_type": "code",
      "execution_count": 4,
      "metadata": {
        "id": "MzCUizYfw1A_"
      },
      "outputs": [],
      "source": [
        "noise_df = pd.read_csv(\"/content/gdrive/MyDrive/GW_SOP/Data/Final_Merged_Noise_Reduced_No_Abs.csv\", header=None)\n",
        "noise_X = noise_df.values.astype(float)\n",
        "\n",
        "\n",
        "data_df = pd.read_csv(\"/content/gdrive/MyDrive/GW_SOP/Data/Final_BBH_Merged_Noise_Signal_Reduced_No_ABS.csv\", header=None)\n",
        "data_X = data_df.values.astype(float)"
      ]
    },
    {
      "cell_type": "code",
      "execution_count": 8,
      "metadata": {
        "colab": {
          "base_uri": "https://localhost:8080/"
        },
        "id": "kmYHuecJw1BB",
        "outputId": "cb2e998b-efd6-4744-8366-ed0d2593326f"
      },
      "outputs": [
        {
          "name": "stdout",
          "output_type": "stream",
          "text": [
            "5000\n",
            "[[-1.64907037e-19 -4.29360853e-20  3.12423747e-20 ... -2.04472673e-19\n",
            "  -1.81142159e-19 -1.51305791e-20]\n",
            " [ 9.92276697e-20 -1.80029547e-19 -1.23077317e-19 ...  6.22533943e-20\n",
            "  -9.09674752e-20  2.12523082e-19]\n",
            " [-6.44325773e-21  5.41100166e-20 -6.99219049e-20 ... -1.41370244e-20\n",
            "  -3.97475053e-20 -7.86069176e-20]\n",
            " ...\n",
            " [ 7.76972601e-20  3.20836763e-19  3.14578215e-19 ...  2.35714024e-19\n",
            "   6.00128059e-21  2.16913004e-20]\n",
            " [-4.49084936e-20  1.51921233e-19  6.06093593e-20 ...  4.94761107e-20\n",
            "   7.05876197e-20 -6.05955651e-20]\n",
            " [ 2.26450657e-19  2.98039252e-19  2.09974247e-19 ... -5.85071682e-20\n",
            "   1.08575973e-19 -4.63715638e-20]]\n"
          ]
        }
      ],
      "source": [
        "X = np.concatenate((noise_X, data_X), axis=0)\n",
        "\n",
        "print(len(noise_df.index))\n",
        "print(X)"
      ]
    },
    {
      "cell_type": "code",
      "execution_count": 9,
      "metadata": {
        "colab": {
          "base_uri": "https://localhost:8080/"
        },
        "id": "J_dSmj6xw1BE",
        "outputId": "fa5c3031-7d77-4984-9186-b871ca3fba2e"
      },
      "outputs": [
        {
          "name": "stdout",
          "output_type": "stream",
          "text": [
            "[[1. 0.]\n",
            " [1. 0.]\n",
            " [1. 0.]\n",
            " ...\n",
            " [0. 1.]\n",
            " [0. 1.]\n",
            " [0. 1.]]\n"
          ]
        }
      ],
      "source": [
        "# Alternate way of creating y for the dataset\n",
        " \n",
        "y = [int(i/samples_per_class) for i in range(samples_per_class*no_of_classes)]\n",
        "y = tf.keras.utils.to_categorical(y)\n",
        "print(y)"
      ]
    },
    {
      "cell_type": "code",
      "execution_count": 10,
      "metadata": {
        "id": "Zxu2uCZyz8kD"
      },
      "outputs": [],
      "source": [
        "X_train, X_val, y_train, y_val = train_test_split(X, y, test_size=0.01, random_state=1)"
      ]
    },
    {
      "cell_type": "code",
      "execution_count": 11,
      "metadata": {
        "colab": {
          "base_uri": "https://localhost:8080/"
        },
        "id": "-Cqz7kE80mty",
        "outputId": "5a909484-279b-45db-b6b3-1a22bfbf36e5"
      },
      "outputs": [
        {
          "name": "stdout",
          "output_type": "stream",
          "text": [
            "(9900, 16384) (100, 16384) (9900, 2) (100, 2)\n"
          ]
        }
      ],
      "source": [
        "print(X_train.shape, X_val.shape, y_train.shape, y_val.shape)"
      ]
    },
    {
      "cell_type": "code",
      "execution_count": null,
      "metadata": {
        "id": "stMI5kV8w1BH",
        "outputId": "2d15e493-a7fb-485e-deae-49bd76d6f1a9"
      },
      "outputs": [
        {
          "name": "stdout",
          "output_type": "stream",
          "text": [
            "[[-4.66502223e-01 -1.07359821e+00 -1.74433671e+00 ...  5.02581170e-01\n",
            "  -1.36933782e+00  2.26637884e-01]\n",
            " [ 1.12471825e+00  7.27310905e-01 -1.06618344e-03 ...  4.98396855e-01\n",
            "   4.52394582e-01 -1.06678426e+00]\n",
            " [ 2.86896372e-01  2.82565906e-01  3.98155846e-01 ...  1.20432591e-01\n",
            "  -1.07508789e+00 -1.62151193e+00]\n",
            " ...\n",
            " [-6.68001951e-02  1.60138337e-01  1.04733176e+00 ... -1.48016600e+00\n",
            "  -1.07543938e+00  2.95662405e-01]\n",
            " [-1.66927888e+00 -5.67844024e-01 -1.95661364e+00 ...  3.33327448e-01\n",
            "   5.95383678e-01 -1.42522492e+00]\n",
            " [-3.17754987e-01 -1.93968081e-01 -6.12621844e-01 ... -1.12467792e+00\n",
            "   7.56003017e-01 -2.12316594e-01]]\n"
          ]
        }
      ],
      "source": [
        "# scaler = StandardScaler()\n",
        "# scaled_X = scaler.fit_transform(X)\n",
        "# print(scaled_X)"
      ]
    },
    {
      "cell_type": "code",
      "execution_count": 12,
      "metadata": {
        "id": "89KqcHv6w1BI"
      },
      "outputs": [],
      "source": [
        "X_train_1 = np.expand_dims(X_train, axis=-1)\n",
        "# X_val_1 = np.expand_dims(X_val, axis=-1)"
      ]
    },
    {
      "cell_type": "code",
      "execution_count": 2,
      "metadata": {
        "id": "01pIkFC6w1BJ"
      },
      "outputs": [],
      "source": [
        "model = Sequential()\n",
        "\n",
        "model.add(Conv1D(64, 32, input_shape = (16384,1)))\n",
        "model.add(MaxPool1D(4, 4))\n",
        "model.add(ReLU())\n",
        "model.add(Conv1D(128, 64))\n",
        "model.add(MaxPool1D(4, 4))\n",
        "model.add(ReLU())\n",
        "model.add(Conv1D(256, 64))\n",
        "model.add(MaxPool1D(4, 4))\n",
        "model.add(ReLU())\n",
        "model.add(Conv1D(512, 128))\n",
        "model.add(MaxPool1D(4, 4))\n",
        "model.add(ReLU())\n",
        "model.add(Flatten())\n",
        "model.add(Dense(128, activation='relu'))\n",
        "model.add(Dense(64, activation='relu'))\n",
        "model.add(Dropout(0.2))                         # dropout rate not givem\n",
        "model.add(Dense(2, activation=tf.nn.softmax))\n",
        "\n",
        "# learning rate not given\n",
        "model.compile(optimizer=tf.keras.optimizers.Adam(0.001), loss='categorical_crossentropy', metrics=['accuracy'])"
      ]
    },
    {
      "cell_type": "code",
      "execution_count": 3,
      "metadata": {
        "id": "-2PqOqLjw1BK"
      },
      "outputs": [
        {
          "name": "stdout",
          "output_type": "stream",
          "text": [
            "Model: \"sequential\"\n",
            "_________________________________________________________________\n",
            "Layer (type)                 Output Shape              Param #   \n",
            "=================================================================\n",
            "conv1d (Conv1D)              (None, 16353, 64)         2112      \n",
            "_________________________________________________________________\n",
            "max_pooling1d (MaxPooling1D) (None, 4088, 64)          0         \n",
            "_________________________________________________________________\n",
            "re_lu (ReLU)                 (None, 4088, 64)          0         \n",
            "_________________________________________________________________\n",
            "conv1d_1 (Conv1D)            (None, 4025, 128)         524416    \n",
            "_________________________________________________________________\n",
            "max_pooling1d_1 (MaxPooling1 (None, 1006, 128)         0         \n",
            "_________________________________________________________________\n",
            "re_lu_1 (ReLU)               (None, 1006, 128)         0         \n",
            "_________________________________________________________________\n",
            "conv1d_2 (Conv1D)            (None, 943, 256)          2097408   \n",
            "_________________________________________________________________\n",
            "max_pooling1d_2 (MaxPooling1 (None, 235, 256)          0         \n",
            "_________________________________________________________________\n",
            "re_lu_2 (ReLU)               (None, 235, 256)          0         \n",
            "_________________________________________________________________\n",
            "conv1d_3 (Conv1D)            (None, 108, 512)          16777728  \n",
            "_________________________________________________________________\n",
            "max_pooling1d_3 (MaxPooling1 (None, 27, 512)           0         \n",
            "_________________________________________________________________\n",
            "re_lu_3 (ReLU)               (None, 27, 512)           0         \n",
            "_________________________________________________________________\n",
            "flatten (Flatten)            (None, 13824)             0         \n",
            "_________________________________________________________________\n",
            "dense (Dense)                (None, 128)               1769600   \n",
            "_________________________________________________________________\n",
            "dense_1 (Dense)              (None, 64)                8256      \n",
            "_________________________________________________________________\n",
            "dropout (Dropout)            (None, 64)                0         \n",
            "_________________________________________________________________\n",
            "dense_2 (Dense)              (None, 2)                 130       \n",
            "=================================================================\n",
            "Total params: 21,179,650\n",
            "Trainable params: 21,179,650\n",
            "Non-trainable params: 0\n",
            "_________________________________________________________________\n"
          ]
        }
      ],
      "source": [
        "model.summary()"
      ]
    },
    {
      "cell_type": "code",
      "execution_count": 14,
      "metadata": {
        "colab": {
          "base_uri": "https://localhost:8080/"
        },
        "id": "qxVd6XC9w1BM",
        "outputId": "47064964-0f71-42a6-ce79-effefc699c0c"
      },
      "outputs": [
        {
          "name": "stdout",
          "output_type": "stream",
          "text": [
            "Epoch 1/10\n",
            "78/78 [==============================] - 66s 618ms/step - loss: 0.6962 - accuracy: 0.5041\n",
            "Epoch 2/10\n",
            "78/78 [==============================] - 43s 551ms/step - loss: 0.6938 - accuracy: 0.4978\n",
            "Epoch 3/10\n",
            "78/78 [==============================] - 44s 559ms/step - loss: 0.6935 - accuracy: 0.4979\n",
            "Epoch 4/10\n",
            "78/78 [==============================] - 44s 564ms/step - loss: 0.6948 - accuracy: 0.4933\n",
            "Epoch 5/10\n",
            "78/78 [==============================] - 44s 567ms/step - loss: 0.6937 - accuracy: 0.5045\n",
            "Epoch 6/10\n",
            "78/78 [==============================] - 45s 572ms/step - loss: 0.6935 - accuracy: 0.4971\n",
            "Epoch 7/10\n",
            "78/78 [==============================] - 45s 578ms/step - loss: 0.6934 - accuracy: 0.4982\n",
            "Epoch 8/10\n",
            "78/78 [==============================] - 45s 579ms/step - loss: 0.6936 - accuracy: 0.4973\n",
            "Epoch 9/10\n",
            "78/78 [==============================] - 45s 579ms/step - loss: 0.6934 - accuracy: 0.4961\n",
            "Epoch 10/10\n",
            "78/78 [==============================] - 45s 579ms/step - loss: 0.6937 - accuracy: 0.4931\n"
          ]
        },
        {
          "data": {
            "text/plain": [
              "<keras.callbacks.History at 0x7fc8cb74af50>"
            ]
          },
          "execution_count": 14,
          "metadata": {},
          "output_type": "execute_result"
        }
      ],
      "source": [
        "history = model.fit(X_train_1, y_train, batch_size=128, epochs=10) #, validation_data=(X_val_1, y_val)"
      ]
    },
    {
      "cell_type": "code",
      "execution_count": 15,
      "metadata": {
        "id": "8YHaPoUlymxB"
      },
      "outputs": [],
      "source": [
        "# import ctypes\n",
        "# history = tf.keras.callbacks.History()\n",
        "# history = ctypes.cast(0x7fc8cb74af50, ctypes.py_object).value"
      ]
    },
    {
      "cell_type": "code",
      "execution_count": 16,
      "metadata": {
        "colab": {
          "base_uri": "https://localhost:8080/",
          "height": 295
        },
        "id": "IqssaFdDw1BN",
        "outputId": "29cc1f0f-3b5a-4ce6-a90f-350a6e9a84f4"
      },
      "outputs": [
        {
          "data": {
            "image/png": "[encoded data removed]",
            "text/plain": [
              "<Figure size 936x288 with 2 Axes>"
            ]
          },
          "metadata": {
            "needs_background": "light"
          },
          "output_type": "display_data"
        }
      ],
      "source": [
        "import matplotlib.pyplot as plt\n",
        "\n",
        "acc = [0.] + history.history['accuracy']\n",
        "\n",
        "loss = history.history['loss']\n",
        "\n",
        "plt.figure(figsize=(13, 4))\n",
        "plt.subplot(1, 2, 1)\n",
        "plt.plot(acc, label='Training Accuracy')\n",
        "plt.legend(loc='lower right')\n",
        "plt.ylabel('Accuracy')\n",
        "plt.ylim([min(plt.ylim()),1])\n",
        "plt.title('Training Accuracy')\n",
        "plt.xlabel('epoch')\n",
        "\n",
        "plt.subplot(1, 2, 2)\n",
        "plt.plot(loss, label='Training Loss')\n",
        "plt.legend(loc='upper right')\n",
        "plt.ylabel('Categorical Cross Entropy')\n",
        "plt.ylim([0,2])\n",
        "plt.title('Training Loss')\n",
        "plt.xlabel('epoch')\n",
        "plt.show()"
      ]
    },
    {
      "cell_type": "code",
      "execution_count": null,
      "metadata": {
        "id": "XSBnNjWHyuuP"
      },
      "outputs": [],
      "source": []
    }
  ],
  "metadata": {
    "accelerator": "GPU",
    "colab": {
      "collapsed_sections": [],
      "name": "colab_yash_1dcnn_binary_classification.ipynb",
      "provenance": []
    },
    "interpreter": {
      "hash": "8356d31dd4c50017c60d528a0c40a4935f9d791f54e24c10e32e3a312d5b6882"
    },
    "kernelspec": {
      "display_name": "Python 3.7.6 64-bit ('base': conda)",
      "language": "python",
      "name": "python3"
    },
    "language_info": {
      "codemirror_mode": {
        "name": "ipython",
        "version": 3
      },
      "file_extension": ".py",
      "mimetype": "text/x-python",
      "name": "python",
      "nbconvert_exporter": "python",
      "pygments_lexer": "ipython3",
      "version": "3.7.6"
    },
    "orig_nbformat": 4
  },
  "nbformat": 4,
  "nbformat_minor": 0
}
