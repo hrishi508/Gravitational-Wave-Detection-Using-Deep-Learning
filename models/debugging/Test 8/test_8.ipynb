{
  "cells": [
    {
      "cell_type": "code",
      "execution_count": 1,
      "metadata": {
        "colab": {
          "base_uri": "https://localhost:8080/"
        },
        "id": "Xs_OpQDIxDQW",
        "outputId": "61b5a9dd-1697-411c-bbb6-31c7811094a1"
      },
      "outputs": [
        {
          "output_type": "stream",
          "name": "stdout",
          "text": [
            "Mounted at /content/gdrive\n"
          ]
        }
      ],
      "source": [
        "from google.colab import drive\n",
        "drive.mount('/content/gdrive')"
      ]
    },
    {
      "cell_type": "code",
      "execution_count": 2,
      "metadata": {
        "id": "L5inbyEdw1A7"
      },
      "outputs": [],
      "source": [
        "import numpy as np\n",
        "import pandas as pd\n",
        "import matplotlib.pyplot as plt\n",
        "\n",
        "import tensorflow as tf\n",
        "from tensorflow.keras.models import Sequential\n",
        "from tensorflow.keras.layers import Dense, Conv1D, Dropout, MaxPool1D, ReLU, Flatten\n",
        "\n",
        "from sklearn.preprocessing import StandardScaler\n",
        "from sklearn.model_selection import train_test_split"
      ]
    },
    {
      "cell_type": "code",
      "execution_count": 3,
      "metadata": {
        "id": "hF5cR2kzw1A-"
      },
      "outputs": [],
      "source": [
        "samples_per_class = 5000\n",
        "no_of_classes = 2"
      ]
    },
    {
      "cell_type": "code",
      "execution_count": 17,
      "metadata": {
        "id": "MzCUizYfw1A_"
      },
      "outputs": [],
      "source": [
        "noise_df = pd.read_csv(\"/content/gdrive/MyDrive/GW_SOP/Code/debugging/Test 8/data/Final_Merged_Noise_Reduced_No_Abs.csv\", header=None)\n",
        "noise = noise_df.values.astype(float)\n",
        "noise = np.repeat(noise, 5000, 0)\n",
        "\n",
        "\n",
        "data_BBH_df = pd.read_csv(\"/content/gdrive/MyDrive/GW_SOP/Code/debugging/Test 8/data/Final_BBH_Merged_Noise_Signal.csv\", header=None)\n",
        "data_BBH = data_BBH_df.values.astype(float)\n",
        "data_BBH = np.repeat(data_BBH, 5000, 0)"
      ]
    },
    {
      "cell_type": "code",
      "execution_count": 18,
      "metadata": {
        "colab": {
          "base_uri": "https://localhost:8080/"
        },
        "id": "kmYHuecJw1BB",
        "outputId": "b7be89ff-5583-4308-a1dc-3740a103b72b"
      },
      "outputs": [
        {
          "output_type": "stream",
          "name": "stdout",
          "text": [
            "1\n",
            "[[ 1.16671203e-19  9.60383138e-19  1.27821489e-18 ... -3.89975850e-19\n",
            "   2.47123742e-18  5.56433426e-19]\n",
            " [ 1.16671203e-19  9.60383138e-19  1.27821489e-18 ... -3.89975850e-19\n",
            "   2.47123742e-18  5.56433426e-19]\n",
            " [ 1.16671203e-19  9.60383138e-19  1.27821489e-18 ... -3.89975850e-19\n",
            "   2.47123742e-18  5.56433426e-19]\n",
            " ...\n",
            " [ 1.16671203e-19  9.60383138e-19  1.27821489e-18 ... -3.89975850e-19\n",
            "   2.47123742e-18  5.56433426e-19]\n",
            " [ 1.16671203e-19  9.60383138e-19  1.27821489e-18 ... -3.89975850e-19\n",
            "   2.47123742e-18  5.56433426e-19]\n",
            " [ 1.16671203e-19  9.60383138e-19  1.27821489e-18 ... -3.89975850e-19\n",
            "   2.47123742e-18  5.56433426e-19]]\n",
            "(10000, 16384)\n"
          ]
        }
      ],
      "source": [
        "X = np.concatenate((noise, data_BBH), axis=0)\n",
        "\n",
        "print(len(noise_df.index))\n",
        "print(X)\n",
        "print(X.shape)"
      ]
    },
    {
      "cell_type": "code",
      "execution_count": 19,
      "metadata": {
        "colab": {
          "base_uri": "https://localhost:8080/"
        },
        "id": "J_dSmj6xw1BE",
        "outputId": "723f58e9-c76e-4a30-c8c7-295434f9a5c3"
      },
      "outputs": [
        {
          "output_type": "stream",
          "name": "stdout",
          "text": [
            "[[1. 0.]\n",
            " [1. 0.]\n",
            " [1. 0.]\n",
            " ...\n",
            " [0. 1.]\n",
            " [0. 1.]\n",
            " [0. 1.]]\n"
          ]
        }
      ],
      "source": [
        "# Alternate way of creating y for the dataset\n",
        " \n",
        "y = [int(i/samples_per_class) for i in range(samples_per_class*no_of_classes)]\n",
        "y = tf.keras.utils.to_categorical(y)\n",
        "print(y)"
      ]
    },
    {
      "cell_type": "code",
      "execution_count": 20,
      "metadata": {
        "colab": {
          "base_uri": "https://localhost:8080/"
        },
        "id": "c9h1LUqxBQgm",
        "outputId": "de026a78-4162-4374-ddd4-2f2b599a1ecb"
      },
      "outputs": [
        {
          "output_type": "stream",
          "name": "stdout",
          "text": [
            "[[ 0.1166712   0.96038314  1.27821489 ... -0.38997585  2.47123742\n",
            "   0.55643343]\n",
            " [ 0.1166712   0.96038314  1.27821489 ... -0.38997585  2.47123742\n",
            "   0.55643343]\n",
            " [ 0.1166712   0.96038314  1.27821489 ... -0.38997585  2.47123742\n",
            "   0.55643343]\n",
            " ...\n",
            " [ 0.1166712   0.96038314  1.27821489 ... -0.38997585  2.47123742\n",
            "   0.55643343]\n",
            " [ 0.1166712   0.96038314  1.27821489 ... -0.38997585  2.47123742\n",
            "   0.55643343]\n",
            " [ 0.1166712   0.96038314  1.27821489 ... -0.38997585  2.47123742\n",
            "   0.55643343]]\n"
          ]
        }
      ],
      "source": [
        "# scaler = StandardScaler()\n",
        "# X = scaler.fit_transform(X)\n",
        "# print(X)\n",
        "\n",
        "# X *= 1e19\n",
        "# print(X)\n",
        "\n",
        "X *= 1e18\n",
        "print(X)"
      ]
    },
    {
      "cell_type": "code",
      "execution_count": 21,
      "metadata": {
        "colab": {
          "base_uri": "https://localhost:8080/"
        },
        "id": "8xirD0GDBQgm",
        "outputId": "32ae42e2-6ce4-4d65-9c81-62be5f15a18b"
      },
      "outputs": [
        {
          "output_type": "stream",
          "name": "stdout",
          "text": [
            "(10000, 16384, 1)\n",
            "[[[ 0.1166712 ]\n",
            "  [ 0.96038314]\n",
            "  [ 1.27821489]\n",
            "  ...\n",
            "  [-0.38997585]\n",
            "  [ 2.47123742]\n",
            "  [ 0.55643343]]\n",
            "\n",
            " [[ 0.1166712 ]\n",
            "  [ 0.96038314]\n",
            "  [ 1.27821489]\n",
            "  ...\n",
            "  [-0.38997585]\n",
            "  [ 2.47123742]\n",
            "  [ 0.55643343]]\n",
            "\n",
            " [[ 0.1166712 ]\n",
            "  [ 0.96038314]\n",
            "  [ 1.27821489]\n",
            "  ...\n",
            "  [-0.38997585]\n",
            "  [ 2.47123742]\n",
            "  [ 0.55643343]]\n",
            "\n",
            " ...\n",
            "\n",
            " [[ 0.1166712 ]\n",
            "  [ 0.96038314]\n",
            "  [ 1.27821489]\n",
            "  ...\n",
            "  [-0.38997585]\n",
            "  [ 2.47123742]\n",
            "  [ 0.55643343]]\n",
            "\n",
            " [[ 0.1166712 ]\n",
            "  [ 0.96038314]\n",
            "  [ 1.27821489]\n",
            "  ...\n",
            "  [-0.38997585]\n",
            "  [ 2.47123742]\n",
            "  [ 0.55643343]]\n",
            "\n",
            " [[ 0.1166712 ]\n",
            "  [ 0.96038314]\n",
            "  [ 1.27821489]\n",
            "  ...\n",
            "  [-0.38997585]\n",
            "  [ 2.47123742]\n",
            "  [ 0.55643343]]]\n"
          ]
        }
      ],
      "source": [
        "X = np.expand_dims(X, axis=-1)\n",
        "print(X.shape)\n",
        "print(X)"
      ]
    },
    {
      "cell_type": "code",
      "execution_count": 22,
      "metadata": {
        "id": "Zxu2uCZyz8kD"
      },
      "outputs": [],
      "source": [
        "X_train, _, y_train, _ = train_test_split(X, y, test_size=1) #, random_state=1"
      ]
    },
    {
      "cell_type": "code",
      "execution_count": 23,
      "metadata": {
        "colab": {
          "base_uri": "https://localhost:8080/"
        },
        "id": "-Cqz7kE80mty",
        "outputId": "30ce0891-b4be-41e3-ab7f-4c942619b567"
      },
      "outputs": [
        {
          "output_type": "stream",
          "name": "stdout",
          "text": [
            "(9999, 16384, 1) (9999, 2)\n"
          ]
        }
      ],
      "source": [
        "print(X_train.shape, y_train.shape)"
      ]
    },
    {
      "cell_type": "code",
      "execution_count": 24,
      "metadata": {
        "id": "01pIkFC6w1BJ"
      },
      "outputs": [],
      "source": [
        "model = Sequential()\n",
        "\n",
        "model.add(Conv1D(16, 16, input_shape = (16384,1)))\n",
        "model.add(MaxPool1D(4, 4))\n",
        "model.add(ReLU())\n",
        "model.add(Conv1D(32, 8))\n",
        "model.add(MaxPool1D(4, 4))\n",
        "model.add(ReLU())\n",
        "model.add(Conv1D(64, 8))\n",
        "model.add(MaxPool1D(4, 4))\n",
        "model.add(ReLU())\n",
        "model.add(Conv1D(128, 8))\n",
        "model.add(MaxPool1D(4, 4))\n",
        "model.add(ReLU())\n",
        "model.add(Flatten())\n",
        "model.add(Dense(7808))\n",
        "model.add(Dense(64, activation='relu'))\n",
        "model.add(Dense(2, activation='sigmoid'))\n",
        "\n",
        "model.compile(optimizer=tf.keras.optimizers.Adam(0.001), loss='binary_crossentropy', metrics=['accuracy'])"
      ]
    },
    {
      "cell_type": "code",
      "execution_count": 25,
      "metadata": {
        "colab": {
          "base_uri": "https://localhost:8080/"
        },
        "id": "qxVd6XC9w1BM",
        "outputId": "b7ee8f88-0e8c-4fd8-c5f9-76c777c73567"
      },
      "outputs": [
        {
          "output_type": "stream",
          "name": "stdout",
          "text": [
            "Epoch 1/5\n",
            "79/79 [==============================] - 11s 133ms/step - loss: 0.8917 - accuracy: 0.4951\n",
            "Epoch 2/5\n",
            "79/79 [==============================] - 10s 130ms/step - loss: 0.4107 - accuracy: 0.8012\n",
            "Epoch 3/5\n",
            "79/79 [==============================] - 10s 131ms/step - loss: 3.5924e-05 - accuracy: 1.0000\n",
            "Epoch 4/5\n",
            "79/79 [==============================] - 10s 131ms/step - loss: 1.3152e-05 - accuracy: 1.0000\n",
            "Epoch 5/5\n",
            "79/79 [==============================] - 10s 131ms/step - loss: 9.0824e-06 - accuracy: 1.0000\n"
          ]
        }
      ],
      "source": [
        "history = model.fit(X_train, y_train, batch_size=128, epochs=5) # tf.nn.sigmoid_cross_entropy_with_logits"
      ]
    },
    {
      "cell_type": "code",
      "execution_count": 26,
      "metadata": {
        "colab": {
          "base_uri": "https://localhost:8080/",
          "height": 295
        },
        "id": "IqssaFdDw1BN",
        "outputId": "bf97e506-ec0e-405a-8f3c-7679535e3c47"
      },
      "outputs": [
        {
          "output_type": "display_data",
          "data": {
            "image/png": "[encoded data removed]",
            "text/plain": [
              "<Figure size 936x288 with 2 Axes>"
            ]
          },
          "metadata": {
            "needs_background": "light"
          }
        }
      ],
      "source": [
        "acc = [0.] + history.history['accuracy']\n",
        "\n",
        "loss = history.history['loss']\n",
        "\n",
        "plt.figure(figsize=(13, 4))\n",
        "plt.subplot(1, 2, 1)\n",
        "plt.plot(acc, label='Training Accuracy')\n",
        "plt.legend(loc='lower right')\n",
        "plt.ylabel('Accuracy')\n",
        "plt.ylim([min(plt.ylim()),1])\n",
        "plt.title('Training Accuracy')\n",
        "plt.xlabel('epoch')\n",
        "\n",
        "plt.subplot(1, 2, 2)\n",
        "plt.plot(loss, label='Training Loss')\n",
        "plt.legend(loc='upper right')\n",
        "plt.ylabel('Categorical Cross Entropy')\n",
        "plt.ylim([0,2])\n",
        "plt.title('Training Loss')\n",
        "plt.xlabel('epoch')\n",
        "plt.show()"
      ]
    },
    {
      "cell_type": "code",
      "execution_count": 27,
      "metadata": {
        "id": "6eyjDO_-Sk9l"
      },
      "outputs": [],
      "source": [
        "# model.save(\"/content/gdrive/MyDrive/GW_SOP/Code/debugging/Trial 1/data/weights_trial_3.h5\")"
      ]
    }
  ],
  "metadata": {
    "accelerator": "GPU",
    "colab": {
      "collapsed_sections": [],
      "name": "test_8.ipynb",
      "provenance": []
    },
    "interpreter": {
      "hash": "8356d31dd4c50017c60d528a0c40a4935f9d791f54e24c10e32e3a312d5b6882"
    },
    "kernelspec": {
      "display_name": "Python 3.7.6 64-bit ('base': conda)",
      "language": "python",
      "name": "python3"
    },
    "language_info": {
      "codemirror_mode": {
        "name": "ipython",
        "version": 3
      },
      "file_extension": ".py",
      "mimetype": "text/x-python",
      "name": "python",
      "nbconvert_exporter": "python",
      "pygments_lexer": "ipython3",
      "version": "3.6.9"
    },
    "orig_nbformat": 4
  },
  "nbformat": 4,
  "nbformat_minor": 0
}