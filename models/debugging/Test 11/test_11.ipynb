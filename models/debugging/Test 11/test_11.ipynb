{
  "cells": [
    {
      "cell_type": "code",
      "execution_count": 1,
      "metadata": {
        "colab": {
          "base_uri": "https://localhost:8080/"
        },
        "id": "Xs_OpQDIxDQW",
        "outputId": "ea990d4d-a793-41f6-ffc2-44351609cfe9"
      },
      "outputs": [
        {
          "output_type": "stream",
          "name": "stdout",
          "text": [
            "Drive already mounted at /content/gdrive; to attempt to forcibly remount, call drive.mount(\"/content/gdrive\", force_remount=True).\n"
          ]
        }
      ],
      "source": [
        "from google.colab import drive\n",
        "drive.mount('/content/gdrive')"
      ]
    },
    {
      "cell_type": "code",
      "execution_count": 2,
      "metadata": {
        "id": "L5inbyEdw1A7"
      },
      "outputs": [],
      "source": [
        "import numpy as np\n",
        "import pandas as pd\n",
        "import matplotlib.pyplot as plt\n",
        "\n",
        "import tensorflow as tf\n",
        "from tensorflow.keras.models import Sequential\n",
        "from tensorflow.keras.layers import Dense, Conv1D, Dropout, MaxPool1D, ReLU, Flatten\n",
        "\n",
        "from sklearn.preprocessing import StandardScaler\n",
        "from sklearn.model_selection import train_test_split"
      ]
    },
    {
      "cell_type": "code",
      "execution_count": 3,
      "metadata": {
        "id": "hF5cR2kzw1A-"
      },
      "outputs": [],
      "source": [
        "samples_per_class = 5000\n",
        "no_of_classes = 2"
      ]
    },
    {
      "cell_type": "code",
      "execution_count": 4,
      "metadata": {
        "id": "MzCUizYfw1A_"
      },
      "outputs": [],
      "source": [
        "noise_df = pd.read_csv(\"/content/gdrive/MyDrive/GW_SOP/Code/debugging/Test 11/data/Final_Merged_Noise_Reduced_No_Abs.csv\", header=None)\n",
        "noise = noise_df.values.astype(float)\n",
        "\n",
        "\n",
        "data_BBH_df = pd.read_csv(\"/content/gdrive/MyDrive/GW_SOP/Code/debugging/Test 11/data/Final_BBH_Merged_Noise_Signal.csv\", header=None)\n",
        "data_BBH = data_BBH_df.values.astype(float)"
      ]
    },
    {
      "cell_type": "code",
      "execution_count": 5,
      "metadata": {
        "colab": {
          "base_uri": "https://localhost:8080/"
        },
        "id": "kmYHuecJw1BB",
        "outputId": "635465ce-a253-4ea9-8afd-26e1527d3c21"
      },
      "outputs": [
        {
          "output_type": "stream",
          "name": "stdout",
          "text": [
            "5000\n",
            "[[ 1.72726218e-18 -6.29223625e-19 -9.49644299e-19 ...  1.32852849e-18\n",
            "  -5.66669186e-19  7.67277727e-19]\n",
            " [-1.82146884e-18 -2.17526967e-19 -1.96052229e-19 ... -3.06629064e-19\n",
            "   8.92959376e-19  2.13581384e-18]\n",
            " [-2.23562421e-18  5.07750062e-20  2.26461631e-19 ... -1.67700752e-18\n",
            "  -1.69574075e-19  1.18380041e-18]\n",
            " ...\n",
            " [ 1.36243078e-18 -9.65661397e-20  1.07372839e-18 ... -3.53820864e-19\n",
            "   1.48567945e-18 -1.61555797e-23]\n",
            " [-1.49971993e-19  6.04602944e-20  2.27004762e-20 ... -1.38428545e-18\n",
            "   1.50436025e-18 -1.25884796e-18]\n",
            " [-1.53482956e-18 -9.96109623e-19  7.26228379e-20 ...  1.31248288e-18\n",
            "  -1.55513456e-18  9.60982345e-19]]\n",
            "(10000, 16384)\n"
          ]
        }
      ],
      "source": [
        "X = np.concatenate((noise, data_BBH), axis=0)\n",
        "\n",
        "print(len(noise_df.index))\n",
        "print(X)\n",
        "print(X.shape)"
      ]
    },
    {
      "cell_type": "code",
      "execution_count": 6,
      "metadata": {
        "colab": {
          "base_uri": "https://localhost:8080/"
        },
        "id": "J_dSmj6xw1BE",
        "outputId": "e213d0a7-56d5-4b58-9214-ad1a63c18707"
      },
      "outputs": [
        {
          "output_type": "stream",
          "name": "stdout",
          "text": [
            "[[1. 0.]\n",
            " [1. 0.]\n",
            " [1. 0.]\n",
            " ...\n",
            " [0. 1.]\n",
            " [0. 1.]\n",
            " [0. 1.]]\n"
          ]
        }
      ],
      "source": [
        "# Alternate way of creating y for the dataset\n",
        " \n",
        "y = [int(i/samples_per_class) for i in range(samples_per_class*no_of_classes)]\n",
        "y = tf.keras.utils.to_categorical(y)\n",
        "print(y)"
      ]
    },
    {
      "cell_type": "code",
      "execution_count": 7,
      "metadata": {
        "colab": {
          "base_uri": "https://localhost:8080/"
        },
        "id": "c9h1LUqxBQgm",
        "outputId": "9cc0060f-cf61-4119-f0cf-81f075d71e26"
      },
      "outputs": [
        {
          "output_type": "stream",
          "name": "stdout",
          "text": [
            "[[ 1.72726218e+00 -6.29223625e-01 -9.49644299e-01 ...  1.32852849e+00\n",
            "  -5.66669186e-01  7.67277727e-01]\n",
            " [-1.82146884e+00 -2.17526967e-01 -1.96052229e-01 ... -3.06629064e-01\n",
            "   8.92959376e-01  2.13581384e+00]\n",
            " [-2.23562421e+00  5.07750062e-02  2.26461631e-01 ... -1.67700752e+00\n",
            "  -1.69574075e-01  1.18380041e+00]\n",
            " ...\n",
            " [ 1.36243078e+00 -9.65661397e-02  1.07372839e+00 ... -3.53820864e-01\n",
            "   1.48567945e+00 -1.61555797e-05]\n",
            " [-1.49971993e-01  6.04602944e-02  2.27004762e-02 ... -1.38428545e+00\n",
            "   1.50436025e+00 -1.25884796e+00]\n",
            " [-1.53482956e+00 -9.96109623e-01  7.26228379e-02 ...  1.31248288e+00\n",
            "  -1.55513456e+00  9.60982345e-01]]\n"
          ]
        }
      ],
      "source": [
        "# scaler = StandardScaler()\n",
        "# X = scaler.fit_transform(X)\n",
        "# print(X)\n",
        "\n",
        "# X *= 1e19\n",
        "# print(X)\n",
        "\n",
        "X *= 1e18\n",
        "print(X)\n",
        "\n",
        "# Z = np.zeros((2, 16384))\n",
        "# Z[0] = X[0]\n",
        "# Z[1] = X[5010]\n",
        "# print(Z)\n",
        "\n",
        "# np.savetxt(\"/content/gdrive/MyDrive/GW_SOP/Code/debugging/Test 2/trial_3_noise.txt\", Z[0])\n",
        "# np.savetxt(\"/content/gdrive/MyDrive/GW_SOP/Code/debugging/Test 2/trial_3_merged.txt\", Z[1])\n",
        "\n",
        "# print(X[0, 501])\n",
        "# print(X[5010, 499])"
      ]
    },
    {
      "cell_type": "code",
      "execution_count": 8,
      "metadata": {
        "colab": {
          "base_uri": "https://localhost:8080/"
        },
        "id": "8xirD0GDBQgm",
        "outputId": "0ea9c0f4-23f3-4496-e9f6-b9f26149d978"
      },
      "outputs": [
        {
          "output_type": "stream",
          "name": "stdout",
          "text": [
            "(10000, 16384, 1)\n",
            "[[[ 1.72726218e+00]\n",
            "  [-6.29223625e-01]\n",
            "  [-9.49644299e-01]\n",
            "  ...\n",
            "  [ 1.32852849e+00]\n",
            "  [-5.66669186e-01]\n",
            "  [ 7.67277727e-01]]\n",
            "\n",
            " [[-1.82146884e+00]\n",
            "  [-2.17526967e-01]\n",
            "  [-1.96052229e-01]\n",
            "  ...\n",
            "  [-3.06629064e-01]\n",
            "  [ 8.92959376e-01]\n",
            "  [ 2.13581384e+00]]\n",
            "\n",
            " [[-2.23562421e+00]\n",
            "  [ 5.07750062e-02]\n",
            "  [ 2.26461631e-01]\n",
            "  ...\n",
            "  [-1.67700752e+00]\n",
            "  [-1.69574075e-01]\n",
            "  [ 1.18380041e+00]]\n",
            "\n",
            " ...\n",
            "\n",
            " [[ 1.36243078e+00]\n",
            "  [-9.65661397e-02]\n",
            "  [ 1.07372839e+00]\n",
            "  ...\n",
            "  [-3.53820864e-01]\n",
            "  [ 1.48567945e+00]\n",
            "  [-1.61555797e-05]]\n",
            "\n",
            " [[-1.49971993e-01]\n",
            "  [ 6.04602944e-02]\n",
            "  [ 2.27004762e-02]\n",
            "  ...\n",
            "  [-1.38428545e+00]\n",
            "  [ 1.50436025e+00]\n",
            "  [-1.25884796e+00]]\n",
            "\n",
            " [[-1.53482956e+00]\n",
            "  [-9.96109623e-01]\n",
            "  [ 7.26228379e-02]\n",
            "  ...\n",
            "  [ 1.31248288e+00]\n",
            "  [-1.55513456e+00]\n",
            "  [ 9.60982345e-01]]]\n"
          ]
        }
      ],
      "source": [
        "X = np.expand_dims(X, axis=-1)\n",
        "print(X.shape)\n",
        "print(X)"
      ]
    },
    {
      "cell_type": "code",
      "execution_count": 9,
      "metadata": {
        "id": "Zxu2uCZyz8kD"
      },
      "outputs": [],
      "source": [
        "X_train, _, y_train, _ = train_test_split(X, y, test_size=1) #, random_state=1"
      ]
    },
    {
      "cell_type": "code",
      "execution_count": 10,
      "metadata": {
        "colab": {
          "base_uri": "https://localhost:8080/"
        },
        "id": "-Cqz7kE80mty",
        "outputId": "52562600-de91-46a3-8fd1-b84311f141ae"
      },
      "outputs": [
        {
          "output_type": "stream",
          "name": "stdout",
          "text": [
            "(9999, 16384, 1) (9999, 2)\n"
          ]
        }
      ],
      "source": [
        "print(X_train.shape, y_train.shape)"
      ]
    },
    {
      "cell_type": "code",
      "execution_count": 11,
      "metadata": {
        "id": "01pIkFC6w1BJ"
      },
      "outputs": [],
      "source": [
        "model = Sequential()\n",
        "\n",
        "model.add(Conv1D(16, 16, input_shape = (16384,1)))\n",
        "model.add(MaxPool1D(4, 4))\n",
        "model.add(ReLU())\n",
        "model.add(Conv1D(32, 8))\n",
        "model.add(MaxPool1D(4, 4))\n",
        "model.add(ReLU())\n",
        "model.add(Conv1D(64, 8))\n",
        "model.add(MaxPool1D(4, 4))\n",
        "model.add(ReLU())\n",
        "model.add(Conv1D(128, 8))\n",
        "model.add(MaxPool1D(4, 4))\n",
        "model.add(ReLU())\n",
        "model.add(Flatten())\n",
        "model.add(Dense(7808))\n",
        "model.add(Dense(64, activation='relu'))\n",
        "model.add(Dense(2, activation='sigmoid'))\n",
        "\n",
        "model.compile(optimizer=tf.keras.optimizers.Adam(0.001), loss='binary_crossentropy', metrics=['accuracy'])"
      ]
    },
    {
      "cell_type": "code",
      "execution_count": 12,
      "metadata": {
        "colab": {
          "base_uri": "https://localhost:8080/"
        },
        "id": "qxVd6XC9w1BM",
        "outputId": "6bcc1e79-9a71-486b-f22d-8874274048f0"
      },
      "outputs": [
        {
          "output_type": "stream",
          "name": "stdout",
          "text": [
            "Epoch 1/5\n",
            "79/79 [==============================] - 21s 143ms/step - loss: 0.6061 - accuracy: 0.7365\n",
            "Epoch 2/5\n",
            "79/79 [==============================] - 11s 143ms/step - loss: 0.0049 - accuracy: 0.9984\n",
            "Epoch 3/5\n",
            "79/79 [==============================] - 11s 143ms/step - loss: 0.0010 - accuracy: 0.9996\n",
            "Epoch 4/5\n",
            "79/79 [==============================] - 11s 143ms/step - loss: 4.9740e-04 - accuracy: 0.9999\n",
            "Epoch 5/5\n",
            "79/79 [==============================] - 11s 143ms/step - loss: 6.9783e-05 - accuracy: 1.0000\n"
          ]
        }
      ],
      "source": [
        "history = model.fit(X_train, y_train, batch_size=128, epochs=5) # tf.nn.sigmoid_cross_entropy_with_logits"
      ]
    },
    {
      "cell_type": "code",
      "execution_count": 13,
      "metadata": {
        "colab": {
          "base_uri": "https://localhost:8080/",
          "height": 295
        },
        "id": "IqssaFdDw1BN",
        "outputId": "5c4d41dd-82c9-473b-d550-6ddd732a0273"
      },
      "outputs": [
        {
          "output_type": "display_data",
          "data": {
            "image/png": "[encoded data removed]",
            "text/plain": [
              "<Figure size 936x288 with 2 Axes>"
            ]
          },
          "metadata": {
            "needs_background": "light"
          }
        }
      ],
      "source": [
        "acc = [0.] + history.history['accuracy']\n",
        "\n",
        "loss = history.history['loss']\n",
        "\n",
        "plt.figure(figsize=(13, 4))\n",
        "plt.subplot(1, 2, 1)\n",
        "plt.plot(acc, label='Training Accuracy')\n",
        "plt.legend(loc='lower right')\n",
        "plt.ylabel('Accuracy')\n",
        "plt.ylim([min(plt.ylim()),1])\n",
        "plt.title('Training Accuracy')\n",
        "plt.xlabel('epoch')\n",
        "\n",
        "plt.subplot(1, 2, 2)\n",
        "plt.plot(loss, label='Training Loss')\n",
        "plt.legend(loc='upper right')\n",
        "plt.ylabel('Categorical Cross Entropy')\n",
        "plt.ylim([0,2])\n",
        "plt.title('Training Loss')\n",
        "plt.xlabel('epoch')\n",
        "plt.show()"
      ]
    },
    {
      "cell_type": "code",
      "execution_count": 15,
      "metadata": {
        "id": "6eyjDO_-Sk9l"
      },
      "outputs": [],
      "source": [
        "# model.save(\"/content/gdrive/MyDrive/GW_SOP/Code/debugging/Test 11/data/weights_trial_2.h5\")"
      ]
    }
  ],
  "metadata": {
    "accelerator": "GPU",
    "colab": {
      "collapsed_sections": [],
      "name": "test_11.ipynb",
      "provenance": []
    },
    "interpreter": {
      "hash": "8356d31dd4c50017c60d528a0c40a4935f9d791f54e24c10e32e3a312d5b6882"
    },
    "kernelspec": {
      "display_name": "Python 3.7.6 64-bit ('base': conda)",
      "language": "python",
      "name": "python3"
    },
    "language_info": {
      "codemirror_mode": {
        "name": "ipython",
        "version": 3
      },
      "file_extension": ".py",
      "mimetype": "text/x-python",
      "name": "python",
      "nbconvert_exporter": "python",
      "pygments_lexer": "ipython3",
      "version": "3.6.9"
    },
    "orig_nbformat": 4
  },
  "nbformat": 4,
  "nbformat_minor": 0
}