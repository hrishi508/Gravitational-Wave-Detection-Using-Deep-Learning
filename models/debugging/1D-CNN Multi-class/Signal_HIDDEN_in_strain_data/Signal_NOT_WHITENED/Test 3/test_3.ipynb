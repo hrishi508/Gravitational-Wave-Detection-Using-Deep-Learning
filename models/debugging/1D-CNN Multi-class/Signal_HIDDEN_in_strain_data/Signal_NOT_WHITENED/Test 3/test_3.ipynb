{
  "cells": [
    {
      "cell_type": "code",
      "execution_count": null,
      "metadata": {
        "colab": {
          "base_uri": "https://localhost:8080/"
        },
        "id": "Xs_OpQDIxDQW",
        "outputId": "41aa5af7-e8ea-4ee8-cd6e-7c5068e7e60d"
      },
      "outputs": [],
      "source": [
        "from google.colab import drive\n",
        "drive.mount('/content/gdrive')"
      ]
    },
    {
      "cell_type": "code",
      "execution_count": null,
      "metadata": {
        "id": "L5inbyEdw1A7"
      },
      "outputs": [],
      "source": [
        "import numpy as np\n",
        "import pandas as pd\n",
        "import matplotlib.pyplot as plt\n",
        "\n",
        "import tensorflow as tf\n",
        "from tensorflow.keras.models import Sequential\n",
        "from tensorflow.keras.layers import Dense, Conv1D, Dropout, MaxPool1D, ReLU, Flatten\n",
        "\n",
        "from sklearn.metrics import f1_score\n",
        "from sklearn.metrics import recall_score\n",
        "from sklearn.metrics import precision_score\n",
        "from sklearn.metrics import confusion_matrix\n",
        "from sklearn.preprocessing import StandardScaler\n",
        "from sklearn.model_selection import train_test_split\n",
        "from sklearn.metrics import confusion_matrix, ConfusionMatrixDisplay"
      ]
    },
    {
      "cell_type": "code",
      "execution_count": null,
      "metadata": {
        "id": "hF5cR2kzw1A-"
      },
      "outputs": [],
      "source": [
        "samples_per_class = 5000\n",
        "no_of_classes = 3\n",
        "directory = \"/content/gdrive/MyDrive/GW_SOP/Code/debugging/1D-CNN Multi-class/Signal_HIDDEN_in_strain_data/Signal_NOT_WHITENED/Test 3/data/\""
      ]
    },
    {
      "cell_type": "code",
      "execution_count": null,
      "metadata": {
        "id": "MzCUizYfw1A_"
      },
      "outputs": [],
      "source": [
        "noise_df = pd.read_csv(directory + \"Final_Merged_Noise_Reduced_No_Abs.csv\", header=None)\n",
        "noise = noise_df.values.astype(float)\n",
        "noise = np.repeat(noise, 5000, 0)\n",
        "\n",
        "\n",
        "data_BBH_df = pd.read_csv(directory + \"Final_BBH_Merged_Noise_Signal.csv\", header=None)\n",
        "data_BBH = data_BBH_df.values.astype(float)\n",
        "\n",
        "\n",
        "data_BNS_df = pd.read_csv(directory + \"Final_BNS_Merged_Noise_Signal.csv\", header=None)\n",
        "data_BNS = data_BNS_df.values.astype(float)"
      ]
    },
    {
      "cell_type": "code",
      "execution_count": null,
      "metadata": {
        "colab": {
          "base_uri": "https://localhost:8080/"
        },
        "id": "kmYHuecJw1BB",
        "outputId": "91538ee9-b772-4e61-a06c-295e9c91165b"
      },
      "outputs": [],
      "source": [
        "X = np.concatenate((noise, data_BBH, data_BNS), axis=0)\n",
        "print(X.shape)"
      ]
    },
    {
      "cell_type": "code",
      "execution_count": null,
      "metadata": {
        "colab": {
          "base_uri": "https://localhost:8080/"
        },
        "id": "J_dSmj6xw1BE",
        "outputId": "4ddc530f-2826-4450-addf-f9b427a776bc"
      },
      "outputs": [],
      "source": [
        "y = [int(i/samples_per_class) for i in range(samples_per_class*no_of_classes)]\n",
        "y = tf.keras.utils.to_categorical(y)\n",
        "print(y)"
      ]
    },
    {
      "cell_type": "code",
      "execution_count": null,
      "metadata": {
        "colab": {
          "base_uri": "https://localhost:8080/"
        },
        "id": "c9h1LUqxBQgm",
        "outputId": "1ecd88bd-478e-400f-b08d-3e25724be418"
      },
      "outputs": [],
      "source": [
        "X *= 1e19\n",
        "print(X)\n",
        "\n",
        "# X *= 1e18\n",
        "# print(X)\n",
        "\n",
        "# X *= 1e17\n",
        "# print(X)"
      ]
    },
    {
      "cell_type": "code",
      "execution_count": null,
      "metadata": {
        "colab": {
          "base_uri": "https://localhost:8080/"
        },
        "id": "8xirD0GDBQgm",
        "outputId": "43bfd95c-cd81-45c9-e6c6-186de667b701"
      },
      "outputs": [],
      "source": [
        "X = np.expand_dims(X, axis=-1)\n",
        "print(X.shape)"
      ]
    },
    {
      "cell_type": "code",
      "execution_count": null,
      "metadata": {
        "id": "Zxu2uCZyz8kD"
      },
      "outputs": [],
      "source": [
        "X_train, _, y_train, _ = train_test_split(X, y, test_size=1)"
      ]
    },
    {
      "cell_type": "code",
      "execution_count": null,
      "metadata": {
        "colab": {
          "base_uri": "https://localhost:8080/"
        },
        "id": "-Cqz7kE80mty",
        "outputId": "a1c6b69d-5905-42cb-f336-b14913d31476"
      },
      "outputs": [],
      "source": [
        "print(X_train.shape, y_train.shape)"
      ]
    },
    {
      "cell_type": "code",
      "execution_count": null,
      "metadata": {
        "id": "01pIkFC6w1BJ"
      },
      "outputs": [],
      "source": [
        "model = Sequential()\n",
        "\n",
        "model.add(Conv1D(16, 16, input_shape = (16384,1)))\n",
        "model.add(MaxPool1D(4, 4))\n",
        "model.add(ReLU())\n",
        "model.add(Conv1D(32, 8))\n",
        "model.add(MaxPool1D(4, 4))\n",
        "model.add(ReLU())\n",
        "model.add(Conv1D(64, 8))\n",
        "model.add(MaxPool1D(4, 4))\n",
        "model.add(ReLU())\n",
        "model.add(Conv1D(128, 8))\n",
        "model.add(MaxPool1D(4, 4))\n",
        "model.add(ReLU())\n",
        "model.add(Flatten())\n",
        "model.add(Dense(64, activation='relu'))\n",
        "model.add(Dense(3, activation=tf.nn.softmax))\n",
        "\n",
        "model.compile(optimizer=tf.keras.optimizers.Adam(0.001), loss='categorical_crossentropy', metrics=['accuracy'])"
      ]
    },
    {
      "cell_type": "code",
      "execution_count": null,
      "metadata": {
        "colab": {
          "base_uri": "https://localhost:8080/"
        },
        "id": "qxVd6XC9w1BM",
        "outputId": "5892e04a-bddb-4019-a9a0-f9c03276c81f"
      },
      "outputs": [],
      "source": [
        "history = model.fit(X_train, y_train, batch_size=128, epochs=5)"
      ]
    },
    {
      "cell_type": "code",
      "execution_count": null,
      "metadata": {
        "colab": {
          "base_uri": "https://localhost:8080/",
          "height": 295
        },
        "id": "IqssaFdDw1BN",
        "outputId": "c6647578-bca2-4ee9-8374-ce9a4e97b763"
      },
      "outputs": [],
      "source": [
        "acc = [0.] + history.history['accuracy']\n",
        "\n",
        "loss = history.history['loss']\n",
        "\n",
        "plt.figure(figsize=(13, 4))\n",
        "plt.subplot(1, 2, 1)\n",
        "plt.plot(acc, label='Training Accuracy')\n",
        "plt.legend(loc='lower right')\n",
        "plt.ylabel('Accuracy')\n",
        "plt.ylim([min(plt.ylim()),1])\n",
        "plt.title('Training Accuracy')\n",
        "plt.xlabel('epoch')\n",
        "\n",
        "plt.subplot(1, 2, 2)\n",
        "plt.plot(loss, label='Training Loss')\n",
        "plt.legend(loc='upper right')\n",
        "plt.ylabel('Categorical Cross Entropy')\n",
        "plt.ylim([0,2])\n",
        "plt.title('Training Loss')\n",
        "plt.xlabel('epoch')\n",
        "plt.show()"
      ]
    },
    {
      "cell_type": "code",
      "execution_count": null,
      "metadata": {
        "colab": {
          "base_uri": "https://localhost:8080/",
          "height": 334
        },
        "id": "rm720erevzt2",
        "outputId": "bee3adbe-01c1-45fa-cb4f-04bfbbb75af5"
      },
      "outputs": [],
      "source": [
        "pred = model.predict(X)\n",
        "y_pred = np.argmax(pred, axis = 1)\n",
        "y_true = np.argmax(y, axis = 1)\n",
        "\n",
        "cm = confusion_matrix(y_true, y_pred, labels=[0, 1, 2])\n",
        "disp = ConfusionMatrixDisplay(confusion_matrix=cm, display_labels=[0, 1, 2])\n",
        "disp.plot()\n",
        "plt.show()\n",
        "\n",
        "precision = np.diag(cm) / np.sum(cm, axis = 0)\n",
        "precision = sum(precision)/3\n",
        "print('Precision: %.3f' % precision)\n",
        "\n",
        "recall = np.diag(cm) / np.sum(cm, axis = 1)\n",
        "recall = sum(recall)/3\n",
        "print('Recall: %.3f' % recall)\n",
        "\n",
        "score = (2*precision*recall)/(precision + recall)\n",
        "print('F1-Score: %.3f' % score)"
      ]
    },
    {
      "cell_type": "code",
      "execution_count": null,
      "metadata": {
        "id": "hxcfN_t-1a8L"
      },
      "outputs": [],
      "source": [
        "# model.save(directory + \"model_trial_1.h5\")"
      ]
    }
  ],
  "metadata": {
    "accelerator": "GPU",
    "colab": {
      "collapsed_sections": [],
      "name": "test_3.ipynb",
      "provenance": []
    },
    "interpreter": {
      "hash": "8356d31dd4c50017c60d528a0c40a4935f9d791f54e24c10e32e3a312d5b6882"
    },
    "kernelspec": {
      "display_name": "Python 3.7.6 64-bit ('base': conda)",
      "language": "python",
      "name": "python3"
    },
    "language_info": {
      "codemirror_mode": {
        "name": "ipython",
        "version": 3
      },
      "file_extension": ".py",
      "mimetype": "text/x-python",
      "name": "python",
      "nbconvert_exporter": "python",
      "pygments_lexer": "ipython3",
      "version": "3.6.9"
    },
    "orig_nbformat": 4
  },
  "nbformat": 4,
  "nbformat_minor": 0
}
