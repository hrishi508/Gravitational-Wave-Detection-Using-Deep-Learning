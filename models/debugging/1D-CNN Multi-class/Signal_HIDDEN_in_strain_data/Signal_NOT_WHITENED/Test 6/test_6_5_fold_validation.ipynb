{
  "cells": [
    {
      "cell_type": "code",
      "execution_count": null,
      "metadata": {
        "colab": {
          "base_uri": "https://localhost:8080/"
        },
        "id": "Xs_OpQDIxDQW",
        "outputId": "aae2408e-9f35-4a60-ecbd-a08857830f93"
      },
      "outputs": [
        {
          "output_type": "stream",
          "name": "stdout",
          "text": [
            "Mounted at /content/gdrive\n"
          ]
        }
      ],
      "source": [
        "from google.colab import drive\n",
        "drive.mount('/content/gdrive')"
      ]
    },
    {
      "cell_type": "code",
      "execution_count": null,
      "metadata": {
        "id": "L5inbyEdw1A7"
      },
      "outputs": [],
      "source": [
        "import numpy as np\n",
        "import pandas as pd\n",
        "import matplotlib.pyplot as plt\n",
        "\n",
        "import tensorflow as tf\n",
        "from tensorflow.keras.models import Sequential\n",
        "from tensorflow.keras.layers import Dense, Conv1D, Dropout, MaxPool1D, ReLU, Flatten\n",
        "\n",
        "from sklearn.metrics import f1_score\n",
        "from sklearn.metrics import recall_score\n",
        "from sklearn.model_selection import KFold\n",
        "from sklearn.metrics import precision_score\n",
        "from sklearn.metrics import confusion_matrix\n",
        "from sklearn.preprocessing import StandardScaler\n",
        "from sklearn.model_selection import train_test_split\n",
        "from sklearn.metrics import confusion_matrix, ConfusionMatrixDisplay"
      ]
    },
    {
      "cell_type": "code",
      "execution_count": null,
      "metadata": {
        "id": "hF5cR2kzw1A-"
      },
      "outputs": [],
      "source": [
        "samples_per_class = 5000\n",
        "no_of_classes = 3\n",
        "directory = \"/content/gdrive/MyDrive/GW_SOP/Code/debugging/1D-CNN Multi-class/Signal_HIDDEN_in_strain_data/Signal_NOT_WHITENED/Test 6/data/\""
      ]
    },
    {
      "cell_type": "code",
      "execution_count": null,
      "metadata": {
        "id": "MzCUizYfw1A_"
      },
      "outputs": [],
      "source": [
        "noise_df = pd.read_csv(directory + \"Final_Merged_Noise_Reduced_No_Abs.csv\", header=None)\n",
        "noise = noise_df.values.astype(float)\n",
        "\n",
        "\n",
        "data_BBH_df = pd.read_csv(directory + \"Final_BBH_Merged_Noise_Signal.csv\", header=None)\n",
        "data_BBH = data_BBH_df.values.astype(float)\n",
        "\n",
        "\n",
        "data_BNS_df = pd.read_csv(directory + \"Final_BNS_Merged_Noise_Signal.csv\", header=None)\n",
        "data_BNS = data_BNS_df.values.astype(float)"
      ]
    },
    {
      "cell_type": "code",
      "execution_count": null,
      "metadata": {
        "colab": {
          "base_uri": "https://localhost:8080/"
        },
        "id": "kmYHuecJw1BB",
        "outputId": "8f5d7759-fc87-47e2-9b37-539c162b760d"
      },
      "outputs": [
        {
          "output_type": "stream",
          "name": "stdout",
          "text": [
            "(15000, 16384)\n"
          ]
        }
      ],
      "source": [
        "X = np.concatenate((noise, data_BBH, data_BNS), axis=0)\n",
        "print(X.shape)"
      ]
    },
    {
      "cell_type": "code",
      "execution_count": null,
      "metadata": {
        "colab": {
          "base_uri": "https://localhost:8080/"
        },
        "id": "J_dSmj6xw1BE",
        "outputId": "93beb4c1-bf73-4224-a19e-b48e91045565"
      },
      "outputs": [
        {
          "output_type": "stream",
          "name": "stdout",
          "text": [
            "(15000, 3)\n"
          ]
        }
      ],
      "source": [
        "y = [int(i/samples_per_class) for i in range(samples_per_class*no_of_classes)]\n",
        "y = tf.keras.utils.to_categorical(y)\n",
        "print(y.shape)"
      ]
    },
    {
      "cell_type": "code",
      "execution_count": null,
      "metadata": {
        "id": "3znlGoBgnUU1"
      },
      "outputs": [],
      "source": [
        "noise_df = None\n",
        "data_BBH_df = None\n",
        "data_BNS_df = None\n",
        "noise = None\n",
        "data_BBH = None\n",
        "data_BNS = None"
      ]
    },
    {
      "cell_type": "code",
      "execution_count": null,
      "metadata": {
        "colab": {
          "base_uri": "https://localhost:8080/"
        },
        "id": "c9h1LUqxBQgm",
        "outputId": "a13885f9-3f8d-4f19-8848-328d97f3fd42"
      },
      "outputs": [
        {
          "output_type": "stream",
          "name": "stdout",
          "text": [
            "[[ 10.0967559    0.56100488 -14.33332478 ...   3.65024835  -6.80468349\n",
            "   -1.2230794 ]\n",
            " [ 13.5703948    2.73670314   5.13716903 ...   3.73636182   2.11860661\n",
            "   11.95962345]\n",
            " [  4.60036313  -7.6890466   -4.15652743 ...   2.2452566  -19.18039608\n",
            "    8.37687697]\n",
            " ...\n",
            " [ -3.13692053 -10.98723892   6.34641087 ...  -9.49925242   2.16307671\n",
            "    9.36604751]\n",
            " [ 12.26392328   3.64449773   4.26997316 ...   5.95122168 -15.82681966\n",
            "   -3.74686382]\n",
            " [ -7.76381547   9.54680483 -16.34790561 ...  -4.04401764  11.51300387\n",
            "    1.68102185]]\n"
          ]
        }
      ],
      "source": [
        "X *= 1e19\n",
        "print(X)\n",
        "\n",
        "# X *= 1e18\n",
        "# print(X)\n",
        "\n",
        "# X *= 1e17\n",
        "# print(X)"
      ]
    },
    {
      "cell_type": "code",
      "execution_count": null,
      "metadata": {
        "colab": {
          "base_uri": "https://localhost:8080/"
        },
        "id": "8xirD0GDBQgm",
        "outputId": "1aaa9579-1f9a-4e26-9a48-7fafd90a3023"
      },
      "outputs": [
        {
          "output_type": "stream",
          "name": "stdout",
          "text": [
            "(15000, 16384, 1)\n"
          ]
        }
      ],
      "source": [
        "X = np.expand_dims(X, axis=-1)\n",
        "print(X.shape)"
      ]
    },
    {
      "cell_type": "code",
      "execution_count": null,
      "metadata": {
        "id": "01pIkFC6w1BJ"
      },
      "outputs": [],
      "source": [
        "def create_model():    \n",
        "    model = Sequential()\n",
        "\n",
        "    model.add(Conv1D(16, 16, input_shape = (16384,1)))\n",
        "    model.add(MaxPool1D(4, 4))\n",
        "    model.add(ReLU())\n",
        "    model.add(Conv1D(32, 8))\n",
        "    model.add(MaxPool1D(4, 4))\n",
        "    model.add(ReLU())\n",
        "    model.add(Conv1D(64, 8))\n",
        "    model.add(MaxPool1D(4, 4))\n",
        "    model.add(ReLU())\n",
        "    model.add(Conv1D(128, 8))\n",
        "    model.add(MaxPool1D(4, 4))\n",
        "    model.add(ReLU())\n",
        "    model.add(Flatten())\n",
        "    model.add(Dense(64, activation='relu'))\n",
        "    model.add(Dense(3, activation=tf.nn.softmax))\n",
        "\n",
        "    model.compile(optimizer=tf.keras.optimizers.Adam(0.001), loss='categorical_crossentropy', metrics=['accuracy'])\n",
        "\n",
        "    return model"
      ]
    },
    {
      "cell_type": "code",
      "execution_count": null,
      "metadata": {
        "colab": {
          "base_uri": "https://localhost:8080/"
        },
        "id": "itdIDW8hat5I",
        "outputId": "fffa6ccd-5325-483b-d808-97d17e3c2ac3"
      },
      "outputs": [
        {
          "output_type": "stream",
          "name": "stdout",
          "text": [
            "Epoch 1/5\n",
            "94/94 [==============================] - 23s 134ms/step - loss: 1.3483 - accuracy: 0.3873\n",
            "Epoch 2/5\n",
            "94/94 [==============================] - 12s 129ms/step - loss: 0.4500 - accuracy: 0.8109\n",
            "Epoch 3/5\n",
            "94/94 [==============================] - 12s 129ms/step - loss: 0.0029 - accuracy: 0.9992\n",
            "Epoch 4/5\n",
            "94/94 [==============================] - 12s 129ms/step - loss: 0.0011 - accuracy: 0.9997\n",
            "Epoch 5/5\n",
            "94/94 [==============================] - 12s 129ms/step - loss: 0.0060 - accuracy: 0.9974\n",
            "---------------------------------------------------------------------------------------------------------\n",
            "Epoch 1/5\n",
            "94/94 [==============================] - 13s 129ms/step - loss: 1.4299 - accuracy: 0.4086\n",
            "Epoch 2/5\n",
            "94/94 [==============================] - 12s 127ms/step - loss: 0.4886 - accuracy: 0.6882\n",
            "Epoch 3/5\n",
            "94/94 [==============================] - 12s 127ms/step - loss: 0.4337 - accuracy: 0.7568\n",
            "Epoch 4/5\n",
            "94/94 [==============================] - 12s 127ms/step - loss: 0.3016 - accuracy: 0.8756\n",
            "Epoch 5/5\n",
            "94/94 [==============================] - 12s 127ms/step - loss: 0.0186 - accuracy: 0.9953\n",
            "---------------------------------------------------------------------------------------------------------\n",
            "Epoch 1/5\n",
            "94/94 [==============================] - 13s 127ms/step - loss: 1.5599 - accuracy: 0.3773\n",
            "Epoch 2/5\n",
            "94/94 [==============================] - 12s 127ms/step - loss: 0.4453 - accuracy: 0.8073\n",
            "Epoch 3/5\n",
            "94/94 [==============================] - 12s 128ms/step - loss: 0.0267 - accuracy: 0.9927\n",
            "Epoch 4/5\n",
            "94/94 [==============================] - 12s 127ms/step - loss: 0.0096 - accuracy: 0.9971\n",
            "Epoch 5/5\n",
            "94/94 [==============================] - 12s 127ms/step - loss: 0.0076 - accuracy: 0.9982\n",
            "---------------------------------------------------------------------------------------------------------\n",
            "Epoch 1/5\n",
            "94/94 [==============================] - 13s 127ms/step - loss: 1.4304 - accuracy: 0.4396\n",
            "Epoch 2/5\n",
            "94/94 [==============================] - 12s 128ms/step - loss: 0.4088 - accuracy: 0.8058\n",
            "Epoch 3/5\n",
            "94/94 [==============================] - 12s 127ms/step - loss: 0.0386 - accuracy: 0.9918\n",
            "Epoch 4/5\n",
            "94/94 [==============================] - 12s 127ms/step - loss: 0.0068 - accuracy: 0.9983\n",
            "Epoch 5/5\n",
            "94/94 [==============================] - 12s 127ms/step - loss: 0.0031 - accuracy: 0.9996\n",
            "---------------------------------------------------------------------------------------------------------\n",
            "Epoch 1/5\n",
            "94/94 [==============================] - 13s 127ms/step - loss: 1.7051 - accuracy: 0.3291\n",
            "Epoch 2/5\n",
            "94/94 [==============================] - 12s 127ms/step - loss: 1.0986 - accuracy: 0.3342\n",
            "Epoch 3/5\n",
            "94/94 [==============================] - 12s 126ms/step - loss: 1.0986 - accuracy: 0.3342\n",
            "Epoch 4/5\n",
            "94/94 [==============================] - 12s 126ms/step - loss: 1.0986 - accuracy: 0.3342\n",
            "Epoch 5/5\n",
            "94/94 [==============================] - 12s 127ms/step - loss: 1.0986 - accuracy: 0.3342\n",
            "---------------------------------------------------------------------------------------------------------\n"
          ]
        }
      ],
      "source": [
        "N_splits = 5\n",
        "n_epochs = 5\n",
        "\n",
        "kf = KFold(n_splits = N_splits, shuffle = True)\n",
        "acc = [0 for i in range(n_epochs+1)]\n",
        "loss = [0 for i in range(n_epochs)]\n",
        "precision = 0\n",
        "recall = 0\n",
        "score = 0\n",
        "cm = np.zeros((3,3))\n",
        "\n",
        "for train_index, test_index in kf.split(X):\n",
        "    \n",
        "    X_train, X_test = X[train_index], X[test_index]\n",
        "    y_train, y_test = y[train_index], y[test_index]\n",
        "\n",
        "    # print(X_train.shape, y_train.shape, X_test.shape, y_test.shape)\n",
        "    # print(y_train)\n",
        "    # print(y_test)\n",
        "\n",
        "    model = create_model()\n",
        "    history = model.fit(X_train, y_train, batch_size=128, epochs=n_epochs)\n",
        "\n",
        "    print(\"---------------------------------------------------------------------------------------------------------\")\n",
        "\n",
        "    tmp_acc = history.history['accuracy']\n",
        "    tmp_loss = history.history['loss']\n",
        "\n",
        "    for i in range(n_epochs):\n",
        "        acc[i+1] += tmp_acc[i]\n",
        "        loss[i] += tmp_loss[i]\n",
        "\n",
        "    pred = model.predict(X_test)\n",
        "    y_pred = np.argmax(pred, axis = 1)\n",
        "    y_true = np.argmax(y_test, axis = 1)\n",
        "\n",
        "    cm = np.add(cm, confusion_matrix(y_true, y_pred, labels=[0, 1, 2]))\n",
        "\n",
        "    model = None\n",
        "    X_train, X_test = None, None\n",
        "    y_train, y_test = None, None\n",
        "    pred, y_pred, y_true = None, None, None    \n",
        "    history = None"
      ]
    },
    {
      "cell_type": "code",
      "execution_count": null,
      "metadata": {
        "colab": {
          "base_uri": "https://localhost:8080/",
          "height": 346
        },
        "id": "zlsTBrdIat5K",
        "outputId": "33132db6-549b-479a-c4a6-2422d190153a"
      },
      "outputs": [
        {
          "output_type": "stream",
          "name": "stdout",
          "text": [
            "Accuracy: 0.865\n",
            "Precision: 0.904\n",
            "Recall: 0.866\n",
            "F1-Score: 0.884\n"
          ]
        },
        {
          "output_type": "display_data",
          "data": {
            "image/png": "[encoded data removed]",
            "text/plain": [
              "<Figure size 432x288 with 2 Axes>"
            ]
          },
          "metadata": {
            "needs_background": "light"
          }
        }
      ],
      "source": [
        "final_accuracy = acc[n_epochs]/N_splits\n",
        "\n",
        "precision = np.diag(cm) / np.sum(cm, axis = 0)\n",
        "precision = sum(precision)/3\n",
        "\n",
        "recall = np.diag(cm) / np.sum(cm, axis = 1)\n",
        "recall = sum(recall)/3\n",
        "\n",
        "score = (2*precision*recall)/(precision + recall)\n",
        "\n",
        "final_cm = cm/N_splits\n",
        "\n",
        "\n",
        "\n",
        "print('Accuracy: %.3f' % final_accuracy)\n",
        "print('Precision: %.3f' % precision)\n",
        "print('Recall: %.3f' % recall)\n",
        "print('F1-Score: %.3f' % score)\n",
        "\n",
        "disp = ConfusionMatrixDisplay(confusion_matrix=final_cm, display_labels=[0, 1])\n",
        "disp.plot()\n",
        "plt.show()"
      ]
    },
    {
      "cell_type": "code",
      "execution_count": null,
      "metadata": {
        "colab": {
          "base_uri": "https://localhost:8080/",
          "height": 295
        },
        "id": "IqssaFdDw1BN",
        "outputId": "7974fbc5-8959-4fe3-d76d-5d32b8d7a389"
      },
      "outputs": [
        {
          "output_type": "display_data",
          "data": {
            "image/png": "[encoded data removed]",
            "text/plain": [
              "<Figure size 936x288 with 2 Axes>"
            ]
          },
          "metadata": {
            "needs_background": "light"
          }
        }
      ],
      "source": [
        "acc_1 = [acc[i]/N_splits for i in range(n_epochs+1)]\n",
        "loss_1 = [loss[i]/N_splits for i in range(n_epochs)]\n",
        "\n",
        "plt.figure(figsize=(13, 4))\n",
        "plt.subplot(1, 2, 1)\n",
        "plt.plot(acc_1, label='Training Accuracy')\n",
        "plt.legend(loc='lower right')\n",
        "plt.ylabel('Accuracy')\n",
        "plt.ylim([min(plt.ylim()),1])\n",
        "plt.title('Training Accuracy')\n",
        "plt.xlabel('epoch')\n",
        "\n",
        "plt.subplot(1, 2, 2)\n",
        "plt.plot(loss_1, label='Training Loss')\n",
        "plt.legend(loc='upper right')\n",
        "plt.ylabel('Categorical Cross Entropy')\n",
        "plt.ylim([0,2])\n",
        "plt.title('Training Loss')\n",
        "plt.xlabel('epoch')\n",
        "plt.show()"
      ]
    }
  ],
  "metadata": {
    "accelerator": "GPU",
    "colab": {
      "collapsed_sections": [],
      "name": "test_6_5_fold_validation.ipynb",
      "provenance": []
    },
    "interpreter": {
      "hash": "8356d31dd4c50017c60d528a0c40a4935f9d791f54e24c10e32e3a312d5b6882"
    },
    "kernelspec": {
      "display_name": "Python 3.7.6 64-bit ('base': conda)",
      "language": "python",
      "name": "python3"
    },
    "language_info": {
      "codemirror_mode": {
        "name": "ipython",
        "version": 3
      },
      "file_extension": ".py",
      "mimetype": "text/x-python",
      "name": "python",
      "nbconvert_exporter": "python",
      "pygments_lexer": "ipython3",
      "version": "3.6.9"
    },
    "orig_nbformat": 4
  },
  "nbformat": 4,
  "nbformat_minor": 0
}