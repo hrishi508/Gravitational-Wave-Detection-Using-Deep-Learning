{
  "cells": [
    {
      "cell_type": "code",
      "execution_count": null,
      "metadata": {
        "colab": {
          "base_uri": "https://localhost:8080/"
        },
        "id": "Xs_OpQDIxDQW",
        "outputId": "851b7458-a0b4-43c4-e909-b30bd5627e40"
      },
      "outputs": [
        {
          "output_type": "stream",
          "name": "stdout",
          "text": [
            "Drive already mounted at /content/gdrive; to attempt to forcibly remount, call drive.mount(\"/content/gdrive\", force_remount=True).\n"
          ]
        }
      ],
      "source": [
        "from google.colab import drive\n",
        "drive.mount('/content/gdrive')"
      ]
    },
    {
      "cell_type": "code",
      "execution_count": null,
      "metadata": {
        "id": "L5inbyEdw1A7"
      },
      "outputs": [],
      "source": [
        "import numpy as np\n",
        "import pandas as pd\n",
        "import matplotlib.pyplot as plt\n",
        "\n",
        "import tensorflow as tf\n",
        "from tensorflow.keras.models import Sequential\n",
        "from tensorflow.keras.layers import Dense, Conv1D, Dropout, MaxPool1D, ReLU, Flatten\n",
        "\n",
        "from sklearn.metrics import f1_score\n",
        "from sklearn.metrics import recall_score\n",
        "from sklearn.model_selection import KFold\n",
        "from sklearn.metrics import precision_score\n",
        "from sklearn.metrics import confusion_matrix\n",
        "from sklearn.preprocessing import StandardScaler\n",
        "from sklearn.model_selection import train_test_split\n",
        "from sklearn.metrics import confusion_matrix, ConfusionMatrixDisplay"
      ]
    },
    {
      "cell_type": "code",
      "execution_count": null,
      "metadata": {
        "id": "hF5cR2kzw1A-"
      },
      "outputs": [],
      "source": [
        "samples_per_class = 5000\n",
        "no_of_classes = 3\n",
        "directory = \"/content/gdrive/MyDrive/GW_SOP/Code/debugging/1D-CNN Multi-class/Signal_HIDDEN_in_strain_data/Signal_NOT_WHITENED/Test 5/data/\""
      ]
    },
    {
      "cell_type": "code",
      "execution_count": null,
      "metadata": {
        "id": "MzCUizYfw1A_"
      },
      "outputs": [],
      "source": [
        "noise_df = pd.read_csv(directory + \"Final_Merged_Noise_Reduced_No_Abs.csv\", header=None)\n",
        "noise = noise_df.values.astype(float)\n",
        "\n",
        "\n",
        "data_BBH_df = pd.read_csv(directory + \"Final_BBH_Merged_Noise_Signal.csv\", header=None)\n",
        "data_BBH = data_BBH_df.values.astype(float)\n",
        "\n",
        "\n",
        "data_BNS_df = pd.read_csv(directory + \"Final_BNS_Merged_Noise_Signal.csv\", header=None)\n",
        "data_BNS = data_BNS_df.values.astype(float)"
      ]
    },
    {
      "cell_type": "code",
      "execution_count": null,
      "metadata": {
        "colab": {
          "base_uri": "https://localhost:8080/"
        },
        "id": "kmYHuecJw1BB",
        "outputId": "eeff699a-7173-4e46-875d-0fa63de579f3"
      },
      "outputs": [
        {
          "output_type": "stream",
          "name": "stdout",
          "text": [
            "(15000, 16384)\n"
          ]
        }
      ],
      "source": [
        "X = np.concatenate((noise, data_BBH, data_BNS), axis=0)\n",
        "print(X.shape)"
      ]
    },
    {
      "cell_type": "code",
      "execution_count": null,
      "metadata": {
        "colab": {
          "base_uri": "https://localhost:8080/"
        },
        "id": "J_dSmj6xw1BE",
        "outputId": "d8eeede0-759b-47e2-dc75-8471ab162f43"
      },
      "outputs": [
        {
          "output_type": "stream",
          "name": "stdout",
          "text": [
            "(15000, 3)\n"
          ]
        }
      ],
      "source": [
        "y = [int(i/samples_per_class) for i in range(samples_per_class*no_of_classes)]\n",
        "y = tf.keras.utils.to_categorical(y)\n",
        "print(y.shape)"
      ]
    },
    {
      "cell_type": "code",
      "execution_count": null,
      "metadata": {
        "id": "q-J7O94YnWk4"
      },
      "outputs": [],
      "source": [
        "noise_df = None\n",
        "data_BBH_df = None\n",
        "data_BNS_df = None\n",
        "noise = None\n",
        "data_BBH = None\n",
        "data_BNS = None"
      ]
    },
    {
      "cell_type": "code",
      "execution_count": null,
      "metadata": {
        "colab": {
          "base_uri": "https://localhost:8080/"
        },
        "id": "c9h1LUqxBQgm",
        "outputId": "c5c79cdb-2ecc-4c8b-8b5f-5ece7660fb86"
      },
      "outputs": [
        {
          "output_type": "stream",
          "name": "stdout",
          "text": [
            "[[ 0.08654734 -0.04327294 -0.03265259 ...  0.00832924 -0.03529911\n",
            "  -0.07598452]\n",
            " [ 0.03877031 -0.05713159  0.10085915 ...  0.10263685  0.17052503\n",
            "   0.0023558 ]\n",
            " [ 0.04728862  0.13643112 -0.09263726 ... -0.11817854 -0.14404436\n",
            "  -0.07499238]\n",
            " ...\n",
            " [-0.01368278  0.03321312 -0.01453072 ... -0.03260145  0.1401822\n",
            "   0.02996138]\n",
            " [ 0.03975944 -0.05797626  0.01941073 ... -0.00382522  0.12784471\n",
            "   0.03861407]\n",
            " [-0.17359331  0.02044404 -0.0930678  ...  0.00537131 -0.05985259\n",
            "   0.01002358]]\n"
          ]
        }
      ],
      "source": [
        "X *= 1e19\n",
        "print(X)\n",
        "\n",
        "# X *= 1e18\n",
        "# print(X)\n",
        "\n",
        "# X *= 1e17\n",
        "# print(X)"
      ]
    },
    {
      "cell_type": "code",
      "execution_count": null,
      "metadata": {
        "colab": {
          "base_uri": "https://localhost:8080/"
        },
        "id": "8xirD0GDBQgm",
        "outputId": "3d467a97-7b23-4434-d76a-6f98416e75ff"
      },
      "outputs": [
        {
          "output_type": "stream",
          "name": "stdout",
          "text": [
            "(15000, 16384, 1)\n"
          ]
        }
      ],
      "source": [
        "X = np.expand_dims(X, axis=-1)\n",
        "print(X.shape)"
      ]
    },
    {
      "cell_type": "code",
      "execution_count": null,
      "metadata": {
        "id": "01pIkFC6w1BJ"
      },
      "outputs": [],
      "source": [
        "def create_model():    \n",
        "    model = Sequential()\n",
        "\n",
        "    model.add(Conv1D(16, 16, input_shape = (16384,1)))\n",
        "    model.add(MaxPool1D(4, 4))\n",
        "    model.add(ReLU())\n",
        "    model.add(Conv1D(32, 8))\n",
        "    model.add(MaxPool1D(4, 4))\n",
        "    model.add(ReLU())\n",
        "    model.add(Conv1D(64, 8))\n",
        "    model.add(MaxPool1D(4, 4))\n",
        "    model.add(ReLU())\n",
        "    model.add(Conv1D(128, 8))\n",
        "    model.add(MaxPool1D(4, 4))\n",
        "    model.add(ReLU())\n",
        "    model.add(Flatten())\n",
        "    model.add(Dense(64, activation='relu'))\n",
        "    model.add(Dense(3, activation=tf.nn.softmax))\n",
        "\n",
        "    model.compile(optimizer=tf.keras.optimizers.Adam(0.001), loss='categorical_crossentropy', metrics=['accuracy'])\n",
        "\n",
        "    return model"
      ]
    },
    {
      "cell_type": "code",
      "execution_count": null,
      "metadata": {
        "colab": {
          "base_uri": "https://localhost:8080/"
        },
        "id": "itdIDW8hat5I",
        "outputId": "ad98042d-2c90-4d3e-a6c4-b45e41fc7f9d"
      },
      "outputs": [
        {
          "output_type": "stream",
          "name": "stdout",
          "text": [
            "Epoch 1/10\n",
            "79/79 [==============================] - 21s 141ms/step - loss: 1.1365 - accuracy: 0.3285\n",
            "Epoch 2/10\n",
            "79/79 [==============================] - 11s 138ms/step - loss: 1.0989 - accuracy: 0.3331\n",
            "Epoch 3/10\n",
            "79/79 [==============================] - 11s 137ms/step - loss: 1.0986 - accuracy: 0.3368\n",
            "Epoch 4/10\n",
            "79/79 [==============================] - 11s 138ms/step - loss: 1.0986 - accuracy: 0.3396\n",
            "Epoch 5/10\n",
            "79/79 [==============================] - 11s 138ms/step - loss: 1.0986 - accuracy: 0.3396\n",
            "Epoch 6/10\n",
            "79/79 [==============================] - 11s 138ms/step - loss: 1.0985 - accuracy: 0.3396\n",
            "Epoch 7/10\n",
            "79/79 [==============================] - 11s 138ms/step - loss: 1.0986 - accuracy: 0.3396\n",
            "Epoch 8/10\n",
            "79/79 [==============================] - 11s 139ms/step - loss: 1.0986 - accuracy: 0.3396\n",
            "Epoch 9/10\n",
            "79/79 [==============================] - 11s 138ms/step - loss: 1.0985 - accuracy: 0.3396\n",
            "Epoch 10/10\n",
            "79/79 [==============================] - 11s 138ms/step - loss: 1.0986 - accuracy: 0.3396\n",
            "---------------------------------------------------------------------------------------------------------\n",
            "Epoch 1/10\n",
            "79/79 [==============================] - 12s 141ms/step - loss: 1.1449 - accuracy: 0.3309\n",
            "Epoch 2/10\n",
            "79/79 [==============================] - 11s 141ms/step - loss: 1.0983 - accuracy: 0.3487\n",
            "Epoch 3/10\n",
            "79/79 [==============================] - 11s 140ms/step - loss: 1.0986 - accuracy: 0.3295\n",
            "Epoch 4/10\n",
            "79/79 [==============================] - 11s 139ms/step - loss: 1.0986 - accuracy: 0.3332\n",
            "Epoch 5/10\n",
            "79/79 [==============================] - 11s 139ms/step - loss: 1.0986 - accuracy: 0.3331\n",
            "Epoch 6/10\n",
            "79/79 [==============================] - 11s 139ms/step - loss: 1.0986 - accuracy: 0.3330\n",
            "Epoch 7/10\n",
            "79/79 [==============================] - 11s 140ms/step - loss: 1.0986 - accuracy: 0.3338\n",
            "Epoch 8/10\n",
            "79/79 [==============================] - 11s 140ms/step - loss: 1.0989 - accuracy: 0.3343\n",
            "Epoch 9/10\n",
            "79/79 [==============================] - 11s 139ms/step - loss: 1.0986 - accuracy: 0.3369\n",
            "Epoch 10/10\n",
            "79/79 [==============================] - 11s 137ms/step - loss: 1.0986 - accuracy: 0.3376\n",
            "---------------------------------------------------------------------------------------------------------\n",
            "Epoch 1/10\n",
            "79/79 [==============================] - 12s 141ms/step - loss: 1.1321 - accuracy: 0.3413\n",
            "Epoch 2/10\n",
            "79/79 [==============================] - 11s 141ms/step - loss: 0.8378 - accuracy: 0.5239\n",
            "Epoch 3/10\n",
            "79/79 [==============================] - 11s 140ms/step - loss: 0.4763 - accuracy: 0.6638\n",
            "Epoch 4/10\n",
            "79/79 [==============================] - 11s 140ms/step - loss: 0.4656 - accuracy: 0.6617\n",
            "Epoch 5/10\n",
            "79/79 [==============================] - 11s 140ms/step - loss: 0.4634 - accuracy: 0.6650\n",
            "Epoch 6/10\n",
            "79/79 [==============================] - 11s 140ms/step - loss: 0.4664 - accuracy: 0.6750\n",
            "Epoch 7/10\n",
            "79/79 [==============================] - 11s 140ms/step - loss: 0.4628 - accuracy: 0.6674\n",
            "Epoch 8/10\n",
            "79/79 [==============================] - 11s 140ms/step - loss: 0.4639 - accuracy: 0.6621\n",
            "Epoch 9/10\n",
            "79/79 [==============================] - 11s 140ms/step - loss: 0.4639 - accuracy: 0.6695\n",
            "Epoch 10/10\n",
            "79/79 [==============================] - 11s 140ms/step - loss: 0.5211 - accuracy: 0.6632\n",
            "---------------------------------------------------------------------------------------------------------\n"
          ]
        }
      ],
      "source": [
        "N_splits = 5\n",
        "n_epochs = 5\n",
        "\n",
        "kf = KFold(n_splits = N_splits, shuffle = True)\n",
        "acc = [0 for i in range(n_epochs+1)]\n",
        "loss = [0 for i in range(n_epochs)]\n",
        "precision = 0\n",
        "recall = 0\n",
        "score = 0\n",
        "cm = np.zeros((3,3))\n",
        "\n",
        "for train_index, test_index in kf.split(X):\n",
        "    \n",
        "    X_train, X_test = X[train_index], X[test_index]\n",
        "    y_train, y_test = y[train_index], y[test_index]\n",
        "\n",
        "    # print(X_train.shape, y_train.shape, X_test.shape, y_test.shape)\n",
        "    # print(y_train)\n",
        "    # print(y_test)\n",
        "\n",
        "    model = create_model()\n",
        "    history = model.fit(X_train, y_train, batch_size=128, epochs=n_epochs)\n",
        "\n",
        "    print(\"---------------------------------------------------------------------------------------------------------\")\n",
        "\n",
        "    tmp_acc = history.history['accuracy']\n",
        "    tmp_loss = history.history['loss']\n",
        "\n",
        "    for i in range(n_epochs):\n",
        "        acc[i+1] += tmp_acc[i]\n",
        "        loss[i] += tmp_loss[i]\n",
        "\n",
        "    pred = model.predict(X_test)\n",
        "    y_pred = np.argmax(pred, axis = 1)\n",
        "    y_true = np.argmax(y_test, axis = 1)\n",
        "\n",
        "    cm = np.add(cm, confusion_matrix(y_true, y_pred, labels=[0, 1, 2]))\n",
        "\n",
        "    model = None\n",
        "    X_train, X_test = None, None\n",
        "    y_train, y_test = None, None\n",
        "    pred, y_pred, y_true = None, None, None    \n",
        "    history = None"
      ]
    },
    {
      "cell_type": "code",
      "execution_count": null,
      "metadata": {
        "colab": {
          "base_uri": "https://localhost:8080/",
          "height": 380
        },
        "id": "zlsTBrdIat5K",
        "outputId": "e4835033-6055-4ef3-b449-7a64ed9c3b67"
      },
      "outputs": [
        {
          "output_type": "stream",
          "name": "stderr",
          "text": [
            "/usr/local/lib/python3.7/dist-packages/ipykernel_launcher.py:3: RuntimeWarning: invalid value encountered in true_divide\n",
            "  This is separate from the ipykernel package so we can avoid doing imports until\n"
          ]
        },
        {
          "output_type": "stream",
          "name": "stdout",
          "text": [
            "Accuracy: 0.447\n",
            "Precision: nan\n",
            "Recall: 0.326\n",
            "F1-Score: nan\n"
          ]
        },
        {
          "output_type": "display_data",
          "data": {
            "image/png": "[encoded data removed]",
            "text/plain": [
              "<Figure size 432x288 with 2 Axes>"
            ]
          },
          "metadata": {
            "needs_background": "light"
          }
        }
      ],
      "source": [
        "final_accuracy = acc[n_epochs]/N_splits\n",
        "\n",
        "precision = np.diag(cm) / np.sum(cm, axis = 0)\n",
        "precision = sum(precision)/3\n",
        "\n",
        "recall = np.diag(cm) / np.sum(cm, axis = 1)\n",
        "recall = sum(recall)/3\n",
        "\n",
        "score = (2*precision*recall)/(precision + recall)\n",
        "\n",
        "final_cm = cm/N_splits\n",
        "\n",
        "\n",
        "\n",
        "print('Accuracy: %.3f' % final_accuracy)\n",
        "print('Precision: %.3f' % precision)\n",
        "print('Recall: %.3f' % recall)\n",
        "print('F1-Score: %.3f' % score)\n",
        "\n",
        "disp = ConfusionMatrixDisplay(confusion_matrix=final_cm, display_labels=[0, 1])\n",
        "disp.plot()\n",
        "plt.show()"
      ]
    },
    {
      "cell_type": "code",
      "execution_count": null,
      "metadata": {
        "colab": {
          "base_uri": "https://localhost:8080/",
          "height": 295
        },
        "id": "IqssaFdDw1BN",
        "outputId": "4a1140e8-f8b2-4bf7-9d15-cf14997f851a"
      },
      "outputs": [
        {
          "output_type": "display_data",
          "data": {
            "image/png": "[encoded data removed]",
            "text/plain": [
              "<Figure size 936x288 with 2 Axes>"
            ]
          },
          "metadata": {
            "needs_background": "light"
          }
        }
      ],
      "source": [
        "acc_1 = [acc[i]/N_splits for i in range(n_epochs+1)]\n",
        "loss_1 = [loss[i]/N_splits for i in range(n_epochs)]\n",
        "\n",
        "plt.figure(figsize=(13, 4))\n",
        "plt.subplot(1, 2, 1)\n",
        "plt.plot(acc_1, label='Training Accuracy')\n",
        "plt.legend(loc='lower right')\n",
        "plt.ylabel('Accuracy')\n",
        "plt.ylim([min(plt.ylim()),1])\n",
        "plt.title('Training Accuracy')\n",
        "plt.xlabel('epoch')\n",
        "\n",
        "plt.subplot(1, 2, 2)\n",
        "plt.plot(loss_1, label='Training Loss')\n",
        "plt.legend(loc='upper right')\n",
        "plt.ylabel('Categorical Cross Entropy')\n",
        "plt.ylim([0,2])\n",
        "plt.title('Training Loss')\n",
        "plt.xlabel('epoch')\n",
        "plt.show()"
      ]
    }
  ],
  "metadata": {
    "accelerator": "GPU",
    "colab": {
      "collapsed_sections": [],
      "name": "test_5_5_fold_validation.ipynb",
      "provenance": []
    },
    "interpreter": {
      "hash": "8356d31dd4c50017c60d528a0c40a4935f9d791f54e24c10e32e3a312d5b6882"
    },
    "kernelspec": {
      "display_name": "Python 3.7.6 64-bit ('base': conda)",
      "language": "python",
      "name": "python3"
    },
    "language_info": {
      "codemirror_mode": {
        "name": "ipython",
        "version": 3
      },
      "file_extension": ".py",
      "mimetype": "text/x-python",
      "name": "python",
      "nbconvert_exporter": "python",
      "pygments_lexer": "ipython3",
      "version": "3.6.9"
    },
    "orig_nbformat": 4
  },
  "nbformat": 4,
  "nbformat_minor": 0
}