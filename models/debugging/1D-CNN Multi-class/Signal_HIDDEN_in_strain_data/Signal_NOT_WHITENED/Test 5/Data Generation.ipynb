{
 "cells": [
  {
   "cell_type": "code",
   "execution_count": 1,
   "metadata": {},
   "outputs": [],
   "source": [
    "from pycbc import distributions\n",
    "from pycbc.waveform import get_td_waveform\n",
    "import matplotlib.pyplot as plt\n",
    "import numpy as np\n",
    "import pylab\n",
    "from tqdm.notebook import tqdm\n",
    "from gwpy.timeseries import TimeSeries\n",
    "import pandas as pd\n",
    "import os\n",
    "import csv"
   ]
  },
  {
   "cell_type": "code",
   "execution_count": 6,
   "metadata": {},
   "outputs": [
    {
     "name": "stdout",
     "output_type": "stream",
     "text": [
      "Generated Binary Mass Distributions for BBH\n",
      "Generated Binary Mass Distributions for BNS\n"
     ]
    }
   ],
   "source": [
    "print(\"Generated Binary Mass Distributions for BBH\")\n",
    "bbh_two_mass_distributions = distributions.Uniform(mass1=(10, 50),\n",
    "                                               mass2=(10, 50))\n",
    "\n",
    "bbh_two_mass_samples = bbh_two_mass_distributions.rvs(size=5000)\n",
    "\n",
    "print(\"Generated Binary Mass Distributions for BNS\")\n",
    "bns_two_mass_distributions = distributions.Uniform(mass1=(1, 2),\n",
    "                                               mass2=(1, 2))\n",
    "\n",
    "bns_two_mass_samples = bns_two_mass_distributions.rvs(size=5000)"
   ]
  },
  {
   "cell_type": "code",
   "execution_count": 8,
   "metadata": {},
   "outputs": [
    {
     "data": {
      "application/vnd.jupyter.widget-view+json": {
       "model_id": "a59782a1600a4a29a62c71dfbb382794",
       "version_major": 2,
       "version_minor": 0
      },
      "text/plain": [
       "  0%|          | 0/1 [00:00<?, ?it/s]"
      ]
     },
     "metadata": {},
     "output_type": "display_data"
    }
   ],
   "source": [
    "start_times_bbh = [0, 0.5, 1, 1.5, 2, 2.5, 3, 3.5]\n",
    "start_times_bns = [0, 0.5, 1, 1.5, 2, 2.5, 3]\n",
    "\n",
    "for i in tqdm(range(len(bbh_two_mass_samples))):\n",
    "\n",
    "    hp1, hc1 = get_td_waveform(approximant=\"SEOBNRv2\",                                \n",
    "                         mass1=bbh_two_mass_samples[i][0],\n",
    "                         mass2=bbh_two_mass_samples[i][1],\n",
    "                         delta_t=1.0/4096,\n",
    "                         f_lower=40)\n",
    "\n",
    "\n",
    "    hp2, hc2 = get_td_waveform(approximant=\"IMRPhenomPv2_NRTidal\", \n",
    "                         mass1=bns_two_mass_samples[i][0],\n",
    "                         mass2=bns_two_mass_samples[i][1],\n",
    "                         delta_t=1.0/4096,\n",
    "                         f_lower=40)\n",
    "    \n",
    "\n",
    "    bbh_signal = TimeSeries.from_pycbc(hp1)\n",
    "    st1 = np.random.randint(0, 8)\n",
    "    bbh_signal.t0 = start_times_bbh[st1]\n",
    "    bbh_signal = (bbh_signal/(max(bbh_signal.max(), np.abs(bbh_signal.min()))))*0.2\n",
    "\n",
    "\n",
    "    # Extract the last 1 sec from the BNS signal\n",
    "    t = hp2.get_end_time()\n",
    "    hp2 = hp2.time_slice(t-1, t)\n",
    "\n",
    "    bns_signal = TimeSeries.from_pycbc(hp2)\n",
    "    st2 = np.random.randint(0, 7)\n",
    "    bns_signal.t0 = start_times_bns[st2]\n",
    "    bns_signal = bns_signal.taper()\n",
    "    bns_signal = (bns_signal/(max(bns_signal.max(), np.abs(bns_signal.min()))))*0.2\n",
    "\n",
    "    noise = TimeSeries(np.random.normal(scale=.1, size=16384), sample_rate=4096)\n",
    "\n",
    "\n",
    "    data1 = noise.inject(bbh_signal)\n",
    "    data2 = noise.inject(bns_signal)\n",
    "\n",
    "    data1 *= 1e-17\n",
    "    data2 *= 1e-17\n",
    "    noise *= 1e-17\n",
    "    \n",
    "    data1.write(\"data/bbh_merged/bbh_merged_noise_signal_\"+str(i)+\".txt\")\n",
    "    data2.write(\"data/bns_merged/bns_merged_noise_signal_\"+str(i)+\".txt\")\n",
    "    noise.write(\"data/noise/noise_\"+str(i)+\".txt\")\n"
   ]
  },
  {
   "cell_type": "code",
   "execution_count": 4,
   "metadata": {},
   "outputs": [
    {
     "data": {
      "application/vnd.jupyter.widget-view+json": {
       "model_id": "dbd19196b1aa4728ae78676dd10ab8ea",
       "version_major": 2,
       "version_minor": 0
      },
      "text/plain": [
       "  0%|          | 0/5000 [00:00<?, ?it/s]"
      ]
     },
     "metadata": {},
     "output_type": "display_data"
    }
   ],
   "source": [
    "# MERGING BBH NOISE + SIgnal Templates into single file\n",
    "\n",
    "path = \"data/bbh_merged/\"\n",
    "files= os.listdir(path)\n",
    "f = open('data/Final_BBH_Merged_Noise_Signal.csv', 'w')\n",
    "cw = csv.writer(f)\n",
    "\n",
    "for i in tqdm(files):\n",
    "    df = pd.read_csv(path+i,sep = ' ', header=None)\n",
    "    c = df[:][1]\n",
    "    cw.writerow(c)\n",
    "f.close()"
   ]
  },
  {
   "cell_type": "code",
   "execution_count": 5,
   "metadata": {},
   "outputs": [
    {
     "data": {
      "application/vnd.jupyter.widget-view+json": {
       "model_id": "5b0d726f35ba42d499e24249fb575a4c",
       "version_major": 2,
       "version_minor": 0
      },
      "text/plain": [
       "  0%|          | 0/5000 [00:00<?, ?it/s]"
      ]
     },
     "metadata": {},
     "output_type": "display_data"
    }
   ],
   "source": [
    "# MERGING BNS NOISE + SIgnal Templates into single file\n",
    "\n",
    "path = \"data/bns_merged/\"\n",
    "files= os.listdir(path)\n",
    "f = open('data/Final_BNS_Merged_Noise_Signal.csv', 'w')\n",
    "cw = csv.writer(f)\n",
    "\n",
    "for i in tqdm(files):\n",
    "    df = pd.read_csv(path+i,sep = ' ', header=None)\n",
    "    c = df[:][1]\n",
    "    cw.writerow(c)\n",
    "f.close()"
   ]
  },
  {
   "cell_type": "code",
   "execution_count": 2,
   "metadata": {},
   "outputs": [
    {
     "data": {
      "application/vnd.jupyter.widget-view+json": {
       "model_id": "320e2b98e4664fe08cc7f3dc217a6cca",
       "version_major": 2,
       "version_minor": 0
      },
      "text/plain": [
       "  0%|          | 0/5000 [00:00<?, ?it/s]"
      ]
     },
     "metadata": {},
     "output_type": "display_data"
    }
   ],
   "source": [
    "# MERGING NOISE Templates into single file\n",
    "\n",
    "path_1 = \"data/noise/\"\n",
    "files_1= os.listdir(path_1)\n",
    "f1 = open('data/Final_Merged_Noise_Reduced_No_Abs.csv', 'w')\n",
    "cw_1 = csv.writer(f1)\n",
    "\n",
    "for i in tqdm(files_1):\n",
    "    #print(files)\n",
    "    df = pd.read_csv(path_1+i,sep = ' ', header=None)\n",
    "    c = df[:][1]\n",
    "    cw_1.writerow(c)\n",
    "f1.close()"
   ]
  },
  {
   "cell_type": "code",
   "execution_count": 3,
   "metadata": {},
   "outputs": [
    {
     "data": {
      "application/vnd.jupyter.widget-view+json": {
       "model_id": "bffe5ef57bf3438dbd089ba324667f8d",
       "version_major": 2,
       "version_minor": 0
      },
      "text/plain": [
       "  0%|          | 0/5000 [00:00<?, ?it/s]"
      ]
     },
     "metadata": {},
     "output_type": "display_data"
    }
   ],
   "source": [
    "# # Alternate\n",
    "# start_times_bbh = [0, 0.5, 1, 1.5, 2, 2.5, 3, 3.5]\n",
    "# start_times_bns = [0, 0.5, 1, 1.5, 2, 2.5, 3]\n",
    "\n",
    "# for i in tqdm(range(5000)):\n",
    "\n",
    "#     bbh_signal = TimeSeries.read(\"data/bbh_signal/bbh_merged_signal_\"+str(i)+\".txt\")\n",
    "#     st1 = np.random.randint(0, 8)\n",
    "#     bbh_signal.t0 = start_times_bbh[st1]\n",
    "#     bbh_signal = (bbh_signal/(max(bbh_signal.max(), np.abs(bbh_signal.min()))))*0.2\n",
    "\n",
    "\n",
    "#     bns_signal = TimeSeries.read(\"data/bns_signal/bns_signal_\"+str(i)+\".txt\")\n",
    "#     st2 = np.random.randint(0, 7)\n",
    "#     bns_signal.t0 = start_times_bns[st2]\n",
    "#     bns_signal = bns_signal.taper()\n",
    "#     bns_signal = (bns_signal/(max(bns_signal.max(), np.abs(bns_signal.min()))))*0.2\n",
    "\n",
    "#     noise = TimeSeries(np.random.normal(scale=.1, size=16384), sample_rate=4096)\n",
    "\n",
    "\n",
    "#     data1 = noise.inject(bbh_signal)\n",
    "#     data2 = noise.inject(bns_signal)\n",
    "\n",
    "#     data1 *= 1e-17\n",
    "#     data2 *= 1e-17\n",
    "#     noise *= 1e-17\n",
    "    \n",
    "#     data1.write(\"data/bbh_merged/bbh_merged_noise_signal_\"+str(i)+\".txt\")\n",
    "#     data2.write(\"data/bns_merged/bns_merged_noise_signal_\"+str(i)+\".txt\")\n",
    "#     noise.write(\"data/noise/noise_\"+str(i)+\".txt\")"
   ]
  }
 ],
 "metadata": {
  "kernelspec": {
   "display_name": "Python 3",
   "language": "python",
   "name": "python3"
  },
  "language_info": {
   "codemirror_mode": {
    "name": "ipython",
    "version": 3
   },
   "file_extension": ".py",
   "mimetype": "text/x-python",
   "name": "python",
   "nbconvert_exporter": "python",
   "pygments_lexer": "ipython3",
   "version": "3.6.9"
  }
 },
 "nbformat": 4,
 "nbformat_minor": 4
}
