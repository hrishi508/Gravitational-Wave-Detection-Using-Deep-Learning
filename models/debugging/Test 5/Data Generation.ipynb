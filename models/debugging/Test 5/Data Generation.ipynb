{
 "cells": [
  {
   "cell_type": "code",
   "execution_count": 2,
   "metadata": {},
   "outputs": [],
   "source": [
    "from pycbc import distributions\n",
    "from pycbc.waveform import get_td_waveform\n",
    "import matplotlib.pyplot as plt\n",
    "import numpy as np\n",
    "import pylab\n",
    "from tqdm.notebook import tqdm\n",
    "from gwpy.timeseries import TimeSeries\n",
    "import pandas as pd\n",
    "import os\n",
    "import csv"
   ]
  },
  {
   "cell_type": "code",
   "execution_count": 3,
   "metadata": {},
   "outputs": [
    {
     "name": "stdout",
     "output_type": "stream",
     "text": [
      "Generated Binary Mass Distributions for BBH\n"
     ]
    }
   ],
   "source": [
    "\n",
    "print(\"Generated Binary Mass Distributions for BBH\")\n",
    "\n",
    "bbh_two_mass_distributions = distributions.Uniform(mass1=(10, 50),\n",
    "                                               mass2=(10, 50))\n",
    "\n",
    "bbh_two_mass_samples = bbh_two_mass_distributions.rvs(size=1)"
   ]
  },
  {
   "cell_type": "code",
   "execution_count": 4,
   "metadata": {},
   "outputs": [
    {
     "name": "stdout",
     "output_type": "stream",
     "text": [
      "Using Binary Mass Distributions to generate BBH waveforms\n",
      "Generating BBH Waveforms, Noise and Merging them together and writing into disk, it may take few minutes...\n"
     ]
    }
   ],
   "source": [
    "print(\"Using Binary Mass Distributions to generate BBH waveforms\")\n",
    "print(\"Generating BBH Waveforms, Noise and Merging them together and writing into disk, it may take few minutes...\")\n",
    "\n",
    "hp, hc = get_td_waveform(approximant=\"SEOBNRv2\",                                \n",
    "                         mass1=bbh_two_mass_samples[0][0],\n",
    "                         mass2=bbh_two_mass_samples[0][1],\n",
    "                         delta_t=1.0/4096,\n",
    "                         f_lower=40)\n",
    "\n",
    "st = 1\n",
    "signal = TimeSeries.from_pycbc(hp)\n",
    "signal.t0 = st\n"
   ]
  },
  {
   "cell_type": "code",
   "execution_count": 6,
   "metadata": {},
   "outputs": [
    {
     "data": {
      "application/vnd.jupyter.widget-view+json": {
       "model_id": "2911f127bd9446dab78cea2bd6a15676",
       "version_major": 2,
       "version_minor": 0
      },
      "text/plain": [
       "  0%|          | 0/5000 [00:00<?, ?it/s]"
      ]
     },
     "metadata": {},
     "output_type": "display_data"
    }
   ],
   "source": [
    "for i in tqdm(range(5000)):\n",
    "\n",
    "    noise = TimeSeries(np.random.normal(scale=.1, size=16384), sample_rate=4096) \n",
    "    noise= noise*1e-18\n",
    "       \n",
    "    noise.write(\"data/noise/noise_\"+str(i)+\".txt\")\n",
    "    \n",
    "    data = noise.inject(signal)\n",
    "    \n",
    "    data.write(\"data/merged/bbh_merged_noise_signal_\"+str(i)+\".txt\")"
   ]
  },
  {
   "cell_type": "code",
   "execution_count": 7,
   "metadata": {},
   "outputs": [
    {
     "data": {
      "application/vnd.jupyter.widget-view+json": {
       "model_id": "474c21a4bf224ea7844bc7ce73100933",
       "version_major": 2,
       "version_minor": 0
      },
      "text/plain": [
       "  0%|          | 0/5000 [00:00<?, ?it/s]"
      ]
     },
     "metadata": {},
     "output_type": "display_data"
    }
   ],
   "source": [
    "# MERGING NOISE + SIgnal Templates into single file\n",
    "\n",
    "\n",
    "#for i in tqdm(range(5)):\n",
    "path = \"data/merged/\"\n",
    "files= os.listdir(path)\n",
    "f = open('data/Final_BBH_Merged_Noise_Signal.csv', 'w')\n",
    "cw = csv.writer(f)\n",
    "\n",
    "for i in tqdm(files):\n",
    "    df = pd.read_csv(path+i,sep = ' ', header=None)\n",
    "    c = df[:][1]\n",
    "    cw.writerow(c)\n",
    "f.close()"
   ]
  },
  {
   "cell_type": "code",
   "execution_count": 8,
   "metadata": {},
   "outputs": [
    {
     "data": {
      "application/vnd.jupyter.widget-view+json": {
       "model_id": "d63bbfcd7211413991c95f81f43e9f40",
       "version_major": 2,
       "version_minor": 0
      },
      "text/plain": [
       "  0%|          | 0/5000 [00:00<?, ?it/s]"
      ]
     },
     "metadata": {},
     "output_type": "display_data"
    }
   ],
   "source": [
    "# MERGING NOISE Templates into single file\n",
    "\n",
    "path_1 = \"data/noise/\"\n",
    "files_1= os.listdir(path_1)\n",
    "f1 = open('data/Final_Merged_Noise_Reduced_No_Abs.csv', 'w')\n",
    "cw_1 = csv.writer(f1)\n",
    "\n",
    "for i in tqdm(files_1):\n",
    "    #print(files)\n",
    "    df = pd.read_csv(path_1+i,sep = ' ', header=None)\n",
    "    c = df[:][1]\n",
    "    cw_1.writerow(c)\n",
    "f1.close()"
   ]
  }
 ],
 "metadata": {
  "kernelspec": {
   "display_name": "Python 3",
   "language": "python",
   "name": "python3"
  },
  "language_info": {
   "codemirror_mode": {
    "name": "ipython",
    "version": 3
   },
   "file_extension": ".py",
   "mimetype": "text/x-python",
   "name": "python",
   "nbconvert_exporter": "python",
   "pygments_lexer": "ipython3",
   "version": "3.6.9"
  }
 },
 "nbformat": 4,
 "nbformat_minor": 4
}
