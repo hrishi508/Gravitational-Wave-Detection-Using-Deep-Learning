{
  "cells": [
    {
      "cell_type": "code",
      "execution_count": 1,
      "metadata": {
        "colab": {
          "base_uri": "https://localhost:8080/"
        },
        "id": "Xs_OpQDIxDQW",
        "outputId": "df7a6fab-d954-4667-d490-66f7091c0575"
      },
      "outputs": [
        {
          "name": "stdout",
          "output_type": "stream",
          "text": [
            "Mounted at /content/gdrive\n"
          ]
        }
      ],
      "source": [
        "from google.colab import drive\n",
        "drive.mount('/content/gdrive')"
      ]
    },
    {
      "cell_type": "code",
      "execution_count": 2,
      "metadata": {
        "id": "L5inbyEdw1A7"
      },
      "outputs": [],
      "source": [
        "import numpy as np\n",
        "import pandas as pd\n",
        "import matplotlib.pyplot as plt\n",
        "\n",
        "import tensorflow as tf\n",
        "from tensorflow.keras.models import Sequential\n",
        "from tensorflow.keras.layers import Dense, Conv1D, Dropout, MaxPool1D, ReLU, Flatten\n",
        "\n",
        "from sklearn.preprocessing import StandardScaler\n",
        "from sklearn.model_selection import train_test_split"
      ]
    },
    {
      "cell_type": "code",
      "execution_count": 3,
      "metadata": {
        "id": "hF5cR2kzw1A-"
      },
      "outputs": [],
      "source": [
        "samples_per_class = 5000\n",
        "no_of_classes = 2"
      ]
    },
    {
      "cell_type": "code",
      "execution_count": 4,
      "metadata": {
        "id": "MzCUizYfw1A_"
      },
      "outputs": [],
      "source": [
        "noise_df = pd.read_csv(\"/content/gdrive/MyDrive/GW_SOP/Code/debugging/Test 13/data/Final_Merged_Noise_Reduced_No_Abs.csv\", header=None)\n",
        "noise = noise_df.values.astype(float)\n",
        "\n",
        "\n",
        "data_BBH_df = pd.read_csv(\"/content/gdrive/MyDrive/GW_SOP/Code/debugging/Test 13/data/Final_BBH_Merged_Noise_Signal.csv\", header=None)\n",
        "data_BBH = data_BBH_df.values.astype(float)"
      ]
    },
    {
      "cell_type": "code",
      "execution_count": 18,
      "metadata": {
        "colab": {
          "base_uri": "https://localhost:8080/"
        },
        "id": "kmYHuecJw1BB",
        "outputId": "9ca88fcb-15fa-49f8-a00c-77793e417753"
      },
      "outputs": [
        {
          "name": "stdout",
          "output_type": "stream",
          "text": [
            "5000\n",
            "[[-6.57077132e-19 -8.24556957e-19  4.55500331e-20 ... -1.08605591e-18\n",
            "   1.35329438e-18  3.65545947e-20]\n",
            " [-1.72951131e-18 -4.10170995e-20  1.08269305e-18 ...  1.26311693e-18\n",
            "   1.03429246e-18 -1.59377136e-18]\n",
            " [ 8.66893670e-19 -1.76801522e-18 -1.94826949e-19 ...  1.38999223e-19\n",
            "   7.39238487e-19 -1.06179561e-18]\n",
            " ...\n",
            " [ 8.83518081e-19  5.04247746e-19  8.49523184e-19 ... -8.68518648e-19\n",
            "  -2.97358800e-19 -1.04901010e-18]\n",
            " [-1.58364932e-18 -2.77305704e-19 -1.09167864e-18 ... -4.65970088e-19\n",
            "  -1.05643810e-19  1.08426963e-18]\n",
            " [ 4.76770247e-19 -4.78121599e-19 -9.34672026e-19 ... -1.62208699e-19\n",
            "   7.41140826e-19  7.87870816e-19]]\n",
            "(10000, 16384)\n"
          ]
        }
      ],
      "source": [
        "X = np.concatenate((noise, data_BBH), axis=0)\n",
        "\n",
        "print(len(noise_df.index))\n",
        "print(X)\n",
        "print(X.shape)"
      ]
    },
    {
      "cell_type": "code",
      "execution_count": 19,
      "metadata": {
        "colab": {
          "base_uri": "https://localhost:8080/"
        },
        "id": "J_dSmj6xw1BE",
        "outputId": "494baed6-59b2-4416-f18a-e56111283a50"
      },
      "outputs": [
        {
          "name": "stdout",
          "output_type": "stream",
          "text": [
            "[[1. 0.]\n",
            " [1. 0.]\n",
            " [1. 0.]\n",
            " ...\n",
            " [0. 1.]\n",
            " [0. 1.]\n",
            " [0. 1.]]\n"
          ]
        }
      ],
      "source": [
        "# Alternate way of creating y for the dataset\n",
        " \n",
        "y = [int(i/samples_per_class) for i in range(samples_per_class*no_of_classes)]\n",
        "y = tf.keras.utils.to_categorical(y)\n",
        "print(y)"
      ]
    },
    {
      "cell_type": "code",
      "execution_count": 20,
      "metadata": {
        "colab": {
          "base_uri": "https://localhost:8080/"
        },
        "id": "c9h1LUqxBQgm",
        "outputId": "65c3f7da-2645-4230-fd15-6b32b6780cda"
      },
      "outputs": [
        {
          "name": "stdout",
          "output_type": "stream",
          "text": [
            "[[-0.65707713 -0.82455696  0.04555003 ... -1.08605591  1.35329438\n",
            "   0.03655459]\n",
            " [-1.72951131 -0.0410171   1.08269305 ...  1.26311693  1.03429246\n",
            "  -1.59377136]\n",
            " [ 0.86689367 -1.76801522 -0.19482695 ...  0.13899922  0.73923849\n",
            "  -1.06179561]\n",
            " ...\n",
            " [ 0.88351808  0.50424775  0.84952318 ... -0.86851865 -0.2973588\n",
            "  -1.0490101 ]\n",
            " [-1.58364932 -0.2773057  -1.09167864 ... -0.46597009 -0.10564381\n",
            "   1.08426963]\n",
            " [ 0.47677025 -0.4781216  -0.93467203 ... -0.1622087   0.74114083\n",
            "   0.78787082]]\n"
          ]
        }
      ],
      "source": [
        "# scaler = StandardScaler()\n",
        "# X = scaler.fit_transform(X)\n",
        "# print(X)\n",
        "\n",
        "X *= 1e19\n",
        "print(X)\n",
        "\n",
        "# X *= 1e18\n",
        "# print(X)\n",
        "\n",
        "# Z = np.zeros((2, 16384))\n",
        "# Z[0] = X[0]\n",
        "# Z[1] = X[5010]\n",
        "# print(Z)\n",
        "\n",
        "# np.savetxt(\"/content/gdrive/MyDrive/GW_SOP/Code/debugging/Test 2/trial_3_noise.txt\", Z[0])\n",
        "# np.savetxt(\"/content/gdrive/MyDrive/GW_SOP/Code/debugging/Test 2/trial_3_merged.txt\", Z[1])\n",
        "\n",
        "# print(X[0, 501])\n",
        "# print(X[5010, 499])"
      ]
    },
    {
      "cell_type": "code",
      "execution_count": 21,
      "metadata": {
        "colab": {
          "base_uri": "https://localhost:8080/"
        },
        "id": "8xirD0GDBQgm",
        "outputId": "63539ea5-cfa4-4cea-e178-1981cdbda066"
      },
      "outputs": [
        {
          "name": "stdout",
          "output_type": "stream",
          "text": [
            "(10000, 16384, 1)\n",
            "[[[-0.65707713]\n",
            "  [-0.82455696]\n",
            "  [ 0.04555003]\n",
            "  ...\n",
            "  [-1.08605591]\n",
            "  [ 1.35329438]\n",
            "  [ 0.03655459]]\n",
            "\n",
            " [[-1.72951131]\n",
            "  [-0.0410171 ]\n",
            "  [ 1.08269305]\n",
            "  ...\n",
            "  [ 1.26311693]\n",
            "  [ 1.03429246]\n",
            "  [-1.59377136]]\n",
            "\n",
            " [[ 0.86689367]\n",
            "  [-1.76801522]\n",
            "  [-0.19482695]\n",
            "  ...\n",
            "  [ 0.13899922]\n",
            "  [ 0.73923849]\n",
            "  [-1.06179561]]\n",
            "\n",
            " ...\n",
            "\n",
            " [[ 0.88351808]\n",
            "  [ 0.50424775]\n",
            "  [ 0.84952318]\n",
            "  ...\n",
            "  [-0.86851865]\n",
            "  [-0.2973588 ]\n",
            "  [-1.0490101 ]]\n",
            "\n",
            " [[-1.58364932]\n",
            "  [-0.2773057 ]\n",
            "  [-1.09167864]\n",
            "  ...\n",
            "  [-0.46597009]\n",
            "  [-0.10564381]\n",
            "  [ 1.08426963]]\n",
            "\n",
            " [[ 0.47677025]\n",
            "  [-0.4781216 ]\n",
            "  [-0.93467203]\n",
            "  ...\n",
            "  [-0.1622087 ]\n",
            "  [ 0.74114083]\n",
            "  [ 0.78787082]]]\n"
          ]
        }
      ],
      "source": [
        "X = np.expand_dims(X, axis=-1)\n",
        "print(X.shape)\n",
        "print(X)"
      ]
    },
    {
      "cell_type": "code",
      "execution_count": 22,
      "metadata": {
        "id": "Zxu2uCZyz8kD"
      },
      "outputs": [],
      "source": [
        "X_train, _, y_train, _ = train_test_split(X, y, test_size=1) #, random_state=1"
      ]
    },
    {
      "cell_type": "code",
      "execution_count": 23,
      "metadata": {
        "colab": {
          "base_uri": "https://localhost:8080/"
        },
        "id": "-Cqz7kE80mty",
        "outputId": "7d15b7ee-a03f-467f-891a-5269528b7dbc"
      },
      "outputs": [
        {
          "name": "stdout",
          "output_type": "stream",
          "text": [
            "(9999, 16384, 1) (9999, 2)\n"
          ]
        }
      ],
      "source": [
        "print(X_train.shape, y_train.shape)"
      ]
    },
    {
      "cell_type": "code",
      "execution_count": 24,
      "metadata": {
        "id": "01pIkFC6w1BJ"
      },
      "outputs": [],
      "source": [
        "model = Sequential()\n",
        "\n",
        "model.add(Conv1D(16, 16, input_shape = (16384,1)))\n",
        "model.add(MaxPool1D(4, 4))\n",
        "model.add(ReLU())\n",
        "model.add(Conv1D(32, 8))\n",
        "model.add(MaxPool1D(4, 4))\n",
        "model.add(ReLU())\n",
        "model.add(Conv1D(64, 8))\n",
        "model.add(MaxPool1D(4, 4))\n",
        "model.add(ReLU())\n",
        "model.add(Conv1D(128, 8))\n",
        "model.add(MaxPool1D(4, 4))\n",
        "model.add(ReLU())\n",
        "model.add(Flatten())\n",
        "model.add(Dense(7808))\n",
        "model.add(Dense(64, activation='relu'))\n",
        "model.add(Dense(2, activation='sigmoid'))\n",
        "\n",
        "model.compile(optimizer=tf.keras.optimizers.Adam(0.001), loss='binary_crossentropy', metrics=['accuracy'])"
      ]
    },
    {
      "cell_type": "code",
      "execution_count": 25,
      "metadata": {
        "colab": {
          "base_uri": "https://localhost:8080/"
        },
        "id": "qxVd6XC9w1BM",
        "outputId": "14dcaaf7-c914-40b4-f6df-05a73636f44a"
      },
      "outputs": [
        {
          "name": "stdout",
          "output_type": "stream",
          "text": [
            "Epoch 1/5\n",
            "79/79 [==============================] - 17s 183ms/step - loss: 1.0074 - accuracy: 0.4995\n",
            "Epoch 2/5\n",
            "79/79 [==============================] - 14s 181ms/step - loss: 0.6932 - accuracy: 0.4999\n",
            "Epoch 3/5\n",
            "79/79 [==============================] - 14s 182ms/step - loss: 0.6932 - accuracy: 0.4999\n",
            "Epoch 4/5\n",
            "79/79 [==============================] - 14s 182ms/step - loss: 0.6932 - accuracy: 0.4999\n",
            "Epoch 5/5\n",
            "79/79 [==============================] - 14s 182ms/step - loss: 0.6932 - accuracy: 0.4999\n"
          ]
        }
      ],
      "source": [
        "history = model.fit(X_train, y_train, batch_size=128, epochs=5) # tf.nn.sigmoid_cross_entropy_with_logits"
      ]
    },
    {
      "cell_type": "code",
      "execution_count": 13,
      "metadata": {
        "colab": {
          "base_uri": "https://localhost:8080/",
          "height": 295
        },
        "id": "IqssaFdDw1BN",
        "outputId": "15c3854b-02c8-4d79-baf0-77e389e0b4b2"
      },
      "outputs": [
        {
          "data": {
            "image/png": "[encoded data removed]",
            "text/plain": [
              "<Figure size 936x288 with 2 Axes>"
            ]
          },
          "metadata": {
            "needs_background": "light"
          },
          "output_type": "display_data"
        }
      ],
      "source": [
        "acc = [0.] + history.history['accuracy']\n",
        "\n",
        "loss = history.history['loss']\n",
        "\n",
        "plt.figure(figsize=(13, 4))\n",
        "plt.subplot(1, 2, 1)\n",
        "plt.plot(acc, label='Training Accuracy')\n",
        "plt.legend(loc='lower right')\n",
        "plt.ylabel('Accuracy')\n",
        "plt.ylim([min(plt.ylim()),1])\n",
        "plt.title('Training Accuracy')\n",
        "plt.xlabel('epoch')\n",
        "\n",
        "plt.subplot(1, 2, 2)\n",
        "plt.plot(loss, label='Training Loss')\n",
        "plt.legend(loc='upper right')\n",
        "plt.ylabel('Categorical Cross Entropy')\n",
        "plt.ylim([0,2])\n",
        "plt.title('Training Loss')\n",
        "plt.xlabel('epoch')\n",
        "plt.show()"
      ]
    },
    {
      "cell_type": "code",
      "execution_count": null,
      "metadata": {
        "id": "6eyjDO_-Sk9l"
      },
      "outputs": [],
      "source": [
        "# model.save(\"/content/gdrive/MyDrive/GW_SOP/Code/debugging/Trial 1/data/weights_trial_3.h5\")"
      ]
    }
  ],
  "metadata": {
    "accelerator": "GPU",
    "colab": {
      "collapsed_sections": [],
      "name": "test_8.ipynb",
      "provenance": []
    },
    "interpreter": {
      "hash": "8356d31dd4c50017c60d528a0c40a4935f9d791f54e24c10e32e3a312d5b6882"
    },
    "kernelspec": {
      "display_name": "Python 3.7.6 64-bit ('base': conda)",
      "language": "python",
      "name": "python3"
    },
    "language_info": {
      "codemirror_mode": {
        "name": "ipython",
        "version": 3
      },
      "file_extension": ".py",
      "mimetype": "text/x-python",
      "name": "python",
      "nbconvert_exporter": "python",
      "pygments_lexer": "ipython3",
      "version": "3.6.9"
    },
    "orig_nbformat": 4
  },
  "nbformat": 4,
  "nbformat_minor": 0
}
