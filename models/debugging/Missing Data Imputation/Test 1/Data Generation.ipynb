{
 "cells": [
  {
   "cell_type": "code",
   "execution_count": null,
   "metadata": {},
   "outputs": [],
   "source": [
    "################################\n",
    "########### IMPORTS ############\n",
    "################################"
   ]
  },
  {
   "cell_type": "code",
   "execution_count": null,
   "metadata": {},
   "outputs": [],
   "source": [
    "from pycbc import distributions\n",
    "from pycbc.waveform import get_td_waveform, td_approximants\n",
    "from pycbc.detector import Detector\n",
    "import matplotlib.pyplot as plt\n",
    "import numpy as np\n",
    "import gwpy\n",
    "import pylab\n",
    "from tqdm.notebook import tqdm\n",
    "from gwpy.timeseries import TimeSeries\n",
    "import pandas as pd\n",
    "import os\n",
    "import csv\n",
    "import pycbc.noise\n",
    "import pycbc.psd\n",
    "from pycbc.filter import matched_filter\n",
    "import random"
   ]
  },
  {
   "cell_type": "code",
   "execution_count": null,
   "metadata": {},
   "outputs": [],
   "source": [
    "##########################################\n",
    "########### CONFIG PARAMETERS ############\n",
    "##########################################"
   ]
  },
  {
   "cell_type": "code",
   "execution_count": null,
   "metadata": {},
   "outputs": [],
   "source": [
    "DATA_PATH = \"/home/hrishi/SOP/Gravitational Wave Detection Using Deep Learning/models/debugging/Missing Data Imputation/Test 1/data/\"\n",
    "NO_OF_TRAINING_SAMPLES = 1000\n",
    "NOISE_DURATION = 10             # in min\n",
    "TOTAL_SIGNAL_DURATION = 8       # in min\n",
    "EACH_SIGNAL_DURATION = 5        # in sec\n",
    "SIGNAL_SPACING = 2              # in sec\n",
    "MISSING_DURATION = 0.2          # in sec\n",
    "COSINE_FREQ_LBOUND = 100\n",
    "COSINE_FREQ_UBOUND = 4096\n",
    "SIGNAL_AMPLITUDE_SUPPRESSION = 0.2 # 0.2"
   ]
  },
  {
   "cell_type": "code",
   "execution_count": null,
   "metadata": {},
   "outputs": [],
   "source": [
    "##################################################\n",
    "########### COLOURED NOISE GENERATION ############\n",
    "##################################################"
   ]
  },
  {
   "cell_type": "code",
   "execution_count": null,
   "metadata": {},
   "outputs": [],
   "source": [
    "def generateColoredNoise():\n",
    "    # The color of the noise matches a PSD which you provide\n",
    "    flow = 30.0\n",
    "    delta_f = 1.0 / 16\n",
    "    flen = int(2048 / delta_f) + 1\n",
    "    psd = pycbc.psd.aLIGOZeroDetHighPower(flen, delta_f, flow)\n",
    "\n",
    "    # Generate 4 seconds of noise at 4096 Hz\n",
    "    delta_t = 1.0 / 4096\n",
    "    tsamples = int(NOISE_DURATION*60 / delta_t)\n",
    "    noise = pycbc.noise.noise_from_psd(tsamples, delta_t, psd)\n",
    "\n",
    "    noise *= 1e21\n",
    "    noise = TimeSeries.from_pycbc(noise)\n",
    "\n",
    "    return noise"
   ]
  },
  {
   "cell_type": "code",
   "execution_count": null,
   "metadata": {},
   "outputs": [],
   "source": [
    "# noise = generateColoredNoise()\n",
    "# noise.plot()"
   ]
  },
  {
   "cell_type": "code",
   "execution_count": null,
   "metadata": {},
   "outputs": [],
   "source": [
    "###############################################\n",
    "########### COSINE WAVE GENERATION ############\n",
    "###############################################"
   ]
  },
  {
   "cell_type": "code",
   "execution_count": null,
   "metadata": {},
   "outputs": [],
   "source": [
    "# Trash Code\n",
    "\n",
    "# time = TimeSeries(np.arange(0, 100), sample_rate=4096)\n",
    "# time = time.to_value()\n",
    "# wave = np.cos(time)\n",
    "# plt.plot(time, wave)\n",
    "# plt.show()"
   ]
  },
  {
   "cell_type": "code",
   "execution_count": null,
   "metadata": {},
   "outputs": [],
   "source": [
    "# This function generates cosine wave \n",
    "# of given duration, frequency with \n",
    "# randomly sampled amplitude and start time\n",
    "def generateRandomCosine(duration, frequency):\n",
    "    x_right_bound = int(60*(1/frequency)*4096) + 1 # sets the right hand bound for x values such that 60 sec of signal data is generated\n",
    "    x = np.arange(0, x_right_bound, (1/frequency))\n",
    "    \n",
    "    random_amp_scale = np.random.random() if np.random.random() else 1\n",
    "    \n",
    "    wave = SIGNAL_AMPLITUDE_SUPPRESSION*random_amp_scale*np.cos(x)\n",
    "    wave = TimeSeries(wave, sample_rate=4096).to_pycbc()\n",
    "\n",
    "    random_start = int(np.random.random()*(60 - duration))\n",
    "    \n",
    "    wave = TimeSeries.from_pycbc(wave.time_slice(random_start, random_start+duration))\n",
    "    wave.t0 = 0\n",
    "\n",
    "    return wave"
   ]
  },
  {
   "cell_type": "code",
   "execution_count": null,
   "metadata": {},
   "outputs": [],
   "source": [
    "# cosine = generateRandomCosine(5, 100)\n",
    "# cosine.plot()"
   ]
  },
  {
   "cell_type": "code",
   "execution_count": null,
   "metadata": {},
   "outputs": [],
   "source": [
    "# This function generates array of\n",
    "# cosine wave using generateRandomCosine\n",
    "# with random frequency\n",
    "def generateSignals():\n",
    "    signals = []\n",
    "    n_signals = int(((NOISE_DURATION - TOTAL_SIGNAL_DURATION)*60)/SIGNAL_SPACING) + 1\n",
    "\n",
    "    for i in range(n_signals):\n",
    "        r = np.random.random() if np.random.random() else 1\n",
    "        random_freq = int(r*COSINE_FREQ_UBOUND) + COSINE_FREQ_LBOUND\n",
    "        signals.append(generateRandomCosine(EACH_SIGNAL_DURATION, random_freq))\n",
    "\n",
    "    return signals"
   ]
  },
  {
   "cell_type": "code",
   "execution_count": null,
   "metadata": {},
   "outputs": [],
   "source": [
    "# s = generateSignals()\n",
    "# s[27].plot()"
   ]
  },
  {
   "cell_type": "code",
   "execution_count": null,
   "metadata": {},
   "outputs": [],
   "source": [
    "###############################################\n",
    "########### SAMPLE DATA GENERATION ############\n",
    "###############################################"
   ]
  },
  {
   "cell_type": "code",
   "execution_count": null,
   "metadata": {},
   "outputs": [],
   "source": [
    "# This function generates\n",
    "# one data sample with \n",
    "# every signal injected at\n",
    "# random start time in noise\n",
    "\n",
    "# def generateDataSample():\n",
    "#     data = generateColoredNoise()\n",
    "#     signals = generateSignals()\n",
    "\n",
    "#     for signal in signals:\n",
    "#         random_start = int(np.random.random()*(TOTAL_SIGNAL_DURATION*60 - EACH_SIGNAL_DURATION - 2))\n",
    "\n",
    "#         signal.t0 = random_start\n",
    "#         data = data.inject(signal)\n",
    "\n",
    "#     return data"
   ]
  },
  {
   "cell_type": "code",
   "execution_count": null,
   "metadata": {},
   "outputs": [],
   "source": [
    "# data = generateDataSample()\n",
    "# data.plot()"
   ]
  },
  {
   "cell_type": "code",
   "execution_count": null,
   "metadata": {},
   "outputs": [],
   "source": [
    "# This function generates\n",
    "# one data sample with \n",
    "# every signal injected with\n",
    "# equal seperation till the end\n",
    "def generateDataSample():\n",
    "    data = generateColoredNoise()\n",
    "    signals = generateSignals()\n",
    "    \n",
    "    start = 0\n",
    "    seperation = EACH_SIGNAL_DURATION + SIGNAL_SPACING\n",
    "\n",
    "    for signal in signals:\n",
    "        signal.t0 = start\n",
    "        start += seperation\n",
    "\n",
    "        data = data.inject(signal)\n",
    "\n",
    "    return data"
   ]
  },
  {
   "cell_type": "code",
   "execution_count": null,
   "metadata": {},
   "outputs": [],
   "source": [
    "data = generateDataSample()\n",
    "data.plot()"
   ]
  },
  {
   "cell_type": "code",
   "execution_count": null,
   "metadata": {},
   "outputs": [],
   "source": [
    "#####################################################\n",
    "########### MISSING DATA MASK GENERATION ############\n",
    "#####################################################"
   ]
  },
  {
   "cell_type": "code",
   "execution_count": null,
   "metadata": {},
   "outputs": [],
   "source": [
    "# print(random.sample([0, 1], counts=[MISSING_DURATION*60*4096, (NOISE_DURATION - MISSING_DURATION)*60*4096], k=NOISE_DURATION*60*4096))"
   ]
  },
  {
   "cell_type": "code",
   "execution_count": null,
   "metadata": {},
   "outputs": [],
   "source": [
    "data = generateDataSample()\n",
    "data1 = data.copy()\n",
    "l = [1 for i in range(len(data1.value))]\n",
    "temp = data1.value\n",
    "for i in range(0, 4096*60):\n",
    "    l[i] = 0\n",
    "\n",
    "temp *= l\n",
    "# new_data = TimeSeries(new_data, sample_rate=4096)\n",
    "# new_data.plot()\n",
    "data1.plot()\n",
    "data.plot()"
   ]
  },
  {
   "cell_type": "code",
   "execution_count": null,
   "metadata": {},
   "outputs": [],
   "source": [
    "##############################################\n",
    "########### FINAL DATA GENERATION ############\n",
    "##############################################"
   ]
  },
  {
   "cell_type": "code",
   "execution_count": 7,
   "metadata": {},
   "outputs": [
    {
     "data": {
      "application/vnd.jupyter.widget-view+json": {
       "model_id": "4f0425855b524336995ed54addd63457",
       "version_major": 2,
       "version_minor": 0
      },
      "text/plain": [
       "  0%|          | 0/1000 [00:00<?, ?it/s]"
      ]
     },
     "metadata": {},
     "output_type": "display_data"
    }
   ],
   "source": [
    "f = open(DATA_PATH + \"data.csv\", 'w')\n",
    "g = open(DATA_PATH + \"mask.csv\", 'w')\n",
    "cw1 = csv.writer(f)\n",
    "cw2 = csv.writer(g)\n",
    "\n",
    "data = generateDataSample()\n",
    "cw1.writerow(data.value)\n",
    "f.close()\n",
    "\n",
    "cw2.writerow([MISSING_DURATION])\n",
    "for i in tqdm(range(NO_OF_TRAINING_SAMPLES)):\n",
    "    random_mask_start = int(np.random.random()*4096*(NOISE_DURATION*60 - MISSING_DURATION - 1))\n",
    "    cw2.writerow([random_mask_start])\n",
    "\n",
    "g.close()"
   ]
  }
 ],
 "metadata": {
  "kernelspec": {
   "display_name": "Python 3.6.9 64-bit",
   "language": "python",
   "name": "python3"
  },
  "language_info": {
   "codemirror_mode": {
    "name": "ipython",
    "version": 3
   },
   "file_extension": ".py",
   "mimetype": "text/x-python",
   "name": "python",
   "nbconvert_exporter": "python",
   "pygments_lexer": "ipython3",
   "version": "3.6.9"
  },
  "orig_nbformat": 4,
  "vscode": {
   "interpreter": {
    "hash": "31f2aee4e71d21fbe5cf8b01ff0e069b9275f58929596ceb00d14d90e3e16cd6"
   }
  }
 },
 "nbformat": 4,
 "nbformat_minor": 2
}
