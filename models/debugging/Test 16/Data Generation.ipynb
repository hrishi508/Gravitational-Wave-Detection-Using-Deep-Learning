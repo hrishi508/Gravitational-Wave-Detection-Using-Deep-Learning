{
 "cells": [
  {
   "cell_type": "code",
   "execution_count": 1,
   "metadata": {},
   "outputs": [],
   "source": [
    "from pycbc import distributions\n",
    "from pycbc.waveform import get_td_waveform\n",
    "import matplotlib.pyplot as plt\n",
    "import numpy as np\n",
    "import pylab\n",
    "from tqdm.notebook import tqdm\n",
    "from gwpy.timeseries import TimeSeries\n",
    "import pandas as pd\n",
    "import os\n",
    "import csv"
   ]
  },
  {
   "cell_type": "code",
   "execution_count": 2,
   "metadata": {},
   "outputs": [
    {
     "name": "stdout",
     "output_type": "stream",
     "text": [
      "Generated Binary Mass Distributions for BBH\n"
     ]
    }
   ],
   "source": [
    "\n",
    "print(\"Generated Binary Mass Distributions for BBH\")\n",
    "\n",
    "bbh_two_mass_distributions = distributions.Uniform(mass1=(10, 50),\n",
    "                                               mass2=(10, 50))\n",
    "\n",
    "bbh_two_mass_samples = bbh_two_mass_distributions.rvs(size=5000)"
   ]
  },
  {
   "cell_type": "code",
   "execution_count": null,
   "metadata": {},
   "outputs": [],
   "source": [
    "# # Generate some noise with an advanced ligo psd\n",
    "# flow = 5.0\n",
    "# delta_f = 1.0 / 16\n",
    "# flen = int(2048 / delta_f) + 1\n",
    "# psd = pycbc.psd.aLIGOZeroDetHighPower(flen, delta_f, flow)\n",
    "\n",
    "# # Generate 1 seconds of noise at 4096 Hz\n",
    "# delta_t = 1.0 / 4096\n",
    "# tsamples = int(4 / delta_t) ############################################# changed this from int(1 / delta_t) to generate 4 seconds of noise \n",
    "# ts = pycbc.noise.noise_from_psd(tsamples, delta_t, psd, seed=127)\n",
    "\n",
    "# ts = pycbc.filter.highpass(ts, 30.0)\n",
    "# ts = pycbc.filter.lowpass_fir(ts, 1000.0, 8)\n",
    "\n",
    "# # noise = ts * 1e3\n",
    "# noise = ts * 1e4"
   ]
  },
  {
   "cell_type": "code",
   "execution_count": 3,
   "metadata": {},
   "outputs": [
    {
     "name": "stdout",
     "output_type": "stream",
     "text": [
      "Using Binary Mass Distributions to generate BBH waveforms\n",
      "Generating BBH Waveforms, Noise and Merging them together and writing into disk, it may take few minutes...\n"
     ]
    },
    {
     "data": {
      "application/vnd.jupyter.widget-view+json": {
       "model_id": "881b20a86f6746029e3b156dbad93a76",
       "version_major": 2,
       "version_minor": 0
      },
      "text/plain": [
       "  0%|          | 0/5000 [00:00<?, ?it/s]"
      ]
     },
     "metadata": {},
     "output_type": "display_data"
    }
   ],
   "source": [
    "print(\"Using Binary Mass Distributions to generate BBH waveforms\")\n",
    "print(\"Generating BBH Waveforms, Noise and Merging them together and writing into disk, it may take few minutes...\")\n",
    "\n",
    "for i in tqdm(range(len(bbh_two_mass_samples))):\n",
    "\n",
    "    hp, hc = get_td_waveform(approximant=\"SEOBNRv2\",                                # what are hp and hc?\n",
    "                         mass1=bbh_two_mass_samples[i][0],\n",
    "                         mass2=bbh_two_mass_samples[i][1],\n",
    "                         delta_t=1.0/4096,\n",
    "                         f_lower=40)                                                # change to 40 Hz\n",
    "\n",
    "\n",
    "    # Generate some noise with an advanced ligo psd\n",
    "    flow = 5.0\n",
    "    delta_f = 1.0 / 16\n",
    "    flen = int(2048 / delta_f) + 1\n",
    "    psd = pycbc.psd.aLIGOZeroDetHighPower(flen, delta_f, flow)\n",
    "\n",
    "    # Generate 1 seconds of noise at 4096 Hz\n",
    "    delta_t = 1.0 / 4096\n",
    "    tsamples = int(4 / delta_t) ############################################# changed this from int(1 / delta_t) to generate 4 seconds of noise \n",
    "    ts = pycbc.noise.noise_from_psd(tsamples, delta_t, psd)\n",
    "\n",
    "    ts = pycbc.filter.highpass(ts, 30.0)\n",
    "    ts = pycbc.filter.lowpass_fir(ts, 1000.0, 8)\n",
    "\n",
    "    # ts *= 1e3\n",
    "    ts *= 1e4\n",
    "    noise = TimeSeries.from_pycbc(ts)\n",
    "\n",
    "    # st = np.random.randint(0,2)\n",
    "    \n",
    "    st = 1\n",
    "\n",
    "    signal = TimeSeries.from_pycbc(hp)\n",
    "    \n",
    "    signal.t0 = st\n",
    "    data = noise.inject(signal)\n",
    "    \n",
    "    data.write(\"data/merged/bbh_merged_noise_signal_\"+str(i)+\".txt\")"
   ]
  },
  {
   "cell_type": "code",
   "execution_count": null,
   "metadata": {},
   "outputs": [
    {
     "data": {
      "application/vnd.jupyter.widget-view+json": {
       "model_id": "1af465ace01747c285b7b4c343b5ad7b",
       "version_major": 2,
       "version_minor": 0
      },
      "text/plain": [
       "  0%|          | 0/5000 [00:00<?, ?it/s]"
      ]
     },
     "metadata": {},
     "output_type": "display_data"
    }
   ],
   "source": [
    "# MERGING NOISE + SIgnal Templates into single file\n",
    "\n",
    "\n",
    "#for i in tqdm(range(5)):\n",
    "path = \"data/merged/\"\n",
    "files= os.listdir(path)\n",
    "f = open('data/Final_BBH_Merged_Noise_Signal.csv', 'w')\n",
    "cw = csv.writer(f)\n",
    "\n",
    "for i in tqdm(files):\n",
    "    df = pd.read_csv(path+i,sep = ' ', header=None)\n",
    "    c = df[:][1]\n",
    "    cw.writerow(c)\n",
    "f.close()"
   ]
  },
  {
   "cell_type": "code",
   "execution_count": null,
   "metadata": {},
   "outputs": [],
   "source": [
    "for i in range(5000):\n",
    "\n",
    "    # Generate some noise with an advanced ligo psd\n",
    "    flow = 5.0\n",
    "    delta_f = 1.0 / 16\n",
    "    flen = int(2048 / delta_f) + 1\n",
    "    psd = pycbc.psd.aLIGOZeroDetHighPower(flen, delta_f, flow)\n",
    "\n",
    "    # Generate 1 seconds of noise at 4096 Hz\n",
    "    delta_t = 1.0 / 4096\n",
    "    tsamples = int(4 / delta_t) ############################################# changed this from int(1 / delta_t) to generate 4 seconds of noise \n",
    "    ts = pycbc.noise.noise_from_psd(tsamples, delta_t, psd)\n",
    "\n",
    "    ts = pycbc.filter.highpass(ts, 30.0)\n",
    "    ts = pycbc.filter.lowpass_fir(ts, 1000.0, 8)\n",
    "\n",
    "    # ts *= 1e3\n",
    "    ts *= 1e4\n",
    "    noise = TimeSeries.from_pycbc(ts)\n",
    "    noise.write(\"data/noise/noise_\"+str(i)+\".txt\")"
   ]
  },
  {
   "cell_type": "code",
   "execution_count": null,
   "metadata": {},
   "outputs": [
    {
     "data": {
      "application/vnd.jupyter.widget-view+json": {
       "model_id": "5dc30375aced4248910c603fee683e72",
       "version_major": 2,
       "version_minor": 0
      },
      "text/plain": [
       "  0%|          | 0/5000 [00:00<?, ?it/s]"
      ]
     },
     "metadata": {},
     "output_type": "display_data"
    }
   ],
   "source": [
    "# MERGING NOISE Templates into single file\n",
    "\n",
    "path_1 = \"data/noise/\"\n",
    "files_1= os.listdir(path_1)\n",
    "f1 = open('data/Final_Merged_Noise_Reduced_No_Abs.csv', 'w')\n",
    "cw_1 = csv.writer(f1)\n",
    "\n",
    "for i in tqdm(files_1):\n",
    "    #print(files)\n",
    "    df = pd.read_csv(path_1+i,sep = ' ', header=None)\n",
    "    c = df[:][1]\n",
    "    cw_1.writerow(c)\n",
    "f1.close()"
   ]
  }
 ],
 "metadata": {
  "kernelspec": {
   "display_name": "Python 3",
   "language": "python",
   "name": "python3"
  },
  "language_info": {
   "codemirror_mode": {
    "name": "ipython",
    "version": 3
   },
   "file_extension": ".py",
   "mimetype": "text/x-python",
   "name": "python",
   "nbconvert_exporter": "python",
   "pygments_lexer": "ipython3",
   "version": "3.6.9"
  }
 },
 "nbformat": 4,
 "nbformat_minor": 4
}
