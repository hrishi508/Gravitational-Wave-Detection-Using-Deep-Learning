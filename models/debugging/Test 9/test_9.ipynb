{
  "cells": [
    {
      "cell_type": "code",
      "execution_count": null,
      "metadata": {
        "colab": {
          "base_uri": "https://localhost:8080/"
        },
        "id": "Xs_OpQDIxDQW",
        "outputId": "62d5ce32-4818-4c5c-c7f0-b089e74a3fd0"
      },
      "outputs": [],
      "source": [
        "from google.colab import drive\n",
        "drive.mount('/content/gdrive')"
      ]
    },
    {
      "cell_type": "code",
      "execution_count": null,
      "metadata": {
        "id": "L5inbyEdw1A7"
      },
      "outputs": [],
      "source": [
        "import numpy as np\n",
        "import pandas as pd\n",
        "import matplotlib.pyplot as plt\n",
        "\n",
        "import tensorflow as tf\n",
        "from tensorflow.keras.models import Sequential\n",
        "from tensorflow.keras.layers import Dense, Conv1D, Dropout, MaxPool1D, ReLU, Flatten\n",
        "\n",
        "from sklearn.preprocessing import StandardScaler\n",
        "from sklearn.model_selection import train_test_split"
      ]
    },
    {
      "cell_type": "code",
      "execution_count": null,
      "metadata": {
        "id": "hF5cR2kzw1A-"
      },
      "outputs": [],
      "source": [
        "samples_per_class = 5000\n",
        "no_of_classes = 2"
      ]
    },
    {
      "cell_type": "code",
      "execution_count": null,
      "metadata": {
        "id": "MzCUizYfw1A_"
      },
      "outputs": [],
      "source": [
        "noise_df = pd.read_csv(\"/content/gdrive/MyDrive/GW_SOP/Code/debugging/Test 9/data/Final_Merged_Noise_Reduced_No_Abs.csv\", header=None)\n",
        "noise = noise_df.values.astype(float)\n",
        "noise = np.repeat(noise, 5000, 0)\n",
        "\n",
        "\n",
        "data_BBH_df = pd.read_csv(\"/content/gdrive/MyDrive/GW_SOP/Code/debugging/Test 9/data/Final_BBH_Merged_Noise_Signal.csv\", header=None)\n",
        "data_BBH = data_BBH_df.values.astype(float)\n",
        "data_BBH = np.repeat(data_BBH, 5000, 0)"
      ]
    },
    {
      "cell_type": "code",
      "execution_count": null,
      "metadata": {
        "colab": {
          "base_uri": "https://localhost:8080/"
        },
        "id": "kmYHuecJw1BB",
        "outputId": "d74f8907-6a97-426d-dee5-4ea11acc437d"
      },
      "outputs": [],
      "source": [
        "X = np.concatenate((noise, data_BBH), axis=0)\n",
        "\n",
        "print(len(noise_df.index))\n",
        "print(X)\n",
        "print(X.shape)"
      ]
    },
    {
      "cell_type": "code",
      "execution_count": null,
      "metadata": {
        "colab": {
          "base_uri": "https://localhost:8080/"
        },
        "id": "J_dSmj6xw1BE",
        "outputId": "30e0649c-6014-421a-b7d8-3a77230b5658"
      },
      "outputs": [],
      "source": [
        "# Alternate way of creating y for the dataset\n",
        " \n",
        "y = [int(i/samples_per_class) for i in range(samples_per_class*no_of_classes)]\n",
        "y = tf.keras.utils.to_categorical(y)\n",
        "print(y)"
      ]
    },
    {
      "cell_type": "code",
      "execution_count": null,
      "metadata": {
        "colab": {
          "base_uri": "https://localhost:8080/"
        },
        "id": "c9h1LUqxBQgm",
        "outputId": "9ee0d31b-f8b0-483a-e03e-d2595b7fdd0d"
      },
      "outputs": [],
      "source": [
        "# scaler = StandardScaler()\n",
        "# X = scaler.fit_transform(X)\n",
        "# print(X)\n",
        "\n",
        "# X *= 1e19\n",
        "# print(X)\n",
        "\n",
        "X *= 1e18\n",
        "print(X)\n",
        "\n",
        "# Z = np.zeros((2, 16384))\n",
        "# Z[0] = X[0]\n",
        "# Z[1] = X[5010]\n",
        "# print(Z)\n",
        "\n",
        "# np.savetxt(\"/content/gdrive/MyDrive/GW_SOP/Code/debugging/Test 9/trial_3_noise.txt\", Z[0])\n",
        "# np.savetxt(\"/content/gdrive/MyDrive/GW_SOP/Code/debugging/Test 9/trial_3_merged.txt\", Z[1])\n",
        "\n",
        "# print(X[0, 501])\n",
        "# print(X[5010, 499])"
      ]
    },
    {
      "cell_type": "code",
      "execution_count": null,
      "metadata": {
        "colab": {
          "base_uri": "https://localhost:8080/"
        },
        "id": "8xirD0GDBQgm",
        "outputId": "c8344fbb-4cfa-457b-ea79-8bc61154c2bc"
      },
      "outputs": [],
      "source": [
        "X = np.expand_dims(X, axis=-1)\n",
        "print(X.shape)\n",
        "print(X)"
      ]
    },
    {
      "cell_type": "code",
      "execution_count": null,
      "metadata": {
        "id": "Zxu2uCZyz8kD"
      },
      "outputs": [],
      "source": [
        "X_train, _, y_train, _ = train_test_split(X, y, test_size=1) #, random_state=1"
      ]
    },
    {
      "cell_type": "code",
      "execution_count": null,
      "metadata": {
        "colab": {
          "base_uri": "https://localhost:8080/"
        },
        "id": "-Cqz7kE80mty",
        "outputId": "34fb5302-ddac-4c5d-ff2d-0711b5aa675f"
      },
      "outputs": [],
      "source": [
        "print(X_train.shape, y_train.shape)"
      ]
    },
    {
      "cell_type": "code",
      "execution_count": null,
      "metadata": {
        "id": "01pIkFC6w1BJ"
      },
      "outputs": [],
      "source": [
        "model = Sequential()\n",
        "\n",
        "model.add(Conv1D(16, 16, input_shape = (16384,1)))\n",
        "model.add(MaxPool1D(4, 4))\n",
        "model.add(ReLU())\n",
        "model.add(Conv1D(32, 8))\n",
        "model.add(MaxPool1D(4, 4))\n",
        "model.add(ReLU())\n",
        "model.add(Conv1D(64, 8))\n",
        "model.add(MaxPool1D(4, 4))\n",
        "model.add(ReLU())\n",
        "model.add(Conv1D(128, 8))\n",
        "model.add(MaxPool1D(4, 4))\n",
        "model.add(ReLU())\n",
        "model.add(Flatten())\n",
        "model.add(Dense(7808))\n",
        "model.add(Dense(64, activation='relu'))\n",
        "model.add(Dense(2, activation='sigmoid'))\n",
        "\n",
        "model.compile(optimizer=tf.keras.optimizers.Adam(0.001), loss='binary_crossentropy', metrics=['accuracy'])"
      ]
    },
    {
      "cell_type": "code",
      "execution_count": null,
      "metadata": {
        "colab": {
          "base_uri": "https://localhost:8080/"
        },
        "id": "qxVd6XC9w1BM",
        "outputId": "509a0465-2f18-4f8a-d85b-e9ebdaba2fb2"
      },
      "outputs": [],
      "source": [
        "history = model.fit(X_train, y_train, batch_size=128, epochs=5) # tf.nn.sigmoid_cross_entropy_with_logits"
      ]
    },
    {
      "cell_type": "code",
      "execution_count": null,
      "metadata": {
        "colab": {
          "base_uri": "https://localhost:8080/",
          "height": 295
        },
        "id": "IqssaFdDw1BN",
        "outputId": "667b4d3b-eb1f-404e-81f2-729369c45e5c"
      },
      "outputs": [],
      "source": [
        "acc = [0.] + history.history['accuracy']\n",
        "\n",
        "loss = history.history['loss']\n",
        "\n",
        "plt.figure(figsize=(13, 4))\n",
        "plt.subplot(1, 2, 1)\n",
        "plt.plot(acc, label='Training Accuracy')\n",
        "plt.legend(loc='lower right')\n",
        "plt.ylabel('Accuracy')\n",
        "plt.ylim([min(plt.ylim()),1])\n",
        "plt.title('Training Accuracy')\n",
        "plt.xlabel('epoch')\n",
        "\n",
        "plt.subplot(1, 2, 2)\n",
        "plt.plot(loss, label='Training Loss')\n",
        "plt.legend(loc='upper right')\n",
        "plt.ylabel('Categorical Cross Entropy')\n",
        "plt.ylim([0,2])\n",
        "plt.title('Training Loss')\n",
        "plt.xlabel('epoch')\n",
        "plt.show()"
      ]
    },
    {
      "cell_type": "code",
      "execution_count": null,
      "metadata": {
        "id": "6eyjDO_-Sk9l"
      },
      "outputs": [],
      "source": [
        "# model.save(\"/content/gdrive/MyDrive/GW_SOP/Code/debugging/Test 9/data/weights_trial_3.h5\")"
      ]
    }
  ],
  "metadata": {
    "accelerator": "GPU",
    "colab": {
      "collapsed_sections": [],
      "name": "test_9.ipynb",
      "provenance": []
    },
    "interpreter": {
      "hash": "8356d31dd4c50017c60d528a0c40a4935f9d791f54e24c10e32e3a312d5b6882"
    },
    "kernelspec": {
      "display_name": "Python 3.7.6 64-bit ('base': conda)",
      "language": "python",
      "name": "python3"
    },
    "language_info": {
      "codemirror_mode": {
        "name": "ipython",
        "version": 3
      },
      "file_extension": ".py",
      "mimetype": "text/x-python",
      "name": "python",
      "nbconvert_exporter": "python",
      "pygments_lexer": "ipython3",
      "version": "3.6.9"
    },
    "orig_nbformat": 4
  },
  "nbformat": 4,
  "nbformat_minor": 0
}
