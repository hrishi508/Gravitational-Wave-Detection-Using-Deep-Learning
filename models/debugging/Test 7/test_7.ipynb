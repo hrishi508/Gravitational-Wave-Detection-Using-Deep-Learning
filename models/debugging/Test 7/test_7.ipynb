{
  "cells": [
    {
      "cell_type": "code",
      "execution_count": 1,
      "metadata": {
        "colab": {
          "base_uri": "https://localhost:8080/"
        },
        "id": "Xs_OpQDIxDQW",
        "outputId": "f241a792-c91f-4f5f-cc8f-ebc68e4a2e1d"
      },
      "outputs": [
        {
          "output_type": "stream",
          "name": "stdout",
          "text": [
            "Mounted at /content/gdrive\n"
          ]
        }
      ],
      "source": [
        "from google.colab import drive\n",
        "drive.mount('/content/gdrive')"
      ]
    },
    {
      "cell_type": "code",
      "execution_count": 2,
      "metadata": {
        "id": "L5inbyEdw1A7"
      },
      "outputs": [],
      "source": [
        "import numpy as np\n",
        "import pandas as pd\n",
        "import matplotlib.pyplot as plt\n",
        "\n",
        "import tensorflow as tf\n",
        "from tensorflow.keras.models import Sequential\n",
        "from tensorflow.keras.layers import Dense, Conv1D, Dropout, MaxPool1D, ReLU, Flatten\n",
        "\n",
        "from sklearn.preprocessing import StandardScaler\n",
        "from sklearn.model_selection import train_test_split"
      ]
    },
    {
      "cell_type": "code",
      "execution_count": 3,
      "metadata": {
        "id": "hF5cR2kzw1A-"
      },
      "outputs": [],
      "source": [
        "samples_per_class = 5000\n",
        "no_of_classes = 2"
      ]
    },
    {
      "cell_type": "code",
      "execution_count": 4,
      "metadata": {
        "id": "MzCUizYfw1A_"
      },
      "outputs": [],
      "source": [
        "noise_df = pd.read_csv(\"/content/gdrive/MyDrive/GW_SOP/Code/debugging/Test 7/data/Final_Merged_Noise_Reduced_No_Abs.csv\", header=None)\n",
        "noise = noise_df.values.astype(float)\n",
        "noise = np.repeat(noise, 5000, 0)\n",
        "\n",
        "\n",
        "data_BBH_df = pd.read_csv(\"/content/gdrive/MyDrive/GW_SOP/Code/debugging/Test 7/data/Final_BBH_Merged_Noise_Signal.csv\", header=None)\n",
        "data_BBH = data_BBH_df.values.astype(float)\n",
        "data_BBH = np.repeat(data_BBH, 5000, 0)"
      ]
    },
    {
      "cell_type": "code",
      "execution_count": 5,
      "metadata": {
        "colab": {
          "base_uri": "https://localhost:8080/"
        },
        "id": "kmYHuecJw1BB",
        "outputId": "287e14d5-75e3-4871-96a3-c69d37ecb8c4"
      },
      "outputs": [
        {
          "output_type": "stream",
          "name": "stdout",
          "text": [
            "1\n",
            "[[-1.00287858e-18  9.96509807e-19 -1.16209410e-18 ...  6.69995444e-19\n",
            "  -1.20945306e-18  5.57198487e-19]\n",
            " [-1.00287858e-18  9.96509807e-19 -1.16209410e-18 ...  6.69995444e-19\n",
            "  -1.20945306e-18  5.57198487e-19]\n",
            " [-1.00287858e-18  9.96509807e-19 -1.16209410e-18 ...  6.69995444e-19\n",
            "  -1.20945306e-18  5.57198487e-19]\n",
            " ...\n",
            " [-1.00287858e-18  9.96509807e-19 -1.16209410e-18 ...  6.69995444e-19\n",
            "  -1.20945306e-18  5.57198487e-19]\n",
            " [-1.00287858e-18  9.96509807e-19 -1.16209410e-18 ...  6.69995444e-19\n",
            "  -1.20945306e-18  5.57198487e-19]\n",
            " [-1.00287858e-18  9.96509807e-19 -1.16209410e-18 ...  6.69995444e-19\n",
            "  -1.20945306e-18  5.57198487e-19]]\n",
            "(10000, 16384)\n"
          ]
        }
      ],
      "source": [
        "X = np.concatenate((noise, data_BBH), axis=0)\n",
        "\n",
        "print(len(noise_df.index))\n",
        "print(X)\n",
        "print(X.shape)"
      ]
    },
    {
      "cell_type": "code",
      "execution_count": 6,
      "metadata": {
        "colab": {
          "base_uri": "https://localhost:8080/"
        },
        "id": "J_dSmj6xw1BE",
        "outputId": "8787dd17-12ac-43d6-d8e7-0e1f56ba3845"
      },
      "outputs": [
        {
          "output_type": "stream",
          "name": "stdout",
          "text": [
            "[[1. 0.]\n",
            " [1. 0.]\n",
            " [1. 0.]\n",
            " ...\n",
            " [0. 1.]\n",
            " [0. 1.]\n",
            " [0. 1.]]\n"
          ]
        }
      ],
      "source": [
        "# Alternate way of creating y for the dataset\n",
        " \n",
        "y = [int(i/samples_per_class) for i in range(samples_per_class*no_of_classes)]\n",
        "y = tf.keras.utils.to_categorical(y)\n",
        "print(y)"
      ]
    },
    {
      "cell_type": "code",
      "execution_count": 7,
      "metadata": {
        "colab": {
          "base_uri": "https://localhost:8080/"
        },
        "id": "c9h1LUqxBQgm",
        "outputId": "6b741219-9aeb-428a-f1ec-9ae0d793810a"
      },
      "outputs": [
        {
          "output_type": "stream",
          "name": "stdout",
          "text": [
            "[[-10.02878579   9.96509807 -11.62094101 ...   6.69995444 -12.09453059\n",
            "    5.57198487]\n",
            " [-10.02878579   9.96509807 -11.62094101 ...   6.69995444 -12.09453059\n",
            "    5.57198487]\n",
            " [-10.02878579   9.96509807 -11.62094101 ...   6.69995444 -12.09453059\n",
            "    5.57198487]\n",
            " ...\n",
            " [-10.02878579   9.96509807 -11.62094101 ...   6.69995444 -12.09453059\n",
            "    5.57198487]\n",
            " [-10.02878579   9.96509807 -11.62094101 ...   6.69995444 -12.09453059\n",
            "    5.57198487]\n",
            " [-10.02878579   9.96509807 -11.62094101 ...   6.69995444 -12.09453059\n",
            "    5.57198487]]\n"
          ]
        }
      ],
      "source": [
        "# scaler = StandardScaler()\n",
        "# X = scaler.fit_transform(X)\n",
        "# print(X)\n",
        "\n",
        "X *= 1e19\n",
        "print(X)"
      ]
    },
    {
      "cell_type": "code",
      "execution_count": 8,
      "metadata": {
        "colab": {
          "base_uri": "https://localhost:8080/"
        },
        "id": "8xirD0GDBQgm",
        "outputId": "ea0d6077-dbb2-4d75-84c9-c10f53754358"
      },
      "outputs": [
        {
          "output_type": "stream",
          "name": "stdout",
          "text": [
            "(10000, 16384, 1)\n",
            "[[[-10.02878579]\n",
            "  [  9.96509807]\n",
            "  [-11.62094101]\n",
            "  ...\n",
            "  [  6.69995444]\n",
            "  [-12.09453059]\n",
            "  [  5.57198487]]\n",
            "\n",
            " [[-10.02878579]\n",
            "  [  9.96509807]\n",
            "  [-11.62094101]\n",
            "  ...\n",
            "  [  6.69995444]\n",
            "  [-12.09453059]\n",
            "  [  5.57198487]]\n",
            "\n",
            " [[-10.02878579]\n",
            "  [  9.96509807]\n",
            "  [-11.62094101]\n",
            "  ...\n",
            "  [  6.69995444]\n",
            "  [-12.09453059]\n",
            "  [  5.57198487]]\n",
            "\n",
            " ...\n",
            "\n",
            " [[-10.02878579]\n",
            "  [  9.96509807]\n",
            "  [-11.62094101]\n",
            "  ...\n",
            "  [  6.69995444]\n",
            "  [-12.09453059]\n",
            "  [  5.57198487]]\n",
            "\n",
            " [[-10.02878579]\n",
            "  [  9.96509807]\n",
            "  [-11.62094101]\n",
            "  ...\n",
            "  [  6.69995444]\n",
            "  [-12.09453059]\n",
            "  [  5.57198487]]\n",
            "\n",
            " [[-10.02878579]\n",
            "  [  9.96509807]\n",
            "  [-11.62094101]\n",
            "  ...\n",
            "  [  6.69995444]\n",
            "  [-12.09453059]\n",
            "  [  5.57198487]]]\n"
          ]
        }
      ],
      "source": [
        "X = np.expand_dims(X, axis=-1)\n",
        "print(X.shape)\n",
        "print(X)"
      ]
    },
    {
      "cell_type": "code",
      "execution_count": 9,
      "metadata": {
        "id": "Zxu2uCZyz8kD"
      },
      "outputs": [],
      "source": [
        "X_train, _, y_train, _ = train_test_split(X, y, test_size=1) #, random_state=1"
      ]
    },
    {
      "cell_type": "code",
      "execution_count": 10,
      "metadata": {
        "colab": {
          "base_uri": "https://localhost:8080/"
        },
        "id": "-Cqz7kE80mty",
        "outputId": "82ac04c1-0181-4d80-b0ef-41997c45db00"
      },
      "outputs": [
        {
          "output_type": "stream",
          "name": "stdout",
          "text": [
            "(9999, 16384, 1) (9999, 2)\n"
          ]
        }
      ],
      "source": [
        "print(X_train.shape, y_train.shape)"
      ]
    },
    {
      "cell_type": "code",
      "execution_count": 11,
      "metadata": {
        "id": "01pIkFC6w1BJ"
      },
      "outputs": [],
      "source": [
        "model = Sequential()\n",
        "\n",
        "model.add(Conv1D(16, 16, input_shape = (16384,1)))\n",
        "model.add(MaxPool1D(4, 4))\n",
        "model.add(ReLU())\n",
        "model.add(Conv1D(32, 8))\n",
        "model.add(MaxPool1D(4, 4))\n",
        "model.add(ReLU())\n",
        "model.add(Conv1D(64, 8))\n",
        "model.add(MaxPool1D(4, 4))\n",
        "model.add(ReLU())\n",
        "model.add(Conv1D(128, 8))\n",
        "model.add(MaxPool1D(4, 4))\n",
        "model.add(ReLU())\n",
        "model.add(Flatten())\n",
        "model.add(Dense(7808))\n",
        "model.add(Dense(64, activation='relu'))\n",
        "model.add(Dense(2, activation='sigmoid'))\n",
        "\n",
        "model.compile(optimizer=tf.keras.optimizers.Adam(0.001), loss='binary_crossentropy', metrics=['accuracy'])"
      ]
    },
    {
      "cell_type": "code",
      "execution_count": 12,
      "metadata": {
        "colab": {
          "base_uri": "https://localhost:8080/"
        },
        "id": "qxVd6XC9w1BM",
        "outputId": "15a05d71-cd25-405f-a8df-b940e6a0502a"
      },
      "outputs": [
        {
          "output_type": "stream",
          "name": "stdout",
          "text": [
            "Epoch 1/5\n",
            "79/79 [==============================] - 20s 139ms/step - loss: 3.0202 - accuracy: 0.7087\n",
            "Epoch 2/5\n",
            "79/79 [==============================] - 11s 137ms/step - loss: 0.0026 - accuracy: 1.0000\n",
            "Epoch 3/5\n",
            "79/79 [==============================] - 11s 138ms/step - loss: 8.1503e-05 - accuracy: 1.0000\n",
            "Epoch 4/5\n",
            "79/79 [==============================] - 11s 141ms/step - loss: 5.0356e-05 - accuracy: 1.0000\n",
            "Epoch 5/5\n",
            "79/79 [==============================] - 11s 139ms/step - loss: 3.4821e-05 - accuracy: 1.0000\n"
          ]
        }
      ],
      "source": [
        "history = model.fit(X_train, y_train, batch_size=128, epochs=5) # tf.nn.sigmoid_cross_entropy_with_logits"
      ]
    },
    {
      "cell_type": "code",
      "execution_count": 13,
      "metadata": {
        "colab": {
          "base_uri": "https://localhost:8080/",
          "height": 295
        },
        "id": "IqssaFdDw1BN",
        "outputId": "0fe273ac-7b7f-468a-9623-f0a8ef50f58e"
      },
      "outputs": [
        {
          "output_type": "display_data",
          "data": {
            "image/png": "[encoded data removed]",
            "text/plain": [
              "<Figure size 936x288 with 2 Axes>"
            ]
          },
          "metadata": {
            "needs_background": "light"
          }
        }
      ],
      "source": [
        "acc = [0.] + history.history['accuracy']\n",
        "\n",
        "loss = history.history['loss']\n",
        "\n",
        "plt.figure(figsize=(13, 4))\n",
        "plt.subplot(1, 2, 1)\n",
        "plt.plot(acc, label='Training Accuracy')\n",
        "plt.legend(loc='lower right')\n",
        "plt.ylabel('Accuracy')\n",
        "plt.ylim([min(plt.ylim()),1])\n",
        "plt.title('Training Accuracy')\n",
        "plt.xlabel('epoch')\n",
        "\n",
        "plt.subplot(1, 2, 2)\n",
        "plt.plot(loss, label='Training Loss')\n",
        "plt.legend(loc='upper right')\n",
        "plt.ylabel('Categorical Cross Entropy')\n",
        "plt.ylim([0,2])\n",
        "plt.title('Training Loss')\n",
        "plt.xlabel('epoch')\n",
        "plt.show()"
      ]
    },
    {
      "cell_type": "code",
      "execution_count": null,
      "metadata": {
        "id": "6eyjDO_-Sk9l"
      },
      "outputs": [],
      "source": [
        "# model.save(\"/content/gdrive/MyDrive/GW_SOP/Code/debugging/Trial 1/data/weights_trial_3.h5\")"
      ]
    }
  ],
  "metadata": {
    "accelerator": "GPU",
    "colab": {
      "collapsed_sections": [],
      "name": "test_7.ipynb",
      "provenance": []
    },
    "interpreter": {
      "hash": "8356d31dd4c50017c60d528a0c40a4935f9d791f54e24c10e32e3a312d5b6882"
    },
    "kernelspec": {
      "display_name": "Python 3.7.6 64-bit ('base': conda)",
      "language": "python",
      "name": "python3"
    },
    "language_info": {
      "codemirror_mode": {
        "name": "ipython",
        "version": 3
      },
      "file_extension": ".py",
      "mimetype": "text/x-python",
      "name": "python",
      "nbconvert_exporter": "python",
      "pygments_lexer": "ipython3",
      "version": "3.6.9"
    },
    "orig_nbformat": 4
  },
  "nbformat": 4,
  "nbformat_minor": 0
}