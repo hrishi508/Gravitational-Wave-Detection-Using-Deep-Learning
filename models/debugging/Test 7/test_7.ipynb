{
  "cells": [
    {
      "cell_type": "code",
      "execution_count": 1,
      "metadata": {
        "colab": {
          "base_uri": "https://localhost:8080/"
        },
        "id": "Xs_OpQDIxDQW",
        "outputId": "c04acb3f-fb91-474d-d19c-aae3d4055850"
      },
      "outputs": [
        {
          "output_type": "stream",
          "name": "stdout",
          "text": [
            "Mounted at /content/gdrive\n"
          ]
        }
      ],
      "source": [
        "from google.colab import drive\n",
        "drive.mount('/content/gdrive')"
      ]
    },
    {
      "cell_type": "code",
      "execution_count": 2,
      "metadata": {
        "id": "L5inbyEdw1A7"
      },
      "outputs": [],
      "source": [
        "import numpy as np\n",
        "import pandas as pd\n",
        "import matplotlib.pyplot as plt\n",
        "\n",
        "import tensorflow as tf\n",
        "from tensorflow.keras.models import Sequential\n",
        "from tensorflow.keras.layers import Dense, Conv1D, Dropout, MaxPool1D, ReLU, Flatten\n",
        "\n",
        "from sklearn.preprocessing import StandardScaler\n",
        "from sklearn.model_selection import train_test_split"
      ]
    },
    {
      "cell_type": "code",
      "execution_count": 3,
      "metadata": {
        "id": "hF5cR2kzw1A-"
      },
      "outputs": [],
      "source": [
        "samples_per_class = 5000\n",
        "no_of_classes = 2"
      ]
    },
    {
      "cell_type": "code",
      "execution_count": 4,
      "metadata": {
        "id": "MzCUizYfw1A_"
      },
      "outputs": [],
      "source": [
        "noise_df = pd.read_csv(\"/content/gdrive/MyDrive/GW_SOP/Code/debugging/Test 7/data/Final_Merged_Noise_Reduced_No_Abs.csv\", header=None)\n",
        "noise = noise_df.values.astype(float)\n",
        "noise = np.repeat(noise, 5000, 0)\n",
        "\n",
        "\n",
        "data_BBH_df = pd.read_csv(\"/content/gdrive/MyDrive/GW_SOP/Code/debugging/Test 7/data/Final_BBH_Merged_Noise_Signal.csv\", header=None)\n",
        "data_BBH = data_BBH_df.values.astype(float)\n",
        "data_BBH = np.repeat(data_BBH, 5000, 0)"
      ]
    },
    {
      "cell_type": "code",
      "execution_count": 14,
      "metadata": {
        "colab": {
          "base_uri": "https://localhost:8080/"
        },
        "id": "kmYHuecJw1BB",
        "outputId": "cc485c02-f6c3-4193-e829-141d08c4c808"
      },
      "outputs": [
        {
          "output_type": "stream",
          "name": "stdout",
          "text": [
            "1\n",
            "[[ 1.32856036e-18  1.55218716e-19 -1.61705718e-19 ...  6.38056248e-19\n",
            "  -1.09637686e-18  3.86630379e-19]\n",
            " [ 1.32856036e-18  1.55218716e-19 -1.61705718e-19 ...  6.38056248e-19\n",
            "  -1.09637686e-18  3.86630379e-19]\n",
            " [ 1.32856036e-18  1.55218716e-19 -1.61705718e-19 ...  6.38056248e-19\n",
            "  -1.09637686e-18  3.86630379e-19]\n",
            " ...\n",
            " [ 1.32856036e-18  1.55218716e-19 -1.61705718e-19 ...  6.38056248e-19\n",
            "  -1.09637686e-18  3.86630379e-19]\n",
            " [ 1.32856036e-18  1.55218716e-19 -1.61705718e-19 ...  6.38056248e-19\n",
            "  -1.09637686e-18  3.86630379e-19]\n",
            " [ 1.32856036e-18  1.55218716e-19 -1.61705718e-19 ...  6.38056248e-19\n",
            "  -1.09637686e-18  3.86630379e-19]]\n",
            "(10000, 16384)\n"
          ]
        }
      ],
      "source": [
        "X = np.concatenate((noise, data_BBH), axis=0)\n",
        "\n",
        "print(len(noise_df.index))\n",
        "print(X)\n",
        "print(X.shape)"
      ]
    },
    {
      "cell_type": "code",
      "execution_count": 15,
      "metadata": {
        "colab": {
          "base_uri": "https://localhost:8080/"
        },
        "id": "J_dSmj6xw1BE",
        "outputId": "44a7b14e-c60b-4ea9-9089-f6017c583ae5"
      },
      "outputs": [
        {
          "output_type": "stream",
          "name": "stdout",
          "text": [
            "[[1. 0.]\n",
            " [1. 0.]\n",
            " [1. 0.]\n",
            " ...\n",
            " [0. 1.]\n",
            " [0. 1.]\n",
            " [0. 1.]]\n"
          ]
        }
      ],
      "source": [
        "# Alternate way of creating y for the dataset\n",
        " \n",
        "y = [int(i/samples_per_class) for i in range(samples_per_class*no_of_classes)]\n",
        "y = tf.keras.utils.to_categorical(y)\n",
        "print(y)"
      ]
    },
    {
      "cell_type": "code",
      "execution_count": 16,
      "metadata": {
        "colab": {
          "base_uri": "https://localhost:8080/"
        },
        "id": "c9h1LUqxBQgm",
        "outputId": "9a0f8efd-66a3-47b3-f26e-9b8a78b29c7c"
      },
      "outputs": [
        {
          "output_type": "stream",
          "name": "stdout",
          "text": [
            "[[ 1.32856036  0.15521872 -0.16170572 ...  0.63805625 -1.09637686\n",
            "   0.38663038]\n",
            " [ 1.32856036  0.15521872 -0.16170572 ...  0.63805625 -1.09637686\n",
            "   0.38663038]\n",
            " [ 1.32856036  0.15521872 -0.16170572 ...  0.63805625 -1.09637686\n",
            "   0.38663038]\n",
            " ...\n",
            " [ 1.32856036  0.15521872 -0.16170572 ...  0.63805625 -1.09637686\n",
            "   0.38663038]\n",
            " [ 1.32856036  0.15521872 -0.16170572 ...  0.63805625 -1.09637686\n",
            "   0.38663038]\n",
            " [ 1.32856036  0.15521872 -0.16170572 ...  0.63805625 -1.09637686\n",
            "   0.38663038]]\n"
          ]
        }
      ],
      "source": [
        "# scaler = StandardScaler()\n",
        "# X = scaler.fit_transform(X)\n",
        "# print(X)\n",
        "\n",
        "# X *= 1e19\n",
        "# print(X)\n",
        "\n",
        "X *= 1e18\n",
        "print(X)"
      ]
    },
    {
      "cell_type": "code",
      "execution_count": 17,
      "metadata": {
        "colab": {
          "base_uri": "https://localhost:8080/"
        },
        "id": "8xirD0GDBQgm",
        "outputId": "1955abcd-255c-42fb-dd2f-430c39e07a71"
      },
      "outputs": [
        {
          "output_type": "stream",
          "name": "stdout",
          "text": [
            "(10000, 16384, 1)\n",
            "[[[ 1.32856036]\n",
            "  [ 0.15521872]\n",
            "  [-0.16170572]\n",
            "  ...\n",
            "  [ 0.63805625]\n",
            "  [-1.09637686]\n",
            "  [ 0.38663038]]\n",
            "\n",
            " [[ 1.32856036]\n",
            "  [ 0.15521872]\n",
            "  [-0.16170572]\n",
            "  ...\n",
            "  [ 0.63805625]\n",
            "  [-1.09637686]\n",
            "  [ 0.38663038]]\n",
            "\n",
            " [[ 1.32856036]\n",
            "  [ 0.15521872]\n",
            "  [-0.16170572]\n",
            "  ...\n",
            "  [ 0.63805625]\n",
            "  [-1.09637686]\n",
            "  [ 0.38663038]]\n",
            "\n",
            " ...\n",
            "\n",
            " [[ 1.32856036]\n",
            "  [ 0.15521872]\n",
            "  [-0.16170572]\n",
            "  ...\n",
            "  [ 0.63805625]\n",
            "  [-1.09637686]\n",
            "  [ 0.38663038]]\n",
            "\n",
            " [[ 1.32856036]\n",
            "  [ 0.15521872]\n",
            "  [-0.16170572]\n",
            "  ...\n",
            "  [ 0.63805625]\n",
            "  [-1.09637686]\n",
            "  [ 0.38663038]]\n",
            "\n",
            " [[ 1.32856036]\n",
            "  [ 0.15521872]\n",
            "  [-0.16170572]\n",
            "  ...\n",
            "  [ 0.63805625]\n",
            "  [-1.09637686]\n",
            "  [ 0.38663038]]]\n"
          ]
        }
      ],
      "source": [
        "X = np.expand_dims(X, axis=-1)\n",
        "print(X.shape)\n",
        "print(X)"
      ]
    },
    {
      "cell_type": "code",
      "execution_count": 18,
      "metadata": {
        "id": "Zxu2uCZyz8kD"
      },
      "outputs": [],
      "source": [
        "X_train, _, y_train, _ = train_test_split(X, y, test_size=1) #, random_state=1"
      ]
    },
    {
      "cell_type": "code",
      "execution_count": 19,
      "metadata": {
        "colab": {
          "base_uri": "https://localhost:8080/"
        },
        "id": "-Cqz7kE80mty",
        "outputId": "3205350c-168c-48d4-8c9e-0bfdd3517250"
      },
      "outputs": [
        {
          "output_type": "stream",
          "name": "stdout",
          "text": [
            "(9999, 16384, 1) (9999, 2)\n"
          ]
        }
      ],
      "source": [
        "print(X_train.shape, y_train.shape)"
      ]
    },
    {
      "cell_type": "code",
      "execution_count": 20,
      "metadata": {
        "id": "01pIkFC6w1BJ"
      },
      "outputs": [],
      "source": [
        "model = Sequential()\n",
        "\n",
        "model.add(Conv1D(16, 16, input_shape = (16384,1)))\n",
        "model.add(MaxPool1D(4, 4))\n",
        "model.add(ReLU())\n",
        "model.add(Conv1D(32, 8))\n",
        "model.add(MaxPool1D(4, 4))\n",
        "model.add(ReLU())\n",
        "model.add(Conv1D(64, 8))\n",
        "model.add(MaxPool1D(4, 4))\n",
        "model.add(ReLU())\n",
        "model.add(Conv1D(128, 8))\n",
        "model.add(MaxPool1D(4, 4))\n",
        "model.add(ReLU())\n",
        "model.add(Flatten())\n",
        "model.add(Dense(7808))\n",
        "model.add(Dense(64, activation='relu'))\n",
        "model.add(Dense(2, activation='sigmoid'))\n",
        "\n",
        "model.compile(optimizer=tf.keras.optimizers.Adam(0.001), loss='binary_crossentropy', metrics=['accuracy'])"
      ]
    },
    {
      "cell_type": "code",
      "execution_count": 21,
      "metadata": {
        "colab": {
          "base_uri": "https://localhost:8080/"
        },
        "id": "qxVd6XC9w1BM",
        "outputId": "5a41ba5b-f3d8-401e-fedd-d2b8a87bc71d"
      },
      "outputs": [
        {
          "output_type": "stream",
          "name": "stdout",
          "text": [
            "Epoch 1/5\n",
            "79/79 [==============================] - 13s 139ms/step - loss: 0.5514 - accuracy: 0.7953\n",
            "Epoch 2/5\n",
            "79/79 [==============================] - 10s 132ms/step - loss: 1.0372e-05 - accuracy: 1.0000\n",
            "Epoch 3/5\n",
            "79/79 [==============================] - 10s 133ms/step - loss: 3.1797e-06 - accuracy: 1.0000\n",
            "Epoch 4/5\n",
            "79/79 [==============================] - 10s 132ms/step - loss: 1.1488e-06 - accuracy: 1.0000\n",
            "Epoch 5/5\n",
            "79/79 [==============================] - 10s 132ms/step - loss: 5.2188e-07 - accuracy: 1.0000\n"
          ]
        }
      ],
      "source": [
        "history = model.fit(X_train, y_train, batch_size=128, epochs=5) # tf.nn.sigmoid_cross_entropy_with_logits"
      ]
    },
    {
      "cell_type": "code",
      "execution_count": 22,
      "metadata": {
        "colab": {
          "base_uri": "https://localhost:8080/",
          "height": 295
        },
        "id": "IqssaFdDw1BN",
        "outputId": "c27bed13-c0ec-4ab9-e380-a2a603fa233f"
      },
      "outputs": [
        {
          "output_type": "display_data",
          "data": {
            "image/png": "[encoded data removed]",
            "text/plain": [
              "<Figure size 936x288 with 2 Axes>"
            ]
          },
          "metadata": {
            "needs_background": "light"
          }
        }
      ],
      "source": [
        "acc = [0.] + history.history['accuracy']\n",
        "\n",
        "loss = history.history['loss']\n",
        "\n",
        "plt.figure(figsize=(13, 4))\n",
        "plt.subplot(1, 2, 1)\n",
        "plt.plot(acc, label='Training Accuracy')\n",
        "plt.legend(loc='lower right')\n",
        "plt.ylabel('Accuracy')\n",
        "plt.ylim([min(plt.ylim()),1])\n",
        "plt.title('Training Accuracy')\n",
        "plt.xlabel('epoch')\n",
        "\n",
        "plt.subplot(1, 2, 2)\n",
        "plt.plot(loss, label='Training Loss')\n",
        "plt.legend(loc='upper right')\n",
        "plt.ylabel('Categorical Cross Entropy')\n",
        "plt.ylim([0,2])\n",
        "plt.title('Training Loss')\n",
        "plt.xlabel('epoch')\n",
        "plt.show()"
      ]
    },
    {
      "cell_type": "code",
      "execution_count": null,
      "metadata": {
        "id": "6eyjDO_-Sk9l"
      },
      "outputs": [],
      "source": [
        "# model.save(\"/content/gdrive/MyDrive/GW_SOP/Code/debugging/Trial 1/data/weights_trial_3.h5\")"
      ]
    }
  ],
  "metadata": {
    "accelerator": "GPU",
    "colab": {
      "collapsed_sections": [],
      "name": "test_7.ipynb",
      "provenance": []
    },
    "interpreter": {
      "hash": "8356d31dd4c50017c60d528a0c40a4935f9d791f54e24c10e32e3a312d5b6882"
    },
    "kernelspec": {
      "display_name": "Python 3.7.6 64-bit ('base': conda)",
      "language": "python",
      "name": "python3"
    },
    "language_info": {
      "codemirror_mode": {
        "name": "ipython",
        "version": 3
      },
      "file_extension": ".py",
      "mimetype": "text/x-python",
      "name": "python",
      "nbconvert_exporter": "python",
      "pygments_lexer": "ipython3",
      "version": "3.6.9"
    },
    "orig_nbformat": 4
  },
  "nbformat": 4,
  "nbformat_minor": 0
}