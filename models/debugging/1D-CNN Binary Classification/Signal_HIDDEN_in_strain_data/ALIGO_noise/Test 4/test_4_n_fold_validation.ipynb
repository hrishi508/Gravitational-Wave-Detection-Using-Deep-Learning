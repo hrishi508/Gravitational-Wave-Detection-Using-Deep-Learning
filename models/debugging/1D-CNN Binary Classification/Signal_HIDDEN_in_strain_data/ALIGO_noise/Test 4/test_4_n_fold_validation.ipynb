{
  "cells": [
    {
      "cell_type": "code",
      "execution_count": 1,
      "metadata": {
        "colab": {
          "base_uri": "https://localhost:8080/"
        },
        "id": "Xs_OpQDIxDQW",
        "outputId": "1fe7f806-ace5-4584-cd19-aec8db016423"
      },
      "outputs": [
        {
          "output_type": "stream",
          "name": "stdout",
          "text": [
            "Mounted at /content/gdrive\n"
          ]
        }
      ],
      "source": [
        "from google.colab import drive\n",
        "drive.mount('/content/gdrive')"
      ]
    },
    {
      "cell_type": "code",
      "execution_count": 2,
      "metadata": {
        "id": "L5inbyEdw1A7"
      },
      "outputs": [],
      "source": [
        "import numpy as np\n",
        "import pandas as pd\n",
        "import matplotlib.pyplot as plt\n",
        "\n",
        "import tensorflow as tf\n",
        "from tensorflow.keras.models import Sequential\n",
        "from tensorflow.keras.layers import Dense, Conv1D, Dropout, MaxPool1D, ReLU, Flatten\n",
        "\n",
        "from sklearn.metrics import f1_score\n",
        "from sklearn.metrics import recall_score\n",
        "from sklearn.model_selection import KFold\n",
        "from sklearn.metrics import precision_score\n",
        "from sklearn.metrics import confusion_matrix\n",
        "from sklearn.preprocessing import StandardScaler\n",
        "from sklearn.model_selection import train_test_split\n",
        "from sklearn.metrics import confusion_matrix, ConfusionMatrixDisplay, roc_curve"
      ]
    },
    {
      "cell_type": "code",
      "execution_count": 3,
      "metadata": {
        "id": "hF5cR2kzw1A-"
      },
      "outputs": [],
      "source": [
        "samples_per_class = 5000\n",
        "no_of_classes = 2\n",
        "directory = \"/content/gdrive/MyDrive/GW_SOP/Code/debugging/1D-CNN Binary Classification/Signal_HIDDEN_in_strain_data/ALIGO_noise/Test 4/data/\""
      ]
    },
    {
      "cell_type": "code",
      "execution_count": 4,
      "metadata": {
        "id": "MzCUizYfw1A_"
      },
      "outputs": [],
      "source": [
        "noise_df = pd.read_csv(directory + \"Final_Merged_Noise_Reduced_No_Abs.csv\", header=None)\n",
        "noise = noise_df.values.astype(float)\n",
        "\n",
        "\n",
        "data_BBH_df = pd.read_csv(directory + \"Final_BBH_Merged_Noise_Signal.csv\", header=None)\n",
        "data_BBH = data_BBH_df.values.astype(float)"
      ]
    },
    {
      "cell_type": "code",
      "execution_count": 5,
      "metadata": {
        "colab": {
          "base_uri": "https://localhost:8080/"
        },
        "id": "kmYHuecJw1BB",
        "outputId": "601f8d23-052b-44b9-fe07-b8c42538e110"
      },
      "outputs": [
        {
          "output_type": "stream",
          "name": "stdout",
          "text": [
            "(10000, 16384)\n"
          ]
        }
      ],
      "source": [
        "X = np.concatenate((noise, data_BBH), axis=0)\n",
        "print(X.shape)"
      ]
    },
    {
      "cell_type": "code",
      "source": [
        "noise_df = None\n",
        "data_BBH_df = None\n",
        "noise = None\n",
        "data_BBH = None"
      ],
      "metadata": {
        "id": "7KVLpWbRo4Pm"
      },
      "execution_count": 6,
      "outputs": []
    },
    {
      "cell_type": "code",
      "execution_count": 7,
      "metadata": {
        "colab": {
          "base_uri": "https://localhost:8080/"
        },
        "id": "J_dSmj6xw1BE",
        "outputId": "8c06cf83-574a-4a4c-f50d-8b46a928138f"
      },
      "outputs": [
        {
          "output_type": "stream",
          "name": "stdout",
          "text": [
            "(10000, 2)\n"
          ]
        }
      ],
      "source": [
        "y = [int(i/samples_per_class) for i in range(samples_per_class*no_of_classes)]\n",
        "y = tf.keras.utils.to_categorical(y)\n",
        "print(y.shape)"
      ]
    },
    {
      "cell_type": "code",
      "execution_count": 8,
      "metadata": {
        "colab": {
          "base_uri": "https://localhost:8080/"
        },
        "id": "c9h1LUqxBQgm",
        "outputId": "28b86e7a-2e5c-437d-eff3-fe1744c904b7"
      },
      "outputs": [
        {
          "output_type": "stream",
          "name": "stdout",
          "text": [
            "[[-13.51534042  15.0379811   -5.35723771 ...   3.6938604    3.59801786\n",
            "   13.18010111]\n",
            " [ 12.27366523  -3.89128549  -2.02026803 ...  -1.36464002  14.47828922\n",
            "   -4.86593644]\n",
            " [-10.01862895   0.17694685  -2.91023867 ... -18.85805576  10.16115299\n",
            "    1.02776084]\n",
            " ...\n",
            " [-13.67972797   2.15446785  -8.3215215  ...   0.92568939   6.72647847\n",
            "    2.21346697]\n",
            " [-27.81349996  14.54215734   1.11337505 ...   6.9771555  -14.08970115\n",
            "   -0.97277836]\n",
            " [  8.08368439  -4.89964599   5.79700946 ... -15.54863684  14.35342113\n",
            "   -7.24012206]]\n"
          ]
        }
      ],
      "source": [
        "X *= 1e19\n",
        "print(X)"
      ]
    },
    {
      "cell_type": "code",
      "execution_count": 9,
      "metadata": {
        "colab": {
          "base_uri": "https://localhost:8080/"
        },
        "id": "8xirD0GDBQgm",
        "outputId": "c516f1df-2fe6-4a91-e227-46af264cd2b8"
      },
      "outputs": [
        {
          "output_type": "stream",
          "name": "stdout",
          "text": [
            "(10000, 16384, 1)\n"
          ]
        }
      ],
      "source": [
        "X = np.expand_dims(X, axis=-1)\n",
        "print(X.shape)"
      ]
    },
    {
      "cell_type": "code",
      "execution_count": 10,
      "metadata": {
        "id": "01pIkFC6w1BJ"
      },
      "outputs": [],
      "source": [
        "def create_model():    \n",
        "    model = Sequential()\n",
        "\n",
        "    model.add(Conv1D(16, 16, input_shape = (16384,1)))\n",
        "    model.add(MaxPool1D(4, 4))\n",
        "    model.add(ReLU())\n",
        "    model.add(Conv1D(32, 8))\n",
        "    model.add(MaxPool1D(4, 4))\n",
        "    model.add(ReLU())\n",
        "    model.add(Conv1D(64, 8))\n",
        "    model.add(MaxPool1D(4, 4))\n",
        "    model.add(ReLU())\n",
        "    model.add(Conv1D(128, 8))\n",
        "    model.add(MaxPool1D(4, 4))\n",
        "    model.add(ReLU())\n",
        "    model.add(Flatten())\n",
        "    model.add(Dense(64, activation='relu'))\n",
        "    model.add(Dense(2, activation='sigmoid'))\n",
        "\n",
        "    model.compile(optimizer=tf.keras.optimizers.Adam(0.001), loss='binary_crossentropy', metrics=['accuracy'])\n",
        "\n",
        "    return model"
      ]
    },
    {
      "cell_type": "code",
      "execution_count": null,
      "metadata": {
        "colab": {
          "base_uri": "https://localhost:8080/"
        },
        "id": "itdIDW8hat5I",
        "outputId": "ed407850-ab4c-43e8-b1ff-c0312bd338c2"
      },
      "outputs": [
        {
          "output_type": "stream",
          "name": "stdout",
          "text": [
            "Epoch 1/5\n",
            "59/59 [==============================] - 7s 106ms/step - loss: 0.9199 - accuracy: 0.5293\n",
            "Epoch 2/5\n",
            "59/59 [==============================] - 6s 100ms/step - loss: 0.3027 - accuracy: 0.8841\n",
            "Epoch 3/5\n",
            "59/59 [==============================] - 6s 100ms/step - loss: 4.9789e-05 - accuracy: 1.0000\n",
            "Epoch 4/5\n",
            "59/59 [==============================] - 6s 99ms/step - loss: 9.4062e-06 - accuracy: 1.0000\n",
            "Epoch 5/5\n",
            "59/59 [==============================] - 6s 99ms/step - loss: 1.9554e-06 - accuracy: 1.0000\n",
            "---------------------------------------------------------------------------------------------------------\n",
            "Epoch 1/5\n",
            "59/59 [==============================] - 7s 99ms/step - loss: 0.8438 - accuracy: 0.5561\n",
            "Epoch 2/5\n",
            "59/59 [==============================] - 6s 100ms/step - loss: 0.1601 - accuracy: 0.9539\n",
            "Epoch 3/5\n",
            "59/59 [==============================] - 6s 100ms/step - loss: 2.2163e-05 - accuracy: 1.0000\n",
            "Epoch 4/5\n",
            "59/59 [==============================] - 6s 100ms/step - loss: 7.3884e-06 - accuracy: 1.0000\n",
            "Epoch 5/5\n",
            "59/59 [==============================] - 6s 100ms/step - loss: 2.5252e-06 - accuracy: 1.0000\n",
            "---------------------------------------------------------------------------------------------------------\n",
            "Epoch 1/5\n",
            "59/59 [==============================] - 7s 100ms/step - loss: 0.9024 - accuracy: 0.5216\n",
            "Epoch 2/5\n",
            "59/59 [==============================] - 6s 100ms/step - loss: 0.2029 - accuracy: 0.9473\n",
            "Epoch 3/5\n",
            "59/59 [==============================] - 6s 101ms/step - loss: 1.6390e-06 - accuracy: 1.0000\n",
            "Epoch 4/5\n",
            "59/59 [==============================] - 6s 100ms/step - loss: 1.1730e-06 - accuracy: 1.0000\n",
            "Epoch 5/5\n",
            "59/59 [==============================] - 6s 100ms/step - loss: 9.6214e-07 - accuracy: 1.0000\n",
            "---------------------------------------------------------------------------------------------------------\n",
            "Epoch 1/5\n"
          ]
        }
      ],
      "source": [
        "N_splits = 4\n",
        "n_epochs = 5\n",
        "\n",
        "kf = KFold(n_splits = N_splits, shuffle = True)\n",
        "acc = [0 for i in range(n_epochs+1)]\n",
        "loss = [0 for i in range(n_epochs)]\n",
        "precision = 0\n",
        "recall = 0\n",
        "score = 0\n",
        "cm = np.zeros((2,2))\n",
        "\n",
        "precision_train = 0\n",
        "recall_train = 0\n",
        "score_train = 0\n",
        "cm_train = np.zeros((2,2))\n",
        "k = 1\n",
        "\n",
        "final = plt.figure()\n",
        "plt.xlabel('False Positive Rate', figure = final)\n",
        "plt.ylabel('True Positive Rate', figure = final)\n",
        "\n",
        "for train_index, test_index in kf.split(X):\n",
        "\n",
        "    fig = plt.figure()\n",
        "    plt.xlabel('False Positive Rate', figure = fig)\n",
        "    plt.ylabel('True Positive Rate', figure = fig)\n",
        "    \n",
        "    X_train, X_test = X[train_index], X[test_index]\n",
        "    y_train, y_test = y[train_index], y[test_index]\n",
        "\n",
        "    # print(X_train.shape, y_train.shape, X_test.shape, y_test.shape)\n",
        "    # print(y_train)\n",
        "    # print(y_test)\n",
        "\n",
        "    model = create_model()\n",
        "    history = model.fit(X_train, y_train, batch_size=128, epochs=n_epochs)\n",
        "\n",
        "    print(\"---------------------------------------------------------------------------------------------------------\")\n",
        "\n",
        "    tmp_acc = history.history['accuracy']\n",
        "    tmp_loss = history.history['loss']\n",
        "\n",
        "    for i in range(n_epochs):\n",
        "        acc[i+1] += tmp_acc[i]\n",
        "        loss[i] += tmp_loss[i]\n",
        "\n",
        "    pred = model.predict(X_test)\n",
        "    y_pred = np.argmax(pred, axis = 1)\n",
        "    y_true = np.argmax(y_test, axis = 1)\n",
        "\n",
        "    pred_train = model.predict(X_train)\n",
        "    y_pred_train = np.argmax(pred_train, axis = 1)\n",
        "    y_true_train = np.argmax(y_train, axis = 1)\n",
        "\n",
        "    precision += precision_score(y_true, y_pred, average='binary')\n",
        "    recall += recall_score(y_true, y_pred, average='binary')\n",
        "    score += f1_score(y_true, y_pred, average='binary')\n",
        "    cm = np.add(cm, confusion_matrix(y_true, y_pred, labels=[0, 1]))\n",
        "\n",
        "    precision_train += precision_score(y_true_train, y_pred_train, average='binary')\n",
        "    recall_train += recall_score(y_true_train, y_pred_train, average='binary')\n",
        "    score_train += f1_score(y_true_train, y_pred_train, average='binary')\n",
        "    cm_train = np.add(cm_train, confusion_matrix(y_true_train, y_pred_train, labels=[0, 1]))\n",
        "\n",
        "    pos_probs = pred[:,1]\n",
        "    fpr, tpr, _ = roc_curve(y_true, pos_probs)\n",
        "    plt.plot(fpr, tpr, figure = fig, label = 'Fold No. ' + str(k))\n",
        "    plt.legend(loc='lower right')\n",
        "    plt.savefig(directory + 'roc_'+str(N_splits)+'-fold_'+str(k)+'.png', figure = fig)\n",
        "    plt.close()\n",
        "    plt.plot(fpr, tpr, figure = final, label = 'Fold No. ' + str(k))\n",
        "    k += 1\n",
        "\n",
        "plt.legend(loc='lower right')\n",
        "plt.savefig(directory[:-5]+\"screenshots/test_roc_\"+str(N_splits)+\".png\")\n",
        "plt.show()"
      ]
    },
    {
      "cell_type": "code",
      "execution_count": null,
      "metadata": {
        "id": "-Ibt5Fqfo-NY"
      },
      "outputs": [],
      "source": [
        "# Train Data\n",
        "\n",
        "final_accuracy = acc[n_epochs]/N_splits\n",
        "final_precision = precision_train/N_splits\n",
        "final_recall = recall_train/N_splits\n",
        "final_score = score_train/N_splits\n",
        "final_cm = cm_train/N_splits\n",
        "\n",
        "print('Accuracy: %.3f' % final_accuracy)\n",
        "print('Precision: %.3f' % final_precision)\n",
        "print('Recall: %.3f' % final_recall)\n",
        "print('F1-Score: %.3f' % final_score)\n",
        "\n",
        "disp = ConfusionMatrixDisplay(confusion_matrix=final_cm, display_labels=[0, 1])\n",
        "disp.plot()\n",
        "plt.title('Acc.:'+str(round(final_accuracy, 3))+'   Prec.:'+str(round(final_precision, 3))+'   Recall:'+str(round(final_recall, 3))+'   F1:'+str(round(final_score, 3)))\n",
        "plt.savefig(directory[:-5]+\"screenshots/train_cm_\"+str(N_splits)+\".png\")\n",
        "plt.show()"
      ]
    },
    {
      "cell_type": "code",
      "execution_count": null,
      "metadata": {
        "id": "zlsTBrdIat5K"
      },
      "outputs": [],
      "source": [
        "# Test Data\n",
        "\n",
        "final_precision = precision/N_splits\n",
        "final_recall = recall/N_splits\n",
        "final_score = score/N_splits\n",
        "final_cm = cm/N_splits\n",
        "\n",
        "print('Precision: %.3f' % final_precision)\n",
        "print('Recall: %.3f' % final_recall)\n",
        "print('F1-Score: %.3f' % final_score)\n",
        "\n",
        "disp = ConfusionMatrixDisplay(confusion_matrix=final_cm, display_labels=[0, 1])\n",
        "disp.plot()\n",
        "plt.title('Prec.:'+str(round(final_precision, 3))+'   Recall:'+str(round(final_recall, 3))+'   F1:'+str(round(final_score, 3)))\n",
        "plt.savefig(directory[:-5]+\"screenshots/test_cm_\"+str(N_splits)+\".png\")\n",
        "plt.show()"
      ]
    },
    {
      "cell_type": "code",
      "execution_count": null,
      "metadata": {
        "id": "IqssaFdDw1BN"
      },
      "outputs": [],
      "source": [
        "acc_1 = [acc[i]/N_splits for i in range(n_epochs+1)]\n",
        "loss_1 = [loss[i]/N_splits for i in range(n_epochs)]\n",
        "\n",
        "plt.figure(figsize=(13, 4))\n",
        "plt.subplot(1, 2, 1)\n",
        "plt.plot(acc_1, label='Training Accuracy')\n",
        "plt.legend(loc='lower right')\n",
        "plt.ylabel('Accuracy')\n",
        "plt.ylim([min(plt.ylim()),1])\n",
        "plt.title('Training Accuracy')\n",
        "plt.xlabel('epoch')\n",
        "\n",
        "plt.subplot(1, 2, 2)\n",
        "plt.plot(loss_1, label='Training Loss')\n",
        "plt.legend(loc='upper right')\n",
        "plt.ylabel('Categorical Cross Entropy')\n",
        "plt.ylim([0,2])\n",
        "plt.title('Training Loss')\n",
        "plt.xlabel('epoch')\n",
        "plt.savefig(directory[:-5]+\"screenshots/graph_\"+str(N_splits)+\".png\")\n",
        "plt.show()"
      ]
    }
  ],
  "metadata": {
    "accelerator": "GPU",
    "colab": {
      "collapsed_sections": [],
      "name": "test_4_n_fold_validation.ipynb",
      "provenance": []
    },
    "interpreter": {
      "hash": "8356d31dd4c50017c60d528a0c40a4935f9d791f54e24c10e32e3a312d5b6882"
    },
    "kernelspec": {
      "display_name": "Python 3.7.6 64-bit ('base': conda)",
      "language": "python",
      "name": "python3"
    },
    "language_info": {
      "codemirror_mode": {
        "name": "ipython",
        "version": 3
      },
      "file_extension": ".py",
      "mimetype": "text/x-python",
      "name": "python",
      "nbconvert_exporter": "python",
      "pygments_lexer": "ipython3",
      "version": "3.6.9"
    },
    "orig_nbformat": 4
  },
  "nbformat": 4,
  "nbformat_minor": 0
}