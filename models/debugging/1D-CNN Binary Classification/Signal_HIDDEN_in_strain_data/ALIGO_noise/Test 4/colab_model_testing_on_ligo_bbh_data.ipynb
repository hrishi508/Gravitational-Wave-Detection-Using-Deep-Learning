{
  "cells": [
    {
      "cell_type": "code",
      "execution_count": 13,
      "metadata": {
        "colab": {
          "base_uri": "https://localhost:8080/"
        },
        "id": "Xs_OpQDIxDQW",
        "outputId": "268e6749-694c-40a2-bcab-fdd89a12eb18"
      },
      "outputs": [
        {
          "output_type": "stream",
          "name": "stdout",
          "text": [
            "Drive already mounted at /content/gdrive; to attempt to forcibly remount, call drive.mount(\"/content/gdrive\", force_remount=True).\n"
          ]
        }
      ],
      "source": [
        "from google.colab import drive\n",
        "drive.mount('/content/gdrive')"
      ]
    },
    {
      "cell_type": "code",
      "execution_count": 14,
      "metadata": {
        "id": "L5inbyEdw1A7"
      },
      "outputs": [],
      "source": [
        "import numpy as np\n",
        "import pandas as pd\n",
        "import matplotlib.pyplot as plt\n",
        "from keras.models import load_model\n",
        "\n",
        "import tensorflow as tf\n",
        "from tensorflow.keras.models import Sequential\n",
        "from tensorflow.keras.layers import Dense, Conv1D, Dropout, MaxPool1D, ReLU, Flatten\n",
        "\n",
        "from sklearn.metrics import f1_score\n",
        "from sklearn.metrics import recall_score\n",
        "from sklearn.metrics import precision_score\n",
        "from sklearn.metrics import confusion_matrix\n",
        "from sklearn.preprocessing import StandardScaler\n",
        "from sklearn.model_selection import train_test_split\n",
        "from sklearn.metrics import confusion_matrix, ConfusionMatrixDisplay, roc_curve"
      ]
    },
    {
      "cell_type": "code",
      "source": [
        "directory = \"/content/gdrive/MyDrive/GW_SOP/Code/debugging/1D-CNN Binary Classification/Signal_HIDDEN_in_strain_data/ALIGO_noise/Test 4/data/\""
      ],
      "metadata": {
        "id": "UqutuT6KSCwV"
      },
      "execution_count": 76,
      "outputs": []
    },
    {
      "cell_type": "code",
      "execution_count": 77,
      "metadata": {
        "id": "MzCUizYfw1A_",
        "colab": {
          "base_uri": "https://localhost:8080/"
        },
        "outputId": "5746cb1c-2308-4058-fc05-e424fdbdb5f2"
      },
      "outputs": [
        {
          "output_type": "stream",
          "name": "stdout",
          "text": [
            "48\n",
            "[[ -0.49854737  -0.44398916  -0.39978193 ...  -6.52569751  -6.47762335\n",
            "   -6.40958272]\n",
            " [ -0.28612673  -0.16123224  -0.22758115 ...   0.16484453   0.16148672\n",
            "    0.11877726]\n",
            " [ -0.45770554  -0.4019826   -0.37596076 ...  -3.01223743  -2.9156767\n",
            "   -2.82206414]\n",
            " ...\n",
            " [ -1.95546708   7.44894473 -13.16565383 ... -10.23853211  -0.45718099\n",
            "   -8.30393007]\n",
            " [ 18.75970637  -4.12351768 -13.54554715 ...  -7.44579682   0.73848328\n",
            "   -3.76604019]\n",
            " [ -1.37618357   7.81200447   6.22594025 ...  -4.89525391   0.74339223\n",
            "  -12.57868259]]\n",
            "(72, 16384, 1)\n",
            "[1, 1, 1, 1, 1, 1, 1, 1, 1, 1, 1, 1, 1, 1, 1, 1, 1, 1, 1, 1, 1, 1, 1, 1, 1, 1, 1, 1, 1, 1, 1, 1, 1, 1, 1, 1, 1, 1, 1, 1, 1, 1, 1, 1, 1, 1, 1, 1, 0, 0, 0, 0, 0, 0, 0, 0, 0, 0, 0, 0, 0, 0, 0, 0, 0, 0, 0, 0, 0, 0, 0, 0]\n",
            "72\n"
          ]
        }
      ],
      "source": [
        "data_BBH_df = pd.read_csv(\"/content/gdrive/MyDrive/GW_SOP/Data/better_results/Processed_BBH_Merged_original.csv\", header=None)\n",
        "data_BBH = data_BBH_df.values.astype(float)\n",
        "\n",
        "noise_df = pd.read_csv(\"/content/gdrive/MyDrive/GW_SOP/Data/better_results/Noise.csv\", header=None)\n",
        "noise = noise_df.values.astype(float)\n",
        "\n",
        "print(len(data_BBH_df.index))\n",
        "\n",
        "X = np.concatenate((data_BBH, noise), axis=0)\n",
        "\n",
        "y = [1 for i in range(48)] + [0 for i in range(24)]\n",
        "\n",
        "X *= 1e19\n",
        "print(X)\n",
        "\n",
        "# X *= 1e18\n",
        "# print(X)\n",
        "\n",
        "# X *= 1e20\n",
        "# print(X)\n",
        "\n",
        "# X /= 3\n",
        "# print(X)\n",
        "\n",
        "X = np.expand_dims(X, axis=-1)\n",
        "print(X.shape)\n",
        "print(y)\n",
        "print(len(y))"
      ]
    },
    {
      "cell_type": "code",
      "execution_count": 78,
      "metadata": {
        "id": "qxVd6XC9w1BM"
      },
      "outputs": [],
      "source": [
        "# model = load_model(\"/content/gdrive/MyDrive/GW_SOP/Code/debugging/1D-CNN Binary Classification/Signal_HIDDEN_in_strain_data/White_noise/Test 6 alternate hard/data/model_trial_1.h5\")"
      ]
    },
    {
      "cell_type": "code",
      "source": [
        "model = load_model(directory + \"model_trial_1.h5\")"
      ],
      "metadata": {
        "id": "VrjYYu9_Gb1T"
      },
      "execution_count": 79,
      "outputs": []
    },
    {
      "cell_type": "code",
      "source": [
        "pred = model.predict(X)\n",
        "# print(pred)\n",
        "\n",
        "# print(np.argmax(pred, axis = 1))"
      ],
      "metadata": {
        "id": "SoKM20z9NKSa"
      },
      "execution_count": 80,
      "outputs": []
    },
    {
      "cell_type": "code",
      "source": [
        "y_pred = np.argmax(pred, axis = 1)\n",
        "correct = 0\n",
        "\n",
        "for i in range(len(X)):\n",
        "  if y_pred[i]==y[i]:\n",
        "    correct += 1\n",
        "\n",
        "acc = (correct/len(X))*100\n",
        "print(f\"Total no. of data samples: {len(X)}\")\n",
        "print(f\"No. of correct predictions: {correct}\")\n",
        "print(f\"accuracy: {acc}\")"
      ],
      "metadata": {
        "colab": {
          "base_uri": "https://localhost:8080/"
        },
        "id": "Pmgt8aQSgMZZ",
        "outputId": "4fc8fc9f-8984-4c29-928b-7df9c2a73976"
      },
      "execution_count": 81,
      "outputs": [
        {
          "output_type": "stream",
          "name": "stdout",
          "text": [
            "Total no. of data samples: 72\n",
            "No. of correct predictions: 25\n",
            "accuracy: 34.72222222222222\n"
          ]
        }
      ]
    },
    {
      "cell_type": "code",
      "source": [
        "precision = precision_score(y, y_pred, average='binary')\n",
        "print('Precision: %.3f' % precision)\n",
        "\n",
        "recall = recall_score(y, y_pred, average='binary')\n",
        "print('Recall: %.3f' % recall)\n",
        "\n",
        "score = f1_score(y, y_pred, average='binary')\n",
        "print('F1-Score: %.3f' % score)\n",
        "\n",
        "cm = confusion_matrix(y, y_pred, labels=[0, 1])\n",
        "disp = ConfusionMatrixDisplay(confusion_matrix=cm, display_labels=[0, 1])\n",
        "disp.plot()\n",
        "plt.title('Acc.:'+str(round(acc, 3))+'   Prec.:'+str(round(precision, 3))+'   Recall:'+str(round(recall, 3))+'   F1:'+str(round(score, 3)))\n",
        "plt.savefig(directory[:-5]+\"screenshots/real_cm_1.png\")\n",
        "plt.show()"
      ],
      "metadata": {
        "colab": {
          "base_uri": "https://localhost:8080/",
          "height": 346
        },
        "id": "P3Rlv4BKKe9-",
        "outputId": "6a023e80-1100-411d-991b-903b8de6160e"
      },
      "execution_count": 82,
      "outputs": [
        {
          "output_type": "stream",
          "name": "stdout",
          "text": [
            "Precision: 1.000\n",
            "Recall: 0.021\n",
            "F1-Score: 0.041\n"
          ]
        },
        {
          "output_type": "display_data",
          "data": {
            "image/png": "[encoded data removed]",
            "text/plain": [
              "<Figure size 432x288 with 2 Axes>"
            ]
          },
          "metadata": {
            "needs_background": "light"
          }
        }
      ]
    },
    {
      "cell_type": "code",
      "source": [
        "pred = model.predict(X)\n",
        "pos_probs = pred[:,1]\n",
        "fpr, tpr, _ = roc_curve(y, pos_probs)\n",
        "plt.plot(fpr, tpr)\n",
        "plt.xlabel('False Positive Rate')\n",
        "plt.ylabel('True Positive Rate')\n",
        "plt.savefig(directory[:-5]+\"screenshots/real_roc_1.png\")\n",
        "plt.show()"
      ],
      "metadata": {
        "colab": {
          "base_uri": "https://localhost:8080/",
          "height": 279
        },
        "id": "MN43KC7mKezE",
        "outputId": "a44468e2-b67c-45fe-c180-65801c90678a"
      },
      "execution_count": 83,
      "outputs": [
        {
          "output_type": "display_data",
          "data": {
            "image/png": "[encoded data removed]",
            "text/plain": [
              "<Figure size 432x288 with 1 Axes>"
            ]
          },
          "metadata": {
            "needs_background": "light"
          }
        }
      ]
    },
    {
      "cell_type": "code",
      "source": [
        "bbh_events= ['GW190519_153544',\n",
        "             'GW170823',\n",
        "             'GW190814',\n",
        "             'GW190728_064510',\n",
        "             'GW151226',\n",
        "             'GW190421_213856',\n",
        "             'GW190727_060333',\n",
        "             'GW190513_205428',\n",
        "             'GW190521_074359',\n",
        "             'GW190408_181802',\n",
        "             'GW170729',\n",
        "             'GW190915_235702',\n",
        "             'GW190929_012149',\n",
        "             'GW190910_112807',\n",
        "             'GW170104',\n",
        "             'GW190909_114149',\n",
        "             'GW190424_180648',\n",
        "             'GW190512_180714',\n",
        "             'GW190412',\n",
        "             'GW190517_055101',\n",
        "             'GW190620_030421',\n",
        "             'GW190706_222641',\n",
        "             'GW170814',\n",
        "             'GW190708_232457',\n",
        "             'GW151012',\n",
        "             'GW190930_133541',\n",
        "             'GW190731_140936',\n",
        "             'GW190828_065509',\n",
        "             'GW190701_203306',\n",
        "             'GW150914',\n",
        "             'GW190720_000836',\n",
        "             'GW190719_215514',\n",
        "             'GW190924_021846',\n",
        "             'GW170608',\n",
        "             'GW190503_185404',\n",
        "             'GW190514_065416',\n",
        "             'GW190527_092055',\n",
        "             'GW190413_134308',\n",
        "             'GW190425',\n",
        "             'GW190602_175927',\n",
        "             'GW190521',\n",
        "             'GW170809',\n",
        "             'GW170818',\n",
        "             'GW190413_052954',\n",
        "             'GW190828_063405',\n",
        "             'GW190707_093326',\n",
        "             'GW190630_185205',\n",
        "             'GW190803_022701']"
      ],
      "metadata": {
        "id": "ELT9TSKRSmDl"
      },
      "execution_count": 84,
      "outputs": []
    },
    {
      "cell_type": "code",
      "source": [
        "classes = [\"Noise\", \"BBH\"]\n",
        "\n",
        "for i in range(len(X)):\n",
        "  prob = list(pred[i])\n",
        "  fig = plt.figure(figsize =(4.5,4.5))\n",
        "\n",
        "  plt.bar(classes, prob, color ='maroon',\n",
        "          width = 0.4)\n",
        "  \n",
        "  plt.ylabel(\"Probability\")\n",
        "\n",
        "  if i < 48:\n",
        "    plt.title(bbh_events[i])\n",
        "  else:\n",
        "    plt.title(\"Noise\")\n",
        "\n",
        "  plt.savefig(directory + \"bar plots/\" + str(i) + \".png\")\n",
        "  plt.close()\n",
        "  # plt.show()"
      ],
      "metadata": {
        "id": "lVEZcregKenv"
      },
      "execution_count": 85,
      "outputs": []
    }
  ],
  "metadata": {
    "colab": {
      "collapsed_sections": [],
      "name": "colab_model_testing_on_ligo_bbh_data.ipynb",
      "provenance": []
    },
    "interpreter": {
      "hash": "8356d31dd4c50017c60d528a0c40a4935f9d791f54e24c10e32e3a312d5b6882"
    },
    "kernelspec": {
      "display_name": "Python 3.7.6 64-bit ('base': conda)",
      "language": "python",
      "name": "python3"
    },
    "language_info": {
      "codemirror_mode": {
        "name": "ipython",
        "version": 3
      },
      "file_extension": ".py",
      "mimetype": "text/x-python",
      "name": "python",
      "nbconvert_exporter": "python",
      "pygments_lexer": "ipython3",
      "version": "3.6.9"
    },
    "orig_nbformat": 4
  },
  "nbformat": 4,
  "nbformat_minor": 0
}