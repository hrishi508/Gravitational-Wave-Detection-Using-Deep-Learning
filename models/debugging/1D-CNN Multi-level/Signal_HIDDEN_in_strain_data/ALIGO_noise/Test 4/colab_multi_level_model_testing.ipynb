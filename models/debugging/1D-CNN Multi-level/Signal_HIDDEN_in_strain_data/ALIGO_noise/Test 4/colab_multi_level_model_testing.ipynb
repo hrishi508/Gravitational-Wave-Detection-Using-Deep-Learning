{
  "cells": [
    {
      "cell_type": "markdown",
      "metadata": {
        "id": "dwy3ztM1krqq"
      },
      "source": [
        "# Imports"
      ]
    },
    {
      "cell_type": "code",
      "execution_count": 140,
      "metadata": {
        "colab": {
          "base_uri": "https://localhost:8080/"
        },
        "id": "Xs_OpQDIxDQW",
        "outputId": "94e19074-0aa5-4924-c107-1d3b072ed622"
      },
      "outputs": [
        {
          "name": "stdout",
          "output_type": "stream",
          "text": [
            "Drive already mounted at /content/gdrive; to attempt to forcibly remount, call drive.mount(\"/content/gdrive\", force_remount=True).\n"
          ]
        }
      ],
      "source": [
        "from google.colab import drive\n",
        "drive.mount('/content/gdrive')"
      ]
    },
    {
      "cell_type": "code",
      "execution_count": 141,
      "metadata": {
        "id": "L5inbyEdw1A7"
      },
      "outputs": [],
      "source": [
        "import numpy as np\n",
        "import pandas as pd\n",
        "import matplotlib.pyplot as plt\n",
        "import itertools\n",
        "\n",
        "import tensorflow as tf\n",
        "from keras.models import load_model\n",
        "from tensorflow.keras.models import Sequential\n",
        "from tensorflow.keras.layers import Dense, Conv1D, Dropout, MaxPool1D, ReLU, Flatten, BatchNormalization\n",
        "\n",
        "from sklearn.metrics import f1_score\n",
        "from sklearn.metrics import recall_score\n",
        "from sklearn.metrics import precision_score\n",
        "from sklearn.metrics import confusion_matrix\n",
        "from sklearn.preprocessing import StandardScaler\n",
        "from sklearn.model_selection import train_test_split\n",
        "from sklearn.metrics import confusion_matrix, ConfusionMatrixDisplay, roc_curve, accuracy_score"
      ]
    },
    {
      "cell_type": "code",
      "execution_count": 246,
      "metadata": {
        "id": "5F2nsIcjoKyP"
      },
      "outputs": [],
      "source": [
        "directory = \"/content/gdrive/MyDrive/GW_SOP/Code/debugging/1D-CNN Multi-level/Signal_HIDDEN_in_strain_data/ALIGO_noise/Test 4/data/\""
      ]
    },
    {
      "cell_type": "code",
      "execution_count": 247,
      "metadata": {
        "id": "twXvncE4vczL"
      },
      "outputs": [],
      "source": [
        "bbh_events= ['GW190519_153544',\n",
        "             'GW170823',\n",
        "             'GW190814',\n",
        "             'GW190728_064510',\n",
        "             'GW151226',\n",
        "             'GW190421_213856',\n",
        "             'GW190727_060333',\n",
        "             'GW190513_205428',\n",
        "             'GW190521_074359',\n",
        "             'GW190408_181802',\n",
        "             'GW170729',\n",
        "             'GW190915_235702',\n",
        "             'GW190929_012149',\n",
        "             'GW190910_112807',\n",
        "             'GW170104',\n",
        "             'GW190909_114149',\n",
        "             'GW190424_180648',\n",
        "             'GW190512_180714',\n",
        "             'GW190412',\n",
        "             'GW190517_055101',\n",
        "             'GW190620_030421',\n",
        "             'GW190706_222641',\n",
        "             'GW170814',\n",
        "             'GW190708_232457',\n",
        "             'GW151012',\n",
        "             'GW190930_133541',\n",
        "             'GW190731_140936',\n",
        "             'GW190828_065509',\n",
        "             'GW190701_203306',\n",
        "             'GW150914',\n",
        "             'GW190720_000836',\n",
        "             'GW190719_215514',\n",
        "             'GW190924_021846',\n",
        "             'GW170608',\n",
        "             'GW190503_185404',\n",
        "             'GW190514_065416',\n",
        "             'GW190527_092055',\n",
        "             'GW190413_134308',\n",
        "             'GW190425',\n",
        "             'GW190602_175927',\n",
        "             'GW190521',\n",
        "             'GW170809',\n",
        "             'GW170818',\n",
        "             'GW190413_052954',\n",
        "             'GW190828_063405',\n",
        "             'GW190707_093326',\n",
        "             'GW190630_185205',\n",
        "             'GW190803_022701']\n",
        "\n",
        "bns_events = ['GW170817', 'GW190425']"
      ]
    },
    {
      "cell_type": "markdown",
      "metadata": {
        "id": "LV9CfWZRisV7"
      },
      "source": [
        "# Testing on unseen generated data"
      ]
    },
    {
      "cell_type": "markdown",
      "metadata": {
        "id": "KR2Mz-kgvPm-"
      },
      "source": [
        "## Level 1"
      ]
    },
    {
      "cell_type": "code",
      "execution_count": 248,
      "metadata": {
        "id": "MzCUizYfw1A_"
      },
      "outputs": [],
      "source": [
        "noise_df = pd.read_csv(\"/content/gdrive/MyDrive/GW_SOP/Data/val_Final_Merged_Noise_Reduced_No_Abs.csv\", header=None)\n",
        "noise = noise_df.values.astype(float)\n",
        "\n",
        "\n",
        "data_BBH_df = pd.read_csv(\"/content/gdrive/MyDrive/GW_SOP/Data/val_Final_BBH_Merged_Noise_Signal_Reduced_No_ABS.csv\", header=None)\n",
        "data_BBH = data_BBH_df.values.astype(float)\n",
        "\n",
        "\n",
        "data_BNS_df = pd.read_csv(\"/content/gdrive/MyDrive/GW_SOP/Data/val_Final_BNS_Merged_Noise_Signal_Reduced_No_ABS.csv\", header=None)\n",
        "data_BNS = data_BNS_df.values.astype(float)"
      ]
    },
    {
      "cell_type": "code",
      "execution_count": 249,
      "metadata": {
        "colab": {
          "base_uri": "https://localhost:8080/"
        },
        "id": "kmYHuecJw1BB",
        "outputId": "cb4317e0-cd80-47f5-a9cf-07050d296c4a"
      },
      "outputs": [
        {
          "name": "stdout",
          "output_type": "stream",
          "text": [
            "(3000, 16384)\n"
          ]
        }
      ],
      "source": [
        "X = np.concatenate((noise, data_BBH, data_BNS), axis=0)\n",
        "print(X.shape)"
      ]
    },
    {
      "cell_type": "code",
      "execution_count": 250,
      "metadata": {
        "colab": {
          "base_uri": "https://localhost:8080/"
        },
        "id": "8QXIloAgn9Zr",
        "outputId": "9360fe41-5b7c-4bd5-8eb1-5f6bb7068363"
      },
      "outputs": [
        {
          "name": "stdout",
          "output_type": "stream",
          "text": [
            "[[-12.66237375  -7.10454873  -1.93002241 ...   7.75026284 -19.27366344\n",
            "   16.74202077]\n",
            " [-14.04545007   2.89150861   6.69552833 ...   7.72863868  13.51669763\n",
            "   -0.15894143]\n",
            " [ -0.19188579   5.38917682   3.95968425 ... -12.60226351   1.81652994\n",
            "   -6.16624244]\n",
            " ...\n",
            " [ 16.38978149   4.00031024 -11.03916174 ...  15.21480913 -14.41520939\n",
            "    8.74220208]\n",
            " [ -2.65177947 -11.11591142 -18.04493691 ...  26.24060909 -25.77572416\n",
            "    9.39236201]\n",
            " [-26.984002    10.16253588 -17.68832777 ...   9.91613418   2.59292417\n",
            "    1.59885639]]\n"
          ]
        }
      ],
      "source": [
        "X *= 1e19\n",
        "print(X)"
      ]
    },
    {
      "cell_type": "code",
      "execution_count": 251,
      "metadata": {
        "colab": {
          "base_uri": "https://localhost:8080/"
        },
        "id": "J_dSmj6xw1BE",
        "outputId": "377c5f7d-4a85-4a28-e82f-34db65898171"
      },
      "outputs": [
        {
          "name": "stdout",
          "output_type": "stream",
          "text": [
            "[[ 0 -1]\n",
            " [ 0 -1]\n",
            " [ 0 -1]\n",
            " ...\n",
            " [ 1  1]\n",
            " [ 1  1]\n",
            " [ 1  1]]\n"
          ]
        }
      ],
      "source": [
        "y = [[0, -1] for i in range(1000)] + [[1, 0] for i in range(1000)] + [[1, 1] for i in range(1000)]\n",
        "y = np.array(y)\n",
        "print(y)"
      ]
    },
    {
      "cell_type": "code",
      "execution_count": 252,
      "metadata": {
        "colab": {
          "base_uri": "https://localhost:8080/"
        },
        "id": "8xirD0GDBQgm",
        "outputId": "61e6c905-4859-4fbd-b5c1-ae0734377055"
      },
      "outputs": [
        {
          "name": "stdout",
          "output_type": "stream",
          "text": [
            "(3000, 16384, 1)\n"
          ]
        }
      ],
      "source": [
        "X = np.expand_dims(X, axis=-1)\n",
        "print(X.shape)"
      ]
    },
    {
      "cell_type": "code",
      "execution_count": 253,
      "metadata": {
        "id": "I-Jk3rjDioj0"
      },
      "outputs": [],
      "source": [
        "X_test_l1, _, y, _ = train_test_split(X, y, test_size=1)\n",
        "\n",
        "y_l2 = [y[i,1] for i in range(len(y))]\n",
        "y_test_l1 = [y[i,0] for i in range(len(y))]"
      ]
    },
    {
      "cell_type": "code",
      "execution_count": 254,
      "metadata": {
        "colab": {
          "base_uri": "https://localhost:8080/"
        },
        "id": "uYWtfNQgptQX",
        "outputId": "23084d9b-ff5d-490c-a2f7-10a25c024a56"
      },
      "outputs": [
        {
          "name": "stdout",
          "output_type": "stream",
          "text": [
            "[0, 1, -1, 1, -1, -1, 0, -1, 0, 0, 0, -1, 0, -1, 0, -1, 1, 0, 1, 1, 1, 0, -1, 1, 0, 0, 1, -1, 1, 0, -1, -1, 0, -1, 0, 0, -1, 1, -1, 0, 0, 0, 0, 0, 0, 0, -1, 1, 0, 1, 0, 0, 0, 0, 1, 0, 1, 1, -1, -1, 1, -1, -1, 1, -1, -1, -1, 1, -1, 1, 1, 0, 1, -1, 1, 0, 1, 1, 1, 1, 1, -1, 1, -1, 0, 0, 0, 1, 1, 1, -1, -1, 0, -1, -1, 0, -1, -1, -1, 0, 1, 1, -1, 1, -1, -1, -1, 0, 0, 1, -1, 1, -1, 1, -1, -1, -1, -1, 0, 1, 1, 0, 0, 1, 0, 1, 0, 1, 0, -1, -1, 1, 1, 1, 0, 1, 0, 1, -1, -1, 1, -1, -1, 1, 1, -1, -1, 0, -1, -1, 0, -1, -1, -1, 0, -1, -1, 1, 1, 1, 1, 1, 1, 0, -1, 1, 1, 1, 0, 1, -1, -1, 1, -1, 0, 0, -1, 1, 0, 0, -1, 0, 0, -1, -1, 1, -1, 1, 1, 1, -1, 1, 1, 0, 0, -1, -1, 1, 1, 1, -1, -1, 1, -1, 0, -1, -1, -1, 1, 0, -1, -1, 0, 1, 1, 0, -1, -1, 0, 1, -1, -1, 1, 1, 0, 0, 1, 1, 0, 1, -1, 0, 1, 1, 0, -1, -1, 0, 1, -1, 0, 1, 1, 1, -1, 1, 0, 1, 0, -1, 0, -1, 1, 1, -1, 1, 1, 0, 0, 1, -1, 0, -1, 0, 0, 0, -1, 0, 1, 0, 1, 0, 0, -1, 0, -1, 0, -1, -1, 1, -1, -1, 1, 0, 0, 1, 0, 0, 0, -1, -1, -1, 0, -1, 0, -1, -1, -1, -1, 1, 0, -1, -1, 1, 1, 1, -1, 1, -1, 1, 0, -1, 0, 1, -1, -1, 0, 0, 0, 1, 0, -1, 1, 0, 0, 1, 0, -1, 1, 0, 1, 0, 0, -1, 1, -1, 0, 0, 1, -1, 0, -1, 1, 1, -1, -1, 1, 0, 1, 1, 1, 1, -1, 0, 0, -1, 1, 0, 0, -1, 1, 1, -1, 1, 0, 0, 1, -1, 1, -1, -1, 0, 0, 1, 1, 1, 0, 1, 0, -1, -1, -1, 1, 0, 1, 0, 1, 0, -1, 1, -1, 1, 1, 0, 0, 0, 1, -1, -1, 1, 1, 0, -1, -1, 0, 0, 0, 0, 1, 1, 0, 1, 0, 0, 0, 1, 0, -1, -1, 0, 1, 0, 1, -1, 0, -1, 1, 0, 1, 0, -1, 1, 0, 0, 1, 0, -1, -1, 0, 1, 0, 1, 1, 1, 1, 1, -1, 1, 0, 0, 1, 1, 1, 0, 1, 0, -1, 0, 1, 0, -1, -1, 0, 1, -1, 1, 1, 1, -1, 1, 0, 1, 1, -1, 1, 1, 0, 0, 1, 1, 1, 0, 0, -1, -1, -1, -1, 1, 1, 1, 1, 0, -1, 0, 1, 1, 1, 0, -1, 1, -1, 1, -1, 0, 1, 1, 0, 0, -1, 0, 1, 1, -1, 0, -1, -1, 0, 0, 0, -1, 0, -1, -1, 0, 1, 1, 1, 0, 1, 0, -1, -1, -1, 0, 0, 1, 1, 1, -1, 0, -1, 1, 1, 0, 1, 0, -1, 0, -1, -1, -1, 0, -1, 0, -1, 1, -1, -1, -1, 1, 0, -1, 1, 0, 0, 0, -1, -1, -1, 0, 1, 1, 0, 1, 1, 0, -1, 0, 0, -1, -1, 0, 0, 0, 0, 1, 1, 1, 1, 0, -1, -1, -1, -1, 0, -1, 1, 0, 1, -1, -1, 0, 0, 1, 1, -1, -1, 1, 0, 0, 1, 0, 1, 1, 0, 0, -1, 0, 0, -1, -1, -1, -1, 0, 0, 0, -1, 1, 1, -1, 1, -1, -1, 0, -1, 0, 0, -1, 0, 1, 1, 0, 1, 1, 1, 0, 0, 1, 0, 0, 0, 1, 0, -1, 0, 1, 1, 1, 0, 0, -1, 1, 1, 0, 0, -1, -1, -1, 0, -1, -1, -1, 0, 0, 1, 0, -1, -1, -1, 0, -1, 1, -1, 0, 0, -1, 0, 0, 0, -1, -1, 1, -1, 1, 0, -1, 0, -1, 1, 1, -1, 0, -1, -1, -1, -1, 1, 1, 0, 1, 0, 1, 1, -1, 1, 1, 0, 0, -1, 1, -1, 1, 1, 1, -1, 1, 0, 1, 1, 1, 1, -1, 0, 0, -1, -1, -1, 1, 1, -1, 0, 0, -1, -1, -1, 0, 1, 1, 0, -1, -1, 0, 1, 1, 1, 1, 0, -1, 1, 1, 0, -1, 1, 1, 1, -1, 0, -1, 1, 1, 1, 1, -1, 1, 0, -1, -1, 1, 1, 1, 0, -1, -1, -1, -1, 0, 0, 0, 0, 1, 1, -1, -1, 1, -1, -1, 1, 1, -1, 1, -1, 1, -1, 0, 1, 1, 0, 0, -1, -1, 1, -1, -1, 1, -1, -1, 0, 1, 1, -1, 1, 0, 1, -1, 0, 1, 1, -1, -1, 0, -1, -1, 0, 0, -1, 1, 1, 0, 1, -1, 1, 1, -1, 0, 1, 1, 1, 1, 0, 0, 0, 1, 0, 1, 0, 1, 0, 0, -1, 0, 1, 1, 0, 0, 0, 0, 1, -1, 0, -1, 0, 1, -1, -1, 1, 1, 1, -1, 1, -1, 1, 0, -1, -1, -1, -1, 1, -1, 1, 1, 0, 1, 1, 0, 1, 1, 1, 0, -1, -1, 1, 0, 1, -1, 0, -1, 0, -1, 1, -1, 1, 1, 1, 0, 1, 1, 1, 0, 1, 1, 0, -1, 1, 1, 0, -1, 0, 0, 0, 0, 0, 1, 1, 0, 0, 0, -1, 1, 1, 1, 0, 0, -1, 1, 0, 0, -1, -1, -1, -1, 0, 1, 1, -1, 1, 1, -1, 0, -1, -1, -1, 0, 1, 1, 1, 0, 1, -1, -1, 1, 0, 1, 0, -1, 1, -1, 0, 0, 0, 0, 0, -1, 1, 1, 0, 0, -1, 1, -1, -1, -1, 1, 0, 0, -1, 1, 0, -1, -1, 0, 1, 0, -1, -1, 1, 1, -1, -1, -1, 0, -1, -1, 0, 0, 0, 0, 0, 0, 1, 1, 1, -1, -1, 1, 1, -1, 0, 1, -1, -1, -1, 0, -1, 0, -1, -1, -1, -1, 1, 1, 1, -1, 1, -1, 1, 0, 0, 0, 0, 1, 1, 0, 0, 0, 1, 1, -1, -1, 1, 0, 0, 1, 0, -1, 1, 0, 1, -1, -1, 0, 0, 0, 0, 1, 1, -1, 0, 1, 1, 0, -1, 0, 1, -1, 0, 0, 1, 1, 0, 0, 1, 0, -1, -1, 0, 1, 0, 1, -1, 1, 0, 0, 0, 1, 1, 1, -1, 0, 0, -1, -1, 1, 0, 1, -1, -1, -1, -1, -1, -1, 1, 1, 1, 1, 0, -1, -1, 0, -1, 0, 0, -1, 1, 1, 0, 0, 1, 0, 0, 1, 1, -1, 1, 1, 1, 1, -1, 1, 1, 0, 1, 0, -1, 0, 0, -1, -1, 1, 0, -1, 0, -1, 0, 1, -1, 0, 1, 0, 0, 0, -1, -1, 1, -1, -1, 0, 0, 0, 0, 0, 1, 0, -1, 0, 1, -1, -1, -1, 0, 0, 1, -1, 1, 1, 1, 0, 0, -1, 0, 1, -1, -1, 1, 0, 0, 1, 1, 0, 1, -1, -1, 1, 0, 1, -1, -1, 0, -1, 0, 1, -1, 0, 1, -1, 0, -1, 0, 1, 1, 1, 1, 0, -1, 0, -1, -1, -1, -1, 0, 1, -1, 1, -1, 1, -1, 0, -1, -1, 0, 1, -1, 1, 0, -1, 0, 0, -1, 1, -1, -1, -1, 0, -1, 0, -1, 1, -1, 1, 1, 1, 0, 0, -1, 1, 0, 1, -1, 0, 0, 1, -1, 1, 0, 0, -1, 0, -1, 0, -1, 0, -1, 1, 0, 0, 0, 1, 1, 0, 1, 1, 0, -1, 1, 1, 0, -1, 0, 0, -1, 1, 1, 1, -1, -1, 0, 0, 0, -1, 0, 1, 0, -1, -1, 0, 1, -1, -1, 1, -1, 1, 1, 0, 1, -1, -1, 1, -1, 1, -1, 1, -1, 1, 1, -1, 1, -1, -1, 0, 0, 0, -1, 1, -1, -1, -1, 0, 0, 1, -1, 1, -1, -1, 0, -1, 1, 1, 0, 0, -1, -1, 0, -1, 0, 1, -1, -1, -1, 0, 0, 1, -1, 0, 1, -1, -1, 0, 0, 0, 0, 1, 1, 1, 0, 0, 0, -1, 1, 1, 0, -1, -1, 1, 0, 1, 0, 1, 1, 0, 0, 0, 1, -1, 0, -1, 0, 1, -1, 1, 1, 0, 1, 1, -1, 0, -1, -1, -1, -1, 1, 0, -1, 0, -1, 1, 1, 0, 0, 1, 1, 1, 1, 0, 1, 1, -1, 1, 1, 1, -1, 0, 1, -1, 1, 1, 0, 1, 1, 1, 1, 0, 0, 0, -1, 0, -1, 0, 0, 0, 1, 1, 0, -1, -1, 0, 1, -1, 1, 1, -1, 1, -1, -1, -1, 1, 1, -1, 0, 1, 0, 1, -1, -1, 0, 1, -1, -1, -1, 0, 1, -1, 1, 0, 1, 1, -1, -1, 0, -1, 0, -1, 1, 1, 0, 0, -1, 1, -1, 1, 1, 0, -1, 0, 0, -1, 0, 0, -1, 0, -1, 1, 0, -1, 1, 1, 1, 0, 1, 1, -1, -1, -1, 1, 0, 1, 1, 0, 0, 1, 0, 0, 0, -1, 0, -1, 1, 1, -1, 0, 0, 1, -1, -1, 0, -1, 1, 1, 1, 1, -1, 0, 1, -1, 1, 1, 0, 0, 0, 0, 1, 0, -1, 1, -1, 1, 1, 1, 0, 0, 0, 1, 0, 0, 0, 0, 0, 1, 0, -1, 0, 0, 1, -1, 0, 1, -1, -1, 0, 0, 0, 0, 0, 1, 0, 0, 0, 1, 1, -1, 0, 0, -1, 0, 0, 0, 1, 0, 0, -1, 1, -1, 0, 0, 0, 0, -1, 1, -1, 0, 1, -1, 0, -1, -1, 1, -1, -1, 0, 0, -1, 0, 0, -1, 0, 1, 0, 0, 1, 1, 1, 1, 1, -1, 1, 1, -1, 0, 0, -1, 0, -1, 0, 1, 0, -1, 1, 0, -1, 1, 1, -1, 1, -1, 0, 0, 1, 1, 1, 0, 0, 0, -1, 1, 1, 0, 0, 0, 0, 0, -1, -1, 0, -1, 0, 0, 0, 1, 1, -1, -1, -1, 1, 0, -1, -1, 1, 0, 1, 1, 1, 0, -1, 1, -1, 0, 0, 1, -1, 1, -1, 0, 1, 0, -1, 1, -1, -1, 0, -1, 1, 1, 0, -1, 1, 0, 0, -1, -1, -1, 0, 1, -1, 0, 0, 1, -1, 0, 1, 1, 1, -1, -1, 0, 0, -1, 1, -1, 1, 1, 0, 0, 0, 0, -1, 0, 0, 1, 0, -1, 1, 1, 1, 0, 1, 1, -1, -1, -1, 0, -1, 1, 1, 1, -1, 1, -1, 0, 0, 0, 1, 0, -1, 1, 0, 1, 1, 0, -1, 1, 0, 1, 0, 0, -1, 0, -1, 1, -1, -1, -1, -1, 1, 0, 1, 0, 0, 0, 0, 0, -1, 0, 1, 0, 0, 1, 1, -1, 1, 0, 1, 0, 1, -1, 1, 0, -1, -1, 0, 0, 1, 0, 1, -1, 0, -1, 0, 1, 0, -1, 1, 0, 0, 0, 0, -1, -1, 0, -1, 1, 1, 0, -1, 0, 0, 0, 0, 0, -1, 1, -1, 0, 1, 1, 1, 0, -1, -1, 1, 1, 1, 0, -1, -1, 1, -1, 0, -1, -1, 0, 1, -1, 1, -1, 1, -1, -1, -1, 1, -1, -1, 1, 0, 1, -1, 0, -1, 0, 0, 1, 1, 1, 1, -1, -1, 0, 0, -1, 0, -1, 0, -1, 1, 1, -1, 1, -1, 0, -1, -1, -1, -1, 0, -1, -1, -1, 1, 0, 0, 1, -1, 1, -1, -1, -1, -1, -1, -1, -1, 1, 1, 0, 1, 1, 0, -1, 1, 0, -1, 0, 0, -1, -1, -1, 0, -1, 1, 1, 0, 1, -1, 1, 0, -1, -1, 1, 1, -1, -1, 0, 0, 0, -1, -1, -1, -1, 1, 0, 1, 1, -1, -1, -1, 0, -1, 1, -1, 1, 0, 0, -1, 0, -1, -1, 0, 0, 1, 0, 1, 0, 0, 1, -1, -1, -1, 0, 0, 1, 1, -1, -1, 0, -1, -1, 0, 0, -1, 1, -1, -1, -1, -1, -1, 1, 1, 0, 0, -1, 0, 1, 0, -1, -1, 0, -1, -1, 0, -1, 1, 1, -1, 0, -1, 0, 1, 0, 0, 1, 0, 0, 1, -1, 0, 0, -1, 1, 1, 0, 1, -1, 0, 0, 0, -1, 0, -1, -1, 0, 0, 1, -1, 1, -1, 1, -1, 1, 1, -1, 0, 1, -1, 1, -1, 0, 1, 1, -1, 0, 0, 1, -1, 0, 1, 0, 1, 1, -1, -1, 0, -1, -1, -1, -1, 0, -1, 0, -1, 0, -1, 1, 0, 0, 0, 1, 1, 1, 0, 1, 0, 0, -1, -1, 1, 0, 1, 0, 0, 0, 0, 0, 0, 0, 0, 1, 1, -1, -1, 0, -1, -1, 1, 1, 0, 1, 0, 1, 0, 1, -1, -1, 0, 0, 0, -1, 1, -1, -1, 0, -1, 0, -1, -1, -1, -1, -1, 1, -1, 1, -1, 0, -1, 0, 0, -1, -1, 0, -1, -1, 0, 0, 0, 1, 1, -1, 0, 1, 1, -1, 1, 1, 0, 0, 1, 0, -1, -1, 0, 0, 1, 1, 1, 0, 0, -1, -1, 0, -1, -1, 0, -1, 0, -1, 0, 1, 1, -1, 0, -1, 1, -1, 0, -1, 0, 1, -1, -1, 1, -1, 0, 1, 1, 1, 0, -1, 0, 1, 0, 0, 0, 0, -1, -1, 1, 0, 0, 0, 0, 1, 0, -1, -1, 1, 1, 1, -1, -1, -1, 0, 1, 0, 1, -1, -1, -1, 0, 0, 1, 1, 0, -1, -1, 1, 1, 1, 1, 0, -1, 1, -1, 1, -1, 1, 0, -1, -1, 0, -1, 0, 1, -1, -1, 1, 1, 1, 1, 1, -1, -1, -1, 0, -1, -1, 1, 1, 1, -1, -1, 0, 1, -1, 0, 0, -1, 1, -1, 0, 1, -1, -1, 1, 1, 1, -1, 1, 0, -1, 0, 0, 0, -1, 1, 1, 0, 0, 0, -1, -1, 1, 1, 0, 1, 0, 0, -1, 1, -1, 1, -1, -1, 0, -1, 1, 0, 1, 0, 0, -1, 1, 0, -1, 1, 1, 1, 1, -1, 0, 0, 1, -1, 0, 0, 1, 1, -1, 0, -1, -1, 1, -1, 0, 1, 1, 1, -1, -1, 0, -1, 0, 0, 1, -1, 0, -1, 0, -1, 1, 1, 1, 0, 0, 1, 1, 1, 1, 0, -1, 0, -1, 1, -1, 0, 1, 1, 0, -1, 1, 0, -1, -1, 0, -1, -1, 0, 1, 1, 0, 0, 1, 1, 1, -1, 0, 0, -1, 1, 1, -1, -1, 0, 1, -1, 1, -1, 1, 1, 0, -1, 1, 1, 1, -1, -1, 1, 1, -1, 1, 1, -1, 0, 0, 0, 1, 0, 1, 0, 1, 0, -1, 1, 0, -1, 1, -1, -1, 1, 1, -1, -1, -1, 1, -1, 0, 1, 1, 1, 0, -1, 1, 0, -1, 0, 1, -1, 1, -1, 0, 1, 1, 1, 0, 0, -1, 0, 0, -1, 0, 1, 0, -1, 1, -1, 1, -1, -1, 0, 0, -1, -1, 0, 0, 1, -1, 0, -1, 1, -1, -1, -1, 1, -1, -1, 0, 1, -1, 1, 0, 0, 0, -1, 1, 0, 1, 0, 1, -1, -1, -1, 0, 1, -1, 0, -1, -1, -1, 0, -1, -1, 0, 0, 0, 0, 1, 1, 0, -1, 1, -1, 1, 0, 0, 1, 1, -1, 1, -1, 1, 0, 1, 1, 1, 1, 0, 1, -1, 0, -1, 1, 1, -1, -1, 0, -1, 1, 0, -1, 1, 0, 0, -1, 1, 1, -1, 1, 1, 1, 1, -1, 1, 0, 0, 1, 0, -1, 0, -1, 1, 0, -1, 1, 0, 1, 1, -1, 0, 0, 1, -1, 0, -1, 1, 0, -1, -1, -1, 0, 1, 0, -1, -1, -1, 1, 1, 0, 1, 1, 1, -1, 0, 0, 0, -1, -1, 0, 1, -1, 1, -1, -1, -1, 1, 0, 1, 0, -1, 1, 0, 1, -1, 0, -1, 1, 1, -1, 0, 0, -1, 0, -1, -1, 0, 0, 0, 1, 0, -1, 1, 0, 1, -1, 1, 0, 0, 0, 1, 0, -1, 0, 0, 0, 0, -1, -1, -1, -1, -1, -1, 0, -1, 0, 1, 1, 0, -1, -1, 0, 0, 1, 0, 1, -1, -1, -1, 0, -1, 1, -1, 0, 0, 0, -1, 1, 1, -1, 0, 1, 1, -1, -1, -1, 0, 0, -1, -1, 0, 1, -1, -1, -1, 0, -1, 1, 0, 1, 1, 0, -1, 1, 1, 1, -1, -1, -1, -1, -1, 0, 1, 0, -1, 1, -1, 1, 0, -1, -1, 0, -1, -1, -1, 1, -1, -1, -1, 0, 1, 1, 1, 0, -1, 0, 0, -1, 0, 1, 1, 1, 1, 0, -1, 1, 0, -1, 0, 0, -1, 1, 1, -1, 1, 1, 1, 0, 0, -1, -1, 0, -1, -1, 0, -1, 0, 1, 1, 1, -1, -1, -1, 1, 1, 1, -1, 1, 0, -1, -1, -1, -1, 1, -1, -1, -1, 0, -1, -1, 0, 1, 1, -1, 1, -1, 0, 1, -1, 1, 1, 0, 0, 0, -1, 1, 0, 1, 1, 0, 1, 1, 1, 1, 0, 0, 1, 1, -1, -1, -1, -1, 1, 0, 0, 0, 0, 1, 1, 0, -1, -1, 0, -1, 0, 1, 0, 1, 0, 0, 0, 0, 0, -1, 1, 0, 1, -1, 1, 1, -1, -1, 1, 0, 1, 0, 1, 1, 0, 0, 1, 0, -1, -1, 1, 0, 0, 0, 1, -1, 0, -1, 1, 0, -1, 1, 1, 0, 0, -1, -1, 1, 1, 0, -1, 1, 1, 0, 0, 0, -1, 1, 0, -1, -1, 0, 0, 1, -1, 1, -1, 1, 0, -1, -1, 1, -1, 1, 0, -1, 1, -1, 1, 1, 1, 0, -1, 1, 0, 1, 1, 0, 1, -1, 0, -1, -1, -1]\n"
          ]
        }
      ],
      "source": [
        "print(y_l2)"
      ]
    },
    {
      "cell_type": "code",
      "execution_count": 255,
      "metadata": {
        "colab": {
          "base_uri": "https://localhost:8080/"
        },
        "id": "boi3V2dgpu7G",
        "outputId": "b8e2c2f2-ee4d-4b2e-b24e-850f4994369e"
      },
      "outputs": [
        {
          "name": "stdout",
          "output_type": "stream",
          "text": [
            "[1, 1, 0, 1, 0, 0, 1, 0, 1, 1, 1, 0, 1, 0, 1, 0, 1, 1, 1, 1, 1, 1, 0, 1, 1, 1, 1, 0, 1, 1, 0, 0, 1, 0, 1, 1, 0, 1, 0, 1, 1, 1, 1, 1, 1, 1, 0, 1, 1, 1, 1, 1, 1, 1, 1, 1, 1, 1, 0, 0, 1, 0, 0, 1, 0, 0, 0, 1, 0, 1, 1, 1, 1, 0, 1, 1, 1, 1, 1, 1, 1, 0, 1, 0, 1, 1, 1, 1, 1, 1, 0, 0, 1, 0, 0, 1, 0, 0, 0, 1, 1, 1, 0, 1, 0, 0, 0, 1, 1, 1, 0, 1, 0, 1, 0, 0, 0, 0, 1, 1, 1, 1, 1, 1, 1, 1, 1, 1, 1, 0, 0, 1, 1, 1, 1, 1, 1, 1, 0, 0, 1, 0, 0, 1, 1, 0, 0, 1, 0, 0, 1, 0, 0, 0, 1, 0, 0, 1, 1, 1, 1, 1, 1, 1, 0, 1, 1, 1, 1, 1, 0, 0, 1, 0, 1, 1, 0, 1, 1, 1, 0, 1, 1, 0, 0, 1, 0, 1, 1, 1, 0, 1, 1, 1, 1, 0, 0, 1, 1, 1, 0, 0, 1, 0, 1, 0, 0, 0, 1, 1, 0, 0, 1, 1, 1, 1, 0, 0, 1, 1, 0, 0, 1, 1, 1, 1, 1, 1, 1, 1, 0, 1, 1, 1, 1, 0, 0, 1, 1, 0, 1, 1, 1, 1, 0, 1, 1, 1, 1, 0, 1, 0, 1, 1, 0, 1, 1, 1, 1, 1, 0, 1, 0, 1, 1, 1, 0, 1, 1, 1, 1, 1, 1, 0, 1, 0, 1, 0, 0, 1, 0, 0, 1, 1, 1, 1, 1, 1, 1, 0, 0, 0, 1, 0, 1, 0, 0, 0, 0, 1, 1, 0, 0, 1, 1, 1, 0, 1, 0, 1, 1, 0, 1, 1, 0, 0, 1, 1, 1, 1, 1, 0, 1, 1, 1, 1, 1, 0, 1, 1, 1, 1, 1, 0, 1, 0, 1, 1, 1, 0, 1, 0, 1, 1, 0, 0, 1, 1, 1, 1, 1, 1, 0, 1, 1, 0, 1, 1, 1, 0, 1, 1, 0, 1, 1, 1, 1, 0, 1, 0, 0, 1, 1, 1, 1, 1, 1, 1, 1, 0, 0, 0, 1, 1, 1, 1, 1, 1, 0, 1, 0, 1, 1, 1, 1, 1, 1, 0, 0, 1, 1, 1, 0, 0, 1, 1, 1, 1, 1, 1, 1, 1, 1, 1, 1, 1, 1, 0, 0, 1, 1, 1, 1, 0, 1, 0, 1, 1, 1, 1, 0, 1, 1, 1, 1, 1, 0, 0, 1, 1, 1, 1, 1, 1, 1, 1, 0, 1, 1, 1, 1, 1, 1, 1, 1, 1, 0, 1, 1, 1, 0, 0, 1, 1, 0, 1, 1, 1, 0, 1, 1, 1, 1, 0, 1, 1, 1, 1, 1, 1, 1, 1, 1, 0, 0, 0, 0, 1, 1, 1, 1, 1, 0, 1, 1, 1, 1, 1, 0, 1, 0, 1, 0, 1, 1, 1, 1, 1, 0, 1, 1, 1, 0, 1, 0, 0, 1, 1, 1, 0, 1, 0, 0, 1, 1, 1, 1, 1, 1, 1, 0, 0, 0, 1, 1, 1, 1, 1, 0, 1, 0, 1, 1, 1, 1, 1, 0, 1, 0, 0, 0, 1, 0, 1, 0, 1, 0, 0, 0, 1, 1, 0, 1, 1, 1, 1, 0, 0, 0, 1, 1, 1, 1, 1, 1, 1, 0, 1, 1, 0, 0, 1, 1, 1, 1, 1, 1, 1, 1, 1, 0, 0, 0, 0, 1, 0, 1, 1, 1, 0, 0, 1, 1, 1, 1, 0, 0, 1, 1, 1, 1, 1, 1, 1, 1, 1, 0, 1, 1, 0, 0, 0, 0, 1, 1, 1, 0, 1, 1, 0, 1, 0, 0, 1, 0, 1, 1, 0, 1, 1, 1, 1, 1, 1, 1, 1, 1, 1, 1, 1, 1, 1, 1, 0, 1, 1, 1, 1, 1, 1, 0, 1, 1, 1, 1, 0, 0, 0, 1, 0, 0, 0, 1, 1, 1, 1, 0, 0, 0, 1, 0, 1, 0, 1, 1, 0, 1, 1, 1, 0, 0, 1, 0, 1, 1, 0, 1, 0, 1, 1, 0, 1, 0, 0, 0, 0, 1, 1, 1, 1, 1, 1, 1, 0, 1, 1, 1, 1, 0, 1, 0, 1, 1, 1, 0, 1, 1, 1, 1, 1, 1, 0, 1, 1, 0, 0, 0, 1, 1, 0, 1, 1, 0, 0, 0, 1, 1, 1, 1, 0, 0, 1, 1, 1, 1, 1, 1, 0, 1, 1, 1, 0, 1, 1, 1, 0, 1, 0, 1, 1, 1, 1, 0, 1, 1, 0, 0, 1, 1, 1, 1, 0, 0, 0, 0, 1, 1, 1, 1, 1, 1, 0, 0, 1, 0, 0, 1, 1, 0, 1, 0, 1, 0, 1, 1, 1, 1, 1, 0, 0, 1, 0, 0, 1, 0, 0, 1, 1, 1, 0, 1, 1, 1, 0, 1, 1, 1, 0, 0, 1, 0, 0, 1, 1, 0, 1, 1, 1, 1, 0, 1, 1, 0, 1, 1, 1, 1, 1, 1, 1, 1, 1, 1, 1, 1, 1, 1, 1, 0, 1, 1, 1, 1, 1, 1, 1, 1, 0, 1, 0, 1, 1, 0, 0, 1, 1, 1, 0, 1, 0, 1, 1, 0, 0, 0, 0, 1, 0, 1, 1, 1, 1, 1, 1, 1, 1, 1, 1, 0, 0, 1, 1, 1, 0, 1, 0, 1, 0, 1, 0, 1, 1, 1, 1, 1, 1, 1, 1, 1, 1, 1, 0, 1, 1, 1, 0, 1, 1, 1, 1, 1, 1, 1, 1, 1, 1, 0, 1, 1, 1, 1, 1, 0, 1, 1, 1, 0, 0, 0, 0, 1, 1, 1, 0, 1, 1, 0, 1, 0, 0, 0, 1, 1, 1, 1, 1, 1, 0, 0, 1, 1, 1, 1, 0, 1, 0, 1, 1, 1, 1, 1, 0, 1, 1, 1, 1, 0, 1, 0, 0, 0, 1, 1, 1, 0, 1, 1, 0, 0, 1, 1, 1, 0, 0, 1, 1, 0, 0, 0, 1, 0, 0, 1, 1, 1, 1, 1, 1, 1, 1, 1, 0, 0, 1, 1, 0, 1, 1, 0, 0, 0, 1, 0, 1, 0, 0, 0, 0, 1, 1, 1, 0, 1, 0, 1, 1, 1, 1, 1, 1, 1, 1, 1, 1, 1, 1, 0, 0, 1, 1, 1, 1, 1, 0, 1, 1, 1, 0, 0, 1, 1, 1, 1, 1, 1, 0, 1, 1, 1, 1, 0, 1, 1, 0, 1, 1, 1, 1, 1, 1, 1, 1, 0, 0, 1, 1, 1, 1, 0, 1, 1, 1, 1, 1, 1, 1, 0, 1, 1, 0, 0, 1, 1, 1, 0, 0, 0, 0, 0, 0, 1, 1, 1, 1, 1, 0, 0, 1, 0, 1, 1, 0, 1, 1, 1, 1, 1, 1, 1, 1, 1, 0, 1, 1, 1, 1, 0, 1, 1, 1, 1, 1, 0, 1, 1, 0, 0, 1, 1, 0, 1, 0, 1, 1, 0, 1, 1, 1, 1, 1, 0, 0, 1, 0, 0, 1, 1, 1, 1, 1, 1, 1, 0, 1, 1, 0, 0, 0, 1, 1, 1, 0, 1, 1, 1, 1, 1, 0, 1, 1, 0, 0, 1, 1, 1, 1, 1, 1, 1, 0, 0, 1, 1, 1, 0, 0, 1, 0, 1, 1, 0, 1, 1, 0, 1, 0, 1, 1, 1, 1, 1, 1, 0, 1, 0, 0, 0, 0, 1, 1, 0, 1, 0, 1, 0, 1, 0, 0, 1, 1, 0, 1, 1, 0, 1, 1, 0, 1, 0, 0, 0, 1, 0, 1, 0, 1, 0, 1, 1, 1, 1, 1, 0, 1, 1, 1, 0, 1, 1, 1, 0, 1, 1, 1, 0, 1, 0, 1, 0, 1, 0, 1, 1, 1, 1, 1, 1, 1, 1, 1, 1, 0, 1, 1, 1, 0, 1, 1, 0, 1, 1, 1, 0, 0, 1, 1, 1, 0, 1, 1, 1, 0, 0, 1, 1, 0, 0, 1, 0, 1, 1, 1, 1, 0, 0, 1, 0, 1, 0, 1, 0, 1, 1, 0, 1, 0, 0, 1, 1, 1, 0, 1, 0, 0, 0, 1, 1, 1, 0, 1, 0, 0, 1, 0, 1, 1, 1, 1, 0, 0, 1, 0, 1, 1, 0, 0, 0, 1, 1, 1, 0, 1, 1, 0, 0, 1, 1, 1, 1, 1, 1, 1, 1, 1, 1, 0, 1, 1, 1, 0, 0, 1, 1, 1, 1, 1, 1, 1, 1, 1, 1, 0, 1, 0, 1, 1, 0, 1, 1, 1, 1, 1, 0, 1, 0, 0, 0, 0, 1, 1, 0, 1, 0, 1, 1, 1, 1, 1, 1, 1, 1, 1, 1, 1, 0, 1, 1, 1, 0, 1, 1, 0, 1, 1, 1, 1, 1, 1, 1, 1, 1, 1, 0, 1, 0, 1, 1, 1, 1, 1, 1, 0, 0, 1, 1, 0, 1, 1, 0, 1, 0, 0, 0, 1, 1, 0, 1, 1, 1, 1, 0, 0, 1, 1, 0, 0, 0, 1, 1, 0, 1, 1, 1, 1, 0, 0, 1, 0, 1, 0, 1, 1, 1, 1, 0, 1, 0, 1, 1, 1, 0, 1, 1, 0, 1, 1, 0, 1, 0, 1, 1, 0, 1, 1, 1, 1, 1, 1, 0, 0, 0, 1, 1, 1, 1, 1, 1, 1, 1, 1, 1, 0, 1, 0, 1, 1, 0, 1, 1, 1, 0, 0, 1, 0, 1, 1, 1, 1, 0, 1, 1, 0, 1, 1, 1, 1, 1, 1, 1, 1, 0, 1, 0, 1, 1, 1, 1, 1, 1, 1, 1, 1, 1, 1, 1, 1, 1, 0, 1, 1, 1, 0, 1, 1, 0, 0, 1, 1, 1, 1, 1, 1, 1, 1, 1, 1, 1, 0, 1, 1, 0, 1, 1, 1, 1, 1, 1, 0, 1, 0, 1, 1, 1, 1, 0, 1, 0, 1, 1, 0, 1, 0, 0, 1, 0, 0, 1, 1, 0, 1, 1, 0, 1, 1, 1, 1, 1, 1, 1, 1, 1, 0, 1, 1, 0, 1, 1, 0, 1, 0, 1, 1, 1, 0, 1, 1, 0, 1, 1, 0, 1, 0, 1, 1, 1, 1, 1, 1, 1, 1, 0, 1, 1, 1, 1, 1, 1, 1, 0, 0, 1, 0, 1, 1, 1, 1, 1, 0, 0, 0, 1, 1, 0, 0, 1, 1, 1, 1, 1, 1, 0, 1, 0, 1, 1, 1, 0, 1, 0, 1, 1, 1, 0, 1, 0, 0, 1, 0, 1, 1, 1, 0, 1, 1, 1, 0, 0, 0, 1, 1, 0, 1, 1, 1, 0, 1, 1, 1, 1, 0, 0, 1, 1, 0, 1, 0, 1, 1, 1, 1, 1, 1, 0, 1, 1, 1, 1, 0, 1, 1, 1, 1, 1, 1, 0, 0, 0, 1, 0, 1, 1, 1, 0, 1, 0, 1, 1, 1, 1, 1, 0, 1, 1, 1, 1, 1, 0, 1, 1, 1, 1, 1, 0, 1, 0, 1, 0, 0, 0, 0, 1, 1, 1, 1, 1, 1, 1, 1, 0, 1, 1, 1, 1, 1, 1, 0, 1, 1, 1, 1, 1, 0, 1, 1, 0, 0, 1, 1, 1, 1, 1, 0, 1, 0, 1, 1, 1, 0, 1, 1, 1, 1, 1, 0, 0, 1, 0, 1, 1, 1, 0, 1, 1, 1, 1, 1, 0, 1, 0, 1, 1, 1, 1, 1, 0, 0, 1, 1, 1, 1, 0, 0, 1, 0, 1, 0, 0, 1, 1, 0, 1, 0, 1, 0, 0, 0, 1, 0, 0, 1, 1, 1, 0, 1, 0, 1, 1, 1, 1, 1, 1, 0, 0, 1, 1, 0, 1, 0, 1, 0, 1, 1, 0, 1, 0, 1, 0, 0, 0, 0, 1, 0, 0, 0, 1, 1, 1, 1, 0, 1, 0, 0, 0, 0, 0, 0, 0, 1, 1, 1, 1, 1, 1, 0, 1, 1, 0, 1, 1, 0, 0, 0, 1, 0, 1, 1, 1, 1, 0, 1, 1, 0, 0, 1, 1, 0, 0, 1, 1, 1, 0, 0, 0, 0, 1, 1, 1, 1, 0, 0, 0, 1, 0, 1, 0, 1, 1, 1, 0, 1, 0, 0, 1, 1, 1, 1, 1, 1, 1, 1, 0, 0, 0, 1, 1, 1, 1, 0, 0, 1, 0, 0, 1, 1, 0, 1, 0, 0, 0, 0, 0, 1, 1, 1, 1, 0, 1, 1, 1, 0, 0, 1, 0, 0, 1, 0, 1, 1, 0, 1, 0, 1, 1, 1, 1, 1, 1, 1, 1, 0, 1, 1, 0, 1, 1, 1, 1, 0, 1, 1, 1, 0, 1, 0, 0, 1, 1, 1, 0, 1, 0, 1, 0, 1, 1, 0, 1, 1, 0, 1, 0, 1, 1, 1, 0, 1, 1, 1, 0, 1, 1, 1, 1, 1, 0, 0, 1, 0, 0, 0, 0, 1, 0, 1, 0, 1, 0, 1, 1, 1, 1, 1, 1, 1, 1, 1, 1, 1, 0, 0, 1, 1, 1, 1, 1, 1, 1, 1, 1, 1, 1, 1, 1, 0, 0, 1, 0, 0, 1, 1, 1, 1, 1, 1, 1, 1, 0, 0, 1, 1, 1, 0, 1, 0, 0, 1, 0, 1, 0, 0, 0, 0, 0, 1, 0, 1, 0, 1, 0, 1, 1, 0, 0, 1, 0, 0, 1, 1, 1, 1, 1, 0, 1, 1, 1, 0, 1, 1, 1, 1, 1, 1, 0, 0, 1, 1, 1, 1, 1, 1, 1, 0, 0, 1, 0, 0, 1, 0, 1, 0, 1, 1, 1, 0, 1, 0, 1, 0, 1, 0, 1, 1, 0, 0, 1, 0, 1, 1, 1, 1, 1, 0, 1, 1, 1, 1, 1, 1, 0, 0, 1, 1, 1, 1, 1, 1, 1, 0, 0, 1, 1, 1, 0, 0, 0, 1, 1, 1, 1, 0, 0, 0, 1, 1, 1, 1, 1, 0, 0, 1, 1, 1, 1, 1, 0, 1, 0, 1, 0, 1, 1, 0, 0, 1, 0, 1, 1, 0, 0, 1, 1, 1, 1, 1, 0, 0, 0, 1, 0, 0, 1, 1, 1, 0, 0, 1, 1, 0, 1, 1, 0, 1, 0, 1, 1, 0, 0, 1, 1, 1, 0, 1, 1, 0, 1, 1, 1, 0, 1, 1, 1, 1, 1, 0, 0, 1, 1, 1, 1, 1, 1, 0, 1, 0, 1, 0, 0, 1, 0, 1, 1, 1, 1, 1, 0, 1, 1, 0, 1, 1, 1, 1, 0, 1, 1, 1, 0, 1, 1, 1, 1, 0, 1, 0, 0, 1, 0, 1, 1, 1, 1, 0, 0, 1, 0, 1, 1, 1, 0, 1, 0, 1, 0, 1, 1, 1, 1, 1, 1, 1, 1, 1, 1, 0, 1, 0, 1, 0, 1, 1, 1, 1, 0, 1, 1, 0, 0, 1, 0, 0, 1, 1, 1, 1, 1, 1, 1, 1, 0, 1, 1, 0, 1, 1, 0, 0, 1, 1, 0, 1, 0, 1, 1, 1, 0, 1, 1, 1, 0, 0, 1, 1, 0, 1, 1, 0, 1, 1, 1, 1, 1, 1, 1, 1, 1, 0, 1, 1, 0, 1, 0, 0, 1, 1, 0, 0, 0, 1, 0, 1, 1, 1, 1, 1, 0, 1, 1, 0, 1, 1, 0, 1, 0, 1, 1, 1, 1, 1, 1, 0, 1, 1, 0, 1, 1, 1, 0, 1, 0, 1, 0, 0, 1, 1, 0, 0, 1, 1, 1, 0, 1, 0, 1, 0, 0, 0, 1, 0, 0, 1, 1, 0, 1, 1, 1, 1, 0, 1, 1, 1, 1, 1, 0, 0, 0, 1, 1, 0, 1, 0, 0, 0, 1, 0, 0, 1, 1, 1, 1, 1, 1, 1, 0, 1, 0, 1, 1, 1, 1, 1, 0, 1, 0, 1, 1, 1, 1, 1, 1, 1, 1, 0, 1, 0, 1, 1, 0, 0, 1, 0, 1, 1, 0, 1, 1, 1, 0, 1, 1, 0, 1, 1, 1, 1, 0, 1, 1, 1, 1, 1, 0, 1, 0, 1, 1, 0, 1, 1, 1, 1, 0, 1, 1, 1, 0, 1, 0, 1, 1, 0, 0, 0, 1, 1, 1, 0, 0, 0, 1, 1, 1, 1, 1, 1, 0, 1, 1, 1, 0, 0, 1, 1, 0, 1, 0, 0, 0, 1, 1, 1, 1, 0, 1, 1, 1, 0, 1, 0, 1, 1, 0, 1, 1, 0, 1, 0, 0, 1, 1, 1, 1, 1, 0, 1, 1, 1, 0, 1, 1, 1, 1, 1, 1, 0, 1, 1, 1, 1, 0, 0, 0, 0, 0, 0, 1, 0, 1, 1, 1, 1, 0, 0, 1, 1, 1, 1, 1, 0, 0, 0, 1, 0, 1, 0, 1, 1, 1, 0, 1, 1, 0, 1, 1, 1, 0, 0, 0, 1, 1, 0, 0, 1, 1, 0, 0, 0, 1, 0, 1, 1, 1, 1, 1, 0, 1, 1, 1, 0, 0, 0, 0, 0, 1, 1, 1, 0, 1, 0, 1, 1, 0, 0, 1, 0, 0, 0, 1, 0, 0, 0, 1, 1, 1, 1, 1, 0, 1, 1, 0, 1, 1, 1, 1, 1, 1, 0, 1, 1, 0, 1, 1, 0, 1, 1, 0, 1, 1, 1, 1, 1, 0, 0, 1, 0, 0, 1, 0, 1, 1, 1, 1, 0, 0, 0, 1, 1, 1, 0, 1, 1, 0, 0, 0, 0, 1, 0, 0, 0, 1, 0, 0, 1, 1, 1, 0, 1, 0, 1, 1, 0, 1, 1, 1, 1, 1, 0, 1, 1, 1, 1, 1, 1, 1, 1, 1, 1, 1, 1, 1, 0, 0, 0, 0, 1, 1, 1, 1, 1, 1, 1, 1, 0, 0, 1, 0, 1, 1, 1, 1, 1, 1, 1, 1, 1, 0, 1, 1, 1, 0, 1, 1, 0, 0, 1, 1, 1, 1, 1, 1, 1, 1, 1, 1, 0, 0, 1, 1, 1, 1, 1, 0, 1, 0, 1, 1, 0, 1, 1, 1, 1, 0, 0, 1, 1, 1, 0, 1, 1, 1, 1, 1, 0, 1, 1, 0, 0, 1, 1, 1, 0, 1, 0, 1, 1, 0, 0, 1, 0, 1, 1, 0, 1, 0, 1, 1, 1, 1, 0, 1, 1, 1, 1, 1, 1, 0, 1, 0, 0, 0]\n"
          ]
        }
      ],
      "source": [
        "print(y_test_l1)"
      ]
    },
    {
      "cell_type": "code",
      "execution_count": 256,
      "metadata": {
        "id": "01pIkFC6w1BJ"
      },
      "outputs": [],
      "source": [
        "model_l1 = load_model(directory + \"model_trial_1_level_1.h5\")"
      ]
    },
    {
      "cell_type": "code",
      "execution_count": 257,
      "metadata": {
        "id": "nNKY920YfEPO"
      },
      "outputs": [],
      "source": [
        "pred_l1 = model_l1.predict(X_test_l1)"
      ]
    },
    {
      "cell_type": "code",
      "execution_count": 258,
      "metadata": {
        "id": "DzgSDMkks44o"
      },
      "outputs": [],
      "source": [
        "# y_pred = np.argmax(pred_l1, axis = 1)\n",
        "# for i in range(2999):\n",
        "#   print(y_test_l1[i], y_pred[i])"
      ]
    },
    {
      "cell_type": "code",
      "execution_count": 259,
      "metadata": {
        "colab": {
          "base_uri": "https://localhost:8080/"
        },
        "id": "q31_lNxgfEPO",
        "outputId": "79016155-9d47-4456-9d9b-2108b253d504"
      },
      "outputs": [
        {
          "name": "stdout",
          "output_type": "stream",
          "text": [
            "Total no. of data samples in level 1: 2999\n",
            "No. of correct predictions: 2589\n",
            "Level 1 accuracy: 86.32877625875291\n",
            "No. of data samples sent to level 2 model: 1590\n"
          ]
        }
      ],
      "source": [
        "y_pred = np.argmax(pred_l1, axis = 1)\n",
        "correct_l1 = 0\n",
        "X_test_l2 = []\n",
        "y_test_l2 = []\n",
        "\n",
        "for i in range(len(y_test_l1)):\n",
        "  if y_pred[i]==y_test_l1[i]:\n",
        "    correct_l1 += 1\n",
        "\n",
        "  if y_pred[i]==1 and y_l2[i]!=-1:\n",
        "    X_test_l2.append(X_test_l1[i])\n",
        "    y_test_l2.append(y_l2[i])\n",
        "\n",
        "acc = (correct_l1/len(y_test_l1))*100\n",
        "print(f\"Total no. of data samples in level 1: {len(y)}\")\n",
        "print(f\"No. of correct predictions: {correct_l1}\")\n",
        "print(f\"Level 1 accuracy: {acc}\")\n",
        "print(f\"No. of data samples sent to level 2 model: {len(y_test_l2)}\")"
      ]
    },
    {
      "cell_type": "code",
      "execution_count": 260,
      "metadata": {
        "colab": {
          "base_uri": "https://localhost:8080/",
          "height": 0
        },
        "id": "P3Rlv4BKKe9-",
        "outputId": "bb576577-a560-4769-fd25-2b99a271c72d"
      },
      "outputs": [
        {
          "name": "stdout",
          "output_type": "stream",
          "text": [
            "Precision: 1.000\n",
            "Recall: 0.795\n",
            "F1-Score: 0.886\n"
          ]
        },
        {
          "data": {
            "image/png": "[encoded data removed]",
            "text/plain": [
              "<Figure size 432x288 with 2 Axes>"
            ]
          },
          "metadata": {
            "needs_background": "light"
          },
          "output_type": "display_data"
        }
      ],
      "source": [
        "precision = precision_score(y_test_l1, y_pred, average='binary')\n",
        "print('Precision: %.3f' % precision)\n",
        "\n",
        "recall = recall_score(y_test_l1, y_pred, average='binary')\n",
        "print('Recall: %.3f' % recall)\n",
        "\n",
        "score = f1_score(y_test_l1, y_pred, average='binary')\n",
        "print('F1-Score: %.3f' % score)\n",
        "\n",
        "cm = confusion_matrix(y_test_l1, y_pred, labels=[0, 1])\n",
        "disp = ConfusionMatrixDisplay(confusion_matrix=cm, display_labels=[0, 1])\n",
        "disp.plot()\n",
        "plt.title('Acc.:'+str(round(acc, 3))+'   Prec.:'+str(round(precision, 3))+'   Recall:'+str(round(recall, 3))+'   F1:'+str(round(score, 3)))\n",
        "plt.savefig(directory[:-5]+\"screenshots/gen_test_cm_1_level_1.png\")\n",
        "plt.show()"
      ]
    },
    {
      "cell_type": "code",
      "execution_count": 261,
      "metadata": {
        "colab": {
          "base_uri": "https://localhost:8080/",
          "height": 0
        },
        "id": "MN43KC7mKezE",
        "outputId": "04e5fc7f-e5ce-4c92-db5d-2517f56f32b1"
      },
      "outputs": [
        {
          "data": {
            "image/png": "[encoded data removed]",
            "text/plain": [
              "<Figure size 432x288 with 1 Axes>"
            ]
          },
          "metadata": {
            "needs_background": "light"
          },
          "output_type": "display_data"
        }
      ],
      "source": [
        "pos_probs = pred_l1[:,1]\n",
        "fpr, tpr, _ = roc_curve(y_test_l1, pos_probs)\n",
        "plt.plot(fpr, tpr)\n",
        "plt.xlabel('False Positive Rate')\n",
        "plt.ylabel('True Positive Rate')\n",
        "plt.savefig(directory[:-5]+\"screenshots/gen_test_roc_1_level_1.png\")\n",
        "plt.show()"
      ]
    },
    {
      "cell_type": "markdown",
      "metadata": {
        "id": "GHzjiFipvWqi"
      },
      "source": [
        "## Level 2"
      ]
    },
    {
      "cell_type": "code",
      "execution_count": 262,
      "metadata": {
        "colab": {
          "base_uri": "https://localhost:8080/"
        },
        "id": "QIgYfCOofEPP",
        "outputId": "7aa5cf72-8c00-493d-e8fa-0a6b8edfb7c5"
      },
      "outputs": [
        {
          "name": "stdout",
          "output_type": "stream",
          "text": [
            "(1590, 16384, 1)\n"
          ]
        }
      ],
      "source": [
        "X_test_l2 = np.array(X_test_l2)\n",
        "y_test_l2 = np.array(y_test_l2)\n",
        "print(X_test_l2.shape)"
      ]
    },
    {
      "cell_type": "code",
      "execution_count": 263,
      "metadata": {
        "id": "AUdwCsJLfEPP"
      },
      "outputs": [],
      "source": [
        "model2 = load_model(directory + \"model_trial_1_level_2.h5\")"
      ]
    },
    {
      "cell_type": "code",
      "execution_count": 264,
      "metadata": {
        "id": "dlZCrHf-fEPQ"
      },
      "outputs": [],
      "source": [
        "pred_l2 = model2.predict(X_test_l2)"
      ]
    },
    {
      "cell_type": "code",
      "execution_count": 265,
      "metadata": {
        "colab": {
          "base_uri": "https://localhost:8080/"
        },
        "id": "P5NSBSCPfEPQ",
        "outputId": "410a5457-d0d2-410c-a4ac-bf33d2aa0522"
      },
      "outputs": [
        {
          "name": "stdout",
          "output_type": "stream",
          "text": [
            "Total no. of data samples in level 2: 1590\n",
            "No. of correct predictions: 1587\n",
            "Level 2 accuracy: 99.81132075471699\n"
          ]
        }
      ],
      "source": [
        "y_pred = np.argmax(pred_l2, axis = 1)\n",
        "correct_l2 = 0\n",
        "\n",
        "for i in range(len(y_test_l2)):\n",
        "  if y_pred[i]==y_test_l2[i]:\n",
        "    correct_l2 += 1\n",
        "\n",
        "acc = (correct_l2/len(y_test_l2))*100\n",
        "print(f\"Total no. of data samples in level 2: {len(y_test_l2)}\")\n",
        "print(f\"No. of correct predictions: {correct_l2}\")\n",
        "print(f\"Level 2 accuracy: {acc}\")"
      ]
    },
    {
      "cell_type": "code",
      "execution_count": 266,
      "metadata": {
        "colab": {
          "base_uri": "https://localhost:8080/",
          "height": 346
        },
        "id": "UP1_HG2QLHFM",
        "outputId": "74614b24-902c-4084-e00e-8cccb6358130"
      },
      "outputs": [
        {
          "name": "stdout",
          "output_type": "stream",
          "text": [
            "Precision: 0.997\n",
            "Recall: 1.000\n",
            "F1-Score: 0.999\n"
          ]
        },
        {
          "data": {
            "image/png": "[encoded data removed]",
            "text/plain": [
              "<Figure size 432x288 with 2 Axes>"
            ]
          },
          "metadata": {
            "needs_background": "light"
          },
          "output_type": "display_data"
        }
      ],
      "source": [
        "precision = precision_score(y_test_l2, y_pred, average='binary')\n",
        "print('Precision: %.3f' % precision)\n",
        "\n",
        "recall = recall_score(y_test_l2, y_pred, average='binary')\n",
        "print('Recall: %.3f' % recall)\n",
        "\n",
        "score = f1_score(y_test_l2, y_pred, average='binary')\n",
        "print('F1-Score: %.3f' % score)\n",
        "\n",
        "cm = confusion_matrix(y_test_l2, y_pred, labels=[0, 1])\n",
        "disp = ConfusionMatrixDisplay(confusion_matrix=cm, display_labels=[0, 1])\n",
        "disp.plot()\n",
        "plt.title('Acc.:'+str(round(acc, 3))+'   Prec.:'+str(round(precision, 3))+'   Recall:'+str(round(recall, 3))+'   F1:'+str(round(score, 3)))\n",
        "plt.savefig(directory[:-5]+\"screenshots/gen_test_cm_1_level_2.png\")\n",
        "plt.show()"
      ]
    },
    {
      "cell_type": "code",
      "execution_count": 267,
      "metadata": {
        "colab": {
          "base_uri": "https://localhost:8080/"
        },
        "id": "5WwOnRqSK2EN",
        "outputId": "511aa69c-1bc5-4885-d0c6-5f623a1ed930"
      },
      "outputs": [
        {
          "name": "stdout",
          "output_type": "stream",
          "text": [
            "[1 1 0 ... 1 1 1]\n"
          ]
        }
      ],
      "source": [
        "print(y_test_l2)"
      ]
    },
    {
      "cell_type": "code",
      "execution_count": 268,
      "metadata": {
        "colab": {
          "base_uri": "https://localhost:8080/",
          "height": 279
        },
        "id": "lY7LzIFKLHFP",
        "outputId": "f77934f4-64d4-400c-c67e-05ac4a3cf3a6"
      },
      "outputs": [
        {
          "data": {
            "image/png": "[encoded data removed]",
            "text/plain": [
              "<Figure size 432x288 with 1 Axes>"
            ]
          },
          "metadata": {
            "needs_background": "light"
          },
          "output_type": "display_data"
        }
      ],
      "source": [
        "pos_probs = pred_l2[:,1]\n",
        "fpr, tpr, _ = roc_curve(y_test_l2, pos_probs)\n",
        "plt.plot(fpr, tpr)\n",
        "plt.xlabel('False Positive Rate')\n",
        "plt.ylabel('True Positive Rate')\n",
        "plt.savefig(directory[:-5]+\"screenshots/gen_test_roc_1_level_2.png\")\n",
        "plt.show()"
      ]
    },
    {
      "cell_type": "markdown",
      "metadata": {
        "id": "urP961IMK3eD"
      },
      "source": [
        "## Overall"
      ]
    },
    {
      "cell_type": "code",
      "execution_count": 269,
      "metadata": {
        "id": "75YdQGG8M0o8"
      },
      "outputs": [],
      "source": [
        "y_true = []\n",
        "probs = []\n",
        "tmp = []\n",
        "j = 0\n",
        "\n",
        "for i in range(len(y)):\n",
        "\n",
        "  if y[i, 0] == 0:\n",
        "    y_true.append(0)\n",
        "    tmp.append(pred_l1[i, 0])\n",
        "    tmp.append(pred_l1[i, 1])\n",
        "    tmp.append(pred_l1[i, 1])\n",
        "    probs.append(tmp)\n",
        "    tmp = []\n",
        "  \n",
        "  elif y[i, 1] == 0:\n",
        "    y_true.append(1)\n",
        "    tmp.append(pred_l1[i, 0])\n",
        "\n",
        "    if pred_l1[i, 0] > pred_l1[i, 1]:\n",
        "      tmp.append(pred_l1[i, 1])\n",
        "      tmp.append(pred_l1[i, 1])\n",
        "\n",
        "    else:\n",
        "      tmp.append(pred_l2[j, 0])\n",
        "      tmp.append(pred_l2[j, 1])\n",
        "      j += 1\n",
        "    \n",
        "    probs.append(tmp)\n",
        "    tmp = []\n",
        "\n",
        "  else:\n",
        "    y_true.append(2)\n",
        "    tmp.append(pred_l1[i, 0])\n",
        "\n",
        "    if pred_l1[i, 0] > pred_l1[i, 1]:\n",
        "      tmp.append(pred_l1[i, 1])\n",
        "      tmp.append(pred_l1[i, 1])\n",
        "\n",
        "    else:\n",
        "      tmp.append(pred_l2[j, 0])\n",
        "      tmp.append(pred_l2[j, 1])\n",
        "      j += 1\n",
        "\n",
        "    probs.append(tmp)\n",
        "    tmp = []\n",
        "\n",
        "probs = np.array(probs)\n",
        "y_pred = np.argmax(probs, axis = 1)"
      ]
    },
    {
      "cell_type": "code",
      "execution_count": 270,
      "metadata": {
        "colab": {
          "base_uri": "https://localhost:8080/",
          "height": 364
        },
        "id": "uV1jj-h3MDww",
        "outputId": "7da41b22-a802-48df-aeb0-7d2cf1a0a624"
      },
      "outputs": [
        {
          "name": "stdout",
          "output_type": "stream",
          "text": [
            "Accuracy: 0.862\n",
            "Precision: 0.902\n",
            "Recall: 0.862\n",
            "F1-Score: 0.882\n"
          ]
        },
        {
          "data": {
            "image/png": "[encoded data removed]",
            "text/plain": [
              "<Figure size 432x288 with 2 Axes>"
            ]
          },
          "metadata": {
            "needs_background": "light"
          },
          "output_type": "display_data"
        }
      ],
      "source": [
        "acc = accuracy_score(y_true, y_pred)\n",
        "print('Accuracy: %.3f' % acc)\n",
        "\n",
        "cm = confusion_matrix(y_true, y_pred, labels=[0, 1, 2])\n",
        "disp = ConfusionMatrixDisplay(confusion_matrix=cm, display_labels=[0, 1, 2])\n",
        "plt.show()\n",
        "\n",
        "precision = np.diag(cm) / np.sum(cm, axis = 0)\n",
        "precision = sum(precision)/3\n",
        "print('Precision: %.3f' % precision)\n",
        "\n",
        "recall = np.diag(cm) / np.sum(cm, axis = 1)\n",
        "recall = sum(recall)/3\n",
        "print('Recall: %.3f' % recall)\n",
        "\n",
        "score = (2*precision*recall)/(precision + recall)\n",
        "print('F1-Score: %.3f' % score)\n",
        "\n",
        "disp.plot()\n",
        "plt.title('Acc.:'+str(round(acc, 3))+'   Prec.:'+str(round(precision, 3))+'   Recall:'+str(round(recall, 3))+'   F1:'+str(round(score, 3)))\n",
        "plt.savefig(directory[:-5]+\"screenshots/gen_test_cm_1_overall.png\")\n",
        "plt.show()"
      ]
    },
    {
      "cell_type": "code",
      "execution_count": 271,
      "metadata": {
        "colab": {
          "base_uri": "https://localhost:8080/",
          "height": 279
        },
        "id": "_aXjO6_WMDw_",
        "outputId": "e171e6ba-e124-483e-81aa-88a9be0a3978"
      },
      "outputs": [
        {
          "data": {
            "image/png": "[encoded data removed]",
            "text/plain": [
              "<Figure size 432x288 with 1 Axes>"
            ]
          },
          "metadata": {
            "needs_background": "light"
          },
          "output_type": "display_data"
        }
      ],
      "source": [
        "classes = [\"Noise\", \"BBH\", \"BNS\"]\n",
        "fpr = dict()\n",
        "tpr = dict()\n",
        "y_true = tf.keras.utils.to_categorical(y_true)\n",
        "\n",
        "for i in range(3):\n",
        "  fpr[i], tpr[i], _ = roc_curve(y_true[:, i], probs[:, i])\n",
        "\n",
        "colors = itertools.cycle([\"aqua\", \"darkorange\", \"cornflowerblue\"])\n",
        "for i, color in zip(range(3), colors):\n",
        "    plt.plot(\n",
        "        fpr[i],\n",
        "        tpr[i],\n",
        "        color=color,\n",
        "        label=f\"{classes[i]}\",\n",
        "    )\n",
        "\n",
        "plt.xlabel(\"False Positive Rate\")\n",
        "plt.ylabel(\"True Positive Rate\")\n",
        "plt.legend(loc=\"lower right\")\n",
        "plt.savefig(directory[:-5]+\"screenshots/gen_test_roc_1_overall.png\")\n",
        "plt.show()"
      ]
    },
    {
      "cell_type": "markdown",
      "metadata": {
        "id": "ImQHT-aaaTLh"
      },
      "source": [
        "# Testing on Real data"
      ]
    },
    {
      "cell_type": "markdown",
      "metadata": {
        "id": "ijRG871saTL8"
      },
      "source": [
        "## Level 1"
      ]
    },
    {
      "cell_type": "code",
      "execution_count": 272,
      "metadata": {
        "id": "mLnP3wc1aTL8"
      },
      "outputs": [],
      "source": [
        "noise_df = pd.read_csv(\"/content/gdrive/MyDrive/GW_SOP/Data/better_results/Noise.csv\", header=None)\n",
        "noise = noise_df.values.astype(float)\n",
        "\n",
        "\n",
        "data_BBH_df = pd.read_csv(\"/content/gdrive/MyDrive/GW_SOP/Data/better_results/Processed_BBH_Merged_original.csv\", header=None)\n",
        "data_BBH = data_BBH_df.values.astype(float)\n",
        "\n",
        "\n",
        "data_BNS_df = pd.read_csv(\"/content/gdrive/MyDrive/GW_SOP/Data/better_results/Processed_BNS_Merged_original.csv\", header=None)\n",
        "data_BNS = data_BNS_df.values.astype(float)"
      ]
    },
    {
      "cell_type": "code",
      "execution_count": 273,
      "metadata": {
        "colab": {
          "base_uri": "https://localhost:8080/"
        },
        "id": "Uj_E0oqIaTL9",
        "outputId": "30d797ff-0e5d-4fa8-c493-9225aa0a152c"
      },
      "outputs": [
        {
          "name": "stdout",
          "output_type": "stream",
          "text": [
            "(74, 16384)\n"
          ]
        }
      ],
      "source": [
        "X = np.concatenate((noise, data_BBH, data_BNS), axis=0)\n",
        "print(X.shape)"
      ]
    },
    {
      "cell_type": "code",
      "execution_count": 274,
      "metadata": {
        "colab": {
          "base_uri": "https://localhost:8080/"
        },
        "id": "4z4e6EYqaTL_",
        "outputId": "676ca4e4-f6e7-4e95-d69b-27402a893bcf"
      },
      "outputs": [
        {
          "name": "stdout",
          "output_type": "stream",
          "text": [
            "[[ -9.59329913   3.0796441    6.2065329  ...  19.55120984 -16.78024269\n",
            "   21.6448887 ]\n",
            " [ 10.74752082  -4.77219826   6.13033155 ...  10.74680815   5.01569204\n",
            "    2.98535439]\n",
            " [ -4.23504473   4.21567553   7.43734108 ...   6.39244242  -4.57442745\n",
            "   16.42978735]\n",
            " ...\n",
            " [  0.74529762   0.79148571   0.82671144 ...  -2.28289352  -2.2548838\n",
            "   -2.33924027]\n",
            " [ -1.30982823  -1.33978366  -1.34902886 ...  -0.60990832  -0.64637572\n",
            "   -0.58081613]\n",
            " [ -2.33834513  -2.33877564  -2.40204724 ...   3.76481395   3.6659587\n",
            "    3.58546225]]\n"
          ]
        }
      ],
      "source": [
        "X *= 1e19\n",
        "print(X)"
      ]
    },
    {
      "cell_type": "code",
      "execution_count": 275,
      "metadata": {
        "colab": {
          "base_uri": "https://localhost:8080/"
        },
        "id": "ngVqnkPmaTL_",
        "outputId": "4b7a76da-1b53-4eda-eeef-35608c6e01f9"
      },
      "outputs": [
        {
          "name": "stdout",
          "output_type": "stream",
          "text": [
            "[[ 0 -1]\n",
            " [ 0 -1]\n",
            " [ 0 -1]\n",
            " [ 0 -1]\n",
            " [ 0 -1]\n",
            " [ 0 -1]\n",
            " [ 0 -1]\n",
            " [ 0 -1]\n",
            " [ 0 -1]\n",
            " [ 0 -1]\n",
            " [ 0 -1]\n",
            " [ 0 -1]\n",
            " [ 0 -1]\n",
            " [ 0 -1]\n",
            " [ 0 -1]\n",
            " [ 0 -1]\n",
            " [ 0 -1]\n",
            " [ 0 -1]\n",
            " [ 0 -1]\n",
            " [ 0 -1]\n",
            " [ 0 -1]\n",
            " [ 0 -1]\n",
            " [ 0 -1]\n",
            " [ 0 -1]\n",
            " [ 1  0]\n",
            " [ 1  0]\n",
            " [ 1  0]\n",
            " [ 1  0]\n",
            " [ 1  0]\n",
            " [ 1  0]\n",
            " [ 1  0]\n",
            " [ 1  0]\n",
            " [ 1  0]\n",
            " [ 1  0]\n",
            " [ 1  0]\n",
            " [ 1  0]\n",
            " [ 1  0]\n",
            " [ 1  0]\n",
            " [ 1  0]\n",
            " [ 1  0]\n",
            " [ 1  0]\n",
            " [ 1  0]\n",
            " [ 1  0]\n",
            " [ 1  0]\n",
            " [ 1  0]\n",
            " [ 1  0]\n",
            " [ 1  0]\n",
            " [ 1  0]\n",
            " [ 1  0]\n",
            " [ 1  0]\n",
            " [ 1  0]\n",
            " [ 1  0]\n",
            " [ 1  0]\n",
            " [ 1  0]\n",
            " [ 1  0]\n",
            " [ 1  0]\n",
            " [ 1  0]\n",
            " [ 1  0]\n",
            " [ 1  0]\n",
            " [ 1  0]\n",
            " [ 1  0]\n",
            " [ 1  0]\n",
            " [ 1  0]\n",
            " [ 1  0]\n",
            " [ 1  0]\n",
            " [ 1  0]\n",
            " [ 1  0]\n",
            " [ 1  0]\n",
            " [ 1  0]\n",
            " [ 1  0]\n",
            " [ 1  0]\n",
            " [ 1  0]\n",
            " [ 1  1]\n",
            " [ 1  1]]\n"
          ]
        }
      ],
      "source": [
        "y = [[0, -1] for i in range(24)] + [[1, 0] for i in range(48)] + [[1, 1] for i in range(2)]\n",
        "y = np.array(y)\n",
        "print(y)"
      ]
    },
    {
      "cell_type": "code",
      "execution_count": 276,
      "metadata": {
        "colab": {
          "base_uri": "https://localhost:8080/"
        },
        "id": "48B69SX9aTMA",
        "outputId": "ef5b333f-0373-4e51-d86a-a965ab0142a6"
      },
      "outputs": [
        {
          "name": "stdout",
          "output_type": "stream",
          "text": [
            "(74, 16384, 1)\n"
          ]
        }
      ],
      "source": [
        "X_test_l1 = np.expand_dims(X, axis=-1)\n",
        "print(X_test_l1.shape)"
      ]
    },
    {
      "cell_type": "code",
      "execution_count": 277,
      "metadata": {
        "id": "6_jLpaOwaTMA"
      },
      "outputs": [],
      "source": [
        "y_l2 = [y[i,1] for i in range(len(y))]\n",
        "y_test_l1 = [y[i,0] for i in range(len(y))]"
      ]
    },
    {
      "cell_type": "code",
      "execution_count": 278,
      "metadata": {
        "colab": {
          "base_uri": "https://localhost:8080/"
        },
        "id": "a_R5DPm4aTMB",
        "outputId": "66b8eff8-6831-4766-debd-a4c6e016ae75"
      },
      "outputs": [
        {
          "name": "stdout",
          "output_type": "stream",
          "text": [
            "[-1, -1, -1, -1, -1, -1, -1, -1, -1, -1, -1, -1, -1, -1, -1, -1, -1, -1, -1, -1, -1, -1, -1, -1, 0, 0, 0, 0, 0, 0, 0, 0, 0, 0, 0, 0, 0, 0, 0, 0, 0, 0, 0, 0, 0, 0, 0, 0, 0, 0, 0, 0, 0, 0, 0, 0, 0, 0, 0, 0, 0, 0, 0, 0, 0, 0, 0, 0, 0, 0, 0, 0, 1, 1]\n"
          ]
        }
      ],
      "source": [
        "print(y_l2)"
      ]
    },
    {
      "cell_type": "code",
      "execution_count": 279,
      "metadata": {
        "colab": {
          "base_uri": "https://localhost:8080/"
        },
        "id": "7JK6U4RFaTMB",
        "outputId": "b31d9dd7-b4dc-4ac6-ab71-b3a93a775969"
      },
      "outputs": [
        {
          "name": "stdout",
          "output_type": "stream",
          "text": [
            "[0, 0, 0, 0, 0, 0, 0, 0, 0, 0, 0, 0, 0, 0, 0, 0, 0, 0, 0, 0, 0, 0, 0, 0, 1, 1, 1, 1, 1, 1, 1, 1, 1, 1, 1, 1, 1, 1, 1, 1, 1, 1, 1, 1, 1, 1, 1, 1, 1, 1, 1, 1, 1, 1, 1, 1, 1, 1, 1, 1, 1, 1, 1, 1, 1, 1, 1, 1, 1, 1, 1, 1, 1, 1]\n"
          ]
        }
      ],
      "source": [
        "print(y_test_l1)"
      ]
    },
    {
      "cell_type": "code",
      "execution_count": 280,
      "metadata": {
        "id": "E0xpuwaHaTMB"
      },
      "outputs": [],
      "source": [
        "model_l1 = load_model(directory + \"model_trial_1_level_1.h5\")"
      ]
    },
    {
      "cell_type": "code",
      "execution_count": 281,
      "metadata": {
        "id": "kWcF6fqcaTMC"
      },
      "outputs": [],
      "source": [
        "pred_l1 = model_l1.predict(X_test_l1)"
      ]
    },
    {
      "cell_type": "code",
      "execution_count": 282,
      "metadata": {
        "id": "OGtHDTnxaTMC"
      },
      "outputs": [],
      "source": [
        "# y_pred = np.argmax(pred_l1, axis = 1)\n",
        "# for i in range(2999):\n",
        "#   print(y_test_l1[i], y_pred[i])"
      ]
    },
    {
      "cell_type": "code",
      "execution_count": 283,
      "metadata": {
        "colab": {
          "base_uri": "https://localhost:8080/"
        },
        "id": "FQ7ZDYpraTMC",
        "outputId": "8a9872ff-9043-498b-80f3-e4a16947fdb5"
      },
      "outputs": [
        {
          "name": "stdout",
          "output_type": "stream",
          "text": [
            "Total no. of data samples in level 1: 74\n",
            "No. of correct predictions: 74\n",
            "Level 1 accuracy: 100.0\n",
            "No. of data samples sent to level 2 model: 50\n"
          ]
        }
      ],
      "source": [
        "y_pred = np.argmax(pred_l1, axis = 1)\n",
        "correct_l1 = 0\n",
        "X_test_l2 = []\n",
        "y_test_l2 = []\n",
        "name = []\n",
        "\n",
        "for i in range(len(y_test_l1)):\n",
        "  if y_pred[i]==y_test_l1[i]:\n",
        "    correct_l1 += 1\n",
        "\n",
        "  if y_pred[i]==1 and y_l2[i]!=-1:\n",
        "    X_test_l2.append(X_test_l1[i])\n",
        "    y_test_l2.append(y_l2[i])\n",
        "\n",
        "    if i < 72:\n",
        "      name.append(bbh_events[i-24])\n",
        "\n",
        "    else:\n",
        "      name.append(bns_events[i-72])\n",
        "\n",
        "acc = (correct_l1/len(y_test_l1))*100\n",
        "print(f\"Total no. of data samples in level 1: {len(y)}\")\n",
        "print(f\"No. of correct predictions: {correct_l1}\")\n",
        "print(f\"Level 1 accuracy: {acc}\")\n",
        "print(f\"No. of data samples sent to level 2 model: {len(y_test_l2)}\")"
      ]
    },
    {
      "cell_type": "code",
      "execution_count": 284,
      "metadata": {
        "colab": {
          "base_uri": "https://localhost:8080/",
          "height": 346
        },
        "id": "wVaG4ST3aTMD",
        "outputId": "f4408f31-abe4-4f48-980e-cacb27baaeef"
      },
      "outputs": [
        {
          "name": "stdout",
          "output_type": "stream",
          "text": [
            "Precision: 1.000\n",
            "Recall: 1.000\n",
            "F1-Score: 1.000\n"
          ]
        },
        {
          "data": {
            "image/png": "[encoded data removed]",
            "text/plain": [
              "<Figure size 432x288 with 2 Axes>"
            ]
          },
          "metadata": {
            "needs_background": "light"
          },
          "output_type": "display_data"
        }
      ],
      "source": [
        "precision = precision_score(y_test_l1, y_pred, average='binary')\n",
        "print('Precision: %.3f' % precision)\n",
        "\n",
        "recall = recall_score(y_test_l1, y_pred, average='binary')\n",
        "print('Recall: %.3f' % recall)\n",
        "\n",
        "score = f1_score(y_test_l1, y_pred, average='binary')\n",
        "print('F1-Score: %.3f' % score)\n",
        "\n",
        "cm = confusion_matrix(y_test_l1, y_pred, labels=[0, 1])\n",
        "disp = ConfusionMatrixDisplay(confusion_matrix=cm, display_labels=[0, 1])\n",
        "disp.plot()\n",
        "plt.title('Acc.:'+str(round(acc, 3))+'   Prec.:'+str(round(precision, 3))+'   Recall:'+str(round(recall, 3))+'   F1:'+str(round(score, 3)))\n",
        "plt.savefig(directory[:-5]+\"screenshots/real_cm_1_level_1.png\")\n",
        "plt.show()"
      ]
    },
    {
      "cell_type": "code",
      "execution_count": 285,
      "metadata": {
        "colab": {
          "base_uri": "https://localhost:8080/",
          "height": 279
        },
        "id": "jl3DzUBlaTMD",
        "outputId": "a7110c0b-5082-417c-ae60-dcd26db162a8"
      },
      "outputs": [
        {
          "data": {
            "image/png": "[encoded data removed]",
            "text/plain": [
              "<Figure size 432x288 with 1 Axes>"
            ]
          },
          "metadata": {
            "needs_background": "light"
          },
          "output_type": "display_data"
        }
      ],
      "source": [
        "pos_probs = pred_l1[:,1]\n",
        "fpr, tpr, _ = roc_curve(y_test_l1, pos_probs)\n",
        "plt.plot(fpr, tpr)\n",
        "plt.xlabel('False Positive Rate')\n",
        "plt.ylabel('True Positive Rate')\n",
        "plt.savefig(directory[:-5]+\"screenshots/real_roc_1_level_1.png\")\n",
        "plt.show()"
      ]
    },
    {
      "cell_type": "code",
      "execution_count": 286,
      "metadata": {
        "id": "KCEWbMHaaTME"
      },
      "outputs": [],
      "source": [
        "classes = [\"Noise\", \"Signal\"]\n",
        "\n",
        "for i in range(len(X_test_l1)):\n",
        "  prob = list(pred_l1[i])\n",
        "  fig = plt.figure(figsize =(4.5,4.5))\n",
        "\n",
        "  plt.bar(classes, prob, color ='maroon',\n",
        "          width = 0.4)\n",
        "  \n",
        "  plt.ylabel(\"Probability\")\n",
        "\n",
        "  if i < 24:\n",
        "    plt.title(\"Noise\")\n",
        "  else:\n",
        "    plt.title(\"Signal\")\n",
        "\n",
        "  plt.savefig(directory + \"bar plots/Level 1/\" + str(i) + \".png\")\n",
        "  plt.close()\n",
        "  # plt.show()\n",
        "\n",
        "np.savetxt(directory + \"bar plots/Level 1/probabilities.csv\", pred_l1, delimiter=\",\")"
      ]
    },
    {
      "cell_type": "markdown",
      "metadata": {
        "id": "uQCcAfQpaTME"
      },
      "source": [
        "## Level 2"
      ]
    },
    {
      "cell_type": "code",
      "execution_count": 287,
      "metadata": {
        "colab": {
          "base_uri": "https://localhost:8080/"
        },
        "id": "d8WkdUPqaTMF",
        "outputId": "98d65df9-8e93-451a-cb13-dfd81b3ea6e4"
      },
      "outputs": [
        {
          "name": "stdout",
          "output_type": "stream",
          "text": [
            "(50, 16384, 1)\n"
          ]
        }
      ],
      "source": [
        "X_test_l2 = np.array(X_test_l2)\n",
        "y_test_l2 = np.array(y_test_l2)\n",
        "print(X_test_l2.shape)"
      ]
    },
    {
      "cell_type": "code",
      "execution_count": 288,
      "metadata": {
        "id": "N6YWytLKaTMF"
      },
      "outputs": [],
      "source": [
        "model2 = load_model(directory + \"model_trial_1_level_2.h5\")"
      ]
    },
    {
      "cell_type": "code",
      "execution_count": 289,
      "metadata": {
        "id": "PbfGxmaRaTMF"
      },
      "outputs": [],
      "source": [
        "pred_l2 = model2.predict(X_test_l2)"
      ]
    },
    {
      "cell_type": "code",
      "execution_count": 290,
      "metadata": {
        "colab": {
          "base_uri": "https://localhost:8080/"
        },
        "id": "RCNXyCZraTMF",
        "outputId": "9e092238-07bd-447e-adfe-1ac697c1b2b0"
      },
      "outputs": [
        {
          "name": "stdout",
          "output_type": "stream",
          "text": [
            "Total no. of data samples in level 2: 50\n",
            "No. of correct predictions: 48\n",
            "Level 2 accuracy: 96.0\n"
          ]
        }
      ],
      "source": [
        "y_pred = np.argmax(pred_l2, axis = 1)\n",
        "correct_l2 = 0\n",
        "\n",
        "for i in range(len(y_test_l2)):\n",
        "  if y_pred[i]==y_test_l2[i]:\n",
        "    correct_l2 += 1\n",
        "\n",
        "acc = (correct_l2/len(y_test_l2))*100\n",
        "print(f\"Total no. of data samples in level 2: {len(y_test_l2)}\")\n",
        "print(f\"No. of correct predictions: {correct_l2}\")\n",
        "print(f\"Level 2 accuracy: {acc}\")"
      ]
    },
    {
      "cell_type": "code",
      "execution_count": 291,
      "metadata": {
        "colab": {
          "base_uri": "https://localhost:8080/",
          "height": 401
        },
        "id": "DOE19kx6aTMG",
        "outputId": "0885b624-76b2-4725-8742-d092688eec97"
      },
      "outputs": [
        {
          "name": "stdout",
          "output_type": "stream",
          "text": [
            "Precision: 0.000\n",
            "Recall: 0.000\n",
            "F1-Score: 0.000\n"
          ]
        },
        {
          "name": "stderr",
          "output_type": "stream",
          "text": [
            "/usr/local/lib/python3.7/dist-packages/sklearn/metrics/_classification.py:1318: UndefinedMetricWarning: Precision is ill-defined and being set to 0.0 due to no predicted samples. Use `zero_division` parameter to control this behavior.\n",
            "  _warn_prf(average, modifier, msg_start, len(result))\n"
          ]
        },
        {
          "data": {
            "image/png": "[encoded data removed]",
            "text/plain": [
              "<Figure size 432x288 with 2 Axes>"
            ]
          },
          "metadata": {
            "needs_background": "light"
          },
          "output_type": "display_data"
        }
      ],
      "source": [
        "precision = precision_score(y_test_l2, y_pred, average='binary')\n",
        "print('Precision: %.3f' % precision)\n",
        "\n",
        "recall = recall_score(y_test_l2, y_pred, average='binary')\n",
        "print('Recall: %.3f' % recall)\n",
        "\n",
        "score = f1_score(y_test_l2, y_pred, average='binary')\n",
        "print('F1-Score: %.3f' % score)\n",
        "\n",
        "cm = confusion_matrix(y_test_l2, y_pred, labels=[0, 1])\n",
        "disp = ConfusionMatrixDisplay(confusion_matrix=cm, display_labels=[0, 1])\n",
        "disp.plot()\n",
        "plt.title('Acc.:'+str(round(acc, 3))+'   Prec.:'+str(round(precision, 3))+'   Recall:'+str(round(recall, 3))+'   F1:'+str(round(score, 3)))\n",
        "plt.savefig(directory[:-5]+\"screenshots/real_cm_1_level_2.png\")\n",
        "plt.show()"
      ]
    },
    {
      "cell_type": "code",
      "execution_count": 292,
      "metadata": {
        "colab": {
          "base_uri": "https://localhost:8080/",
          "height": 279
        },
        "id": "NpxIiXYJaTMG",
        "outputId": "6fa5fefc-631b-4a67-c56c-b10aff56a499"
      },
      "outputs": [
        {
          "data": {
            "image/png": "[encoded data removed]",
            "text/plain": [
              "<Figure size 432x288 with 1 Axes>"
            ]
          },
          "metadata": {
            "needs_background": "light"
          },
          "output_type": "display_data"
        }
      ],
      "source": [
        "pos_probs = pred_l2[:,1]\n",
        "fpr, tpr, _ = roc_curve(y_test_l2, pos_probs)\n",
        "plt.plot(fpr, tpr)\n",
        "plt.xlabel('False Positive Rate')\n",
        "plt.ylabel('True Positive Rate')\n",
        "plt.savefig(directory[:-5]+\"screenshots/real_roc_1_level_2.png\")\n",
        "plt.show()"
      ]
    },
    {
      "cell_type": "code",
      "execution_count": 293,
      "metadata": {
        "id": "RImXxYU5aTMG"
      },
      "outputs": [],
      "source": [
        "classes = [\"BBH\", \"BNS\"]\n",
        "\n",
        "for i in range(len(X_test_l2)):\n",
        "  prob = list(pred_l2[i])\n",
        "  fig = plt.figure(figsize =(4.5,4.5))\n",
        "\n",
        "  plt.bar(classes, prob, color ='maroon',\n",
        "          width = 0.4)\n",
        "  \n",
        "  plt.ylabel(\"Probability\")\n",
        "\n",
        "  plt.title(name[i])\n",
        "\n",
        "  plt.savefig(directory + \"bar plots/Level 2/\" + str(i) + \".png\")\n",
        "  plt.close()\n",
        "  # plt.show()\n",
        "\n",
        "np.savetxt(directory + \"bar plots/Level 2/probabilities.csv\", pred_l2, delimiter=\",\")"
      ]
    },
    {
      "cell_type": "markdown",
      "metadata": {
        "id": "iMYGeW0UaTMH"
      },
      "source": [
        "## Overall"
      ]
    },
    {
      "cell_type": "code",
      "execution_count": 294,
      "metadata": {
        "id": "jLv9np9oaTMH"
      },
      "outputs": [],
      "source": [
        "y_true = []\n",
        "probs = []\n",
        "tmp = []\n",
        "j = 0\n",
        "\n",
        "for i in range(len(y)):\n",
        "\n",
        "  if y[i, 0] == 0:\n",
        "    y_true.append(0)\n",
        "    tmp.append(pred_l1[i, 0])\n",
        "    tmp.append(pred_l1[i, 1])\n",
        "    tmp.append(pred_l1[i, 1])\n",
        "    probs.append(tmp)\n",
        "    tmp = []\n",
        "  \n",
        "  elif y[i, 1] == 0:\n",
        "    y_true.append(1)\n",
        "    tmp.append(pred_l1[i, 0])\n",
        "\n",
        "    if pred_l1[i, 0] > pred_l1[i, 1]:\n",
        "      tmp.append(pred_l1[i, 1])\n",
        "      tmp.append(pred_l1[i, 1])\n",
        "\n",
        "    else:\n",
        "      tmp.append(pred_l2[j, 0])\n",
        "      tmp.append(pred_l2[j, 1])\n",
        "      j += 1\n",
        "    \n",
        "    probs.append(tmp)\n",
        "    tmp = []\n",
        "\n",
        "  else:\n",
        "    y_true.append(2)\n",
        "    tmp.append(pred_l1[i, 0])\n",
        "\n",
        "    if pred_l1[i, 0] > pred_l1[i, 1]:\n",
        "      tmp.append(pred_l1[i, 1])\n",
        "      tmp.append(pred_l1[i, 1])\n",
        "\n",
        "    else:\n",
        "      tmp.append(pred_l2[j, 0])\n",
        "      tmp.append(pred_l2[j, 1])\n",
        "      j += 1\n",
        "\n",
        "    probs.append(tmp)\n",
        "    tmp = []\n",
        "\n",
        "probs = np.array(probs)\n",
        "y_pred = np.argmax(probs, axis = 1)"
      ]
    },
    {
      "cell_type": "code",
      "execution_count": 295,
      "metadata": {
        "colab": {
          "base_uri": "https://localhost:8080/",
          "height": 398
        },
        "id": "hQy6YoYUaTMH",
        "outputId": "d9e223b6-c43d-4b00-ab9d-f46a85470372"
      },
      "outputs": [
        {
          "name": "stdout",
          "output_type": "stream",
          "text": [
            "Accuracy: 0.973\n",
            "Precision: nan\n",
            "Recall: 0.667\n",
            "F1-Score: nan\n"
          ]
        },
        {
          "name": "stderr",
          "output_type": "stream",
          "text": [
            "/usr/local/lib/python3.7/dist-packages/ipykernel_launcher.py:8: RuntimeWarning: invalid value encountered in true_divide\n",
            "  \n"
          ]
        },
        {
          "data": {
            "image/png": "[encoded data removed]",
            "text/plain": [
              "<Figure size 432x288 with 2 Axes>"
            ]
          },
          "metadata": {
            "needs_background": "light"
          },
          "output_type": "display_data"
        }
      ],
      "source": [
        "acc = accuracy_score(y_true, y_pred)\n",
        "print('Accuracy: %.3f' % acc)\n",
        "\n",
        "cm = confusion_matrix(y_true, y_pred, labels=[0, 1, 2])\n",
        "disp = ConfusionMatrixDisplay(confusion_matrix=cm, display_labels=[0, 1, 2])\n",
        "plt.show()\n",
        "\n",
        "precision = np.diag(cm) / np.sum(cm, axis = 0)\n",
        "precision = sum(precision)/3\n",
        "print('Precision: %.3f' % precision)\n",
        "\n",
        "recall = np.diag(cm) / np.sum(cm, axis = 1)\n",
        "recall = sum(recall)/3\n",
        "print('Recall: %.3f' % recall)\n",
        "\n",
        "score = (2*precision*recall)/(precision + recall)\n",
        "print('F1-Score: %.3f' % score)\n",
        "\n",
        "disp.plot()\n",
        "plt.title('Acc.:'+str(round(acc, 3))+'   Prec.:'+str(round(precision, 3))+'   Recall:'+str(round(recall, 3))+'   F1:'+str(round(score, 3)))\n",
        "plt.savefig(directory[:-5]+\"screenshots/real_cm_1_overall.png\")\n",
        "plt.show()"
      ]
    },
    {
      "cell_type": "code",
      "execution_count": 296,
      "metadata": {
        "colab": {
          "base_uri": "https://localhost:8080/",
          "height": 279
        },
        "id": "OiIE_J1PaTMI",
        "outputId": "490ab547-1eb5-4a9b-a7f9-96e20fec9eea"
      },
      "outputs": [
        {
          "data": {
            "image/png": "[encoded data removed]",
            "text/plain": [
              "<Figure size 432x288 with 1 Axes>"
            ]
          },
          "metadata": {
            "needs_background": "light"
          },
          "output_type": "display_data"
        }
      ],
      "source": [
        "classes = [\"Noise\", \"BBH\", \"BNS\"]\n",
        "fpr = dict()\n",
        "tpr = dict()\n",
        "y_true = tf.keras.utils.to_categorical(y_true)\n",
        "\n",
        "for i in range(3):\n",
        "  fpr[i], tpr[i], _ = roc_curve(y_true[:, i], probs[:, i])\n",
        "\n",
        "colors = itertools.cycle([\"aqua\", \"darkorange\", \"cornflowerblue\"])\n",
        "for i, color in zip(range(3), colors):\n",
        "    plt.plot(\n",
        "        fpr[i],\n",
        "        tpr[i],\n",
        "        color=color,\n",
        "        label=f\"{classes[i]}\",\n",
        "    )\n",
        "\n",
        "plt.xlabel(\"False Positive Rate\")\n",
        "plt.ylabel(\"True Positive Rate\")\n",
        "plt.legend(loc=\"lower right\")\n",
        "plt.savefig(directory[:-5]+\"screenshots/real_roc_1_overall.png\")\n",
        "plt.show()"
      ]
    },
    {
      "cell_type": "code",
      "execution_count": 297,
      "metadata": {
        "id": "aBTfzf8DaTMI"
      },
      "outputs": [],
      "source": [
        "classes = [\"Noise\", \"BBH\", \"BNS\"]\n",
        "\n",
        "for i in range(len(X)):\n",
        "  prob = list(probs[i])\n",
        "  fig = plt.figure(figsize =(4.5,4.5))\n",
        "\n",
        "  plt.bar(classes, prob, color ='maroon',\n",
        "          width = 0.4)\n",
        "  \n",
        "  plt.ylabel(\"Probability\")\n",
        "\n",
        "  if i < 24:\n",
        "    plt.title(\"Noise\")\n",
        "\n",
        "  elif i < 72:\n",
        "    plt.title(bbh_events[i-24])\n",
        "\n",
        "  else:\n",
        "    plt.title(bns_events[i-72])\n",
        "\n",
        "  plt.savefig(directory + \"bar plots/Overall/\" + str(i) + \".png\")\n",
        "  plt.close()\n",
        "  # plt.show()\n",
        "\n",
        "np.savetxt(directory + \"bar plots/Overall/probabilities.csv\", probs, delimiter=\",\")"
      ]
    }
  ],
  "metadata": {
    "accelerator": "GPU",
    "colab": {
      "collapsed_sections": [],
      "name": "colab_multi_level_model_testing.ipynb",
      "provenance": []
    },
    "interpreter": {
      "hash": "8356d31dd4c50017c60d528a0c40a4935f9d791f54e24c10e32e3a312d5b6882"
    },
    "kernelspec": {
      "display_name": "Python 3.7.6 64-bit ('base': conda)",
      "language": "python",
      "name": "python3"
    },
    "language_info": {
      "codemirror_mode": {
        "name": "ipython",
        "version": 3
      },
      "file_extension": ".py",
      "mimetype": "text/x-python",
      "name": "python",
      "nbconvert_exporter": "python",
      "pygments_lexer": "ipython3",
      "version": "3.7.6"
    },
    "orig_nbformat": 4
  },
  "nbformat": 4,
  "nbformat_minor": 0
}
