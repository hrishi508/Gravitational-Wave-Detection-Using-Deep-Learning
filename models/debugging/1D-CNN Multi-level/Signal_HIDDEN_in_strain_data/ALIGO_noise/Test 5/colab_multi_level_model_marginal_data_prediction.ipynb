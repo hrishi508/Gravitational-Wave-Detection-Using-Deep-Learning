{
  "cells": [
    {
      "cell_type": "markdown",
      "metadata": {
        "id": "dwy3ztM1krqq"
      },
      "source": [
        "# Imports"
      ]
    },
    {
      "cell_type": "code",
      "execution_count": 41,
      "metadata": {
        "colab": {
          "base_uri": "https://localhost:8080/"
        },
        "id": "Xs_OpQDIxDQW",
        "outputId": "b316ab14-5129-441c-8af1-b627f4ec60a2"
      },
      "outputs": [
        {
          "output_type": "stream",
          "name": "stdout",
          "text": [
            "Drive already mounted at /content/gdrive; to attempt to forcibly remount, call drive.mount(\"/content/gdrive\", force_remount=True).\n"
          ]
        }
      ],
      "source": [
        "from google.colab import drive\n",
        "drive.mount('/content/gdrive')"
      ]
    },
    {
      "cell_type": "code",
      "execution_count": 42,
      "metadata": {
        "id": "L5inbyEdw1A7"
      },
      "outputs": [],
      "source": [
        "import numpy as np\n",
        "import pandas as pd\n",
        "import matplotlib.pyplot as plt\n",
        "import itertools\n",
        "\n",
        "import tensorflow as tf\n",
        "from keras.models import load_model\n",
        "from tensorflow.keras.models import Sequential\n",
        "from tensorflow.keras.layers import Dense, Conv1D, Dropout, MaxPool1D, ReLU, Flatten, BatchNormalization\n",
        "\n",
        "from sklearn.metrics import f1_score\n",
        "from sklearn.metrics import recall_score\n",
        "from sklearn.metrics import precision_score\n",
        "from sklearn.metrics import confusion_matrix\n",
        "from sklearn.preprocessing import StandardScaler\n",
        "from sklearn.model_selection import train_test_split\n",
        "from sklearn.metrics import confusion_matrix, ConfusionMatrixDisplay, roc_curve, accuracy_score"
      ]
    },
    {
      "cell_type": "code",
      "execution_count": 62,
      "metadata": {
        "id": "5F2nsIcjoKyP"
      },
      "outputs": [],
      "source": [
        "model_directory = \"/content/gdrive/MyDrive/GW_SOP/Code/debugging/1D-CNN Multi-level/Signal_HIDDEN_in_strain_data/ALIGO_noise/Test 5/data/\"\n",
        "data_directory = \"/content/gdrive/MyDrive/GW_SOP/Data/Marginal events/\"\n",
        "# results_directory = \"/content/gdrive/MyDrive/GW_SOP/Code/debugging/1D-CNN Multi-level/Signal_HIDDEN_in_strain_data/ALIGO_noise/Test 5/data/Marginal Event Results/bar plots/1e19/\"\n",
        "results_directory = \"/content/gdrive/MyDrive/GW_SOP/Code/debugging/1D-CNN Multi-level/Signal_HIDDEN_in_strain_data/ALIGO_noise/Test 5/data/Marginal Event Results/bar plots/1e18/\""
      ]
    },
    {
      "cell_type": "code",
      "execution_count": 63,
      "metadata": {
        "id": "twXvncE4vczL"
      },
      "outputs": [],
      "source": [
        "marginal_events =  [\"GW190531_023648  GWTC-2.1-marginal\",\n",
        "                    \"170405  GWTC-1-marginal\",\n",
        "                    \"170208  GWTC-1-marginal\",\n",
        "                    \"200114_020818  O3_IMBH_marginal\",\n",
        "                    \"170705  GWTC-1-marginal\",\n",
        "                    \"200219_201407  GWTC-3-marginal\",\n",
        "                    \"191223_014159  O3_IMBH_marginal\",\n",
        "                    \"170412  GWTC-1-marginal\",\n",
        "                    \"200214_224526  GWTC-3-marginal\",\n",
        "                    \"190924_232654  O3_IMBH_marginal\",\n",
        "                    \"170616  GWTC-1-marginal\",\n",
        "                    \"GW200105_162426  GWTC-3-marginal\",\n",
        "                    \"GW191118_212859  GWTC-3-marginal\",\n",
        "                    \"151008  GWTC-1-marginal\",\n",
        "                    \"191225_215715  O3_IMBH_marginal\",\n",
        "                    \"200121_031748  GWTC-3-marginal\",\n",
        "                    \"170720  GWTC-1-marginal\",\n",
        "                    \"170219  GWTC-1-marginal\",\n",
        "                    \"GW200311_103121  GWTC-3-marginal\",\n",
        "                    \"151012.2  GWTC-1-marginal\",\n",
        "                    \"161202  GWTC-1-marginal\",\n",
        "                    \"151116  GWTC-1-marginal\",\n",
        "                    \"GW190426_152155  GWTC-2.1-marginal\",\n",
        "                    \"170630  GWTC-1-marginal\",\n",
        "                    \"161217  GWTC-1-marginal\",\n",
        "                    \"170423  GWTC-1-marginal\",\n",
        "                    \"GW200201_203549  GWTC-3-marginal\"]"
      ]
    },
    {
      "cell_type": "markdown",
      "metadata": {
        "id": "ImQHT-aaaTLh"
      },
      "source": [
        "# Testing on Real data"
      ]
    },
    {
      "cell_type": "markdown",
      "metadata": {
        "id": "ijRG871saTL8"
      },
      "source": [
        "## Level 1"
      ]
    },
    {
      "cell_type": "code",
      "execution_count": 64,
      "metadata": {
        "id": "mLnP3wc1aTL8"
      },
      "outputs": [],
      "source": [
        "marginal_df = pd.read_csv(data_directory + \"Original_signals.csv\", header=None)\n",
        "marginal = marginal_df.values.astype(float)"
      ]
    },
    {
      "cell_type": "code",
      "execution_count": 65,
      "metadata": {
        "colab": {
          "base_uri": "https://localhost:8080/"
        },
        "id": "Uj_E0oqIaTL9",
        "outputId": "88627db5-4f0b-4d61-e9c2-cfc60495d017"
      },
      "outputs": [
        {
          "output_type": "stream",
          "name": "stdout",
          "text": [
            "(27, 16384)\n"
          ]
        }
      ],
      "source": [
        "X = marginal\n",
        "print(X.shape)"
      ]
    },
    {
      "cell_type": "code",
      "execution_count": 66,
      "metadata": {
        "colab": {
          "base_uri": "https://localhost:8080/"
        },
        "id": "4z4e6EYqaTL_",
        "outputId": "734ac665-7c78-4a31-b92b-3d9081cb7a7e"
      },
      "outputs": [
        {
          "output_type": "stream",
          "name": "stdout",
          "text": [
            "[[-0.18716659 -0.13814955 -0.10986291 ...  0.04578542  0.09510752\n",
            "   0.11681538]\n",
            " [ 0.89122314  0.89725775  0.88749534 ... -0.47559963 -0.47960982\n",
            "  -0.47806027]\n",
            " [-1.22831225 -1.22288272 -1.25143445 ... -2.55568957 -2.5862049\n",
            "  -2.58620579]\n",
            " ...\n",
            " [-1.95298871 -1.9697331  -1.94882194 ... -0.60242158 -0.62078926\n",
            "  -0.62580659]\n",
            " [-0.70815089 -0.71240508 -0.70967189 ... -0.26686678 -0.26254276\n",
            "  -0.27034402]\n",
            " [ 0.95262939  0.97120658  0.98883936 ... -0.14334126 -0.14709983\n",
            "  -0.153142  ]]\n"
          ]
        }
      ],
      "source": [
        "X *= 1e18\n",
        "print(X)\n",
        "\n",
        "# X *= 1e19\n",
        "# print(X)"
      ]
    },
    {
      "cell_type": "code",
      "execution_count": 67,
      "metadata": {
        "colab": {
          "base_uri": "https://localhost:8080/"
        },
        "id": "48B69SX9aTMA",
        "outputId": "19ce2c72-d303-4650-a2e5-46cc03df4e69"
      },
      "outputs": [
        {
          "output_type": "stream",
          "name": "stdout",
          "text": [
            "(27, 16384, 1)\n"
          ]
        }
      ],
      "source": [
        "X_test_l1 = np.expand_dims(X, axis=-1)\n",
        "print(X_test_l1.shape)"
      ]
    },
    {
      "cell_type": "code",
      "execution_count": 68,
      "metadata": {
        "id": "E0xpuwaHaTMB"
      },
      "outputs": [],
      "source": [
        "model_l1 = load_model(model_directory + \"model_trial_1_level_1.h5\")"
      ]
    },
    {
      "cell_type": "code",
      "execution_count": 69,
      "metadata": {
        "id": "kWcF6fqcaTMC"
      },
      "outputs": [],
      "source": [
        "pred_l1 = model_l1.predict(X_test_l1)"
      ]
    },
    {
      "cell_type": "code",
      "execution_count": 70,
      "metadata": {
        "colab": {
          "base_uri": "https://localhost:8080/"
        },
        "id": "FQ7ZDYpraTMC",
        "outputId": "165442c3-658a-47a6-dfc8-e055f152de77"
      },
      "outputs": [
        {
          "output_type": "stream",
          "name": "stdout",
          "text": [
            "Total no. of data samples in level 1: 27\n",
            "No. of data samples predicted as signal: 25\n",
            "No. of data samples predicted as noise: 2\n",
            "No. of data samples sent to level 2 model: 25\n"
          ]
        }
      ],
      "source": [
        "y_pred_l1 = np.argmax(pred_l1, axis = 1)\n",
        "X_test_l2 = []\n",
        "name = []\n",
        "\n",
        "for i in range(len(X_test_l1)):\n",
        "\n",
        "  if y_pred_l1[i] == 1:\n",
        "    X_test_l2.append(X_test_l1[i])\n",
        "\n",
        "    name.append(marginal_events[i])\n",
        "\n",
        "print(f\"Total no. of data samples in level 1: {len(X)}\")\n",
        "print(f\"No. of data samples predicted as signal: {len(X_test_l2)}\")\n",
        "print(f\"No. of data samples predicted as noise: {len(X) - len(X_test_l2)}\")\n",
        "print(f\"No. of data samples sent to level 2 model: {len(X_test_l2)}\")"
      ]
    },
    {
      "cell_type": "code",
      "execution_count": 71,
      "metadata": {
        "id": "jl3DzUBlaTMD"
      },
      "outputs": [],
      "source": [
        "pos_probs = pred_l1[:,1]"
      ]
    },
    {
      "cell_type": "code",
      "execution_count": 72,
      "metadata": {
        "id": "KCEWbMHaaTME"
      },
      "outputs": [],
      "source": [
        "classes = [\"Noise\", \"Signal\"]\n",
        "\n",
        "for i in range(len(X_test_l1)):\n",
        "  prob = list(pred_l1[i])\n",
        "  fig = plt.figure(figsize =(4.5,4.5))\n",
        "\n",
        "  plt.bar(classes, prob, color ='maroon',\n",
        "          width = 0.4)\n",
        "  \n",
        "  plt.ylabel(\"Probability\")\n",
        "\n",
        "  plt.title(marginal_events[i])\n",
        "\n",
        "  plt.savefig(results_directory + \"Level 1/\" + str(i) + \".png\")\n",
        "  plt.close()\n",
        "  # plt.show()\n",
        "\n",
        "np.savetxt(results_directory + \"Level 1/probabilities.csv\", pred_l1, delimiter=\",\")"
      ]
    },
    {
      "cell_type": "markdown",
      "metadata": {
        "id": "uQCcAfQpaTME"
      },
      "source": [
        "## Level 2"
      ]
    },
    {
      "cell_type": "code",
      "execution_count": 73,
      "metadata": {
        "colab": {
          "base_uri": "https://localhost:8080/"
        },
        "id": "d8WkdUPqaTMF",
        "outputId": "909b6671-13f0-4bbf-9eb8-fa83497d6d3a"
      },
      "outputs": [
        {
          "output_type": "stream",
          "name": "stdout",
          "text": [
            "(25, 16384, 1)\n"
          ]
        }
      ],
      "source": [
        "X_test_l2 = np.array(X_test_l2)\n",
        "print(X_test_l2.shape)"
      ]
    },
    {
      "cell_type": "code",
      "execution_count": 74,
      "metadata": {
        "id": "N6YWytLKaTMF"
      },
      "outputs": [],
      "source": [
        "model2 = load_model(model_directory + \"model_trial_1_level_2.h5\")"
      ]
    },
    {
      "cell_type": "code",
      "execution_count": 75,
      "metadata": {
        "id": "PbfGxmaRaTMF"
      },
      "outputs": [],
      "source": [
        "pred_l2 = model2.predict(X_test_l2)"
      ]
    },
    {
      "cell_type": "code",
      "execution_count": 76,
      "metadata": {
        "colab": {
          "base_uri": "https://localhost:8080/"
        },
        "id": "RCNXyCZraTMF",
        "outputId": "3bc770b5-6540-41e0-b11d-caf4ea257979"
      },
      "outputs": [
        {
          "output_type": "stream",
          "name": "stdout",
          "text": [
            "Total no. of data samples in level 2: 25\n",
            "No. of data samples predicted as BBH signals: 25\n",
            "No. of data samples predicted as BNS signals: 0\n"
          ]
        }
      ],
      "source": [
        "y_pred_l2 = np.argmax(pred_l2, axis = 1)\n",
        "bbh = 0\n",
        "bns = 0\n",
        "\n",
        "for i in range(len(y_pred_l2)):\n",
        "    if y_pred_l2[i] == 0:\n",
        "        bbh += 1\n",
        "\n",
        "    else:\n",
        "        bns += 1\n",
        "\n",
        "print(f\"Total no. of data samples in level 2: {len(X_test_l2)}\")\n",
        "print(f\"No. of data samples predicted as BBH signals: {bbh}\")\n",
        "print(f\"No. of data samples predicted as BNS signals: {bns}\")"
      ]
    },
    {
      "cell_type": "code",
      "execution_count": 77,
      "metadata": {
        "id": "NpxIiXYJaTMG"
      },
      "outputs": [],
      "source": [
        "pos_probs = pred_l2[:,1]"
      ]
    },
    {
      "cell_type": "code",
      "execution_count": 78,
      "metadata": {
        "id": "RImXxYU5aTMG"
      },
      "outputs": [],
      "source": [
        "classes = [\"BBH\", \"BNS\"]\n",
        "\n",
        "for i in range(len(X_test_l2)):\n",
        "  prob = list(pred_l2[i])\n",
        "  fig = plt.figure(figsize =(4.5,4.5))\n",
        "\n",
        "  plt.bar(classes, prob, color ='maroon',\n",
        "          width = 0.4)\n",
        "  \n",
        "  plt.ylabel(\"Probability\")\n",
        "\n",
        "  plt.title(name[i])\n",
        "\n",
        "  plt.savefig(results_directory + \"Level 2/\" + str(i) + \".png\")\n",
        "  plt.close()\n",
        "  # plt.show()\n",
        "\n",
        "np.savetxt(results_directory + \"Level 2/probabilities.csv\", pred_l2, delimiter=\",\")"
      ]
    },
    {
      "cell_type": "markdown",
      "metadata": {
        "id": "iMYGeW0UaTMH"
      },
      "source": [
        "## Overall"
      ]
    },
    {
      "cell_type": "code",
      "execution_count": 79,
      "metadata": {
        "id": "jLv9np9oaTMH"
      },
      "outputs": [],
      "source": [
        "y_true = []\n",
        "probs = []\n",
        "tmp = []\n",
        "j = 0\n",
        "\n",
        "for i in range(len(X)):\n",
        "\n",
        "  if y_pred_l1[i] == 0:\n",
        "    tmp.append(pred_l1[i, 0])\n",
        "    tmp.append(pred_l1[i, 1])\n",
        "    tmp.append(pred_l1[i, 1])\n",
        "    probs.append(tmp)\n",
        "    tmp = []\n",
        "  \n",
        "  else:\n",
        "    tmp.append(pred_l1[i, 0])\n",
        "    tmp.append(pred_l1[i, 1]*pred_l2[j, 0])\n",
        "    tmp.append(pred_l1[i, 1]*pred_l2[j, 1])\n",
        "\n",
        "    j += 1\n",
        "    probs.append(tmp)\n",
        "    tmp = []\n",
        "\n",
        "probs = np.array(probs)\n",
        "y_pred = np.argmax(probs, axis = 1)"
      ]
    },
    {
      "cell_type": "code",
      "execution_count": 80,
      "metadata": {
        "id": "aBTfzf8DaTMI"
      },
      "outputs": [],
      "source": [
        "classes = [\"Noise\", \"BBH\", \"BNS\"]\n",
        "\n",
        "for i in range(len(X)):\n",
        "  prob = list(probs[i])\n",
        "  fig = plt.figure(figsize =(4.5,4.5))\n",
        "\n",
        "  plt.bar(classes, prob, color ='maroon',\n",
        "          width = 0.4)\n",
        "  \n",
        "  plt.ylabel(\"Probability\")\n",
        "  \n",
        "  plt.title(marginal_events[i])\n",
        "\n",
        "  plt.savefig(results_directory + \"Overall/\" + str(i) + \".png\")\n",
        "  plt.close()\n",
        "  # plt.show()\n",
        "\n",
        "np.savetxt(results_directory + \"Overall/probabilities.csv\", probs, delimiter=\",\")"
      ]
    }
  ],
  "metadata": {
    "accelerator": "GPU",
    "colab": {
      "collapsed_sections": [],
      "name": "colab_multi_level_ALIGO_model_marginal_data_prediction.ipynb",
      "provenance": []
    },
    "interpreter": {
      "hash": "8356d31dd4c50017c60d528a0c40a4935f9d791f54e24c10e32e3a312d5b6882"
    },
    "kernelspec": {
      "display_name": "Python 3.7.6 64-bit ('base': conda)",
      "language": "python",
      "name": "python3"
    },
    "language_info": {
      "codemirror_mode": {
        "name": "ipython",
        "version": 3
      },
      "file_extension": ".py",
      "mimetype": "text/x-python",
      "name": "python",
      "nbconvert_exporter": "python",
      "pygments_lexer": "ipython3",
      "version": "3.7.6"
    },
    "orig_nbformat": 4
  },
  "nbformat": 4,
  "nbformat_minor": 0
}