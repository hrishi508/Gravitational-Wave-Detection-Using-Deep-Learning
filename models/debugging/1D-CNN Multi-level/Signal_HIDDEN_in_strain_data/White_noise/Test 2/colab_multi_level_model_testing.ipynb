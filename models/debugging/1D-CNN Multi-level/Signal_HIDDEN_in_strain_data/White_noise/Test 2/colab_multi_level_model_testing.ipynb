{
  "cells": [
    {
      "cell_type": "markdown",
      "metadata": {
        "id": "dwy3ztM1krqq"
      },
      "source": [
        "# Imports"
      ]
    },
    {
      "cell_type": "code",
      "execution_count": 140,
      "metadata": {
        "colab": {
          "base_uri": "https://localhost:8080/"
        },
        "id": "Xs_OpQDIxDQW",
        "outputId": "94e19074-0aa5-4924-c107-1d3b072ed622"
      },
      "outputs": [
        {
          "name": "stdout",
          "output_type": "stream",
          "text": [
            "Drive already mounted at /content/gdrive; to attempt to forcibly remount, call drive.mount(\"/content/gdrive\", force_remount=True).\n"
          ]
        }
      ],
      "source": [
        "from google.colab import drive\n",
        "drive.mount('/content/gdrive')"
      ]
    },
    {
      "cell_type": "code",
      "execution_count": 141,
      "metadata": {
        "id": "L5inbyEdw1A7"
      },
      "outputs": [],
      "source": [
        "import numpy as np\n",
        "import pandas as pd\n",
        "import matplotlib.pyplot as plt\n",
        "import itertools\n",
        "\n",
        "import tensorflow as tf\n",
        "from keras.models import load_model\n",
        "from tensorflow.keras.models import Sequential\n",
        "from tensorflow.keras.layers import Dense, Conv1D, Dropout, MaxPool1D, ReLU, Flatten, BatchNormalization\n",
        "\n",
        "from sklearn.metrics import f1_score\n",
        "from sklearn.metrics import recall_score\n",
        "from sklearn.metrics import precision_score\n",
        "from sklearn.metrics import confusion_matrix\n",
        "from sklearn.preprocessing import StandardScaler\n",
        "from sklearn.model_selection import train_test_split\n",
        "from sklearn.metrics import confusion_matrix, ConfusionMatrixDisplay, roc_curve, accuracy_score"
      ]
    },
    {
      "cell_type": "code",
      "execution_count": 506,
      "metadata": {
        "id": "5F2nsIcjoKyP"
      },
      "outputs": [],
      "source": [
        "directory = \"/content/gdrive/MyDrive/GW_SOP/Code/debugging/1D-CNN Multi-level/Signal_HIDDEN_in_strain_data/White_noise/Test 2/data/\""
      ]
    },
    {
      "cell_type": "code",
      "execution_count": 507,
      "metadata": {
        "id": "twXvncE4vczL"
      },
      "outputs": [],
      "source": [
        "bbh_events= ['GW190519_153544',\n",
        "             'GW170823',\n",
        "             'GW190814',\n",
        "             'GW190728_064510',\n",
        "             'GW151226',\n",
        "             'GW190421_213856',\n",
        "             'GW190727_060333',\n",
        "             'GW190513_205428',\n",
        "             'GW190521_074359',\n",
        "             'GW190408_181802',\n",
        "             'GW170729',\n",
        "             'GW190915_235702',\n",
        "             'GW190929_012149',\n",
        "             'GW190910_112807',\n",
        "             'GW170104',\n",
        "             'GW190909_114149',\n",
        "             'GW190424_180648',\n",
        "             'GW190512_180714',\n",
        "             'GW190412',\n",
        "             'GW190517_055101',\n",
        "             'GW190620_030421',\n",
        "             'GW190706_222641',\n",
        "             'GW170814',\n",
        "             'GW190708_232457',\n",
        "             'GW151012',\n",
        "             'GW190930_133541',\n",
        "             'GW190731_140936',\n",
        "             'GW190828_065509',\n",
        "             'GW190701_203306',\n",
        "             'GW150914',\n",
        "             'GW190720_000836',\n",
        "             'GW190719_215514',\n",
        "             'GW190924_021846',\n",
        "             'GW170608',\n",
        "             'GW190503_185404',\n",
        "             'GW190514_065416',\n",
        "             'GW190527_092055',\n",
        "             'GW190413_134308',\n",
        "             'GW190425',\n",
        "             'GW190602_175927',\n",
        "             'GW190521',\n",
        "             'GW170809',\n",
        "             'GW170818',\n",
        "             'GW190413_052954',\n",
        "             'GW190828_063405',\n",
        "             'GW190707_093326',\n",
        "             'GW190630_185205',\n",
        "             'GW190803_022701']\n",
        "\n",
        "bns_events = ['GW170817', 'GW190425']"
      ]
    },
    {
      "cell_type": "markdown",
      "metadata": {
        "id": "LV9CfWZRisV7"
      },
      "source": [
        "# Testing on unseen generated data"
      ]
    },
    {
      "cell_type": "markdown",
      "metadata": {
        "id": "KR2Mz-kgvPm-"
      },
      "source": [
        "## Level 1"
      ]
    },
    {
      "cell_type": "code",
      "execution_count": 508,
      "metadata": {
        "id": "MzCUizYfw1A_"
      },
      "outputs": [],
      "source": [
        "noise_df = pd.read_csv(\"/content/gdrive/MyDrive/GW_SOP/Data/val_Final_Merged_Noise_Reduced_No_Abs.csv\", header=None)\n",
        "noise = noise_df.values.astype(float)\n",
        "\n",
        "\n",
        "data_BBH_df = pd.read_csv(\"/content/gdrive/MyDrive/GW_SOP/Data/val_Final_BBH_Merged_Noise_Signal_Reduced_No_ABS.csv\", header=None)\n",
        "data_BBH = data_BBH_df.values.astype(float)\n",
        "\n",
        "\n",
        "data_BNS_df = pd.read_csv(\"/content/gdrive/MyDrive/GW_SOP/Data/val_Final_BNS_Merged_Noise_Signal_Reduced_No_ABS.csv\", header=None)\n",
        "data_BNS = data_BNS_df.values.astype(float)"
      ]
    },
    {
      "cell_type": "code",
      "execution_count": 509,
      "metadata": {
        "colab": {
          "base_uri": "https://localhost:8080/"
        },
        "id": "kmYHuecJw1BB",
        "outputId": "e2334c4f-331d-4077-8565-fea2ba87647e"
      },
      "outputs": [
        {
          "name": "stdout",
          "output_type": "stream",
          "text": [
            "(3000, 16384)\n"
          ]
        }
      ],
      "source": [
        "X = np.concatenate((noise, data_BBH, data_BNS), axis=0)\n",
        "print(X.shape)"
      ]
    },
    {
      "cell_type": "code",
      "execution_count": 510,
      "metadata": {
        "colab": {
          "base_uri": "https://localhost:8080/"
        },
        "id": "8QXIloAgn9Zr",
        "outputId": "780cac86-2683-4a99-ef1c-e78fd6421f51"
      },
      "outputs": [
        {
          "name": "stdout",
          "output_type": "stream",
          "text": [
            "[[-12.66237375  -7.10454873  -1.93002241 ...   7.75026284 -19.27366344\n",
            "   16.74202077]\n",
            " [-14.04545007   2.89150861   6.69552833 ...   7.72863868  13.51669763\n",
            "   -0.15894143]\n",
            " [ -0.19188579   5.38917682   3.95968425 ... -12.60226351   1.81652994\n",
            "   -6.16624244]\n",
            " ...\n",
            " [ 16.38978149   4.00031024 -11.03916174 ...  15.21480913 -14.41520939\n",
            "    8.74220208]\n",
            " [ -2.65177947 -11.11591142 -18.04493691 ...  26.24060909 -25.77572416\n",
            "    9.39236201]\n",
            " [-26.984002    10.16253588 -17.68832777 ...   9.91613418   2.59292417\n",
            "    1.59885639]]\n"
          ]
        }
      ],
      "source": [
        "X *= 1e19\n",
        "print(X)"
      ]
    },
    {
      "cell_type": "code",
      "execution_count": 511,
      "metadata": {
        "colab": {
          "base_uri": "https://localhost:8080/"
        },
        "id": "J_dSmj6xw1BE",
        "outputId": "6ae46995-031f-4aac-e615-29032a339921"
      },
      "outputs": [
        {
          "name": "stdout",
          "output_type": "stream",
          "text": [
            "[[ 0 -1]\n",
            " [ 0 -1]\n",
            " [ 0 -1]\n",
            " ...\n",
            " [ 1  1]\n",
            " [ 1  1]\n",
            " [ 1  1]]\n"
          ]
        }
      ],
      "source": [
        "y = [[0, -1] for i in range(1000)] + [[1, 0] for i in range(1000)] + [[1, 1] for i in range(1000)]\n",
        "y = np.array(y)\n",
        "print(y)"
      ]
    },
    {
      "cell_type": "code",
      "execution_count": 512,
      "metadata": {
        "colab": {
          "base_uri": "https://localhost:8080/"
        },
        "id": "8xirD0GDBQgm",
        "outputId": "e5051db5-d1fd-4d6d-ecd9-cef1223755ab"
      },
      "outputs": [
        {
          "name": "stdout",
          "output_type": "stream",
          "text": [
            "(3000, 16384, 1)\n"
          ]
        }
      ],
      "source": [
        "X = np.expand_dims(X, axis=-1)\n",
        "print(X.shape)"
      ]
    },
    {
      "cell_type": "code",
      "execution_count": 513,
      "metadata": {
        "id": "I-Jk3rjDioj0"
      },
      "outputs": [],
      "source": [
        "X_test_l1, _, y, _ = train_test_split(X, y, test_size=1)\n",
        "\n",
        "y_l2 = [y[i,1] for i in range(len(y))]\n",
        "y_test_l1 = [y[i,0] for i in range(len(y))]"
      ]
    },
    {
      "cell_type": "code",
      "execution_count": 514,
      "metadata": {
        "colab": {
          "base_uri": "https://localhost:8080/"
        },
        "id": "uYWtfNQgptQX",
        "outputId": "ad6ffbd9-54c8-400e-d3c6-4e08839dae69"
      },
      "outputs": [
        {
          "name": "stdout",
          "output_type": "stream",
          "text": [
            "[0, 1, 1, 0, 0, 1, 1, 0, -1, -1, -1, 0, 0, 0, -1, -1, 1, 0, 0, 1, 1, 0, 1, 1, 0, 0, 1, 1, 1, -1, 1, 1, 1, 1, 0, 0, -1, 0, -1, -1, 0, 0, 0, 0, -1, 1, 0, 0, -1, -1, -1, -1, 0, -1, -1, 1, 0, 1, -1, 1, -1, 1, -1, -1, 1, -1, 0, 1, 1, -1, 1, -1, -1, 0, -1, 1, 0, 0, 0, -1, 0, -1, -1, -1, -1, 0, -1, 1, 1, 0, 1, -1, 1, -1, 0, 0, 1, -1, -1, 1, 0, 0, -1, 0, 1, 1, -1, 0, -1, -1, 1, 0, 0, 0, -1, 1, 0, 1, 0, 0, 1, 1, 1, -1, -1, -1, -1, -1, 1, -1, -1, 1, -1, 1, 1, 0, 1, 0, 0, 0, 1, -1, 1, -1, 1, 0, -1, 0, -1, 0, 0, 0, 0, 0, -1, 1, 1, -1, -1, -1, 0, -1, 0, 0, -1, -1, 0, -1, 0, -1, 1, 1, -1, 1, 1, -1, 1, -1, -1, 0, -1, -1, 1, 1, -1, 1, 0, 1, 0, 0, 0, 1, 0, 0, 0, 0, 0, 1, -1, -1, 0, -1, 1, 1, -1, -1, -1, -1, 0, 0, -1, 0, 0, -1, -1, 0, 1, 1, -1, 0, 0, 1, -1, 0, -1, 0, 1, -1, 0, 0, 1, -1, 0, 0, 1, 0, -1, 0, 0, -1, -1, 0, 1, 0, 1, 0, 0, -1, 0, 0, -1, -1, 0, 0, 0, 0, -1, 0, -1, 0, 1, 0, -1, 0, 0, 1, 1, -1, 0, -1, -1, 1, 0, 1, -1, 0, -1, 1, -1, -1, 0, 0, 0, -1, 1, 1, 0, 1, -1, -1, 1, -1, -1, -1, 1, 0, 1, 0, 1, 1, -1, 1, 1, 1, 0, 0, 1, 0, 1, -1, 1, -1, -1, 1, 1, 1, -1, -1, -1, 1, -1, -1, -1, 1, -1, 1, -1, 0, 0, 1, 0, 1, -1, 0, -1, -1, 1, 0, -1, 0, 1, 0, -1, -1, -1, 0, -1, 1, 1, 1, 1, 0, -1, 0, -1, 0, 0, 0, -1, 1, 1, -1, 0, -1, 0, -1, -1, 0, 1, 1, 0, 0, 0, -1, 0, 1, 1, 0, -1, -1, -1, 1, -1, 1, -1, -1, -1, 0, -1, 0, 0, 1, 1, -1, -1, 0, 1, -1, -1, 0, -1, 0, 1, -1, 1, -1, 0, 1, 1, -1, 1, -1, 1, -1, -1, 0, 0, 1, 1, 1, 1, -1, -1, -1, 1, 0, 1, 1, 0, 0, -1, 0, -1, 1, 1, 0, -1, 1, 1, -1, -1, -1, 1, 0, 0, -1, 1, 1, -1, -1, 1, -1, -1, 0, 0, -1, 1, -1, 0, 1, 1, 0, 1, 0, -1, 1, 0, -1, 0, -1, -1, -1, -1, -1, 0, 1, 0, 0, 0, 1, -1, 0, 1, 1, 1, -1, 1, 0, -1, 1, 1, 1, 0, -1, -1, 0, -1, 0, 1, -1, -1, -1, 1, 0, 0, 1, 1, 1, 0, -1, -1, 1, -1, 1, 1, 1, -1, -1, 1, 1, -1, 1, 0, 0, 1, 0, 0, 0, -1, 0, -1, 0, 0, -1, -1, 1, 1, 1, -1, 1, 0, 1, 1, 1, -1, 0, -1, -1, -1, 0, -1, -1, -1, 0, -1, 0, -1, -1, 0, 0, 0, -1, -1, 0, 1, 0, 1, 1, 1, -1, 0, 0, 1, -1, -1, -1, 1, 1, 0, 1, 0, -1, 0, 0, 0, -1, 1, -1, 0, -1, -1, -1, -1, 0, -1, 1, -1, -1, -1, 0, 0, -1, -1, 0, 0, 0, 0, -1, 1, -1, -1, 0, 0, 0, 0, 1, -1, 0, 1, 0, 0, 1, 1, 1, 1, -1, 0, 0, 1, -1, -1, 0, -1, -1, 0, -1, -1, 1, 1, 0, 1, 0, 1, 0, 1, -1, 0, 1, 1, 1, 0, 0, -1, 0, 1, 0, 0, -1, -1, 1, -1, -1, 1, 1, 0, -1, 0, 1, -1, 1, -1, -1, 1, 0, 0, 0, 1, 1, -1, -1, -1, 1, 0, 1, 1, 0, 1, 0, 0, 1, -1, -1, 0, -1, 1, 0, 0, 0, 1, 1, 1, 1, 0, -1, 0, 1, 0, 1, -1, 0, 1, 0, 1, 0, 0, -1, 0, -1, 0, 1, 0, -1, -1, -1, 0, -1, -1, 1, -1, 0, 1, 0, 0, 0, -1, 0, -1, 0, -1, 1, 1, -1, -1, 0, -1, -1, 1, 1, 0, 1, 1, -1, -1, -1, 0, 0, 0, 0, 0, -1, 1, 0, 1, -1, -1, -1, 0, 0, 1, -1, 1, -1, 0, 0, -1, 0, 0, -1, 1, 0, -1, -1, 0, 0, 0, 1, 0, 1, -1, 0, 0, -1, -1, 1, 0, -1, 1, 1, 1, 0, 1, 1, 0, 1, 1, 0, 0, -1, -1, 1, -1, 0, 1, 0, 1, 0, 0, 1, -1, 1, 0, 0, -1, 1, 0, 1, 1, 0, 0, 1, 0, 1, 1, 0, 0, -1, -1, -1, 1, 0, -1, 1, -1, 1, 0, -1, 0, 1, 0, 0, -1, -1, 1, -1, -1, 1, -1, 1, 1, 0, -1, 1, 1, 0, 1, 1, 1, 1, -1, 0, 1, -1, 1, 0, 1, 1, 1, 0, 1, 0, 0, -1, 1, 1, 0, 1, 1, 1, 0, -1, 0, -1, 1, -1, 1, 1, 0, -1, -1, 1, 0, -1, 0, 1, 0, 1, 1, -1, -1, 1, 1, 1, -1, 0, 1, -1, 0, 0, 0, 0, 0, 1, 0, 1, 0, 1, -1, 1, 1, -1, 0, -1, 0, 1, -1, 0, 0, 0, 0, 1, 0, 1, -1, -1, 0, 0, -1, 0, 0, 0, 0, 1, 1, 0, -1, -1, 0, 0, -1, 1, 1, -1, 1, 0, 1, 1, 1, 0, 1, -1, -1, 1, 1, 1, 1, 0, -1, 1, 1, 1, 1, 0, 0, -1, 0, 0, -1, 1, 1, 1, 1, 1, 0, -1, -1, -1, 1, 1, -1, 0, -1, -1, -1, 0, 1, 0, 0, 0, 1, 1, 1, -1, 1, -1, 0, 1, 0, 1, -1, -1, 0, -1, -1, 1, 1, 0, 1, 1, -1, -1, 1, -1, -1, 1, 0, 0, 1, -1, 0, 1, 1, 1, -1, -1, 0, 1, 0, 0, 1, -1, 0, 1, 0, 1, 1, 1, 0, 1, 0, 0, 0, 0, 1, 0, -1, 1, 0, -1, -1, 0, -1, -1, 0, 0, 1, 0, -1, 1, -1, -1, 1, 0, 0, -1, -1, -1, 1, 1, 0, -1, 0, 1, 0, 0, 1, -1, -1, 0, 1, 1, -1, 0, 0, 1, -1, 1, 1, 0, 0, -1, -1, 1, 1, 1, -1, 1, 1, 1, -1, 1, 0, 0, 1, 0, -1, 1, 0, 1, 0, -1, -1, 1, 0, 1, 0, 1, 0, 0, 1, -1, -1, -1, 1, 0, -1, 1, 0, 0, 1, -1, 1, -1, -1, -1, 1, -1, 1, 1, 1, 0, -1, -1, 1, -1, -1, -1, -1, 0, 0, 1, -1, 0, 0, -1, -1, 1, -1, 0, 1, 1, 0, -1, -1, -1, 1, 1, -1, 1, -1, 0, 1, -1, 1, 1, 1, 0, 0, 0, 1, -1, -1, 0, 1, 1, 0, -1, 1, 1, 0, 0, 0, 1, -1, 1, 0, 1, 0, 0, 1, 0, 0, -1, 0, -1, 1, 0, 1, 1, 1, -1, -1, -1, -1, -1, 0, 0, 1, 0, -1, -1, 0, 0, 1, -1, 1, 1, 0, -1, -1, 0, 1, 0, 0, 0, 0, 0, 1, 0, 0, -1, 1, -1, 0, 1, -1, 0, 1, 1, 1, 1, -1, -1, 1, -1, 1, -1, 1, -1, -1, -1, 1, 1, -1, 1, 0, 0, 1, -1, 1, -1, 1, 1, 0, -1, 1, 1, 0, 1, 0, -1, 1, 1, 0, 1, 0, 1, 1, 0, -1, 1, -1, -1, 0, 1, -1, 0, -1, 1, 1, 0, 1, 1, 1, 0, -1, 1, -1, 1, 1, -1, 1, 0, 0, 1, 0, 1, -1, 0, -1, 1, 1, 1, 1, 1, 0, -1, -1, 0, 0, 1, -1, -1, 0, -1, 1, 0, -1, 1, 0, 1, 0, 0, 1, -1, 0, 0, 1, 0, 1, 0, -1, -1, 1, 1, 1, -1, -1, -1, -1, 1, 1, -1, 1, -1, -1, 1, -1, 1, -1, -1, 0, 1, -1, 1, -1, 1, 1, -1, 1, -1, -1, 1, 0, 1, 0, -1, 1, 1, 1, -1, 1, 0, -1, 1, -1, 1, -1, -1, -1, 0, -1, 1, -1, 1, 0, 1, -1, -1, 0, 1, 1, 1, 1, -1, -1, 0, -1, -1, 1, 1, -1, 0, -1, 1, -1, -1, 1, -1, -1, 1, 1, 1, -1, 0, 0, 0, -1, -1, 1, 0, -1, 1, -1, -1, 0, 0, 1, -1, -1, 1, 0, 1, -1, -1, 1, 0, 1, -1, 1, -1, 1, 0, 0, 1, 0, 1, 1, -1, -1, 1, 0, 0, 1, 0, 1, 1, 1, -1, -1, -1, 0, 0, 0, 0, 1, 1, 1, -1, 1, 0, 0, 0, -1, -1, -1, 0, 0, -1, -1, 1, 0, -1, -1, 1, 1, -1, 1, 0, 1, 1, 1, 1, -1, -1, -1, 1, 0, 0, -1, 0, 1, 1, 0, 1, -1, -1, 1, 1, 1, 1, 0, 0, -1, 0, 1, 1, -1, 1, 0, 1, 0, -1, 1, -1, 0, 0, 0, -1, 1, -1, 1, 1, 0, 1, -1, 1, -1, -1, 0, 1, 0, -1, -1, -1, 0, 1, 1, 0, 1, 0, 1, -1, 0, 0, -1, 1, 1, 0, 1, 1, -1, 0, -1, 0, 1, -1, -1, -1, 1, 0, 1, -1, 0, 1, -1, 0, 1, 1, -1, 0, 0, -1, -1, 1, 0, 0, 1, 0, -1, 1, 0, -1, 1, 0, 0, 0, 1, 0, 0, -1, -1, 0, 0, 1, 1, -1, 0, -1, 1, -1, -1, 1, 0, -1, 0, 0, 0, 1, -1, 0, 0, -1, -1, 0, -1, 0, 0, 0, 0, 1, 0, -1, -1, -1, 1, 1, 1, 1, 1, 1, 1, 0, 0, -1, -1, 1, 0, 1, -1, 0, 1, 0, 0, -1, 1, -1, 1, 1, -1, 0, 1, -1, -1, 1, 0, 0, -1, 0, -1, -1, 1, 0, 1, 0, 0, -1, -1, 1, 1, 0, 0, -1, -1, -1, 0, -1, -1, 1, -1, 1, 1, -1, 0, -1, 0, 0, 1, 0, -1, 0, -1, 0, 1, 0, 0, 0, -1, 1, 0, -1, -1, -1, 1, 1, 1, 1, 0, 0, 1, 1, 1, -1, 0, 1, -1, 0, 1, -1, 1, 0, 0, 0, 0, 0, 1, 1, 1, 0, 1, 0, 0, 1, 1, -1, 0, -1, 1, 0, -1, 0, 1, -1, 1, 1, 1, -1, 1, 0, -1, -1, 1, 1, 1, 1, -1, 0, -1, 0, -1, 1, -1, 0, -1, 1, 1, -1, 0, 1, 0, 0, -1, -1, -1, 1, -1, 0, 1, -1, 0, -1, 1, 0, 1, 0, 0, 0, 0, -1, 1, 1, -1, 0, -1, 1, 1, 1, 0, 0, -1, 0, -1, -1, 0, 1, 0, 1, -1, -1, -1, 1, 0, -1, 1, 0, -1, 1, 0, 0, 0, 1, 1, 1, 1, 0, 0, -1, -1, 1, -1, -1, -1, -1, 1, -1, 0, 0, -1, 0, 0, 0, 0, -1, 0, 0, -1, 1, -1, 0, -1, 1, 1, 1, -1, 0, 1, 0, -1, -1, 0, -1, 1, 0, 1, 0, -1, 1, 1, 0, -1, 1, -1, 0, -1, 1, 1, 0, 0, 1, 0, 0, 1, -1, 0, -1, 0, 1, 1, 1, -1, 1, -1, -1, 0, 0, -1, 1, -1, 0, 0, -1, -1, -1, 0, 1, 0, 0, -1, 0, 1, -1, 0, 0, -1, -1, 1, -1, 1, 0, 0, -1, 1, 1, 0, 1, -1, -1, 0, -1, 1, -1, 1, -1, -1, 0, -1, 1, 0, 0, 1, -1, -1, 1, 0, 0, 0, -1, 1, 1, 0, 0, 0, 1, 1, -1, 0, 0, 1, -1, 0, 1, 0, 1, 0, 1, 1, -1, 0, 1, 1, 0, 0, 1, -1, -1, -1, -1, 0, 0, 1, -1, 0, 1, 1, 1, -1, 0, 1, 1, 0, 0, 1, 1, 1, -1, 1, 0, 0, -1, -1, 0, 1, -1, 1, -1, 1, 1, 0, -1, 0, -1, -1, -1, 1, -1, 0, 0, 1, 0, 0, 0, 1, 0, -1, -1, -1, 0, 0, -1, 0, -1, -1, -1, 0, -1, 1, 1, 1, 1, -1, 0, 1, 1, 0, 1, -1, 0, -1, 1, 0, 0, 0, 0, 0, 1, 1, -1, 1, 0, 0, -1, 1, -1, -1, 0, 1, 1, 0, 0, 1, -1, 0, 1, 0, 0, 1, -1, 0, 1, -1, -1, 1, 0, 0, 0, 1, -1, -1, 0, 0, 1, -1, -1, 1, 1, -1, 0, 0, 1, -1, 0, 1, 1, -1, 1, 1, 1, -1, 0, 1, -1, -1, 1, 0, 1, -1, -1, 0, 0, 0, 1, -1, -1, 1, 0, 1, 1, 1, 1, -1, 0, 1, -1, 1, -1, 1, 1, 0, 0, 1, -1, 1, -1, 0, 0, -1, 0, -1, -1, 1, 1, -1, -1, -1, 1, -1, -1, 0, 1, -1, 0, 1, 0, 0, 0, 1, -1, 1, -1, -1, 0, -1, 1, -1, 1, 1, 0, 1, 1, 1, 1, -1, 0, -1, 0, 1, 1, -1, 0, 1, -1, 0, -1, -1, -1, 0, 1, 0, -1, -1, -1, -1, 0, -1, -1, 1, 0, 0, 1, -1, 1, 0, -1, 1, 0, 0, 0, 1, -1, 1, 1, -1, -1, -1, 0, -1, 0, -1, 0, 0, 0, 0, -1, 0, -1, 0, -1, 1, -1, -1, -1, -1, 1, -1, 0, 1, 1, 1, -1, 1, 1, -1, 1, -1, -1, 0, 1, 0, -1, -1, 0, 1, 1, 1, 1, -1, 0, 0, -1, 1, 1, 0, 0, -1, 1, 0, 0, 1, 1, 0, 0, 1, 1, 0, 1, -1, -1, 0, 0, -1, -1, -1, -1, -1, 0, 1, 0, -1, 0, 1, -1, 0, 1, 0, -1, -1, 1, 1, 1, -1, -1, -1, -1, 0, -1, 1, -1, -1, 1, -1, 1, -1, 1, 0, 1, -1, -1, -1, 0, -1, -1, -1, 0, 0, 0, -1, -1, -1, 1, -1, 1, 0, 1, 0, -1, -1, -1, 0, 0, 0, 1, 0, -1, 0, 1, -1, 1, 1, 1, 1, -1, -1, 1, -1, 1, 1, -1, 1, -1, -1, 1, 1, 0, 0, 0, 0, -1, 1, 0, 1, 1, 0, -1, -1, 0, 0, 1, -1, -1, -1, 1, 0, -1, 1, 1, 0, 0, -1, -1, 0, 1, 1, -1, -1, -1, 1, -1, 0, -1, 0, 1, 0, -1, -1, 1, 0, 0, -1, 0, 0, 1, 0, 1, -1, 1, -1, 1, 1, 0, -1, 0, -1, -1, -1, 0, 1, -1, 0, -1, -1, 0, 1, 0, 0, 0, 0, 1, 1, 0, 1, 1, 0, 1, -1, 0, 1, 0, 1, 0, 0, 1, 1, -1, 0, 1, 1, -1, 0, 0, 0, 1, 0, -1, 1, 0, 1, -1, -1, 0, 0, 0, 1, 0, 0, -1, -1, 0, 0, 1, -1, 0, -1, 0, -1, 0, 0, 0, 1, 0, 0, -1, 1, 0, 1, 1, -1, 1, 0, 0, -1, 0, 1, -1, -1, 0, 0, 0, 0, -1, 0, 0, 0, 0, -1, 0, 0, 0, 1, 1, 0, 0, 1, 0, 0, 0, 0, 1, 0, 0, 0, 1, 0, 0, 1, -1, -1, -1, -1, 1, -1, 0, 1, 1, 1, -1, 0, 0, 1, 1, 1, -1, 1, -1, 1, -1, 0, -1, 0, 1, 0, 0, -1, -1, 0, 0, 1, -1, 1, -1, 0, 1, -1, 1, 0, 0, 0, 1, 0, 0, 1, 1, -1, -1, 0, 0, 0, 1, 0, 0, 1, 1, 1, -1, -1, -1, 0, 1, 1, 1, -1, -1, 0, 1, -1, 1, 0, -1, -1, 1, -1, -1, 0, 0, -1, -1, -1, -1, 1, 0, 1, 0, -1, 0, 1, -1, 0, 0, -1, -1, 0, 1, -1, 0, -1, 0, -1, 1, 0, 1, 1, 0, -1, 0, 1, 0, 0, -1, 1, 0, 1, 1, 1, 0, 1, 1, 0, -1, 1, 0, 1, 1, -1, 0, 0, 1, 1, 0, -1, 0, 1, 1, -1, 1, -1, -1, 1, 1, 0, -1, -1, 0, 0, 0, -1, -1, -1, 0, -1, -1, -1, 1, 0, -1, 0, 0, 0, 0, 0, -1, 0, -1, 0, -1, 0, -1, 1, 1, 1, -1, 1, -1, 0, -1, 1, 1, 0, 1, -1, -1, 0, 1, -1, 0, -1, 1, 1, 0, 1, 0, 1, 0, 1, -1, 0, 1, 1, 1, 0, 1, 1, 0, 0, 0, 1, 1, 1, -1, 0, 1, -1, 0, 0, 1, -1, 1, -1, 0, 1, 0, -1, 0, -1, -1, 0, -1, 0, -1, 0, -1, 1, 1, -1, 1, 0, 1, 1, 1, 1, -1, -1, 1, 0, 1, -1, -1, -1, 1, -1, 0, -1, 1, 1, 0, 0, -1, 0, -1, -1, 1, 1, -1, 0, -1, 1, -1, 1, 1, -1, -1, 0, 1, 0, -1, -1, -1, -1, -1, 1, 1, 1, 1, 0, 0, 1, 0, 0, 0, -1, 0, -1, -1, 1, 0, -1, 0, 1, 1, 0, 0, -1, 0, -1, -1, -1, -1, -1, -1, 1, 1, 1, 1, -1, -1, 0, 0, -1, 1, 0, 0, -1, 1, 1, -1, 1, 0, 0, 0, 1, -1, 1, 0, -1, 1, 1, -1, -1, -1, 0, -1, 0, 0, 0, 1, -1, 1, -1, 1, -1, 1, 1, 0, -1, -1, -1, 1, 1, -1, -1, 1, -1, 0, 0, -1, 0, 0, 0, 0, -1, 0, -1, -1, 0, -1, 1, 0, 0, -1, -1, 1, 1, -1, 0, 0, 1, 0, 1, 0, 0, 0, -1, 0, 0, 0, 1, 1, 0, 1, -1, -1, -1]\n"
          ]
        }
      ],
      "source": [
        "print(y_l2)"
      ]
    },
    {
      "cell_type": "code",
      "execution_count": 515,
      "metadata": {
        "colab": {
          "base_uri": "https://localhost:8080/"
        },
        "id": "boi3V2dgpu7G",
        "outputId": "a4485ea1-0592-42cc-f511-76ae1825ba9b"
      },
      "outputs": [
        {
          "name": "stdout",
          "output_type": "stream",
          "text": [
            "[1, 1, 1, 1, 1, 1, 1, 1, 0, 0, 0, 1, 1, 1, 0, 0, 1, 1, 1, 1, 1, 1, 1, 1, 1, 1, 1, 1, 1, 0, 1, 1, 1, 1, 1, 1, 0, 1, 0, 0, 1, 1, 1, 1, 0, 1, 1, 1, 0, 0, 0, 0, 1, 0, 0, 1, 1, 1, 0, 1, 0, 1, 0, 0, 1, 0, 1, 1, 1, 0, 1, 0, 0, 1, 0, 1, 1, 1, 1, 0, 1, 0, 0, 0, 0, 1, 0, 1, 1, 1, 1, 0, 1, 0, 1, 1, 1, 0, 0, 1, 1, 1, 0, 1, 1, 1, 0, 1, 0, 0, 1, 1, 1, 1, 0, 1, 1, 1, 1, 1, 1, 1, 1, 0, 0, 0, 0, 0, 1, 0, 0, 1, 0, 1, 1, 1, 1, 1, 1, 1, 1, 0, 1, 0, 1, 1, 0, 1, 0, 1, 1, 1, 1, 1, 0, 1, 1, 0, 0, 0, 1, 0, 1, 1, 0, 0, 1, 0, 1, 0, 1, 1, 0, 1, 1, 0, 1, 0, 0, 1, 0, 0, 1, 1, 0, 1, 1, 1, 1, 1, 1, 1, 1, 1, 1, 1, 1, 1, 0, 0, 1, 0, 1, 1, 0, 0, 0, 0, 1, 1, 0, 1, 1, 0, 0, 1, 1, 1, 0, 1, 1, 1, 0, 1, 0, 1, 1, 0, 1, 1, 1, 0, 1, 1, 1, 1, 0, 1, 1, 0, 0, 1, 1, 1, 1, 1, 1, 0, 1, 1, 0, 0, 1, 1, 1, 1, 0, 1, 0, 1, 1, 1, 0, 1, 1, 1, 1, 0, 1, 0, 0, 1, 1, 1, 0, 1, 0, 1, 0, 0, 1, 1, 1, 0, 1, 1, 1, 1, 0, 0, 1, 0, 0, 0, 1, 1, 1, 1, 1, 1, 0, 1, 1, 1, 1, 1, 1, 1, 1, 0, 1, 0, 0, 1, 1, 1, 0, 0, 0, 1, 0, 0, 0, 1, 0, 1, 0, 1, 1, 1, 1, 1, 0, 1, 0, 0, 1, 1, 0, 1, 1, 1, 0, 0, 0, 1, 0, 1, 1, 1, 1, 1, 0, 1, 0, 1, 1, 1, 0, 1, 1, 0, 1, 0, 1, 0, 0, 1, 1, 1, 1, 1, 1, 0, 1, 1, 1, 1, 0, 0, 0, 1, 0, 1, 0, 0, 0, 1, 0, 1, 1, 1, 1, 0, 0, 1, 1, 0, 0, 1, 0, 1, 1, 0, 1, 0, 1, 1, 1, 0, 1, 0, 1, 0, 0, 1, 1, 1, 1, 1, 1, 0, 0, 0, 1, 1, 1, 1, 1, 1, 0, 1, 0, 1, 1, 1, 0, 1, 1, 0, 0, 0, 1, 1, 1, 0, 1, 1, 0, 0, 1, 0, 0, 1, 1, 0, 1, 0, 1, 1, 1, 1, 1, 1, 0, 1, 1, 0, 1, 0, 0, 0, 0, 0, 1, 1, 1, 1, 1, 1, 0, 1, 1, 1, 1, 0, 1, 1, 0, 1, 1, 1, 1, 0, 0, 1, 0, 1, 1, 0, 0, 0, 1, 1, 1, 1, 1, 1, 1, 0, 0, 1, 0, 1, 1, 1, 0, 0, 1, 1, 0, 1, 1, 1, 1, 1, 1, 1, 0, 1, 0, 1, 1, 0, 0, 1, 1, 1, 0, 1, 1, 1, 1, 1, 0, 1, 0, 0, 0, 1, 0, 0, 0, 1, 0, 1, 0, 0, 1, 1, 1, 0, 0, 1, 1, 1, 1, 1, 1, 0, 1, 1, 1, 0, 0, 0, 1, 1, 1, 1, 1, 0, 1, 1, 1, 0, 1, 0, 1, 0, 0, 0, 0, 1, 0, 1, 0, 0, 0, 1, 1, 0, 0, 1, 1, 1, 1, 0, 1, 0, 0, 1, 1, 1, 1, 1, 0, 1, 1, 1, 1, 1, 1, 1, 1, 0, 1, 1, 1, 0, 0, 1, 0, 0, 1, 0, 0, 1, 1, 1, 1, 1, 1, 1, 1, 0, 1, 1, 1, 1, 1, 1, 0, 1, 1, 1, 1, 0, 0, 1, 0, 0, 1, 1, 1, 0, 1, 1, 0, 1, 0, 0, 1, 1, 1, 1, 1, 1, 0, 0, 0, 1, 1, 1, 1, 1, 1, 1, 1, 1, 0, 0, 1, 0, 1, 1, 1, 1, 1, 1, 1, 1, 1, 0, 1, 1, 1, 1, 0, 1, 1, 1, 1, 1, 1, 0, 1, 0, 1, 1, 1, 0, 0, 0, 1, 0, 0, 1, 0, 1, 1, 1, 1, 1, 0, 1, 0, 1, 0, 1, 1, 0, 0, 1, 0, 0, 1, 1, 1, 1, 1, 0, 0, 0, 1, 1, 1, 1, 1, 0, 1, 1, 1, 0, 0, 0, 1, 1, 1, 0, 1, 0, 1, 1, 0, 1, 1, 0, 1, 1, 0, 0, 1, 1, 1, 1, 1, 1, 0, 1, 1, 0, 0, 1, 1, 0, 1, 1, 1, 1, 1, 1, 1, 1, 1, 1, 1, 0, 0, 1, 0, 1, 1, 1, 1, 1, 1, 1, 0, 1, 1, 1, 0, 1, 1, 1, 1, 1, 1, 1, 1, 1, 1, 1, 1, 0, 0, 0, 1, 1, 0, 1, 0, 1, 1, 0, 1, 1, 1, 1, 0, 0, 1, 0, 0, 1, 0, 1, 1, 1, 0, 1, 1, 1, 1, 1, 1, 1, 0, 1, 1, 0, 1, 1, 1, 1, 1, 1, 1, 1, 1, 0, 1, 1, 1, 1, 1, 1, 1, 0, 1, 0, 1, 0, 1, 1, 1, 0, 0, 1, 1, 0, 1, 1, 1, 1, 1, 0, 0, 1, 1, 1, 0, 1, 1, 0, 1, 1, 1, 1, 1, 1, 1, 1, 1, 1, 0, 1, 1, 0, 1, 0, 1, 1, 0, 1, 1, 1, 1, 1, 1, 1, 0, 0, 1, 1, 0, 1, 1, 1, 1, 1, 1, 1, 0, 0, 1, 1, 0, 1, 1, 0, 1, 1, 1, 1, 1, 1, 1, 0, 0, 1, 1, 1, 1, 1, 0, 1, 1, 1, 1, 1, 1, 0, 1, 1, 0, 1, 1, 1, 1, 1, 1, 0, 0, 0, 1, 1, 0, 1, 0, 0, 0, 1, 1, 1, 1, 1, 1, 1, 1, 0, 1, 0, 1, 1, 1, 1, 0, 0, 1, 0, 0, 1, 1, 1, 1, 1, 0, 0, 1, 0, 0, 1, 1, 1, 1, 0, 1, 1, 1, 1, 0, 0, 1, 1, 1, 1, 1, 0, 1, 1, 1, 1, 1, 1, 1, 1, 1, 1, 1, 1, 1, 1, 0, 1, 1, 0, 0, 1, 0, 0, 1, 1, 1, 1, 0, 1, 0, 0, 1, 1, 1, 0, 0, 0, 1, 1, 1, 0, 1, 1, 1, 1, 1, 0, 0, 1, 1, 1, 0, 1, 1, 1, 0, 1, 1, 1, 1, 0, 0, 1, 1, 1, 0, 1, 1, 1, 0, 1, 1, 1, 1, 1, 0, 1, 1, 1, 1, 0, 0, 1, 1, 1, 1, 1, 1, 1, 1, 0, 0, 0, 1, 1, 0, 1, 1, 1, 1, 0, 1, 0, 0, 0, 1, 0, 1, 1, 1, 1, 0, 0, 1, 0, 0, 0, 0, 1, 1, 1, 0, 1, 1, 0, 0, 1, 0, 1, 1, 1, 1, 0, 0, 0, 1, 1, 0, 1, 0, 1, 1, 0, 1, 1, 1, 1, 1, 1, 1, 0, 0, 1, 1, 1, 1, 0, 1, 1, 1, 1, 1, 1, 0, 1, 1, 1, 1, 1, 1, 1, 1, 0, 1, 0, 1, 1, 1, 1, 1, 0, 0, 0, 0, 0, 1, 1, 1, 1, 0, 0, 1, 1, 1, 0, 1, 1, 1, 0, 0, 1, 1, 1, 1, 1, 1, 1, 1, 1, 1, 0, 1, 0, 1, 1, 0, 1, 1, 1, 1, 1, 0, 0, 1, 0, 1, 0, 1, 0, 0, 0, 1, 1, 0, 1, 1, 1, 1, 0, 1, 0, 1, 1, 1, 0, 1, 1, 1, 1, 1, 0, 1, 1, 1, 1, 1, 1, 1, 1, 0, 1, 0, 0, 1, 1, 0, 1, 0, 1, 1, 1, 1, 1, 1, 1, 0, 1, 0, 1, 1, 0, 1, 1, 1, 1, 1, 1, 0, 1, 0, 1, 1, 1, 1, 1, 1, 0, 0, 1, 1, 1, 0, 0, 1, 0, 1, 1, 0, 1, 1, 1, 1, 1, 1, 0, 1, 1, 1, 1, 1, 1, 0, 0, 1, 1, 1, 0, 0, 0, 0, 1, 1, 0, 1, 0, 0, 1, 0, 1, 0, 0, 1, 1, 0, 1, 0, 1, 1, 0, 1, 0, 0, 1, 1, 1, 1, 0, 1, 1, 1, 0, 1, 1, 0, 1, 0, 1, 0, 0, 0, 1, 0, 1, 0, 1, 1, 1, 0, 0, 1, 1, 1, 1, 1, 0, 0, 1, 0, 0, 1, 1, 0, 1, 0, 1, 0, 0, 1, 0, 0, 1, 1, 1, 0, 1, 1, 1, 0, 0, 1, 1, 0, 1, 0, 0, 1, 1, 1, 0, 0, 1, 1, 1, 0, 0, 1, 1, 1, 0, 1, 0, 1, 1, 1, 1, 1, 1, 1, 0, 0, 1, 1, 1, 1, 1, 1, 1, 1, 0, 0, 0, 1, 1, 1, 1, 1, 1, 1, 0, 1, 1, 1, 1, 0, 0, 0, 1, 1, 0, 0, 1, 1, 0, 0, 1, 1, 0, 1, 1, 1, 1, 1, 1, 0, 0, 0, 1, 1, 1, 0, 1, 1, 1, 1, 1, 0, 0, 1, 1, 1, 1, 1, 1, 0, 1, 1, 1, 0, 1, 1, 1, 1, 0, 1, 0, 1, 1, 1, 0, 1, 0, 1, 1, 1, 1, 0, 1, 0, 0, 1, 1, 1, 0, 0, 0, 1, 1, 1, 1, 1, 1, 1, 0, 1, 1, 0, 1, 1, 1, 1, 1, 0, 1, 0, 1, 1, 0, 0, 0, 1, 1, 1, 0, 1, 1, 0, 1, 1, 1, 0, 1, 1, 0, 0, 1, 1, 1, 1, 1, 0, 1, 1, 0, 1, 1, 1, 1, 1, 1, 1, 0, 0, 1, 1, 1, 1, 0, 1, 0, 1, 0, 0, 1, 1, 0, 1, 1, 1, 1, 0, 1, 1, 0, 0, 1, 0, 1, 1, 1, 1, 1, 1, 0, 0, 0, 1, 1, 1, 1, 1, 1, 1, 1, 1, 0, 0, 1, 1, 1, 0, 1, 1, 1, 1, 0, 1, 0, 1, 1, 0, 1, 1, 0, 0, 1, 1, 1, 0, 1, 0, 0, 1, 1, 1, 1, 1, 0, 0, 1, 1, 1, 1, 0, 0, 0, 1, 0, 0, 1, 0, 1, 1, 0, 1, 0, 1, 1, 1, 1, 0, 1, 0, 1, 1, 1, 1, 1, 0, 1, 1, 0, 0, 0, 1, 1, 1, 1, 1, 1, 1, 1, 1, 0, 1, 1, 0, 1, 1, 0, 1, 1, 1, 1, 1, 1, 1, 1, 1, 1, 1, 1, 1, 1, 1, 0, 1, 0, 1, 1, 0, 1, 1, 0, 1, 1, 1, 0, 1, 1, 0, 0, 1, 1, 1, 1, 0, 1, 0, 1, 0, 1, 0, 1, 0, 1, 1, 0, 1, 1, 1, 1, 0, 0, 0, 1, 0, 1, 1, 0, 1, 0, 1, 1, 1, 1, 1, 1, 1, 0, 1, 1, 0, 1, 0, 1, 1, 1, 1, 1, 0, 1, 0, 0, 1, 1, 1, 1, 0, 0, 0, 1, 1, 0, 1, 1, 0, 1, 1, 1, 1, 1, 1, 1, 1, 1, 1, 0, 0, 1, 0, 0, 0, 0, 1, 0, 1, 1, 0, 1, 1, 1, 1, 0, 1, 1, 0, 1, 0, 1, 0, 1, 1, 1, 0, 1, 1, 1, 0, 0, 1, 0, 1, 1, 1, 1, 0, 1, 1, 1, 0, 1, 0, 1, 0, 1, 1, 1, 1, 1, 1, 1, 1, 0, 1, 0, 1, 1, 1, 1, 0, 1, 0, 0, 1, 1, 0, 1, 0, 1, 1, 0, 0, 0, 1, 1, 1, 1, 0, 1, 1, 0, 1, 1, 0, 0, 1, 0, 1, 1, 1, 0, 1, 1, 1, 1, 0, 0, 1, 0, 1, 0, 1, 0, 0, 1, 0, 1, 1, 1, 1, 0, 0, 1, 1, 1, 1, 0, 1, 1, 1, 1, 1, 1, 1, 0, 1, 1, 1, 0, 1, 1, 1, 1, 1, 1, 1, 0, 1, 1, 1, 1, 1, 1, 0, 0, 0, 0, 1, 1, 1, 0, 1, 1, 1, 1, 0, 1, 1, 1, 1, 1, 1, 1, 1, 0, 1, 1, 1, 0, 0, 1, 1, 0, 1, 0, 1, 1, 1, 0, 1, 0, 0, 0, 1, 0, 1, 1, 1, 1, 1, 1, 1, 1, 0, 0, 0, 1, 1, 0, 1, 0, 0, 0, 1, 0, 1, 1, 1, 1, 0, 1, 1, 1, 1, 1, 0, 1, 0, 1, 1, 1, 1, 1, 1, 1, 1, 0, 1, 1, 1, 0, 1, 0, 0, 1, 1, 1, 1, 1, 1, 0, 1, 1, 1, 1, 1, 0, 1, 1, 0, 0, 1, 1, 1, 1, 1, 0, 0, 1, 1, 1, 0, 0, 1, 1, 0, 1, 1, 1, 0, 1, 1, 1, 0, 1, 1, 1, 0, 1, 1, 0, 0, 1, 1, 1, 0, 0, 1, 1, 1, 1, 0, 0, 1, 1, 1, 1, 1, 1, 0, 1, 1, 0, 1, 0, 1, 1, 1, 1, 1, 0, 1, 0, 1, 1, 0, 1, 0, 0, 1, 1, 0, 0, 0, 1, 0, 0, 1, 1, 0, 1, 1, 1, 1, 1, 1, 0, 1, 0, 0, 1, 0, 1, 0, 1, 1, 1, 1, 1, 1, 1, 0, 1, 0, 1, 1, 1, 0, 1, 1, 0, 1, 0, 0, 0, 1, 1, 1, 0, 0, 0, 0, 1, 0, 0, 1, 1, 1, 1, 0, 1, 1, 0, 1, 1, 1, 1, 1, 0, 1, 1, 0, 0, 0, 1, 0, 1, 0, 1, 1, 1, 1, 0, 1, 0, 1, 0, 1, 0, 0, 0, 0, 1, 0, 1, 1, 1, 1, 0, 1, 1, 0, 1, 0, 0, 1, 1, 1, 0, 0, 1, 1, 1, 1, 1, 0, 1, 1, 0, 1, 1, 1, 1, 0, 1, 1, 1, 1, 1, 1, 1, 1, 1, 1, 1, 0, 0, 1, 1, 0, 0, 0, 0, 0, 1, 1, 1, 0, 1, 1, 0, 1, 1, 1, 0, 0, 1, 1, 1, 0, 0, 0, 0, 1, 0, 1, 0, 0, 1, 0, 1, 0, 1, 1, 1, 0, 0, 0, 1, 0, 0, 0, 1, 1, 1, 0, 0, 0, 1, 0, 1, 1, 1, 1, 0, 0, 0, 1, 1, 1, 1, 1, 0, 1, 1, 0, 1, 1, 1, 1, 0, 0, 1, 0, 1, 1, 0, 1, 0, 0, 1, 1, 1, 1, 1, 1, 0, 1, 1, 1, 1, 1, 0, 0, 1, 1, 1, 0, 0, 0, 1, 1, 0, 1, 1, 1, 1, 0, 0, 1, 1, 1, 0, 0, 0, 1, 0, 1, 0, 1, 1, 1, 0, 0, 1, 1, 1, 0, 1, 1, 1, 1, 1, 0, 1, 0, 1, 1, 1, 0, 1, 0, 0, 0, 1, 1, 0, 1, 0, 0, 1, 1, 1, 1, 1, 1, 1, 1, 1, 1, 1, 1, 1, 0, 1, 1, 1, 1, 1, 1, 1, 1, 0, 1, 1, 1, 0, 1, 1, 1, 1, 1, 0, 1, 1, 1, 0, 0, 1, 1, 1, 1, 1, 1, 0, 0, 1, 1, 1, 0, 1, 0, 1, 0, 1, 1, 1, 1, 1, 1, 0, 1, 1, 1, 1, 0, 1, 1, 1, 0, 1, 1, 0, 0, 1, 1, 1, 1, 0, 1, 1, 1, 1, 0, 1, 1, 1, 1, 1, 1, 1, 1, 1, 1, 1, 1, 1, 1, 1, 1, 1, 1, 1, 1, 0, 0, 0, 0, 1, 0, 1, 1, 1, 1, 0, 1, 1, 1, 1, 1, 0, 1, 0, 1, 0, 1, 0, 1, 1, 1, 1, 0, 0, 1, 1, 1, 0, 1, 0, 1, 1, 0, 1, 1, 1, 1, 1, 1, 1, 1, 1, 0, 0, 1, 1, 1, 1, 1, 1, 1, 1, 1, 0, 0, 0, 1, 1, 1, 1, 0, 0, 1, 1, 0, 1, 1, 0, 0, 1, 0, 0, 1, 1, 0, 0, 0, 0, 1, 1, 1, 1, 0, 1, 1, 0, 1, 1, 0, 0, 1, 1, 0, 1, 0, 1, 0, 1, 1, 1, 1, 1, 0, 1, 1, 1, 1, 0, 1, 1, 1, 1, 1, 1, 1, 1, 1, 0, 1, 1, 1, 1, 0, 1, 1, 1, 1, 1, 0, 1, 1, 1, 0, 1, 0, 0, 1, 1, 1, 0, 0, 1, 1, 1, 0, 0, 0, 1, 0, 0, 0, 1, 1, 0, 1, 1, 1, 1, 1, 0, 1, 0, 1, 0, 1, 0, 1, 1, 1, 0, 1, 0, 1, 0, 1, 1, 1, 1, 0, 0, 1, 1, 0, 1, 0, 1, 1, 1, 1, 1, 1, 1, 1, 0, 1, 1, 1, 1, 1, 1, 1, 1, 1, 1, 1, 1, 1, 0, 1, 1, 0, 1, 1, 1, 0, 1, 0, 1, 1, 1, 0, 1, 0, 0, 1, 0, 1, 0, 1, 0, 1, 1, 0, 1, 1, 1, 1, 1, 1, 0, 0, 1, 1, 1, 0, 0, 0, 1, 0, 1, 0, 1, 1, 1, 1, 0, 1, 0, 0, 1, 1, 0, 1, 0, 1, 0, 1, 1, 0, 0, 1, 1, 1, 0, 0, 0, 0, 0, 1, 1, 1, 1, 1, 1, 1, 1, 1, 1, 0, 1, 0, 0, 1, 1, 0, 1, 1, 1, 1, 1, 0, 1, 0, 0, 0, 0, 0, 0, 1, 1, 1, 1, 0, 0, 1, 1, 0, 1, 1, 1, 0, 1, 1, 0, 1, 1, 1, 1, 1, 0, 1, 1, 0, 1, 1, 0, 0, 0, 1, 0, 1, 1, 1, 1, 0, 1, 0, 1, 0, 1, 1, 1, 0, 0, 0, 1, 1, 0, 0, 1, 0, 1, 1, 0, 1, 1, 1, 1, 0, 1, 0, 0, 1, 0, 1, 1, 1, 0, 0, 1, 1, 0, 1, 1, 1, 1, 1, 1, 1, 1, 0, 1, 1, 1, 1, 1, 1, 1, 0, 0, 0]\n"
          ]
        }
      ],
      "source": [
        "print(y_test_l1)"
      ]
    },
    {
      "cell_type": "code",
      "execution_count": 516,
      "metadata": {
        "id": "01pIkFC6w1BJ"
      },
      "outputs": [],
      "source": [
        "model_l1 = load_model(directory + \"model_trial_1_level_1.h5\")"
      ]
    },
    {
      "cell_type": "code",
      "execution_count": 517,
      "metadata": {
        "id": "nNKY920YfEPO"
      },
      "outputs": [],
      "source": [
        "pred_l1 = model_l1.predict(X_test_l1)"
      ]
    },
    {
      "cell_type": "code",
      "execution_count": 518,
      "metadata": {
        "id": "DzgSDMkks44o"
      },
      "outputs": [],
      "source": [
        "# y_pred = np.argmax(pred_l1, axis = 1)\n",
        "# for i in range(2999):\n",
        "#   print(y_test_l1[i], y_pred[i])"
      ]
    },
    {
      "cell_type": "code",
      "execution_count": 519,
      "metadata": {
        "colab": {
          "base_uri": "https://localhost:8080/"
        },
        "id": "q31_lNxgfEPO",
        "outputId": "9e02b16c-fc88-47d6-a825-9a9a962763a6"
      },
      "outputs": [
        {
          "name": "stdout",
          "output_type": "stream",
          "text": [
            "Total no. of data samples in level 1: 2999\n",
            "No. of correct predictions: 1129\n",
            "Level 1 accuracy: 37.64588196065355\n",
            "No. of data samples sent to level 2 model: 189\n"
          ]
        }
      ],
      "source": [
        "y_pred = np.argmax(pred_l1, axis = 1)\n",
        "correct_l1 = 0\n",
        "X_test_l2 = []\n",
        "y_test_l2 = []\n",
        "\n",
        "for i in range(len(y_test_l1)):\n",
        "  if y_pred[i]==y_test_l1[i]:\n",
        "    correct_l1 += 1\n",
        "\n",
        "  if y_pred[i]==1 and y_l2[i]!=-1:\n",
        "    X_test_l2.append(X_test_l1[i])\n",
        "    y_test_l2.append(y_l2[i])\n",
        "\n",
        "acc = (correct_l1/len(y_test_l1))*100\n",
        "print(f\"Total no. of data samples in level 1: {len(y)}\")\n",
        "print(f\"No. of correct predictions: {correct_l1}\")\n",
        "print(f\"Level 1 accuracy: {acc}\")\n",
        "print(f\"No. of data samples sent to level 2 model: {len(y_test_l2)}\")"
      ]
    },
    {
      "cell_type": "code",
      "execution_count": 520,
      "metadata": {
        "colab": {
          "base_uri": "https://localhost:8080/",
          "height": 0
        },
        "id": "P3Rlv4BKKe9-",
        "outputId": "99a33726-fc11-4795-ea7c-0762aae1ad2d"
      },
      "outputs": [
        {
          "name": "stdout",
          "output_type": "stream",
          "text": [
            "Precision: 0.762\n",
            "Recall: 0.095\n",
            "F1-Score: 0.168\n"
          ]
        },
        {
          "data": {
            "image/png": "[encoded data removed]",
            "text/plain": [
              "<Figure size 432x288 with 2 Axes>"
            ]
          },
          "metadata": {
            "needs_background": "light"
          },
          "output_type": "display_data"
        }
      ],
      "source": [
        "precision = precision_score(y_test_l1, y_pred, average='binary')\n",
        "print('Precision: %.3f' % precision)\n",
        "\n",
        "recall = recall_score(y_test_l1, y_pred, average='binary')\n",
        "print('Recall: %.3f' % recall)\n",
        "\n",
        "score = f1_score(y_test_l1, y_pred, average='binary')\n",
        "print('F1-Score: %.3f' % score)\n",
        "\n",
        "cm = confusion_matrix(y_test_l1, y_pred, labels=[0, 1])\n",
        "disp = ConfusionMatrixDisplay(confusion_matrix=cm, display_labels=[0, 1])\n",
        "disp.plot()\n",
        "plt.title('Acc.:'+str(round(acc, 3))+'   Prec.:'+str(round(precision, 3))+'   Recall:'+str(round(recall, 3))+'   F1:'+str(round(score, 3)))\n",
        "plt.savefig(directory[:-5]+\"screenshots/gen_test_cm_1_level_1.png\")\n",
        "plt.show()"
      ]
    },
    {
      "cell_type": "code",
      "execution_count": 521,
      "metadata": {
        "colab": {
          "base_uri": "https://localhost:8080/",
          "height": 0
        },
        "id": "MN43KC7mKezE",
        "outputId": "f1ed3e34-694e-482f-ce40-33f20a27e985"
      },
      "outputs": [
        {
          "data": {
            "image/png": "[encoded data removed]",
            "text/plain": [
              "<Figure size 432x288 with 1 Axes>"
            ]
          },
          "metadata": {
            "needs_background": "light"
          },
          "output_type": "display_data"
        }
      ],
      "source": [
        "pos_probs = pred_l1[:,1]\n",
        "fpr, tpr, _ = roc_curve(y_test_l1, pos_probs)\n",
        "plt.plot(fpr, tpr)\n",
        "plt.xlabel('False Positive Rate')\n",
        "plt.ylabel('True Positive Rate')\n",
        "plt.savefig(directory[:-5]+\"screenshots/gen_test_roc_1_level_1.png\")\n",
        "plt.show()"
      ]
    },
    {
      "cell_type": "markdown",
      "metadata": {
        "id": "GHzjiFipvWqi"
      },
      "source": [
        "## Level 2"
      ]
    },
    {
      "cell_type": "code",
      "execution_count": 522,
      "metadata": {
        "colab": {
          "base_uri": "https://localhost:8080/"
        },
        "id": "QIgYfCOofEPP",
        "outputId": "da6010ff-896f-453e-840b-99697a84adde"
      },
      "outputs": [
        {
          "name": "stdout",
          "output_type": "stream",
          "text": [
            "(189, 16384, 1)\n"
          ]
        }
      ],
      "source": [
        "X_test_l2 = np.array(X_test_l2)\n",
        "y_test_l2 = np.array(y_test_l2)\n",
        "print(X_test_l2.shape)"
      ]
    },
    {
      "cell_type": "code",
      "execution_count": 523,
      "metadata": {
        "id": "AUdwCsJLfEPP"
      },
      "outputs": [],
      "source": [
        "model2 = load_model(directory + \"model_trial_1_level_2.h5\")"
      ]
    },
    {
      "cell_type": "code",
      "execution_count": 524,
      "metadata": {
        "id": "dlZCrHf-fEPQ"
      },
      "outputs": [],
      "source": [
        "pred_l2 = model2.predict(X_test_l2)"
      ]
    },
    {
      "cell_type": "code",
      "execution_count": 525,
      "metadata": {
        "colab": {
          "base_uri": "https://localhost:8080/"
        },
        "id": "P5NSBSCPfEPQ",
        "outputId": "7ca078dc-debf-4f85-c9c3-bffe23b78fc7"
      },
      "outputs": [
        {
          "name": "stdout",
          "output_type": "stream",
          "text": [
            "Total no. of data samples in level 2: 189\n",
            "No. of correct predictions: 108\n",
            "Level 2 accuracy: 57.14285714285714\n"
          ]
        }
      ],
      "source": [
        "y_pred = np.argmax(pred_l2, axis = 1)\n",
        "correct_l2 = 0\n",
        "\n",
        "for i in range(len(y_test_l2)):\n",
        "  if y_pred[i]==y_test_l2[i]:\n",
        "    correct_l2 += 1\n",
        "\n",
        "acc = (correct_l2/len(y_test_l2))*100\n",
        "print(f\"Total no. of data samples in level 2: {len(y_test_l2)}\")\n",
        "print(f\"No. of correct predictions: {correct_l2}\")\n",
        "print(f\"Level 2 accuracy: {acc}\")"
      ]
    },
    {
      "cell_type": "code",
      "execution_count": 526,
      "metadata": {
        "colab": {
          "base_uri": "https://localhost:8080/",
          "height": 0
        },
        "id": "UP1_HG2QLHFM",
        "outputId": "269335a7-2927-4ed4-fa2f-8f0a0333cd6a"
      },
      "outputs": [
        {
          "name": "stdout",
          "output_type": "stream",
          "text": [
            "Precision: 0.862\n",
            "Recall: 0.245\n",
            "F1-Score: 0.382\n"
          ]
        },
        {
          "data": {
            "image/png": "[encoded data removed]",
            "text/plain": [
              "<Figure size 432x288 with 2 Axes>"
            ]
          },
          "metadata": {
            "needs_background": "light"
          },
          "output_type": "display_data"
        }
      ],
      "source": [
        "precision = precision_score(y_test_l2, y_pred, average='binary')\n",
        "print('Precision: %.3f' % precision)\n",
        "\n",
        "recall = recall_score(y_test_l2, y_pred, average='binary')\n",
        "print('Recall: %.3f' % recall)\n",
        "\n",
        "score = f1_score(y_test_l2, y_pred, average='binary')\n",
        "print('F1-Score: %.3f' % score)\n",
        "\n",
        "cm = confusion_matrix(y_test_l2, y_pred, labels=[0, 1])\n",
        "disp = ConfusionMatrixDisplay(confusion_matrix=cm, display_labels=[0, 1])\n",
        "disp.plot()\n",
        "plt.title('Acc.:'+str(round(acc, 3))+'   Prec.:'+str(round(precision, 3))+'   Recall:'+str(round(recall, 3))+'   F1:'+str(round(score, 3)))\n",
        "plt.savefig(directory[:-5]+\"screenshots/gen_test_cm_1_level_2.png\")\n",
        "plt.show()"
      ]
    },
    {
      "cell_type": "code",
      "execution_count": 527,
      "metadata": {
        "colab": {
          "base_uri": "https://localhost:8080/"
        },
        "id": "5WwOnRqSK2EN",
        "outputId": "560236cf-f7e0-469e-f3a6-41b88d3ce7f6"
      },
      "outputs": [
        {
          "name": "stdout",
          "output_type": "stream",
          "text": [
            "[0 1 0 0 1 0 1 0 0 0 0 1 0 0 0 0 0 1 1 0 0 0 1 0 1 1 1 1 1 0 0 0 0 0 1 1 0\n",
            " 1 1 1 0 1 0 1 0 1 1 0 1 0 0 1 1 1 0 1 0 1 0 0 1 1 1 0 1 1 0 1 0 0 1 1 1 0\n",
            " 0 1 1 1 1 1 1 1 1 1 0 0 1 1 1 0 1 0 1 0 1 0 1 1 1 1 1 0 1 0 1 1 0 1 0 0 1\n",
            " 1 1 1 1 0 0 1 1 0 1 0 1 0 1 0 0 0 0 1 1 1 1 0 0 1 0 0 1 0 1 1 1 1 0 0 0 1\n",
            " 0 1 1 0 1 1 0 1 0 0 0 1 0 1 1 1 0 0 1 1 1 1 1 1 0 1 0 0 0 0 1 1 1 0 1 0 1\n",
            " 0 0 0 0]\n"
          ]
        }
      ],
      "source": [
        "print(y_test_l2)"
      ]
    },
    {
      "cell_type": "code",
      "execution_count": 528,
      "metadata": {
        "colab": {
          "base_uri": "https://localhost:8080/",
          "height": 0
        },
        "id": "lY7LzIFKLHFP",
        "outputId": "fdfeec1c-9ded-4898-a0dd-a1454e5bd2b2"
      },
      "outputs": [
        {
          "data": {
            "image/png": "[encoded data removed]",
            "text/plain": [
              "<Figure size 432x288 with 1 Axes>"
            ]
          },
          "metadata": {
            "needs_background": "light"
          },
          "output_type": "display_data"
        }
      ],
      "source": [
        "pos_probs = pred_l2[:,1]\n",
        "fpr, tpr, _ = roc_curve(y_test_l2, pos_probs)\n",
        "plt.plot(fpr, tpr)\n",
        "plt.xlabel('False Positive Rate')\n",
        "plt.ylabel('True Positive Rate')\n",
        "plt.savefig(directory[:-5]+\"screenshots/gen_test_roc_1_level_2.png\")\n",
        "plt.show()"
      ]
    },
    {
      "cell_type": "markdown",
      "metadata": {
        "id": "urP961IMK3eD"
      },
      "source": [
        "## Overall"
      ]
    },
    {
      "cell_type": "code",
      "execution_count": 529,
      "metadata": {
        "id": "75YdQGG8M0o8"
      },
      "outputs": [],
      "source": [
        "y_true = []\n",
        "probs = []\n",
        "tmp = []\n",
        "j = 0\n",
        "\n",
        "for i in range(len(y)):\n",
        "\n",
        "  if y[i, 0] == 0:\n",
        "    y_true.append(0)\n",
        "    tmp.append(pred_l1[i, 0])\n",
        "    tmp.append(pred_l1[i, 1])\n",
        "    tmp.append(pred_l1[i, 1])\n",
        "    probs.append(tmp)\n",
        "    tmp = []\n",
        "  \n",
        "  elif y[i, 1] == 0:\n",
        "    y_true.append(1)\n",
        "    tmp.append(pred_l1[i, 0])\n",
        "\n",
        "    if pred_l1[i, 0] > pred_l1[i, 1]:\n",
        "      tmp.append(pred_l1[i, 1])\n",
        "      tmp.append(pred_l1[i, 1])\n",
        "\n",
        "    else:\n",
        "      tmp.append(pred_l2[j, 0])\n",
        "      tmp.append(pred_l2[j, 1])\n",
        "      j += 1\n",
        "    \n",
        "    probs.append(tmp)\n",
        "    tmp = []\n",
        "\n",
        "  else:\n",
        "    y_true.append(2)\n",
        "    tmp.append(pred_l1[i, 0])\n",
        "\n",
        "    if pred_l1[i, 0] > pred_l1[i, 1]:\n",
        "      tmp.append(pred_l1[i, 1])\n",
        "      tmp.append(pred_l1[i, 1])\n",
        "\n",
        "    else:\n",
        "      tmp.append(pred_l2[j, 0])\n",
        "      tmp.append(pred_l2[j, 1])\n",
        "      j += 1\n",
        "\n",
        "    probs.append(tmp)\n",
        "    tmp = []\n",
        "\n",
        "probs = np.array(probs)\n",
        "y_pred = np.argmax(probs, axis = 1)"
      ]
    },
    {
      "cell_type": "code",
      "execution_count": 530,
      "metadata": {
        "colab": {
          "base_uri": "https://localhost:8080/",
          "height": 0
        },
        "id": "uV1jj-h3MDww",
        "outputId": "0e71bedb-18e2-4264-aa84-014e6db9f1db"
      },
      "outputs": [
        {
          "name": "stdout",
          "output_type": "stream",
          "text": [
            "Accuracy: 0.349\n",
            "Precision: 0.527\n",
            "Recall: 0.349\n",
            "F1-Score: 0.420\n"
          ]
        },
        {
          "data": {
            "image/png": "[encoded data removed]",
            "text/plain": [
              "<Figure size 432x288 with 2 Axes>"
            ]
          },
          "metadata": {
            "needs_background": "light"
          },
          "output_type": "display_data"
        }
      ],
      "source": [
        "acc = accuracy_score(y_true, y_pred)\n",
        "print('Accuracy: %.3f' % acc)\n",
        "\n",
        "cm = confusion_matrix(y_true, y_pred, labels=[0, 1, 2])\n",
        "disp = ConfusionMatrixDisplay(confusion_matrix=cm, display_labels=[0, 1, 2])\n",
        "plt.show()\n",
        "\n",
        "precision = np.diag(cm) / np.sum(cm, axis = 0)\n",
        "precision = sum(precision)/3\n",
        "print('Precision: %.3f' % precision)\n",
        "\n",
        "recall = np.diag(cm) / np.sum(cm, axis = 1)\n",
        "recall = sum(recall)/3\n",
        "print('Recall: %.3f' % recall)\n",
        "\n",
        "score = (2*precision*recall)/(precision + recall)\n",
        "print('F1-Score: %.3f' % score)\n",
        "\n",
        "disp.plot()\n",
        "plt.title('Acc.:'+str(round(acc, 3))+'   Prec.:'+str(round(precision, 3))+'   Recall:'+str(round(recall, 3))+'   F1:'+str(round(score, 3)))\n",
        "plt.savefig(directory[:-5]+\"screenshots/gen_test_cm_1_overall.png\")\n",
        "plt.show()"
      ]
    },
    {
      "cell_type": "code",
      "execution_count": 531,
      "metadata": {
        "colab": {
          "base_uri": "https://localhost:8080/",
          "height": 0
        },
        "id": "_aXjO6_WMDw_",
        "outputId": "59791ec6-ec2b-4aa5-99dd-a9c004f7a8f4"
      },
      "outputs": [
        {
          "data": {
            "image/png": "[encoded data removed]",
            "text/plain": [
              "<Figure size 432x288 with 1 Axes>"
            ]
          },
          "metadata": {
            "needs_background": "light"
          },
          "output_type": "display_data"
        }
      ],
      "source": [
        "classes = [\"Noise\", \"BBH\", \"BNS\"]\n",
        "fpr = dict()\n",
        "tpr = dict()\n",
        "y_true = tf.keras.utils.to_categorical(y_true)\n",
        "\n",
        "for i in range(3):\n",
        "  fpr[i], tpr[i], _ = roc_curve(y_true[:, i], probs[:, i])\n",
        "\n",
        "colors = itertools.cycle([\"aqua\", \"darkorange\", \"cornflowerblue\"])\n",
        "for i, color in zip(range(3), colors):\n",
        "    plt.plot(\n",
        "        fpr[i],\n",
        "        tpr[i],\n",
        "        color=color,\n",
        "        label=f\"{classes[i]}\",\n",
        "    )\n",
        "\n",
        "plt.xlabel(\"False Positive Rate\")\n",
        "plt.ylabel(\"True Positive Rate\")\n",
        "plt.legend(loc=\"lower right\")\n",
        "plt.savefig(directory[:-5]+\"screenshots/gen_test_roc_1_overall.png\")\n",
        "plt.show()"
      ]
    },
    {
      "cell_type": "markdown",
      "metadata": {
        "id": "ImQHT-aaaTLh"
      },
      "source": [
        "# Testing on Real data"
      ]
    },
    {
      "cell_type": "markdown",
      "metadata": {
        "id": "ijRG871saTL8"
      },
      "source": [
        "## Level 1"
      ]
    },
    {
      "cell_type": "code",
      "execution_count": 532,
      "metadata": {
        "id": "mLnP3wc1aTL8"
      },
      "outputs": [],
      "source": [
        "noise_df = pd.read_csv(\"/content/gdrive/MyDrive/GW_SOP/Data/better_results/Noise.csv\", header=None)\n",
        "noise = noise_df.values.astype(float)\n",
        "\n",
        "\n",
        "data_BBH_df = pd.read_csv(\"/content/gdrive/MyDrive/GW_SOP/Data/better_results/Processed_BBH_Merged_original.csv\", header=None)\n",
        "data_BBH = data_BBH_df.values.astype(float)\n",
        "\n",
        "\n",
        "data_BNS_df = pd.read_csv(\"/content/gdrive/MyDrive/GW_SOP/Data/better_results/Processed_BNS_Merged_original.csv\", header=None)\n",
        "data_BNS = data_BNS_df.values.astype(float)"
      ]
    },
    {
      "cell_type": "code",
      "execution_count": 533,
      "metadata": {
        "colab": {
          "base_uri": "https://localhost:8080/"
        },
        "id": "Uj_E0oqIaTL9",
        "outputId": "1985ac48-ee92-4e00-c660-c472fba5cf4c"
      },
      "outputs": [
        {
          "name": "stdout",
          "output_type": "stream",
          "text": [
            "(74, 16384)\n"
          ]
        }
      ],
      "source": [
        "X = np.concatenate((noise, data_BBH, data_BNS), axis=0)\n",
        "print(X.shape)"
      ]
    },
    {
      "cell_type": "code",
      "execution_count": 534,
      "metadata": {
        "colab": {
          "base_uri": "https://localhost:8080/"
        },
        "id": "4z4e6EYqaTL_",
        "outputId": "2d0a590b-96d6-437f-cddd-d18aa73b7ad4"
      },
      "outputs": [
        {
          "name": "stdout",
          "output_type": "stream",
          "text": [
            "[[ -9.59329913   3.0796441    6.2065329  ...  19.55120984 -16.78024269\n",
            "   21.6448887 ]\n",
            " [ 10.74752082  -4.77219826   6.13033155 ...  10.74680815   5.01569204\n",
            "    2.98535439]\n",
            " [ -4.23504473   4.21567553   7.43734108 ...   6.39244242  -4.57442745\n",
            "   16.42978735]\n",
            " ...\n",
            " [  0.74529762   0.79148571   0.82671144 ...  -2.28289352  -2.2548838\n",
            "   -2.33924027]\n",
            " [ -1.30982823  -1.33978366  -1.34902886 ...  -0.60990832  -0.64637572\n",
            "   -0.58081613]\n",
            " [ -2.33834513  -2.33877564  -2.40204724 ...   3.76481395   3.6659587\n",
            "    3.58546225]]\n"
          ]
        }
      ],
      "source": [
        "X *= 1e19\n",
        "print(X)"
      ]
    },
    {
      "cell_type": "code",
      "execution_count": 535,
      "metadata": {
        "colab": {
          "base_uri": "https://localhost:8080/"
        },
        "id": "ngVqnkPmaTL_",
        "outputId": "0328503c-462f-449a-e174-84dd693986fe"
      },
      "outputs": [
        {
          "name": "stdout",
          "output_type": "stream",
          "text": [
            "[[ 0 -1]\n",
            " [ 0 -1]\n",
            " [ 0 -1]\n",
            " [ 0 -1]\n",
            " [ 0 -1]\n",
            " [ 0 -1]\n",
            " [ 0 -1]\n",
            " [ 0 -1]\n",
            " [ 0 -1]\n",
            " [ 0 -1]\n",
            " [ 0 -1]\n",
            " [ 0 -1]\n",
            " [ 0 -1]\n",
            " [ 0 -1]\n",
            " [ 0 -1]\n",
            " [ 0 -1]\n",
            " [ 0 -1]\n",
            " [ 0 -1]\n",
            " [ 0 -1]\n",
            " [ 0 -1]\n",
            " [ 0 -1]\n",
            " [ 0 -1]\n",
            " [ 0 -1]\n",
            " [ 0 -1]\n",
            " [ 1  0]\n",
            " [ 1  0]\n",
            " [ 1  0]\n",
            " [ 1  0]\n",
            " [ 1  0]\n",
            " [ 1  0]\n",
            " [ 1  0]\n",
            " [ 1  0]\n",
            " [ 1  0]\n",
            " [ 1  0]\n",
            " [ 1  0]\n",
            " [ 1  0]\n",
            " [ 1  0]\n",
            " [ 1  0]\n",
            " [ 1  0]\n",
            " [ 1  0]\n",
            " [ 1  0]\n",
            " [ 1  0]\n",
            " [ 1  0]\n",
            " [ 1  0]\n",
            " [ 1  0]\n",
            " [ 1  0]\n",
            " [ 1  0]\n",
            " [ 1  0]\n",
            " [ 1  0]\n",
            " [ 1  0]\n",
            " [ 1  0]\n",
            " [ 1  0]\n",
            " [ 1  0]\n",
            " [ 1  0]\n",
            " [ 1  0]\n",
            " [ 1  0]\n",
            " [ 1  0]\n",
            " [ 1  0]\n",
            " [ 1  0]\n",
            " [ 1  0]\n",
            " [ 1  0]\n",
            " [ 1  0]\n",
            " [ 1  0]\n",
            " [ 1  0]\n",
            " [ 1  0]\n",
            " [ 1  0]\n",
            " [ 1  0]\n",
            " [ 1  0]\n",
            " [ 1  0]\n",
            " [ 1  0]\n",
            " [ 1  0]\n",
            " [ 1  0]\n",
            " [ 1  1]\n",
            " [ 1  1]]\n"
          ]
        }
      ],
      "source": [
        "y = [[0, -1] for i in range(24)] + [[1, 0] for i in range(48)] + [[1, 1] for i in range(2)]\n",
        "y = np.array(y)\n",
        "print(y)"
      ]
    },
    {
      "cell_type": "code",
      "execution_count": 536,
      "metadata": {
        "colab": {
          "base_uri": "https://localhost:8080/"
        },
        "id": "48B69SX9aTMA",
        "outputId": "284fed3e-a4dd-4e8f-f9ae-cf18144dee98"
      },
      "outputs": [
        {
          "name": "stdout",
          "output_type": "stream",
          "text": [
            "(74, 16384, 1)\n"
          ]
        }
      ],
      "source": [
        "X_test_l1 = np.expand_dims(X, axis=-1)\n",
        "print(X_test_l1.shape)"
      ]
    },
    {
      "cell_type": "code",
      "execution_count": 537,
      "metadata": {
        "id": "6_jLpaOwaTMA"
      },
      "outputs": [],
      "source": [
        "y_l2 = [y[i,1] for i in range(len(y))]\n",
        "y_test_l1 = [y[i,0] for i in range(len(y))]"
      ]
    },
    {
      "cell_type": "code",
      "execution_count": 538,
      "metadata": {
        "colab": {
          "base_uri": "https://localhost:8080/"
        },
        "id": "a_R5DPm4aTMB",
        "outputId": "094b1e7a-0260-4b15-89aa-dd8f73b8d199"
      },
      "outputs": [
        {
          "name": "stdout",
          "output_type": "stream",
          "text": [
            "[-1, -1, -1, -1, -1, -1, -1, -1, -1, -1, -1, -1, -1, -1, -1, -1, -1, -1, -1, -1, -1, -1, -1, -1, 0, 0, 0, 0, 0, 0, 0, 0, 0, 0, 0, 0, 0, 0, 0, 0, 0, 0, 0, 0, 0, 0, 0, 0, 0, 0, 0, 0, 0, 0, 0, 0, 0, 0, 0, 0, 0, 0, 0, 0, 0, 0, 0, 0, 0, 0, 0, 0, 1, 1]\n"
          ]
        }
      ],
      "source": [
        "print(y_l2)"
      ]
    },
    {
      "cell_type": "code",
      "execution_count": 539,
      "metadata": {
        "colab": {
          "base_uri": "https://localhost:8080/"
        },
        "id": "7JK6U4RFaTMB",
        "outputId": "12e8721b-3945-42d8-c92c-a865a6ffc128"
      },
      "outputs": [
        {
          "name": "stdout",
          "output_type": "stream",
          "text": [
            "[0, 0, 0, 0, 0, 0, 0, 0, 0, 0, 0, 0, 0, 0, 0, 0, 0, 0, 0, 0, 0, 0, 0, 0, 1, 1, 1, 1, 1, 1, 1, 1, 1, 1, 1, 1, 1, 1, 1, 1, 1, 1, 1, 1, 1, 1, 1, 1, 1, 1, 1, 1, 1, 1, 1, 1, 1, 1, 1, 1, 1, 1, 1, 1, 1, 1, 1, 1, 1, 1, 1, 1, 1, 1]\n"
          ]
        }
      ],
      "source": [
        "print(y_test_l1)"
      ]
    },
    {
      "cell_type": "code",
      "execution_count": 540,
      "metadata": {
        "id": "E0xpuwaHaTMB"
      },
      "outputs": [],
      "source": [
        "model_l1 = load_model(directory + \"model_trial_1_level_1.h5\")"
      ]
    },
    {
      "cell_type": "code",
      "execution_count": 541,
      "metadata": {
        "id": "kWcF6fqcaTMC"
      },
      "outputs": [],
      "source": [
        "pred_l1 = model_l1.predict(X_test_l1)"
      ]
    },
    {
      "cell_type": "code",
      "execution_count": 542,
      "metadata": {
        "id": "OGtHDTnxaTMC"
      },
      "outputs": [],
      "source": [
        "# y_pred = np.argmax(pred_l1, axis = 1)\n",
        "# for i in range(2999):\n",
        "#   print(y_test_l1[i], y_pred[i])"
      ]
    },
    {
      "cell_type": "code",
      "execution_count": 543,
      "metadata": {
        "colab": {
          "base_uri": "https://localhost:8080/"
        },
        "id": "FQ7ZDYpraTMC",
        "outputId": "588032b9-5044-46c5-b91f-b5a296f18ad1"
      },
      "outputs": [
        {
          "name": "stdout",
          "output_type": "stream",
          "text": [
            "Total no. of data samples in level 1: 74\n",
            "No. of correct predictions: 43\n",
            "Level 1 accuracy: 58.108108108108105\n",
            "No. of data samples sent to level 2 model: 20\n"
          ]
        }
      ],
      "source": [
        "y_pred = np.argmax(pred_l1, axis = 1)\n",
        "correct_l1 = 0\n",
        "X_test_l2 = []\n",
        "y_test_l2 = []\n",
        "name = []\n",
        "\n",
        "for i in range(len(y_test_l1)):\n",
        "  if y_pred[i]==y_test_l1[i]:\n",
        "    correct_l1 += 1\n",
        "\n",
        "  if y_pred[i]==1 and y_l2[i]!=-1:\n",
        "    X_test_l2.append(X_test_l1[i])\n",
        "    y_test_l2.append(y_l2[i])\n",
        "\n",
        "    if i < 72:\n",
        "      name.append(bbh_events[i-24])\n",
        "\n",
        "    else:\n",
        "      name.append(bns_events[i-72])\n",
        "\n",
        "acc = (correct_l1/len(y_test_l1))*100\n",
        "print(f\"Total no. of data samples in level 1: {len(y)}\")\n",
        "print(f\"No. of correct predictions: {correct_l1}\")\n",
        "print(f\"Level 1 accuracy: {acc}\")\n",
        "print(f\"No. of data samples sent to level 2 model: {len(y_test_l2)}\")"
      ]
    },
    {
      "cell_type": "code",
      "execution_count": 544,
      "metadata": {
        "colab": {
          "base_uri": "https://localhost:8080/",
          "height": 0
        },
        "id": "wVaG4ST3aTMD",
        "outputId": "02de1fab-a827-44e0-c7f6-b32a01707c01"
      },
      "outputs": [
        {
          "name": "stdout",
          "output_type": "stream",
          "text": [
            "Precision: 0.952\n",
            "Recall: 0.400\n",
            "F1-Score: 0.563\n"
          ]
        },
        {
          "data": {
            "image/png": "[encoded data removed]",
            "text/plain": [
              "<Figure size 432x288 with 2 Axes>"
            ]
          },
          "metadata": {
            "needs_background": "light"
          },
          "output_type": "display_data"
        }
      ],
      "source": [
        "precision = precision_score(y_test_l1, y_pred, average='binary')\n",
        "print('Precision: %.3f' % precision)\n",
        "\n",
        "recall = recall_score(y_test_l1, y_pred, average='binary')\n",
        "print('Recall: %.3f' % recall)\n",
        "\n",
        "score = f1_score(y_test_l1, y_pred, average='binary')\n",
        "print('F1-Score: %.3f' % score)\n",
        "\n",
        "cm = confusion_matrix(y_test_l1, y_pred, labels=[0, 1])\n",
        "disp = ConfusionMatrixDisplay(confusion_matrix=cm, display_labels=[0, 1])\n",
        "disp.plot()\n",
        "plt.title('Acc.:'+str(round(acc, 3))+'   Prec.:'+str(round(precision, 3))+'   Recall:'+str(round(recall, 3))+'   F1:'+str(round(score, 3)))\n",
        "plt.savefig(directory[:-5]+\"screenshots/real_cm_1_level_1.png\")\n",
        "plt.show()"
      ]
    },
    {
      "cell_type": "code",
      "execution_count": 545,
      "metadata": {
        "colab": {
          "base_uri": "https://localhost:8080/",
          "height": 0
        },
        "id": "jl3DzUBlaTMD",
        "outputId": "c0f550cf-aece-48f4-cd64-458d61057cf7"
      },
      "outputs": [
        {
          "data": {
            "image/png": "[encoded data removed]",
            "text/plain": [
              "<Figure size 432x288 with 1 Axes>"
            ]
          },
          "metadata": {
            "needs_background": "light"
          },
          "output_type": "display_data"
        }
      ],
      "source": [
        "pos_probs = pred_l1[:,1]\n",
        "fpr, tpr, _ = roc_curve(y_test_l1, pos_probs)\n",
        "plt.plot(fpr, tpr)\n",
        "plt.xlabel('False Positive Rate')\n",
        "plt.ylabel('True Positive Rate')\n",
        "plt.savefig(directory[:-5]+\"screenshots/real_roc_1_level_1.png\")\n",
        "plt.show()"
      ]
    },
    {
      "cell_type": "code",
      "execution_count": 546,
      "metadata": {
        "id": "KCEWbMHaaTME"
      },
      "outputs": [],
      "source": [
        "classes = [\"Noise\", \"Signal\"]\n",
        "\n",
        "for i in range(len(X_test_l1)):\n",
        "  prob = list(pred_l1[i])\n",
        "  fig = plt.figure(figsize =(4.5,4.5))\n",
        "\n",
        "  plt.bar(classes, prob, color ='maroon',\n",
        "          width = 0.4)\n",
        "  \n",
        "  plt.ylabel(\"Probability\")\n",
        "\n",
        "  if i < 24:\n",
        "    plt.title(\"Noise\")\n",
        "  else:\n",
        "    plt.title(\"Signal\")\n",
        "\n",
        "  plt.savefig(directory + \"bar plots/Level 1/\" + str(i) + \".png\")\n",
        "  plt.close()\n",
        "  # plt.show()\n",
        "\n",
        "np.savetxt(directory + \"bar plots/Level 1/probabilities.csv\", pred_l1, delimiter=\",\")"
      ]
    },
    {
      "cell_type": "markdown",
      "metadata": {
        "id": "uQCcAfQpaTME"
      },
      "source": [
        "## Level 2"
      ]
    },
    {
      "cell_type": "code",
      "execution_count": 547,
      "metadata": {
        "colab": {
          "base_uri": "https://localhost:8080/"
        },
        "id": "d8WkdUPqaTMF",
        "outputId": "470ae085-c95d-4ee3-aa1b-7f3318279ef9"
      },
      "outputs": [
        {
          "name": "stdout",
          "output_type": "stream",
          "text": [
            "(20, 16384, 1)\n"
          ]
        }
      ],
      "source": [
        "X_test_l2 = np.array(X_test_l2)\n",
        "y_test_l2 = np.array(y_test_l2)\n",
        "print(X_test_l2.shape)"
      ]
    },
    {
      "cell_type": "code",
      "execution_count": 548,
      "metadata": {
        "id": "N6YWytLKaTMF"
      },
      "outputs": [],
      "source": [
        "model2 = load_model(directory + \"model_trial_1_level_2.h5\")"
      ]
    },
    {
      "cell_type": "code",
      "execution_count": 549,
      "metadata": {
        "id": "PbfGxmaRaTMF"
      },
      "outputs": [],
      "source": [
        "pred_l2 = model2.predict(X_test_l2)"
      ]
    },
    {
      "cell_type": "code",
      "execution_count": 550,
      "metadata": {
        "colab": {
          "base_uri": "https://localhost:8080/"
        },
        "id": "RCNXyCZraTMF",
        "outputId": "b4bfa7d4-2957-4d06-82d9-b33f2af6b908"
      },
      "outputs": [
        {
          "name": "stdout",
          "output_type": "stream",
          "text": [
            "Total no. of data samples in level 2: 20\n",
            "No. of correct predictions: 10\n",
            "Level 2 accuracy: 50.0\n"
          ]
        }
      ],
      "source": [
        "y_pred = np.argmax(pred_l2, axis = 1)\n",
        "correct_l2 = 0\n",
        "\n",
        "for i in range(len(y_test_l2)):\n",
        "  if y_pred[i]==y_test_l2[i]:\n",
        "    correct_l2 += 1\n",
        "\n",
        "acc = (correct_l2/len(y_test_l2))*100\n",
        "print(f\"Total no. of data samples in level 2: {len(y_test_l2)}\")\n",
        "print(f\"No. of correct predictions: {correct_l2}\")\n",
        "print(f\"Level 2 accuracy: {acc}\")"
      ]
    },
    {
      "cell_type": "code",
      "execution_count": 551,
      "metadata": {
        "colab": {
          "base_uri": "https://localhost:8080/",
          "height": 0
        },
        "id": "DOE19kx6aTMG",
        "outputId": "73bb68ca-cf5a-42ea-fa32-37b7cdfa9eb9"
      },
      "outputs": [
        {
          "name": "stdout",
          "output_type": "stream",
          "text": [
            "Precision: 0.091\n",
            "Recall: 1.000\n",
            "F1-Score: 0.167\n"
          ]
        },
        {
          "data": {
            "image/png": "[encoded data removed]",
            "text/plain": [
              "<Figure size 432x288 with 2 Axes>"
            ]
          },
          "metadata": {
            "needs_background": "light"
          },
          "output_type": "display_data"
        }
      ],
      "source": [
        "precision = precision_score(y_test_l2, y_pred, average='binary')\n",
        "print('Precision: %.3f' % precision)\n",
        "\n",
        "recall = recall_score(y_test_l2, y_pred, average='binary')\n",
        "print('Recall: %.3f' % recall)\n",
        "\n",
        "score = f1_score(y_test_l2, y_pred, average='binary')\n",
        "print('F1-Score: %.3f' % score)\n",
        "\n",
        "cm = confusion_matrix(y_test_l2, y_pred, labels=[0, 1])\n",
        "disp = ConfusionMatrixDisplay(confusion_matrix=cm, display_labels=[0, 1])\n",
        "disp.plot()\n",
        "plt.title('Acc.:'+str(round(acc, 3))+'   Prec.:'+str(round(precision, 3))+'   Recall:'+str(round(recall, 3))+'   F1:'+str(round(score, 3)))\n",
        "plt.savefig(directory[:-5]+\"screenshots/real_cm_1_level_2.png\")\n",
        "plt.show()"
      ]
    },
    {
      "cell_type": "code",
      "execution_count": 552,
      "metadata": {
        "colab": {
          "base_uri": "https://localhost:8080/",
          "height": 0
        },
        "id": "NpxIiXYJaTMG",
        "outputId": "27539dc3-5e0d-46f4-e6c8-b8361d220b24"
      },
      "outputs": [
        {
          "data": {
            "image/png": "[encoded data removed]",
            "text/plain": [
              "<Figure size 432x288 with 1 Axes>"
            ]
          },
          "metadata": {
            "needs_background": "light"
          },
          "output_type": "display_data"
        }
      ],
      "source": [
        "pos_probs = pred_l2[:,1]\n",
        "fpr, tpr, _ = roc_curve(y_test_l2, pos_probs)\n",
        "plt.plot(fpr, tpr)\n",
        "plt.xlabel('False Positive Rate')\n",
        "plt.ylabel('True Positive Rate')\n",
        "plt.savefig(directory[:-5]+\"screenshots/real_roc_1_level_2.png\")\n",
        "plt.show()"
      ]
    },
    {
      "cell_type": "code",
      "execution_count": 553,
      "metadata": {
        "id": "RImXxYU5aTMG"
      },
      "outputs": [],
      "source": [
        "classes = [\"BBH\", \"BNS\"]\n",
        "\n",
        "for i in range(len(X_test_l2)):\n",
        "  prob = list(pred_l2[i])\n",
        "  fig = plt.figure(figsize =(4.5,4.5))\n",
        "\n",
        "  plt.bar(classes, prob, color ='maroon',\n",
        "          width = 0.4)\n",
        "  \n",
        "  plt.ylabel(\"Probability\")\n",
        "\n",
        "  plt.title(name[i])\n",
        "\n",
        "  plt.savefig(directory + \"bar plots/Level 2/\" + str(i) + \".png\")\n",
        "  plt.close()\n",
        "  # plt.show()\n",
        "\n",
        "np.savetxt(directory + \"bar plots/Level 2/probabilities.csv\", pred_l2, delimiter=\",\")"
      ]
    },
    {
      "cell_type": "markdown",
      "metadata": {
        "id": "iMYGeW0UaTMH"
      },
      "source": [
        "## Overall"
      ]
    },
    {
      "cell_type": "code",
      "execution_count": 554,
      "metadata": {
        "id": "jLv9np9oaTMH"
      },
      "outputs": [],
      "source": [
        "y_true = []\n",
        "probs = []\n",
        "tmp = []\n",
        "j = 0\n",
        "\n",
        "for i in range(len(y)):\n",
        "\n",
        "  if y[i, 0] == 0:\n",
        "    y_true.append(0)\n",
        "    tmp.append(pred_l1[i, 0])\n",
        "    tmp.append(pred_l1[i, 1])\n",
        "    tmp.append(pred_l1[i, 1])\n",
        "    probs.append(tmp)\n",
        "    tmp = []\n",
        "  \n",
        "  elif y[i, 1] == 0:\n",
        "    y_true.append(1)\n",
        "    tmp.append(pred_l1[i, 0])\n",
        "\n",
        "    if pred_l1[i, 0] > pred_l1[i, 1]:\n",
        "      tmp.append(pred_l1[i, 1])\n",
        "      tmp.append(pred_l1[i, 1])\n",
        "\n",
        "    else:\n",
        "      tmp.append(pred_l2[j, 0])\n",
        "      tmp.append(pred_l2[j, 1])\n",
        "      j += 1\n",
        "    \n",
        "    probs.append(tmp)\n",
        "    tmp = []\n",
        "\n",
        "  else:\n",
        "    y_true.append(2)\n",
        "    tmp.append(pred_l1[i, 0])\n",
        "\n",
        "    if pred_l1[i, 0] > pred_l1[i, 1]:\n",
        "      tmp.append(pred_l1[i, 1])\n",
        "      tmp.append(pred_l1[i, 1])\n",
        "\n",
        "    else:\n",
        "      tmp.append(pred_l2[j, 0])\n",
        "      tmp.append(pred_l2[j, 1])\n",
        "      j += 1\n",
        "\n",
        "    probs.append(tmp)\n",
        "    tmp = []\n",
        "\n",
        "probs = np.array(probs)\n",
        "y_pred = np.argmax(probs, axis = 1)"
      ]
    },
    {
      "cell_type": "code",
      "execution_count": 555,
      "metadata": {
        "colab": {
          "base_uri": "https://localhost:8080/",
          "height": 0
        },
        "id": "hQy6YoYUaTMH",
        "outputId": "c4f6a1c7-4ad2-47c2-cd3e-d7693a74a20a"
      },
      "outputs": [
        {
          "name": "stdout",
          "output_type": "stream",
          "text": [
            "Accuracy: 0.432\n",
            "Precision: 0.469\n",
            "Recall: 0.542\n",
            "F1-Score: 0.503\n"
          ]
        },
        {
          "data": {
            "image/png": "[encoded data removed]",
            "text/plain": [
              "<Figure size 432x288 with 2 Axes>"
            ]
          },
          "metadata": {
            "needs_background": "light"
          },
          "output_type": "display_data"
        }
      ],
      "source": [
        "acc = accuracy_score(y_true, y_pred)\n",
        "print('Accuracy: %.3f' % acc)\n",
        "\n",
        "cm = confusion_matrix(y_true, y_pred, labels=[0, 1, 2])\n",
        "disp = ConfusionMatrixDisplay(confusion_matrix=cm, display_labels=[0, 1, 2])\n",
        "plt.show()\n",
        "\n",
        "precision = np.diag(cm) / np.sum(cm, axis = 0)\n",
        "precision = sum(precision)/3\n",
        "print('Precision: %.3f' % precision)\n",
        "\n",
        "recall = np.diag(cm) / np.sum(cm, axis = 1)\n",
        "recall = sum(recall)/3\n",
        "print('Recall: %.3f' % recall)\n",
        "\n",
        "score = (2*precision*recall)/(precision + recall)\n",
        "print('F1-Score: %.3f' % score)\n",
        "\n",
        "disp.plot()\n",
        "plt.title('Acc.:'+str(round(acc, 3))+'   Prec.:'+str(round(precision, 3))+'   Recall:'+str(round(recall, 3))+'   F1:'+str(round(score, 3)))\n",
        "plt.savefig(directory[:-5]+\"screenshots/real_cm_1_overall.png\")\n",
        "plt.show()"
      ]
    },
    {
      "cell_type": "code",
      "execution_count": 556,
      "metadata": {
        "colab": {
          "base_uri": "https://localhost:8080/",
          "height": 0
        },
        "id": "OiIE_J1PaTMI",
        "outputId": "693f920a-24df-4c46-a186-4bfef812742a"
      },
      "outputs": [
        {
          "data": {
            "image/png": "[encoded data removed]",
            "text/plain": [
              "<Figure size 432x288 with 1 Axes>"
            ]
          },
          "metadata": {
            "needs_background": "light"
          },
          "output_type": "display_data"
        }
      ],
      "source": [
        "classes = [\"Noise\", \"BBH\", \"BNS\"]\n",
        "fpr = dict()\n",
        "tpr = dict()\n",
        "y_true = tf.keras.utils.to_categorical(y_true)\n",
        "\n",
        "for i in range(3):\n",
        "  fpr[i], tpr[i], _ = roc_curve(y_true[:, i], probs[:, i])\n",
        "\n",
        "colors = itertools.cycle([\"aqua\", \"darkorange\", \"cornflowerblue\"])\n",
        "for i, color in zip(range(3), colors):\n",
        "    plt.plot(\n",
        "        fpr[i],\n",
        "        tpr[i],\n",
        "        color=color,\n",
        "        label=f\"{classes[i]}\",\n",
        "    )\n",
        "\n",
        "plt.xlabel(\"False Positive Rate\")\n",
        "plt.ylabel(\"True Positive Rate\")\n",
        "plt.legend(loc=\"lower right\")\n",
        "plt.savefig(directory[:-5]+\"screenshots/real_roc_1_overall.png\")\n",
        "plt.show()"
      ]
    },
    {
      "cell_type": "code",
      "execution_count": 557,
      "metadata": {
        "id": "aBTfzf8DaTMI"
      },
      "outputs": [],
      "source": [
        "classes = [\"Noise\", \"BBH\", \"BNS\"]\n",
        "\n",
        "for i in range(len(X)):\n",
        "  prob = list(probs[i])\n",
        "  fig = plt.figure(figsize =(4.5,4.5))\n",
        "\n",
        "  plt.bar(classes, prob, color ='maroon',\n",
        "          width = 0.4)\n",
        "  \n",
        "  plt.ylabel(\"Probability\")\n",
        "\n",
        "  if i < 24:\n",
        "    plt.title(\"Noise\")\n",
        "\n",
        "  elif i < 72:\n",
        "    plt.title(bbh_events[i-24])\n",
        "\n",
        "  else:\n",
        "    plt.title(bns_events[i-72])\n",
        "\n",
        "  plt.savefig(directory + \"bar plots/Overall/\" + str(i) + \".png\")\n",
        "  plt.close()\n",
        "  # plt.show()\n",
        "\n",
        "np.savetxt(directory + \"bar plots/Overall/probabilities.csv\", probs, delimiter=\",\")"
      ]
    }
  ],
  "metadata": {
    "accelerator": "GPU",
    "colab": {
      "collapsed_sections": [],
      "name": "colab_multi_level_model_testing.ipynb",
      "provenance": []
    },
    "interpreter": {
      "hash": "8356d31dd4c50017c60d528a0c40a4935f9d791f54e24c10e32e3a312d5b6882"
    },
    "kernelspec": {
      "display_name": "Python 3.7.6 64-bit ('base': conda)",
      "language": "python",
      "name": "python3"
    },
    "language_info": {
      "codemirror_mode": {
        "name": "ipython",
        "version": 3
      },
      "file_extension": ".py",
      "mimetype": "text/x-python",
      "name": "python",
      "nbconvert_exporter": "python",
      "pygments_lexer": "ipython3",
      "version": "3.7.6"
    },
    "orig_nbformat": 4
  },
  "nbformat": 4,
  "nbformat_minor": 0
}
