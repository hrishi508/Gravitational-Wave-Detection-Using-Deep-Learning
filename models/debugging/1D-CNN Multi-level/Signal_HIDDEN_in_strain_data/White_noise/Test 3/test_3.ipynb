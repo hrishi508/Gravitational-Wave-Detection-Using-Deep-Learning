{
  "cells": [
    {
      "cell_type": "code",
      "execution_count": 1,
      "metadata": {
        "colab": {
          "base_uri": "https://localhost:8080/"
        },
        "id": "Xs_OpQDIxDQW",
        "outputId": "767f1951-c7a4-498f-c904-93915f6c1fef"
      },
      "outputs": [
        {
          "output_type": "stream",
          "name": "stdout",
          "text": [
            "Mounted at /content/gdrive\n"
          ]
        }
      ],
      "source": [
        "from google.colab import drive\n",
        "drive.mount('/content/gdrive')"
      ]
    },
    {
      "cell_type": "code",
      "execution_count": 2,
      "metadata": {
        "id": "L5inbyEdw1A7"
      },
      "outputs": [],
      "source": [
        "import numpy as np\n",
        "import pandas as pd\n",
        "import matplotlib.pyplot as plt\n",
        "\n",
        "import tensorflow as tf\n",
        "from tensorflow.keras.models import Sequential\n",
        "from tensorflow.keras.layers import Dense, Conv1D, Dropout, MaxPool1D, ReLU, Flatten, BatchNormalization\n",
        "\n",
        "from sklearn.metrics import f1_score\n",
        "from sklearn.metrics import recall_score\n",
        "from sklearn.metrics import precision_score\n",
        "from sklearn.metrics import confusion_matrix\n",
        "from sklearn.preprocessing import StandardScaler\n",
        "from sklearn.model_selection import train_test_split\n",
        "from sklearn.metrics import confusion_matrix, ConfusionMatrixDisplay, roc_curve, accuracy_score"
      ]
    },
    {
      "cell_type": "code",
      "source": [
        "samples_per_class = 5000\n",
        "no_of_classes = 3\n",
        "directory = \"/content/gdrive/MyDrive/GW_SOP/Code/debugging/1D-CNN Multi-level/Signal_HIDDEN_in_strain_data/White_noise/Test 3/data/\""
      ],
      "metadata": {
        "id": "H32w5Jsy-zDP"
      },
      "execution_count": 3,
      "outputs": []
    },
    {
      "cell_type": "code",
      "execution_count": 4,
      "metadata": {
        "id": "MzCUizYfw1A_"
      },
      "outputs": [],
      "source": [
        "noise_df = pd.read_csv(directory + \"Final_Merged_Noise_Reduced_No_Abs.csv\", header=None)\n",
        "noise = noise_df.values.astype(float)\n",
        "noise = np.repeat(noise, 5000, 0)\n",
        "\n",
        "data_BBH_df = pd.read_csv(directory + \"Final_BBH_Merged_Noise_Signal.csv\", header=None)\n",
        "data_BBH = data_BBH_df.values.astype(float)\n",
        "\n",
        "data_BNS_df = pd.read_csv(directory + \"Final_BNS_Merged_Noise_Signal.csv\", header=None)\n",
        "data_BNS = data_BNS_df.values.astype(float)"
      ]
    },
    {
      "cell_type": "code",
      "execution_count": 5,
      "metadata": {
        "colab": {
          "base_uri": "https://localhost:8080/"
        },
        "id": "kmYHuecJw1BB",
        "outputId": "10caadb8-a907-4786-9449-45f1c2036e39"
      },
      "outputs": [
        {
          "output_type": "stream",
          "name": "stdout",
          "text": [
            "(15000, 16384)\n"
          ]
        }
      ],
      "source": [
        "X = np.concatenate((noise, data_BBH, data_BNS), axis=0)\n",
        "print(X.shape)"
      ]
    },
    {
      "cell_type": "code",
      "execution_count": 6,
      "metadata": {
        "id": "09WR_MVM-RId"
      },
      "outputs": [],
      "source": [
        "noise = None\n",
        "noise_df = None"
      ]
    },
    {
      "cell_type": "code",
      "source": [
        "X1 = np.concatenate((data_BBH, data_BNS), axis=0)\n",
        "print(X1.shape)"
      ],
      "metadata": {
        "colab": {
          "base_uri": "https://localhost:8080/"
        },
        "id": "7HTJ2R46Df2A",
        "outputId": "b91c0bf4-db1a-4e9a-835d-f23d321c1e5c"
      },
      "execution_count": 7,
      "outputs": [
        {
          "output_type": "stream",
          "name": "stdout",
          "text": [
            "(10000, 16384)\n"
          ]
        }
      ]
    },
    {
      "cell_type": "code",
      "source": [
        "data_BBH = None\n",
        "data_BNS = None\n",
        "data_BBH_df = None\n",
        "data_BNS_df = None"
      ],
      "metadata": {
        "id": "d0zRVPlRDj7f"
      },
      "execution_count": 8,
      "outputs": []
    },
    {
      "cell_type": "code",
      "execution_count": 9,
      "metadata": {
        "colab": {
          "base_uri": "https://localhost:8080/"
        },
        "id": "J_dSmj6xw1BE",
        "outputId": "dce42f2b-be72-44c4-c045-77a6b0343917"
      },
      "outputs": [
        {
          "output_type": "stream",
          "name": "stdout",
          "text": [
            "[[1. 0.]\n",
            " [1. 0.]\n",
            " [1. 0.]\n",
            " ...\n",
            " [0. 1.]\n",
            " [0. 1.]\n",
            " [0. 1.]]\n",
            "[[1. 0.]\n",
            " [1. 0.]\n",
            " [1. 0.]\n",
            " ...\n",
            " [0. 1.]\n",
            " [0. 1.]\n",
            " [0. 1.]]\n"
          ]
        }
      ],
      "source": [
        "y = [0 for i in range(5000)] + [1 for i in range(10000)]\n",
        "y1 = [0 for i in range(5000)] + [1 for i in range(5000)] \n",
        "\n",
        "y = tf.keras.utils.to_categorical(y)\n",
        "y1 = tf.keras.utils.to_categorical(y1)\n",
        "print(y)\n",
        "print(y1)"
      ]
    },
    {
      "cell_type": "code",
      "source": [
        "X *= 1e19\n",
        "X1 *= 1e19\n",
        "\n",
        "print(X)\n",
        "print(X1)"
      ],
      "metadata": {
        "colab": {
          "base_uri": "https://localhost:8080/"
        },
        "id": "cj-vOEBr_Urs",
        "outputId": "c8b07e8a-ffc2-46ab-c321-1060418fa0d7"
      },
      "execution_count": 10,
      "outputs": [
        {
          "output_type": "stream",
          "name": "stdout",
          "text": [
            "[[ -2.34825676 -18.76281073   6.31352188 ...   5.98806403  -7.69845341\n",
            "    1.8310419 ]\n",
            " [ -2.34825676 -18.76281073   6.31352188 ...   5.98806403  -7.69845341\n",
            "    1.8310419 ]\n",
            " [ -2.34825676 -18.76281073   6.31352188 ...   5.98806403  -7.69845341\n",
            "    1.8310419 ]\n",
            " ...\n",
            " [ -5.06614309  -8.98106278   0.3221707  ...   9.04156856   6.43145905\n",
            "  -16.08653531]\n",
            " [ -5.06614309  -8.98106278   0.3221707  ...   9.0456836    6.43054242\n",
            "  -16.08653531]\n",
            " [ -5.06614309  -8.98106278   0.3221707  ...   9.0456836    6.43054242\n",
            "  -16.08653531]]\n",
            "[[ -5.06614309  -8.98106278   0.3221707  ...   9.0456836    6.43054242\n",
            "  -16.08653531]\n",
            " [ -5.06614309  -8.98106278   0.3221707  ...   9.0456836    6.43054242\n",
            "  -16.08653531]\n",
            " [ -5.06614309  -8.98106278   0.3221707  ...   9.0456836    6.43054242\n",
            "  -16.08653531]\n",
            " ...\n",
            " [ -5.06614309  -8.98106278   0.3221707  ...   9.04156856   6.43145905\n",
            "  -16.08653531]\n",
            " [ -5.06614309  -8.98106278   0.3221707  ...   9.0456836    6.43054242\n",
            "  -16.08653531]\n",
            " [ -5.06614309  -8.98106278   0.3221707  ...   9.0456836    6.43054242\n",
            "  -16.08653531]]\n"
          ]
        }
      ]
    },
    {
      "cell_type": "code",
      "execution_count": 11,
      "metadata": {
        "colab": {
          "base_uri": "https://localhost:8080/"
        },
        "id": "8xirD0GDBQgm",
        "outputId": "04d9d1ce-d9de-4725-9421-8549d3511bfa"
      },
      "outputs": [
        {
          "output_type": "stream",
          "name": "stdout",
          "text": [
            "(15000, 16384, 1)\n",
            "(10000, 16384, 1)\n"
          ]
        }
      ],
      "source": [
        "X = np.expand_dims(X, axis=-1)\n",
        "X1 = np.expand_dims(X1, axis=-1)\n",
        "\n",
        "print(X.shape)\n",
        "print(X1.shape)"
      ]
    },
    {
      "cell_type": "markdown",
      "source": [
        "# Level 1"
      ],
      "metadata": {
        "id": "di02HGQtAgBh"
      }
    },
    {
      "cell_type": "code",
      "source": [
        "X_train, X2, y_train, y2 = train_test_split(X, y, test_size=0.2)\n",
        "\n",
        "X_val, X_test, y_val, y_test = train_test_split(X2, y2, test_size=0.5)\n",
        "\n",
        "print(X_train.shape, y_train.shape)"
      ],
      "metadata": {
        "colab": {
          "base_uri": "https://localhost:8080/"
        },
        "id": "6-UlIw-p_jLh",
        "outputId": "b5905ad5-0b6e-4648-96b0-4e60126a7a51"
      },
      "execution_count": 12,
      "outputs": [
        {
          "output_type": "stream",
          "name": "stdout",
          "text": [
            "(12000, 16384, 1) (12000, 2)\n"
          ]
        }
      ]
    },
    {
      "cell_type": "code",
      "execution_count": 13,
      "metadata": {
        "id": "7mkfkCjG-RIg"
      },
      "outputs": [],
      "source": [
        "X = None\n",
        "y = None\n",
        "\n",
        "X2 = None\n",
        "y2 = None"
      ]
    },
    {
      "cell_type": "code",
      "execution_count": 14,
      "metadata": {
        "id": "01pIkFC6w1BJ"
      },
      "outputs": [],
      "source": [
        "model1 = Sequential()\n",
        "\n",
        "model1.add(Conv1D(16, 16, input_shape = (16384,1)))\n",
        "model1.add(MaxPool1D(4, 4))\n",
        "model1.add(ReLU())\n",
        "model1.add(Conv1D(32, 8))\n",
        "model1.add(MaxPool1D(4, 4))\n",
        "model1.add(ReLU())\n",
        "model1.add(Conv1D(64, 8))\n",
        "model1.add(MaxPool1D(4, 4))\n",
        "model1.add(ReLU())\n",
        "model1.add(Conv1D(128, 8))\n",
        "model1.add(MaxPool1D(4, 4))\n",
        "model1.add(ReLU())\n",
        "model1.add(Flatten())\n",
        "model1.add(Dense(64, activation='relu'))\n",
        "model1.add(Dense(2, activation='sigmoid'))\n",
        "\n",
        "model1.compile(optimizer=tf.keras.optimizers.Adam(0.001), loss='binary_crossentropy', metrics=['accuracy'])"
      ]
    },
    {
      "cell_type": "code",
      "execution_count": 15,
      "metadata": {
        "id": "-2PqOqLjw1BK"
      },
      "outputs": [],
      "source": [
        "# model.summary()"
      ]
    },
    {
      "cell_type": "code",
      "execution_count": 16,
      "metadata": {
        "colab": {
          "base_uri": "https://localhost:8080/"
        },
        "id": "qxVd6XC9w1BM",
        "outputId": "de7b8bdc-1b4e-48f8-9e33-6c86bfb8a847"
      },
      "outputs": [
        {
          "output_type": "stream",
          "name": "stdout",
          "text": [
            "Epoch 1/5\n",
            "94/94 [==============================] - 21s 112ms/step - loss: 0.1455 - accuracy: 0.9677 - val_loss: 3.1627e-06 - val_accuracy: 1.0000\n",
            "Epoch 2/5\n",
            "94/94 [==============================] - 10s 103ms/step - loss: 1.3374e-06 - accuracy: 1.0000 - val_loss: 5.6325e-07 - val_accuracy: 1.0000\n",
            "Epoch 3/5\n",
            "94/94 [==============================] - 10s 104ms/step - loss: 3.6321e-07 - accuracy: 1.0000 - val_loss: 2.4055e-07 - val_accuracy: 1.0000\n",
            "Epoch 4/5\n",
            "94/94 [==============================] - 10s 105ms/step - loss: 1.7820e-07 - accuracy: 1.0000 - val_loss: 1.3493e-07 - val_accuracy: 1.0000\n",
            "Epoch 5/5\n",
            "94/94 [==============================] - 10s 104ms/step - loss: 1.0713e-07 - accuracy: 1.0000 - val_loss: 8.7073e-08 - val_accuracy: 1.0000\n"
          ]
        }
      ],
      "source": [
        "history = model1.fit(X_train, y_train, batch_size=128, epochs=5, validation_data=(X_val, y_val))"
      ]
    },
    {
      "cell_type": "code",
      "execution_count": 17,
      "metadata": {
        "colab": {
          "base_uri": "https://localhost:8080/",
          "height": 295
        },
        "outputId": "edfc189d-d65f-4ef6-bf10-a0bdbae32699",
        "id": "OPkSMPC2AO-x"
      },
      "outputs": [
        {
          "output_type": "display_data",
          "data": {
            "image/png": "[encoded data removed]",
            "text/plain": [
              "<Figure size 936x288 with 2 Axes>"
            ]
          },
          "metadata": {
            "needs_background": "light"
          }
        }
      ],
      "source": [
        "acc = [0.] + history.history['accuracy']\n",
        "val_acc = [0.] + history.history['val_accuracy']\n",
        "loss = history.history['loss']\n",
        "val_loss = history.history['val_loss']\n",
        "\n",
        "plt.figure(figsize=(13, 4))\n",
        "plt.subplot(1, 2, 1)\n",
        "plt.plot(acc, label='Training Accuracy')\n",
        "plt.plot(val_acc, label='Validation Accuracy')\n",
        "plt.legend(loc='lower right')\n",
        "plt.ylabel('Accuracy')\n",
        "plt.ylim([min(plt.ylim()),1])\n",
        "plt.title('Training and Validation Accuracy')\n",
        "plt.xlabel('epoch')\n",
        "\n",
        "plt.subplot(1, 2, 2)\n",
        "plt.plot(loss, label='Training Loss')\n",
        "plt.plot(val_loss, label='Validation Loss')\n",
        "plt.legend(loc='upper right')\n",
        "plt.ylabel('Categorical Cross Entropy')\n",
        "plt.ylim([0,2])\n",
        "plt.title('Training and Validation Loss')\n",
        "plt.xlabel('epoch')\n",
        "plt.savefig(directory[:-5]+\"screenshots/graph_1_level_1.png\")\n",
        "plt.show()"
      ]
    },
    {
      "cell_type": "code",
      "execution_count": 18,
      "metadata": {
        "colab": {
          "base_uri": "https://localhost:8080/",
          "height": 364
        },
        "id": "rm720erevzt2",
        "outputId": "8c056dc0-ca99-4e4d-aef0-74baa8475f6a"
      },
      "outputs": [
        {
          "output_type": "stream",
          "name": "stdout",
          "text": [
            "Accuracy: 1.000\n",
            "Precision: 1.000\n",
            "Recall: 1.000\n",
            "F1-Score: 1.000\n"
          ]
        },
        {
          "output_type": "display_data",
          "data": {
            "image/png": "[encoded data removed]",
            "text/plain": [
              "<Figure size 432x288 with 2 Axes>"
            ]
          },
          "metadata": {
            "needs_background": "light"
          }
        }
      ],
      "source": [
        "# Training Data\n",
        "\n",
        "pred = model1.predict(X_train)\n",
        "y_pred = np.argmax(pred, axis = 1)\n",
        "y_true = np.argmax(y_train, axis = 1)\n",
        "\n",
        "accuracy = accuracy_score(y_true, y_pred)\n",
        "print('Accuracy: %.3f' % accuracy)\n",
        "\n",
        "precision = precision_score(y_true, y_pred, average='binary')\n",
        "print('Precision: %.3f' % precision)\n",
        "\n",
        "recall = recall_score(y_true, y_pred, average='binary')\n",
        "print('Recall: %.3f' % recall)\n",
        "\n",
        "score = f1_score(y_true, y_pred, average='binary')\n",
        "print('F1-Score: %.3f' % score)\n",
        "\n",
        "cm = confusion_matrix(y_true, y_pred, labels=[0, 1])\n",
        "disp = ConfusionMatrixDisplay(confusion_matrix=cm, display_labels=[0, 1])\n",
        "disp.plot()\n",
        "plt.title('Acc.:'+str(round(accuracy, 3))+'   Prec.:'+str(round(precision, 3))+'   Recall:'+str(round(recall, 3))+'   F1:'+str(round(score, 3)))\n",
        "plt.savefig(directory[:-5]+\"screenshots/train_cm_1_level_1.png\")\n",
        "plt.show()"
      ]
    },
    {
      "cell_type": "code",
      "execution_count": 19,
      "metadata": {
        "colab": {
          "base_uri": "https://localhost:8080/",
          "height": 364
        },
        "id": "RTF4jCZCEG3Z",
        "outputId": "927d2c47-f054-4942-8b15-0eec35e4aae3"
      },
      "outputs": [
        {
          "output_type": "stream",
          "name": "stdout",
          "text": [
            "Accuracy: 1.000\n",
            "Precision: 1.000\n",
            "Recall: 1.000\n",
            "F1-Score: 1.000\n"
          ]
        },
        {
          "output_type": "display_data",
          "data": {
            "image/png": "[encoded data removed]",
            "text/plain": [
              "<Figure size 432x288 with 2 Axes>"
            ]
          },
          "metadata": {
            "needs_background": "light"
          }
        }
      ],
      "source": [
        "# Validation Data\n",
        "\n",
        "pred = model1.predict(X_val)\n",
        "y_pred = np.argmax(pred, axis = 1)\n",
        "y_true = np.argmax(y_val, axis = 1)\n",
        "\n",
        "accuracy = accuracy_score(y_true, y_pred)\n",
        "print('Accuracy: %.3f' % accuracy)\n",
        "\n",
        "precision = precision_score(y_true, y_pred, average='binary')\n",
        "print('Precision: %.3f' % precision)\n",
        "\n",
        "recall = recall_score(y_true, y_pred, average='binary')\n",
        "print('Recall: %.3f' % recall)\n",
        "\n",
        "score = f1_score(y_true, y_pred, average='binary')\n",
        "print('F1-Score: %.3f' % score)\n",
        "\n",
        "cm = confusion_matrix(y_true, y_pred, labels=[0, 1])\n",
        "disp = ConfusionMatrixDisplay(confusion_matrix=cm, display_labels=[0, 1])\n",
        "disp.plot()\n",
        "plt.title('Acc.:'+str(round(accuracy, 3))+'   Prec.:'+str(round(precision, 3))+'   Recall:'+str(round(recall, 3))+'   F1:'+str(round(score, 3)))\n",
        "plt.savefig(directory[:-5]+\"screenshots/val_cm_1_level_1.png\")\n",
        "plt.show()"
      ]
    },
    {
      "cell_type": "code",
      "execution_count": 20,
      "metadata": {
        "colab": {
          "base_uri": "https://localhost:8080/",
          "height": 364
        },
        "id": "cv7Ycs1AEjSX",
        "outputId": "9372cbc4-7df1-47b5-f12f-e545c2b23f26"
      },
      "outputs": [
        {
          "output_type": "stream",
          "name": "stdout",
          "text": [
            "Accuracy: 1.000\n",
            "Precision: 1.000\n",
            "Recall: 1.000\n",
            "F1-Score: 1.000\n"
          ]
        },
        {
          "output_type": "display_data",
          "data": {
            "image/png": "[encoded data removed]",
            "text/plain": [
              "<Figure size 432x288 with 2 Axes>"
            ]
          },
          "metadata": {
            "needs_background": "light"
          }
        }
      ],
      "source": [
        "# Testing Data\n",
        "\n",
        "pred = model1.predict(X_test)\n",
        "y_pred = np.argmax(pred, axis = 1)\n",
        "y_true = np.argmax(y_test, axis = 1)\n",
        "\n",
        "accuracy = accuracy_score(y_true, y_pred)\n",
        "print('Accuracy: %.3f' % accuracy)\n",
        "\n",
        "precision = precision_score(y_true, y_pred, average='binary')\n",
        "print('Precision: %.3f' % precision)\n",
        "\n",
        "recall = recall_score(y_true, y_pred, average='binary')\n",
        "print('Recall: %.3f' % recall)\n",
        "\n",
        "score = f1_score(y_true, y_pred, average='binary')\n",
        "print('F1-Score: %.3f' % score)\n",
        "\n",
        "cm = confusion_matrix(y_true, y_pred, labels=[0, 1])\n",
        "disp = ConfusionMatrixDisplay(confusion_matrix=cm, display_labels=[0, 1])\n",
        "disp.plot()\n",
        "plt.title('Acc.:'+str(round(accuracy, 3))+'   Prec.:'+str(round(precision, 3))+'   Recall:'+str(round(recall, 3))+'   F1:'+str(round(score, 3)))\n",
        "plt.savefig(directory[:-5]+\"screenshots/test_cm_1_level_1.png\")\n",
        "plt.show()"
      ]
    },
    {
      "cell_type": "code",
      "execution_count": 21,
      "metadata": {
        "colab": {
          "base_uri": "https://localhost:8080/",
          "height": 279
        },
        "id": "34vPifbiIPCx",
        "outputId": "3f268ae4-f279-43fc-c7b7-1e48c0f47201"
      },
      "outputs": [
        {
          "output_type": "display_data",
          "data": {
            "image/png": "[encoded data removed]",
            "text/plain": [
              "<Figure size 432x288 with 1 Axes>"
            ]
          },
          "metadata": {
            "needs_background": "light"
          }
        }
      ],
      "source": [
        "# ROC for validation data\n",
        "\n",
        "pred = model1.predict(X_val)\n",
        "y_true = np.argmax(y_val, axis = 1)\n",
        "pos_probs = pred[:,1]\n",
        "fpr, tpr, _ = roc_curve(y_true, pos_probs)\n",
        "plt.plot(fpr, tpr)\n",
        "plt.xlabel('False Positive Rate')\n",
        "plt.ylabel('True Positive Rate')\n",
        "plt.savefig(directory[:-5]+\"screenshots/val_roc_1_level_1.png\")\n",
        "plt.show()"
      ]
    },
    {
      "cell_type": "code",
      "execution_count": 22,
      "metadata": {
        "colab": {
          "base_uri": "https://localhost:8080/",
          "height": 279
        },
        "id": "lwgqYoYOEtA5",
        "outputId": "d7dd89b7-2ca1-4408-bbca-62fa67c19617"
      },
      "outputs": [
        {
          "output_type": "display_data",
          "data": {
            "image/png": "[encoded data removed]",
            "text/plain": [
              "<Figure size 432x288 with 1 Axes>"
            ]
          },
          "metadata": {
            "needs_background": "light"
          }
        }
      ],
      "source": [
        "# ROC for testing data\n",
        "\n",
        "pred = model1.predict(X_test)\n",
        "y_true = np.argmax(y_test, axis = 1)\n",
        "pos_probs = pred[:,1]\n",
        "fpr, tpr, _ = roc_curve(y_true, pos_probs)\n",
        "plt.plot(fpr, tpr)\n",
        "plt.xlabel('False Positive Rate')\n",
        "plt.ylabel('True Positive Rate')\n",
        "plt.savefig(directory[:-5]+\"screenshots/test_roc_1_level_1.png\")\n",
        "plt.show()"
      ]
    },
    {
      "cell_type": "code",
      "execution_count": 23,
      "metadata": {
        "id": "2WJdR2oW-RIi"
      },
      "outputs": [],
      "source": [
        "# model1.save(directory + \"model_trial_1_level_1.h5\")"
      ]
    },
    {
      "cell_type": "code",
      "execution_count": 24,
      "metadata": {
        "id": "3KlCHWpG-RIi"
      },
      "outputs": [],
      "source": [
        "model1 = None\n",
        "X_train = None\n",
        "y_train = None\n",
        "X_test = None\n",
        "y_test = None"
      ]
    },
    {
      "cell_type": "markdown",
      "source": [
        "# Level 2"
      ],
      "metadata": {
        "id": "T-vCo_uDATO9"
      }
    },
    {
      "cell_type": "code",
      "source": [
        "X_train, X2, y_train, y2 = train_test_split(X1, y1, test_size=0.2)\n",
        "\n",
        "X_val, X_test, y_val, y_test = train_test_split(X2, y2, test_size=0.5)\n",
        "\n",
        "print(X_train.shape, y_train.shape)"
      ],
      "metadata": {
        "colab": {
          "base_uri": "https://localhost:8080/"
        },
        "id": "af1c8MkdBePf",
        "outputId": "6627e889-56f7-49a8-ecb0-94e5682e323e"
      },
      "execution_count": 25,
      "outputs": [
        {
          "output_type": "stream",
          "name": "stdout",
          "text": [
            "(8000, 16384, 1) (8000, 2)\n"
          ]
        }
      ]
    },
    {
      "cell_type": "code",
      "execution_count": 26,
      "metadata": {
        "id": "xRUshtV_BePj"
      },
      "outputs": [],
      "source": [
        "X1 = None\n",
        "y1 = None\n",
        "\n",
        "X2 = None\n",
        "y2 = None"
      ]
    },
    {
      "cell_type": "code",
      "execution_count": 27,
      "metadata": {
        "id": "P34_6BLRBePj"
      },
      "outputs": [],
      "source": [
        "model2 = Sequential()\n",
        "\n",
        "model2.add(Conv1D(16, 16, input_shape = (16384,1)))\n",
        "model2.add(MaxPool1D(4, 4))\n",
        "model2.add(ReLU())\n",
        "model2.add(Conv1D(32, 8))\n",
        "model2.add(MaxPool1D(4, 4))\n",
        "model2.add(ReLU())\n",
        "model2.add(Conv1D(64, 8))\n",
        "model2.add(MaxPool1D(4, 4))\n",
        "model2.add(ReLU())\n",
        "model2.add(Conv1D(128, 8))\n",
        "model2.add(MaxPool1D(4, 4))\n",
        "model2.add(ReLU())\n",
        "model2.add(Flatten())\n",
        "model2.add(Dense(64, activation='relu'))\n",
        "model2.add(Dense(2, activation='sigmoid'))\n",
        "\n",
        "model2.compile(optimizer=tf.keras.optimizers.Adam(0.001), loss='binary_crossentropy', metrics=['accuracy'])"
      ]
    },
    {
      "cell_type": "code",
      "execution_count": 28,
      "metadata": {
        "id": "8ZWZksi7BePk"
      },
      "outputs": [],
      "source": [
        "# model.summary()"
      ]
    },
    {
      "cell_type": "code",
      "execution_count": 29,
      "metadata": {
        "colab": {
          "base_uri": "https://localhost:8080/"
        },
        "id": "2Xw_ms0YBePm",
        "outputId": "776c8cb1-82d0-4dd5-e761-4f295c885450"
      },
      "outputs": [
        {
          "output_type": "stream",
          "name": "stdout",
          "text": [
            "Epoch 1/5\n",
            "63/63 [==============================] - 8s 113ms/step - loss: 0.8321 - accuracy: 0.5978 - val_loss: 0.5689 - val_accuracy: 0.6530\n",
            "Epoch 2/5\n",
            "63/63 [==============================] - 7s 103ms/step - loss: 0.2516 - accuracy: 0.9326 - val_loss: 0.0112 - val_accuracy: 1.0000\n",
            "Epoch 3/5\n",
            "63/63 [==============================] - 7s 104ms/step - loss: 0.0341 - accuracy: 0.9893 - val_loss: 0.0026 - val_accuracy: 1.0000\n",
            "Epoch 4/5\n",
            "63/63 [==============================] - 7s 104ms/step - loss: 6.7078e-04 - accuracy: 1.0000 - val_loss: 1.6048e-04 - val_accuracy: 1.0000\n",
            "Epoch 5/5\n",
            "63/63 [==============================] - 7s 103ms/step - loss: 1.0349e-04 - accuracy: 1.0000 - val_loss: 5.8418e-05 - val_accuracy: 1.0000\n"
          ]
        }
      ],
      "source": [
        "history = model2.fit(X_train, y_train, batch_size=128, epochs=5, validation_data=(X_val, y_val))"
      ]
    },
    {
      "cell_type": "code",
      "execution_count": 30,
      "metadata": {
        "id": "YGkAAlc9BePm",
        "colab": {
          "base_uri": "https://localhost:8080/",
          "height": 295
        },
        "outputId": "86857db2-3816-4668-f98c-5d1257d1c27f"
      },
      "outputs": [
        {
          "output_type": "display_data",
          "data": {
            "image/png": "[encoded data removed]",
            "text/plain": [
              "<Figure size 936x288 with 2 Axes>"
            ]
          },
          "metadata": {
            "needs_background": "light"
          }
        }
      ],
      "source": [
        "acc = [0.] + history.history['accuracy']\n",
        "val_acc = [0.] + history.history['val_accuracy']\n",
        "loss = history.history['loss']\n",
        "val_loss = history.history['val_loss']\n",
        "\n",
        "plt.figure(figsize=(13, 4))\n",
        "plt.subplot(1, 2, 1)\n",
        "plt.plot(acc, label='Training Accuracy')\n",
        "plt.plot(val_acc, label='Validation Accuracy')\n",
        "plt.legend(loc='lower right')\n",
        "plt.ylabel('Accuracy')\n",
        "plt.ylim([min(plt.ylim()),1])\n",
        "plt.title('Training and Validation Accuracy')\n",
        "plt.xlabel('epoch')\n",
        "\n",
        "plt.subplot(1, 2, 2)\n",
        "plt.plot(loss, label='Training Loss')\n",
        "plt.plot(val_loss, label='Validation Loss')\n",
        "plt.legend(loc='upper right')\n",
        "plt.ylabel('Categorical Cross Entropy')\n",
        "plt.ylim([0,2])\n",
        "plt.title('Training and Validation Loss')\n",
        "plt.xlabel('epoch')\n",
        "plt.savefig(directory[:-5]+\"screenshots/graph_1_level_2.png\")\n",
        "plt.show()"
      ]
    },
    {
      "cell_type": "code",
      "execution_count": 31,
      "metadata": {
        "id": "0mGalfhGBePo",
        "colab": {
          "base_uri": "https://localhost:8080/",
          "height": 364
        },
        "outputId": "cc37df7b-f33f-408d-9e12-3dd6962d2c79"
      },
      "outputs": [
        {
          "output_type": "stream",
          "name": "stdout",
          "text": [
            "Accuracy: 1.000\n",
            "Precision: 1.000\n",
            "Recall: 1.000\n",
            "F1-Score: 1.000\n"
          ]
        },
        {
          "output_type": "display_data",
          "data": {
            "image/png": "[encoded data removed]",
            "text/plain": [
              "<Figure size 432x288 with 2 Axes>"
            ]
          },
          "metadata": {
            "needs_background": "light"
          }
        }
      ],
      "source": [
        "# Training Data\n",
        "\n",
        "pred = model2.predict(X_train)\n",
        "y_pred = np.argmax(pred, axis = 1)\n",
        "y_true = np.argmax(y_train, axis = 1)\n",
        "\n",
        "accuracy = accuracy_score(y_true, y_pred)\n",
        "print('Accuracy: %.3f' % accuracy)\n",
        "\n",
        "precision = precision_score(y_true, y_pred, average='binary')\n",
        "print('Precision: %.3f' % precision)\n",
        "\n",
        "recall = recall_score(y_true, y_pred, average='binary')\n",
        "print('Recall: %.3f' % recall)\n",
        "\n",
        "score = f1_score(y_true, y_pred, average='binary')\n",
        "print('F1-Score: %.3f' % score)\n",
        "\n",
        "cm = confusion_matrix(y_true, y_pred, labels=[0, 1])\n",
        "disp = ConfusionMatrixDisplay(confusion_matrix=cm, display_labels=[0, 1])\n",
        "disp.plot()\n",
        "plt.title('Acc.:'+str(round(accuracy, 3))+'   Prec.:'+str(round(precision, 3))+'   Recall:'+str(round(recall, 3))+'   F1:'+str(round(score, 3)))\n",
        "plt.savefig(directory[:-5]+\"screenshots/train_cm_1_level_2.png\")\n",
        "plt.show()"
      ]
    },
    {
      "cell_type": "code",
      "execution_count": 32,
      "metadata": {
        "id": "-13PUBU5BePp",
        "colab": {
          "base_uri": "https://localhost:8080/",
          "height": 364
        },
        "outputId": "f98a4063-d680-4161-9bed-c85f2f137565"
      },
      "outputs": [
        {
          "output_type": "stream",
          "name": "stdout",
          "text": [
            "Accuracy: 1.000\n",
            "Precision: 1.000\n",
            "Recall: 1.000\n",
            "F1-Score: 1.000\n"
          ]
        },
        {
          "output_type": "display_data",
          "data": {
            "image/png": "[encoded data removed]",
            "text/plain": [
              "<Figure size 432x288 with 2 Axes>"
            ]
          },
          "metadata": {
            "needs_background": "light"
          }
        }
      ],
      "source": [
        "# Validation Data\n",
        "\n",
        "pred = model2.predict(X_val)\n",
        "y_pred = np.argmax(pred, axis = 1)\n",
        "y_true = np.argmax(y_val, axis = 1)\n",
        "\n",
        "accuracy = accuracy_score(y_true, y_pred)\n",
        "print('Accuracy: %.3f' % accuracy)\n",
        "\n",
        "precision = precision_score(y_true, y_pred, average='binary')\n",
        "print('Precision: %.3f' % precision)\n",
        "\n",
        "recall = recall_score(y_true, y_pred, average='binary')\n",
        "print('Recall: %.3f' % recall)\n",
        "\n",
        "score = f1_score(y_true, y_pred, average='binary')\n",
        "print('F1-Score: %.3f' % score)\n",
        "\n",
        "cm = confusion_matrix(y_true, y_pred, labels=[0, 1])\n",
        "disp = ConfusionMatrixDisplay(confusion_matrix=cm, display_labels=[0, 1])\n",
        "disp.plot()\n",
        "plt.title('Acc.:'+str(round(accuracy, 3))+'   Prec.:'+str(round(precision, 3))+'   Recall:'+str(round(recall, 3))+'   F1:'+str(round(score, 3)))\n",
        "plt.savefig(directory[:-5]+\"screenshots/val_cm_1_level_2.png\")\n",
        "plt.show()"
      ]
    },
    {
      "cell_type": "code",
      "execution_count": 33,
      "metadata": {
        "id": "r1Y_8NrwBePq",
        "colab": {
          "base_uri": "https://localhost:8080/",
          "height": 364
        },
        "outputId": "08fe3da4-f967-43d5-dd33-84391684265a"
      },
      "outputs": [
        {
          "output_type": "stream",
          "name": "stdout",
          "text": [
            "Accuracy: 1.000\n",
            "Precision: 1.000\n",
            "Recall: 1.000\n",
            "F1-Score: 1.000\n"
          ]
        },
        {
          "output_type": "display_data",
          "data": {
            "image/png": "[encoded data removed]",
            "text/plain": [
              "<Figure size 432x288 with 2 Axes>"
            ]
          },
          "metadata": {
            "needs_background": "light"
          }
        }
      ],
      "source": [
        "# Testing Data\n",
        "\n",
        "pred = model2.predict(X_test)\n",
        "y_pred = np.argmax(pred, axis = 1)\n",
        "y_true = np.argmax(y_test, axis = 1)\n",
        "\n",
        "accuracy = accuracy_score(y_true, y_pred)\n",
        "print('Accuracy: %.3f' % accuracy)\n",
        "\n",
        "precision = precision_score(y_true, y_pred, average='binary')\n",
        "print('Precision: %.3f' % precision)\n",
        "\n",
        "recall = recall_score(y_true, y_pred, average='binary')\n",
        "print('Recall: %.3f' % recall)\n",
        "\n",
        "score = f1_score(y_true, y_pred, average='binary')\n",
        "print('F1-Score: %.3f' % score)\n",
        "\n",
        "cm = confusion_matrix(y_true, y_pred, labels=[0, 1])\n",
        "disp = ConfusionMatrixDisplay(confusion_matrix=cm, display_labels=[0, 1])\n",
        "disp.plot()\n",
        "plt.title('Acc.:'+str(round(accuracy, 3))+'   Prec.:'+str(round(precision, 3))+'   Recall:'+str(round(recall, 3))+'   F1:'+str(round(score, 3)))\n",
        "plt.savefig(directory[:-5]+\"screenshots/test_cm_1_level_2.png\")\n",
        "plt.show()"
      ]
    },
    {
      "cell_type": "code",
      "execution_count": 34,
      "metadata": {
        "id": "qYywz0xYBePr",
        "colab": {
          "base_uri": "https://localhost:8080/",
          "height": 279
        },
        "outputId": "a494ef8a-770a-48da-916a-b9623482cfb5"
      },
      "outputs": [
        {
          "output_type": "display_data",
          "data": {
            "image/png": "[encoded data removed]",
            "text/plain": [
              "<Figure size 432x288 with 1 Axes>"
            ]
          },
          "metadata": {
            "needs_background": "light"
          }
        }
      ],
      "source": [
        "# ROC for validation data\n",
        "\n",
        "pred = model2.predict(X_val)\n",
        "y_true = np.argmax(y_val, axis = 1)\n",
        "pos_probs = pred[:,1]\n",
        "fpr, tpr, _ = roc_curve(y_true, pos_probs)\n",
        "plt.plot(fpr, tpr)\n",
        "plt.xlabel('False Positive Rate')\n",
        "plt.ylabel('True Positive Rate')\n",
        "plt.savefig(directory[:-5]+\"screenshots/val_roc_1_level_2.png\")\n",
        "plt.show()"
      ]
    },
    {
      "cell_type": "code",
      "execution_count": 35,
      "metadata": {
        "id": "s1BrfQwIBePs",
        "colab": {
          "base_uri": "https://localhost:8080/",
          "height": 279
        },
        "outputId": "ef062e22-b13a-4448-c4a4-17bb8ff938b0"
      },
      "outputs": [
        {
          "output_type": "display_data",
          "data": {
            "image/png": "[encoded data removed]",
            "text/plain": [
              "<Figure size 432x288 with 1 Axes>"
            ]
          },
          "metadata": {
            "needs_background": "light"
          }
        }
      ],
      "source": [
        "# ROC for testing data\n",
        "\n",
        "pred = model2.predict(X_test)\n",
        "y_true = np.argmax(y_test, axis = 1)\n",
        "pos_probs = pred[:,1]\n",
        "fpr, tpr, _ = roc_curve(y_true, pos_probs)\n",
        "plt.plot(fpr, tpr)\n",
        "plt.xlabel('False Positive Rate')\n",
        "plt.ylabel('True Positive Rate')\n",
        "plt.savefig(directory[:-5]+\"screenshots/test_roc_1_level_2.png\")\n",
        "plt.show()"
      ]
    },
    {
      "cell_type": "code",
      "execution_count": 36,
      "metadata": {
        "id": "6cDpRHRyBePs"
      },
      "outputs": [],
      "source": [
        "# model2.save(directory + \"model_trial_1_level_2.h5\")"
      ]
    }
  ],
  "metadata": {
    "accelerator": "GPU",
    "colab": {
      "collapsed_sections": [],
      "name": "test_3.ipynb",
      "provenance": []
    },
    "interpreter": {
      "hash": "8356d31dd4c50017c60d528a0c40a4935f9d791f54e24c10e32e3a312d5b6882"
    },
    "kernelspec": {
      "display_name": "Python 3.7.6 64-bit ('base': conda)",
      "language": "python",
      "name": "python3"
    },
    "language_info": {
      "codemirror_mode": {
        "name": "ipython",
        "version": 3
      },
      "file_extension": ".py",
      "mimetype": "text/x-python",
      "name": "python",
      "nbconvert_exporter": "python",
      "pygments_lexer": "ipython3",
      "version": "3.7.6"
    },
    "orig_nbformat": 4
  },
  "nbformat": 4,
  "nbformat_minor": 0
}