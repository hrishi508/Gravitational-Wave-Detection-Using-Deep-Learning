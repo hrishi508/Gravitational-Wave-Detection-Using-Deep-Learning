{
  "cells": [
    {
      "cell_type": "markdown",
      "metadata": {
        "id": "dwy3ztM1krqq"
      },
      "source": [
        "# Imports"
      ]
    },
    {
      "cell_type": "code",
      "execution_count": 140,
      "metadata": {
        "colab": {
          "base_uri": "https://localhost:8080/"
        },
        "id": "Xs_OpQDIxDQW",
        "outputId": "94e19074-0aa5-4924-c107-1d3b072ed622"
      },
      "outputs": [
        {
          "name": "stdout",
          "output_type": "stream",
          "text": [
            "Drive already mounted at /content/gdrive; to attempt to forcibly remount, call drive.mount(\"/content/gdrive\", force_remount=True).\n"
          ]
        }
      ],
      "source": [
        "from google.colab import drive\n",
        "drive.mount('/content/gdrive')"
      ]
    },
    {
      "cell_type": "code",
      "execution_count": 141,
      "metadata": {
        "id": "L5inbyEdw1A7"
      },
      "outputs": [],
      "source": [
        "import numpy as np\n",
        "import pandas as pd\n",
        "import matplotlib.pyplot as plt\n",
        "import itertools\n",
        "\n",
        "import tensorflow as tf\n",
        "from keras.models import load_model\n",
        "from tensorflow.keras.models import Sequential\n",
        "from tensorflow.keras.layers import Dense, Conv1D, Dropout, MaxPool1D, ReLU, Flatten, BatchNormalization\n",
        "\n",
        "from sklearn.metrics import f1_score\n",
        "from sklearn.metrics import recall_score\n",
        "from sklearn.metrics import precision_score\n",
        "from sklearn.metrics import confusion_matrix\n",
        "from sklearn.preprocessing import StandardScaler\n",
        "from sklearn.model_selection import train_test_split\n",
        "from sklearn.metrics import confusion_matrix, ConfusionMatrixDisplay, roc_curve, accuracy_score"
      ]
    },
    {
      "cell_type": "code",
      "execution_count": 559,
      "metadata": {
        "id": "twXvncE4vczL"
      },
      "outputs": [],
      "source": [
        "bbh_events= ['GW190519_153544',\n",
        "             'GW170823',\n",
        "             'GW190814',\n",
        "             'GW190728_064510',\n",
        "             'GW151226',\n",
        "             'GW190421_213856',\n",
        "             'GW190727_060333',\n",
        "             'GW190513_205428',\n",
        "             'GW190521_074359',\n",
        "             'GW190408_181802',\n",
        "             'GW170729',\n",
        "             'GW190915_235702',\n",
        "             'GW190929_012149',\n",
        "             'GW190910_112807',\n",
        "             'GW170104',\n",
        "             'GW190909_114149',\n",
        "             'GW190424_180648',\n",
        "             'GW190512_180714',\n",
        "             'GW190412',\n",
        "             'GW190517_055101',\n",
        "             'GW190620_030421',\n",
        "             'GW190706_222641',\n",
        "             'GW170814',\n",
        "             'GW190708_232457',\n",
        "             'GW151012',\n",
        "             'GW190930_133541',\n",
        "             'GW190731_140936',\n",
        "             'GW190828_065509',\n",
        "             'GW190701_203306',\n",
        "             'GW150914',\n",
        "             'GW190720_000836',\n",
        "             'GW190719_215514',\n",
        "             'GW190924_021846',\n",
        "             'GW170608',\n",
        "             'GW190503_185404',\n",
        "             'GW190514_065416',\n",
        "             'GW190527_092055',\n",
        "             'GW190413_134308',\n",
        "             'GW190425',\n",
        "             'GW190602_175927',\n",
        "             'GW190521',\n",
        "             'GW170809',\n",
        "             'GW170818',\n",
        "             'GW190413_052954',\n",
        "             'GW190828_063405',\n",
        "             'GW190707_093326',\n",
        "             'GW190630_185205',\n",
        "             'GW190803_022701']\n",
        "\n",
        "bns_events = ['GW170817', 'GW190425']"
      ]
    },
    {
      "cell_type": "code",
      "execution_count": 712,
      "metadata": {
        "id": "5F2nsIcjoKyP"
      },
      "outputs": [],
      "source": [
        "directory = \"/content/gdrive/MyDrive/GW_SOP/Code/debugging/1D-CNN Multi-level/Signal_HIDDEN_in_strain_data/White_noise/Test 6/data/\""
      ]
    },
    {
      "cell_type": "markdown",
      "metadata": {
        "id": "LV9CfWZRisV7"
      },
      "source": [
        "# Testing on unseen generated data"
      ]
    },
    {
      "cell_type": "markdown",
      "metadata": {
        "id": "KR2Mz-kgvPm-"
      },
      "source": [
        "## Level 1"
      ]
    },
    {
      "cell_type": "code",
      "execution_count": 713,
      "metadata": {
        "id": "MzCUizYfw1A_"
      },
      "outputs": [],
      "source": [
        "noise_df = pd.read_csv(\"/content/gdrive/MyDrive/GW_SOP/Data/val_Final_Merged_Noise_Reduced_No_Abs.csv\", header=None)\n",
        "noise = noise_df.values.astype(float)\n",
        "\n",
        "\n",
        "data_BBH_df = pd.read_csv(\"/content/gdrive/MyDrive/GW_SOP/Data/val_Final_BBH_Merged_Noise_Signal_Reduced_No_ABS.csv\", header=None)\n",
        "data_BBH = data_BBH_df.values.astype(float)\n",
        "\n",
        "\n",
        "data_BNS_df = pd.read_csv(\"/content/gdrive/MyDrive/GW_SOP/Data/val_Final_BNS_Merged_Noise_Signal_Reduced_No_ABS.csv\", header=None)\n",
        "data_BNS = data_BNS_df.values.astype(float)"
      ]
    },
    {
      "cell_type": "code",
      "execution_count": 714,
      "metadata": {
        "colab": {
          "base_uri": "https://localhost:8080/"
        },
        "id": "kmYHuecJw1BB",
        "outputId": "6cf7d979-78b3-4b73-f7ea-d6dba98b0021"
      },
      "outputs": [
        {
          "name": "stdout",
          "output_type": "stream",
          "text": [
            "(3000, 16384)\n"
          ]
        }
      ],
      "source": [
        "X = np.concatenate((noise, data_BBH, data_BNS), axis=0)\n",
        "print(X.shape)"
      ]
    },
    {
      "cell_type": "code",
      "execution_count": 715,
      "metadata": {
        "colab": {
          "base_uri": "https://localhost:8080/"
        },
        "id": "8QXIloAgn9Zr",
        "outputId": "04b3f83e-e659-40ac-d1ab-904a798c7467"
      },
      "outputs": [
        {
          "name": "stdout",
          "output_type": "stream",
          "text": [
            "[[-12.66237375  -7.10454873  -1.93002241 ...   7.75026284 -19.27366344\n",
            "   16.74202077]\n",
            " [-14.04545007   2.89150861   6.69552833 ...   7.72863868  13.51669763\n",
            "   -0.15894143]\n",
            " [ -0.19188579   5.38917682   3.95968425 ... -12.60226351   1.81652994\n",
            "   -6.16624244]\n",
            " ...\n",
            " [ 16.38978149   4.00031024 -11.03916174 ...  15.21480913 -14.41520939\n",
            "    8.74220208]\n",
            " [ -2.65177947 -11.11591142 -18.04493691 ...  26.24060909 -25.77572416\n",
            "    9.39236201]\n",
            " [-26.984002    10.16253588 -17.68832777 ...   9.91613418   2.59292417\n",
            "    1.59885639]]\n"
          ]
        }
      ],
      "source": [
        "X *= 1e19\n",
        "print(X)"
      ]
    },
    {
      "cell_type": "code",
      "execution_count": 716,
      "metadata": {
        "colab": {
          "base_uri": "https://localhost:8080/"
        },
        "id": "J_dSmj6xw1BE",
        "outputId": "54b2b83c-87cb-4bbb-81a2-e3db31af4e55"
      },
      "outputs": [
        {
          "name": "stdout",
          "output_type": "stream",
          "text": [
            "[[ 0 -1]\n",
            " [ 0 -1]\n",
            " [ 0 -1]\n",
            " ...\n",
            " [ 1  1]\n",
            " [ 1  1]\n",
            " [ 1  1]]\n"
          ]
        }
      ],
      "source": [
        "y = [[0, -1] for i in range(1000)] + [[1, 0] for i in range(1000)] + [[1, 1] for i in range(1000)]\n",
        "y = np.array(y)\n",
        "print(y)"
      ]
    },
    {
      "cell_type": "code",
      "execution_count": 717,
      "metadata": {
        "colab": {
          "base_uri": "https://localhost:8080/"
        },
        "id": "8xirD0GDBQgm",
        "outputId": "bc2cb7e4-37ee-40e6-ff57-9e82b0dd6a01"
      },
      "outputs": [
        {
          "name": "stdout",
          "output_type": "stream",
          "text": [
            "(3000, 16384, 1)\n"
          ]
        }
      ],
      "source": [
        "X = np.expand_dims(X, axis=-1)\n",
        "print(X.shape)"
      ]
    },
    {
      "cell_type": "code",
      "execution_count": 718,
      "metadata": {
        "id": "I-Jk3rjDioj0"
      },
      "outputs": [],
      "source": [
        "X_test_l1, _, y, _ = train_test_split(X, y, test_size=1)\n",
        "\n",
        "y_l2 = [y[i,1] for i in range(len(y))]\n",
        "y_test_l1 = [y[i,0] for i in range(len(y))]"
      ]
    },
    {
      "cell_type": "code",
      "execution_count": 719,
      "metadata": {
        "colab": {
          "base_uri": "https://localhost:8080/"
        },
        "id": "uYWtfNQgptQX",
        "outputId": "c726010f-fad3-4f2c-fc71-2a3cc4e09145"
      },
      "outputs": [
        {
          "name": "stdout",
          "output_type": "stream",
          "text": [
            "[-1, -1, 0, -1, -1, 1, 1, 0, -1, -1, -1, 1, 0, 1, 1, 0, 0, 0, 1, 1, 0, 0, 1, -1, 1, -1, 1, 1, -1, -1, 1, 1, 0, -1, -1, 0, -1, -1, 1, 0, -1, -1, 1, -1, 0, -1, -1, -1, -1, 0, 0, -1, 1, 1, 0, 1, 0, 0, 0, 0, -1, -1, 0, 1, -1, -1, 0, 1, 1, 1, 1, -1, 0, 1, -1, -1, -1, 1, 1, -1, 1, 1, 1, 1, -1, 1, 0, 0, -1, 1, 1, 0, -1, 0, -1, -1, 0, -1, -1, 1, 1, 1, 0, 0, -1, 0, 0, 0, 1, 0, 1, 1, 0, -1, 0, 1, -1, -1, 1, 1, 1, -1, 1, 0, -1, -1, 1, -1, 1, -1, 0, 0, -1, 1, -1, 1, 1, -1, 1, 0, 0, 1, 0, 0, 1, 0, -1, -1, -1, 0, 1, -1, -1, 0, 1, -1, -1, 0, -1, 0, 1, -1, -1, -1, -1, 1, 1, 1, -1, 0, 0, 0, -1, 1, -1, -1, 1, 0, 0, -1, 0, -1, 0, -1, -1, -1, 1, 1, 1, 1, 0, 0, 0, -1, -1, 1, 0, 1, 1, 1, -1, 0, -1, -1, 1, -1, -1, 1, 0, 1, -1, 1, -1, 1, 1, 1, 1, 0, 0, 1, -1, -1, 0, 1, 0, 0, 1, -1, 1, -1, -1, -1, -1, -1, -1, 1, 0, -1, 0, 0, 1, 1, -1, 1, 0, 0, 1, 1, 0, -1, -1, 1, -1, -1, 0, -1, 0, -1, 1, -1, 1, -1, -1, 1, 0, -1, 0, -1, -1, 0, 1, 1, 0, 1, 0, 0, -1, 1, 0, 1, -1, 1, 1, 1, 1, 1, -1, 0, 0, 0, 1, 0, 0, 1, -1, -1, 1, -1, 0, 1, 1, 1, 0, 0, 0, 0, -1, 0, -1, 1, 1, 1, -1, 1, -1, 0, 1, 1, -1, 1, -1, 1, -1, -1, 0, -1, 1, 1, 0, -1, 1, -1, 0, 0, -1, -1, -1, 1, 1, 1, 1, -1, 0, 0, 1, 0, 1, 1, 1, 1, -1, 1, 0, 0, -1, -1, -1, 0, 0, 0, 0, 1, 0, 1, 1, 1, 0, 0, -1, 0, 1, -1, -1, 1, -1, 1, -1, -1, 1, 0, 0, 1, 1, 0, -1, -1, 1, 1, -1, 1, -1, 1, 1, -1, 0, 1, -1, 0, 0, 1, -1, -1, -1, -1, 1, -1, 1, 0, 1, 1, 0, 0, 1, 1, 1, -1, 1, 0, 1, 0, -1, 1, -1, 1, 1, 0, -1, 1, 0, 0, -1, 1, 1, 1, 0, 1, 1, -1, 1, 1, -1, 1, 0, 1, 0, 0, 0, 0, 0, 1, 1, 1, 1, -1, 0, 1, -1, 1, 0, 1, 1, -1, 1, -1, -1, 1, 1, 0, -1, 1, 1, -1, 0, 0, 0, 0, 1, -1, 1, 0, 1, -1, 0, -1, 0, 1, -1, 0, 0, 0, 1, 0, 0, 0, 0, 1, -1, -1, -1, -1, 1, 1, -1, 0, 1, 0, 0, 1, 1, 1, 0, -1, -1, -1, 0, -1, -1, 1, -1, 1, 0, 0, 1, 1, 0, 1, 1, -1, -1, 0, -1, 0, 0, 0, -1, 1, -1, 0, 1, 0, 0, 0, 0, 0, 0, 0, -1, 0, 0, 1, -1, 1, 0, 0, 1, 1, -1, 0, -1, -1, 0, -1, -1, 1, 1, 0, -1, 1, 0, 0, -1, 1, 1, 1, 0, 0, 1, -1, 1, 0, 1, -1, 0, -1, 1, -1, 0, -1, 1, 0, 1, 0, 0, -1, 0, 1, -1, -1, 0, 1, -1, 1, 0, 1, 1, 1, 0, 1, 1, 1, 0, 1, 1, 0, 0, 0, 0, -1, 0, -1, -1, 0, -1, 1, 0, -1, 0, 0, 0, 0, 0, 1, -1, 1, 1, 1, 1, 0, -1, 0, 1, -1, 0, 1, 0, 1, -1, 0, -1, 1, 1, 0, 0, 1, -1, 1, -1, -1, 0, 0, -1, -1, 0, 1, -1, -1, 1, 1, 1, -1, 0, -1, 0, 1, -1, 1, 0, 1, 1, 1, 1, 1, -1, 0, -1, 0, -1, 0, 1, -1, 0, 0, 1, 0, -1, 0, 0, 0, -1, 0, -1, 1, 0, 0, 0, -1, 1, -1, 1, 0, -1, 0, 1, 1, 0, -1, 0, 0, 1, 0, -1, 1, -1, 1, -1, 1, 1, 0, 0, 0, -1, 1, 1, 1, -1, -1, 0, -1, 1, -1, -1, 1, 1, 1, 0, -1, -1, 1, 0, 0, 1, 1, 0, -1, -1, -1, 0, 0, 1, -1, 1, 1, 1, 0, 0, -1, 1, 1, 1, 1, 1, 0, -1, -1, -1, 0, 0, 0, 1, 0, -1, 0, 0, -1, 0, 0, 0, -1, 1, -1, -1, 0, 1, -1, 1, 1, 0, 0, 1, 1, 0, 0, 0, -1, 1, -1, -1, -1, -1, 0, -1, 0, 1, 0, 0, 0, 1, 1, 0, 1, 1, 0, 0, -1, 0, 0, 1, 1, 0, -1, 0, 1, 1, 1, 1, -1, 1, 1, 1, 1, -1, 0, 1, 0, 1, 0, -1, -1, 0, 1, -1, 0, -1, 0, 1, -1, 0, 1, -1, 0, -1, 1, 1, 0, 0, -1, -1, 0, 0, 0, 0, 1, -1, 0, -1, -1, 1, 0, 1, 0, -1, -1, 0, -1, 1, 1, 1, 0, 0, 0, 0, -1, 0, 0, -1, -1, -1, 0, -1, -1, -1, 0, 1, 0, -1, 0, 0, 1, 0, 1, 1, 0, 0, 1, 1, 1, 0, 1, 1, -1, 1, 1, 1, -1, 0, 1, -1, 1, -1, 0, -1, -1, 0, 1, 0, 0, -1, -1, 0, 1, 0, 0, 1, 1, -1, 1, 1, -1, 1, -1, 1, 0, 1, 1, 0, -1, 0, 1, -1, -1, 1, 0, 1, -1, -1, 1, 1, -1, -1, -1, 1, -1, -1, 0, 0, 0, 1, 1, -1, -1, 1, 1, 1, 0, -1, 0, 1, 0, 0, -1, 0, -1, -1, 1, 0, 1, -1, 0, 0, -1, 1, 0, 1, 0, 1, -1, -1, 0, 1, -1, 0, 0, 0, 0, -1, 0, 0, 1, -1, 1, -1, 0, -1, 0, 0, 1, 0, 0, 1, -1, 1, -1, 1, 1, 1, -1, 0, -1, -1, 0, -1, 0, -1, 0, -1, -1, -1, 0, -1, 0, -1, -1, 1, 0, 1, 1, 0, -1, 0, 1, 1, 1, 0, -1, -1, -1, -1, 0, 1, 0, 1, -1, 1, 1, 1, -1, -1, 1, 0, 1, -1, -1, 1, 1, 1, -1, 1, 0, 0, 0, 1, 0, 0, 0, -1, 0, 1, 1, -1, -1, -1, 0, -1, -1, 0, -1, 1, 1, 1, -1, 0, 1, 1, -1, 1, 0, 0, 0, 1, 1, 1, 0, 0, -1, 0, 1, 0, 0, -1, 1, -1, 1, 0, 1, -1, 1, -1, 1, -1, -1, 1, -1, 0, 0, 1, -1, -1, 1, 1, -1, 0, 0, -1, -1, -1, 0, -1, 0, 0, 0, 1, -1, 1, -1, 0, -1, 0, 1, 1, 0, 0, -1, 0, 0, 1, 0, 0, 1, 0, 1, 1, 1, 1, 0, -1, 0, 1, -1, -1, 1, 1, 0, -1, 0, -1, 0, -1, 1, -1, -1, 1, 0, -1, 1, 1, -1, 1, 0, 1, 0, 0, -1, 1, 0, 1, 0, 0, 1, 1, 0, 0, 1, 1, 0, -1, 1, 0, 1, 0, 1, -1, -1, -1, 1, 1, 0, 1, 0, 0, 0, 1, -1, 0, 1, 1, 1, -1, 0, -1, 0, 0, 1, -1, 0, 1, -1, 0, 1, 1, -1, 0, 0, 0, 1, 0, -1, -1, -1, 1, -1, 1, -1, -1, 0, -1, 0, 1, -1, -1, 0, 1, 0, 0, 1, 1, -1, 0, -1, 0, 0, -1, 0, 1, 0, 1, 0, -1, 1, -1, -1, 1, -1, 0, 1, -1, -1, 1, 0, 0, 0, -1, 1, 1, 0, 0, -1, -1, -1, -1, 1, 0, -1, 1, -1, 0, 0, -1, 1, 1, -1, 0, 1, -1, 0, 0, 0, -1, 1, 1, 0, 1, 0, 0, 1, 0, -1, 0, 1, -1, 1, 1, 1, 1, 0, -1, -1, 1, 1, 1, 0, -1, -1, 0, -1, -1, -1, 0, 1, 0, 1, 1, 0, 0, 0, -1, 0, -1, -1, 0, 1, -1, 0, 1, 1, 0, 1, 0, 1, -1, 1, -1, 0, 0, 1, -1, 0, 1, -1, -1, -1, 0, 0, -1, -1, 0, -1, 0, 1, 1, -1, 1, -1, 1, 0, -1, -1, 1, 1, 1, -1, 0, 0, 1, 0, 0, 0, 1, 0, -1, 1, 1, -1, 1, 0, -1, 0, 0, -1, 1, 0, 1, 1, 1, -1, -1, 0, 0, 0, 0, 0, 1, 0, 0, -1, -1, 0, 0, 0, 0, -1, 0, -1, -1, -1, 1, 1, -1, -1, 1, 1, 0, 0, 1, 0, 1, 0, -1, 0, 1, 0, 0, -1, 1, 1, 0, 1, 1, 1, 1, 1, -1, 0, -1, 1, 0, 0, 1, 1, -1, 0, -1, 0, 1, -1, 1, -1, 0, 1, 0, -1, 0, 1, 1, 1, 1, -1, -1, -1, 1, 0, 1, 1, 0, 1, 0, 1, -1, 1, 0, 0, -1, 1, 0, 1, -1, -1, -1, 0, -1, -1, 0, -1, 0, -1, 0, 0, -1, 0, 1, -1, 1, 1, 1, -1, 1, 0, 0, 1, 0, 0, -1, 1, -1, 1, -1, 1, 0, 1, 1, 1, 1, 0, 0, 1, 0, 1, 0, -1, 1, -1, 0, 0, -1, -1, 0, -1, -1, 0, 0, 1, -1, 1, 0, -1, 0, 1, -1, 1, -1, 0, -1, 0, -1, 1, 0, 0, -1, 1, -1, -1, -1, 0, 1, 0, 0, -1, -1, -1, 0, 0, 0, 1, 0, 0, -1, 0, -1, 0, 1, -1, 0, 0, -1, 0, 1, 0, 0, 0, 0, -1, -1, 0, 0, -1, -1, 0, -1, 0, -1, -1, -1, 1, 1, 1, 1, 0, 1, 1, 1, 1, 0, 0, -1, 1, -1, -1, -1, 0, -1, 0, 1, 0, 1, 1, 0, -1, -1, -1, 0, -1, -1, -1, 0, 1, 0, -1, -1, -1, 0, -1, -1, -1, 0, 0, 1, 1, -1, 0, -1, 0, -1, 1, 0, 0, -1, -1, -1, 1, 1, 0, 1, 1, 1, 1, 1, -1, 0, -1, 1, 0, -1, 0, 0, 1, 0, 0, 1, 0, -1, -1, 1, 0, 0, 1, 1, -1, 0, 0, -1, 1, 1, 1, -1, -1, 1, 0, -1, 0, 1, 0, 0, 0, -1, 1, 0, 1, 0, 0, 0, -1, 0, 1, -1, 1, 1, -1, 0, -1, -1, -1, -1, -1, 0, 0, -1, -1, 0, 0, 0, 1, 1, 1, 0, 1, -1, -1, 1, 0, 1, 0, 0, 0, -1, 0, 1, 1, 0, 0, -1, -1, -1, -1, 0, -1, -1, 0, -1, 0, 1, 1, 0, 0, 0, 1, -1, 1, -1, 0, -1, -1, 0, 1, 0, -1, -1, 0, 0, -1, 0, 1, 0, -1, 0, 0, 0, 0, -1, -1, 1, -1, 1, -1, 0, 1, -1, 0, 1, 0, 1, 0, 1, -1, -1, 1, 1, 0, -1, -1, 0, 1, 1, 0, 0, 0, 0, -1, -1, 0, 0, 1, 1, -1, 0, -1, 0, -1, 1, -1, 0, 0, 1, -1, 0, 1, 0, 0, 1, -1, -1, 1, -1, 1, 1, 0, 1, 0, -1, -1, 1, -1, -1, 0, 1, -1, -1, -1, 0, 0, 1, -1, 1, -1, -1, -1, -1, -1, -1, 1, 1, -1, -1, 1, -1, -1, 0, -1, -1, 1, 1, 0, -1, 1, 1, 1, 0, 0, 1, 1, 0, 1, 1, 0, 0, -1, 0, 1, 1, -1, 0, -1, -1, -1, -1, 1, 1, 1, 0, -1, -1, 0, 1, 0, -1, 0, -1, 0, 0, -1, -1, 1, 1, 1, -1, 0, 1, 1, -1, 1, 0, 0, 0, 0, -1, 0, 0, 1, -1, 0, 0, -1, 1, -1, 0, -1, 1, -1, 0, 1, 0, -1, -1, -1, 1, 0, 0, 1, 0, 1, 0, 1, 1, 1, 1, 1, -1, -1, 1, 1, -1, 1, -1, 0, 0, -1, 1, 0, -1, -1, 0, 0, -1, -1, 1, -1, 1, -1, -1, -1, 1, 0, -1, 0, 1, 1, -1, -1, -1, 0, 0, -1, 0, 0, 1, 0, 0, 0, 1, 1, -1, 1, 1, 1, 1, -1, 1, 1, -1, -1, 0, -1, 0, -1, 0, 1, 1, 0, 0, 0, 1, 1, 0, 0, -1, -1, 0, -1, -1, 1, 0, 1, 1, 0, 1, 1, -1, -1, 0, 1, -1, -1, 0, 1, 1, 1, 1, 0, 1, -1, 1, 1, -1, -1, 0, -1, 1, -1, 1, -1, -1, 1, 1, -1, -1, 0, 1, -1, 0, 1, -1, 0, 0, 0, 1, 1, 1, 0, -1, 1, -1, -1, 0, 1, -1, 0, 0, 1, -1, 0, -1, -1, -1, 0, 0, -1, 1, -1, 1, 1, 1, -1, -1, 1, -1, 0, 0, 1, 1, -1, -1, -1, 1, 0, 1, 1, 1, -1, -1, -1, 0, -1, 0, -1, 1, 0, 0, -1, -1, 1, -1, -1, 1, -1, 0, -1, -1, 1, 0, 0, 0, 0, 0, 1, 0, -1, 0, -1, 1, 0, -1, 1, -1, 1, 0, 0, -1, -1, -1, 1, 1, -1, -1, -1, -1, 0, 0, -1, -1, 0, -1, -1, 1, 1, -1, -1, 1, 0, 0, 0, 0, -1, -1, 0, 1, -1, -1, -1, 1, 0, 1, 0, 0, 0, -1, -1, 1, -1, -1, -1, 0, -1, 0, 1, -1, 0, -1, 1, -1, 0, 0, 1, 1, -1, 1, 0, 1, 0, 0, 1, -1, 0, 0, -1, 0, -1, 1, 1, 1, 0, -1, -1, -1, 0, 0, -1, 1, 1, -1, 0, 1, 0, 0, -1, 1, -1, -1, 0, -1, 1, 1, 1, 0, -1, -1, 1, 1, 1, 0, 1, 1, -1, -1, 0, 1, 0, 1, 1, -1, 0, 1, -1, 1, 1, -1, 1, 0, 0, 0, 0, 0, -1, 0, 0, -1, 1, -1, 1, -1, 1, 1, 1, 0, 0, -1, 0, -1, 0, -1, 0, -1, 0, 0, -1, 1, 1, -1, 0, 1, -1, 1, 0, 1, 0, 1, 0, 1, -1, -1, -1, -1, 0, 1, 1, 0, -1, 0, -1, -1, -1, 1, -1, 0, 0, 0, 0, -1, 1, 0, 1, 0, -1, -1, 1, 1, -1, -1, 1, -1, -1, 0, 1, -1, 1, 0, 1, -1, -1, 1, 0, 1, -1, 1, -1, -1, -1, 0, 1, 0, -1, 1, 0, 1, -1, 0, 1, 1, -1, -1, 1, 0, 1, 0, 0, 1, -1, -1, -1, -1, -1, -1, -1, 1, -1, -1, 0, -1, 1, 1, 1, -1, 0, -1, 1, -1, -1, 1, 1, 0, -1, 0, 0, 1, 1, 0, 0, 1, 1, -1, 1, 1, 0, 1, 1, -1, 0, 0, 1, 0, 0, -1, 0, -1, -1, 0, 0, -1, -1, -1, 0, 1, 1, -1, 0, 1, 1, 0, 1, -1, -1, 0, 0, -1, -1, 0, 1, -1, 1, -1, -1, -1, -1, 1, -1, 0, 0, 0, 1, 0, 1, 0, -1, 1, 0, 0, -1, 0, -1, -1, 1, -1, 0, -1, 1, -1, 1, 0, -1, -1, -1, 1, 1, 1, -1, 1, 1, 1, -1, 0, 0, 0, 0, -1, -1, 0, -1, -1, 0, 0, 1, 1, 0, -1, 1, -1, -1, 1, -1, 1, 1, 1, 0, 1, 0, -1, -1, 0, -1, 1, 1, 0, 0, 0, -1, 1, -1, -1, -1, 0, 1, 0, 0, 1, 1, -1, 1, 1, 1, -1, 0, -1, -1, 0, 1, -1, 1, 0, -1, -1, 0, -1, 1, 1, 0, -1, -1, -1, 0, 0, 1, -1, -1, 1, 0, -1, -1, -1, 0, 1, 0, 0, 1, -1, 0, 0, -1, 0, 1, 0, -1, 0, 0, 0, 1, 1, 1, -1, 1, 0, 0, -1, -1, -1, 0, 1, 1, 1, -1, 1, 0, -1, -1, -1, 1, 0, -1, -1, 0, 1, 0, -1, 1, -1, 1, 0, -1, -1, 0, 0, -1, 1, -1, -1, -1, 1, -1, 0, 0, 0, -1, -1, 1, -1, 1, 0, 1, -1, -1, 1, 1, 1, -1, 1, 0, 0, 1, -1, 0, 0, 0, -1, 1, 1, 0, 0, 1, 0, 1, -1, 1, -1, 0, 1, 0, 0, 0, 0, -1, 0, 1, 1, 1, 1, -1, 1, 1, 0, 0, 0, -1, 1, 0, 1, 0, 1, -1, -1, 1, 0, 1, 0, -1, 1, -1, -1, -1, 0, -1, 0, -1, 1, 0, 0, 1, -1, 1, 1, 1, 0, 0, 0, -1, 1, 1, -1, 0, -1, 1, 1, 1, 0, 1, -1, 0, 0, 1, 1, 1, -1, 1, 1, 0, 0, -1, 0, 0, 1, -1, 1, 0, 1, 1, -1, -1, 1, 0, 0, 0, -1, 0, 0, -1, 1, 1, 1, -1, 1, 0, 1, 1, 0, 0, 0, -1, -1, 1, 1, 0, 0, 1, -1, 1, -1, 1, 1, -1, 0, 0, 1, 1, 0, -1, 1, 0, -1, 1, 0, 1, 0, -1, -1, 1, -1, -1, 0, -1, 0, 0, 0, -1, 1, 0, -1, -1, 0, 1, -1, 0, 1, 0, 0, 1, 0, 0, -1, 1, -1, -1, -1, 1, 0, 0, 1, 0, 0, -1, 0, 1, 1, 1, 0, -1, -1, -1, 0, 0, 0, 1, 0, 0, 0, -1, -1, 1, 0, 0, -1, 0, 1, -1, 1, -1, 0, 1, 0, -1, -1, 0, 1, -1, -1, 0, 0, 0, 0, 1, 1, 1, 1, 1, -1, 1, -1, 0, 1, 0, 1, -1, 0, 1, 1, -1, 1, -1, -1, 1, 0, 1, 1, -1, 1, -1, -1, 1, 1, -1, 1, 1, -1, -1, -1, 1, 0, 1, 0, 0, 0, -1, 1, 0, 1, 1, 1, -1, 1, -1, 1, -1, -1, -1, -1, -1, 0, -1, 0, -1, 1, -1, -1, 0, 0]\n"
          ]
        }
      ],
      "source": [
        "print(y_l2)"
      ]
    },
    {
      "cell_type": "code",
      "execution_count": 720,
      "metadata": {
        "colab": {
          "base_uri": "https://localhost:8080/"
        },
        "id": "boi3V2dgpu7G",
        "outputId": "99b14edc-3038-4ffd-c2fe-59fb03098d4b"
      },
      "outputs": [
        {
          "name": "stdout",
          "output_type": "stream",
          "text": [
            "[0, 0, 1, 0, 0, 1, 1, 1, 0, 0, 0, 1, 1, 1, 1, 1, 1, 1, 1, 1, 1, 1, 1, 0, 1, 0, 1, 1, 0, 0, 1, 1, 1, 0, 0, 1, 0, 0, 1, 1, 0, 0, 1, 0, 1, 0, 0, 0, 0, 1, 1, 0, 1, 1, 1, 1, 1, 1, 1, 1, 0, 0, 1, 1, 0, 0, 1, 1, 1, 1, 1, 0, 1, 1, 0, 0, 0, 1, 1, 0, 1, 1, 1, 1, 0, 1, 1, 1, 0, 1, 1, 1, 0, 1, 0, 0, 1, 0, 0, 1, 1, 1, 1, 1, 0, 1, 1, 1, 1, 1, 1, 1, 1, 0, 1, 1, 0, 0, 1, 1, 1, 0, 1, 1, 0, 0, 1, 0, 1, 0, 1, 1, 0, 1, 0, 1, 1, 0, 1, 1, 1, 1, 1, 1, 1, 1, 0, 0, 0, 1, 1, 0, 0, 1, 1, 0, 0, 1, 0, 1, 1, 0, 0, 0, 0, 1, 1, 1, 0, 1, 1, 1, 0, 1, 0, 0, 1, 1, 1, 0, 1, 0, 1, 0, 0, 0, 1, 1, 1, 1, 1, 1, 1, 0, 0, 1, 1, 1, 1, 1, 0, 1, 0, 0, 1, 0, 0, 1, 1, 1, 0, 1, 0, 1, 1, 1, 1, 1, 1, 1, 0, 0, 1, 1, 1, 1, 1, 0, 1, 0, 0, 0, 0, 0, 0, 1, 1, 0, 1, 1, 1, 1, 0, 1, 1, 1, 1, 1, 1, 0, 0, 1, 0, 0, 1, 0, 1, 0, 1, 0, 1, 0, 0, 1, 1, 0, 1, 0, 0, 1, 1, 1, 1, 1, 1, 1, 0, 1, 1, 1, 0, 1, 1, 1, 1, 1, 0, 1, 1, 1, 1, 1, 1, 1, 0, 0, 1, 0, 1, 1, 1, 1, 1, 1, 1, 1, 0, 1, 0, 1, 1, 1, 0, 1, 0, 1, 1, 1, 0, 1, 0, 1, 0, 0, 1, 0, 1, 1, 1, 0, 1, 0, 1, 1, 0, 0, 0, 1, 1, 1, 1, 0, 1, 1, 1, 1, 1, 1, 1, 1, 0, 1, 1, 1, 0, 0, 0, 1, 1, 1, 1, 1, 1, 1, 1, 1, 1, 1, 0, 1, 1, 0, 0, 1, 0, 1, 0, 0, 1, 1, 1, 1, 1, 1, 0, 0, 1, 1, 0, 1, 0, 1, 1, 0, 1, 1, 0, 1, 1, 1, 0, 0, 0, 0, 1, 0, 1, 1, 1, 1, 1, 1, 1, 1, 1, 0, 1, 1, 1, 1, 0, 1, 0, 1, 1, 1, 0, 1, 1, 1, 0, 1, 1, 1, 1, 1, 1, 0, 1, 1, 0, 1, 1, 1, 1, 1, 1, 1, 1, 1, 1, 1, 1, 0, 1, 1, 0, 1, 1, 1, 1, 0, 1, 0, 0, 1, 1, 1, 0, 1, 1, 0, 1, 1, 1, 1, 1, 0, 1, 1, 1, 0, 1, 0, 1, 1, 0, 1, 1, 1, 1, 1, 1, 1, 1, 1, 0, 0, 0, 0, 1, 1, 0, 1, 1, 1, 1, 1, 1, 1, 1, 0, 0, 0, 1, 0, 0, 1, 0, 1, 1, 1, 1, 1, 1, 1, 1, 0, 0, 1, 0, 1, 1, 1, 0, 1, 0, 1, 1, 1, 1, 1, 1, 1, 1, 1, 0, 1, 1, 1, 0, 1, 1, 1, 1, 1, 0, 1, 0, 0, 1, 0, 0, 1, 1, 1, 0, 1, 1, 1, 0, 1, 1, 1, 1, 1, 1, 0, 1, 1, 1, 0, 1, 0, 1, 0, 1, 0, 1, 1, 1, 1, 1, 0, 1, 1, 0, 0, 1, 1, 0, 1, 1, 1, 1, 1, 1, 1, 1, 1, 1, 1, 1, 1, 1, 1, 1, 0, 1, 0, 0, 1, 0, 1, 1, 0, 1, 1, 1, 1, 1, 1, 0, 1, 1, 1, 1, 1, 0, 1, 1, 0, 1, 1, 1, 1, 0, 1, 0, 1, 1, 1, 1, 1, 0, 1, 0, 0, 1, 1, 0, 0, 1, 1, 0, 0, 1, 1, 1, 0, 1, 0, 1, 1, 0, 1, 1, 1, 1, 1, 1, 1, 0, 1, 0, 1, 0, 1, 1, 0, 1, 1, 1, 1, 0, 1, 1, 1, 0, 1, 0, 1, 1, 1, 1, 0, 1, 0, 1, 1, 0, 1, 1, 1, 1, 0, 1, 1, 1, 1, 0, 1, 0, 1, 0, 1, 1, 1, 1, 1, 0, 1, 1, 1, 0, 0, 1, 0, 1, 0, 0, 1, 1, 1, 1, 0, 0, 1, 1, 1, 1, 1, 1, 0, 0, 0, 1, 1, 1, 0, 1, 1, 1, 1, 1, 0, 1, 1, 1, 1, 1, 1, 0, 0, 0, 1, 1, 1, 1, 1, 0, 1, 1, 0, 1, 1, 1, 0, 1, 0, 0, 1, 1, 0, 1, 1, 1, 1, 1, 1, 1, 1, 1, 0, 1, 0, 0, 0, 0, 1, 0, 1, 1, 1, 1, 1, 1, 1, 1, 1, 1, 1, 1, 0, 1, 1, 1, 1, 1, 0, 1, 1, 1, 1, 1, 0, 1, 1, 1, 1, 0, 1, 1, 1, 1, 1, 0, 0, 1, 1, 0, 1, 0, 1, 1, 0, 1, 1, 0, 1, 0, 1, 1, 1, 1, 0, 0, 1, 1, 1, 1, 1, 0, 1, 0, 0, 1, 1, 1, 1, 0, 0, 1, 0, 1, 1, 1, 1, 1, 1, 1, 0, 1, 1, 0, 0, 0, 1, 0, 0, 0, 1, 1, 1, 0, 1, 1, 1, 1, 1, 1, 1, 1, 1, 1, 1, 1, 1, 1, 0, 1, 1, 1, 0, 1, 1, 0, 1, 0, 1, 0, 0, 1, 1, 1, 1, 0, 0, 1, 1, 1, 1, 1, 1, 0, 1, 1, 0, 1, 0, 1, 1, 1, 1, 1, 0, 1, 1, 0, 0, 1, 1, 1, 0, 0, 1, 1, 0, 0, 0, 1, 0, 0, 1, 1, 1, 1, 1, 0, 0, 1, 1, 1, 1, 0, 1, 1, 1, 1, 0, 1, 0, 0, 1, 1, 1, 0, 1, 1, 0, 1, 1, 1, 1, 1, 0, 0, 1, 1, 0, 1, 1, 1, 1, 0, 1, 1, 1, 0, 1, 0, 1, 0, 1, 1, 1, 1, 1, 1, 0, 1, 0, 1, 1, 1, 0, 1, 0, 0, 1, 0, 1, 0, 1, 0, 0, 0, 1, 0, 1, 0, 0, 1, 1, 1, 1, 1, 0, 1, 1, 1, 1, 1, 0, 0, 0, 0, 1, 1, 1, 1, 0, 1, 1, 1, 0, 0, 1, 1, 1, 0, 0, 1, 1, 1, 0, 1, 1, 1, 1, 1, 1, 1, 1, 0, 1, 1, 1, 0, 0, 0, 1, 0, 0, 1, 0, 1, 1, 1, 0, 1, 1, 1, 0, 1, 1, 1, 1, 1, 1, 1, 1, 1, 0, 1, 1, 1, 1, 0, 1, 0, 1, 1, 1, 0, 1, 0, 1, 0, 0, 1, 0, 1, 1, 1, 0, 0, 1, 1, 0, 1, 1, 0, 0, 0, 1, 0, 1, 1, 1, 1, 0, 1, 0, 1, 0, 1, 1, 1, 1, 1, 0, 1, 1, 1, 1, 1, 1, 1, 1, 1, 1, 1, 1, 0, 1, 1, 0, 0, 1, 1, 1, 0, 1, 0, 1, 0, 1, 0, 0, 1, 1, 0, 1, 1, 0, 1, 1, 1, 1, 1, 0, 1, 1, 1, 1, 1, 1, 1, 1, 1, 1, 1, 1, 0, 1, 1, 1, 1, 1, 0, 0, 0, 1, 1, 1, 1, 1, 1, 1, 1, 0, 1, 1, 1, 1, 0, 1, 0, 1, 1, 1, 0, 1, 1, 0, 1, 1, 1, 0, 1, 1, 1, 1, 1, 0, 0, 0, 1, 0, 1, 0, 0, 1, 0, 1, 1, 0, 0, 1, 1, 1, 1, 1, 1, 0, 1, 0, 1, 1, 0, 1, 1, 1, 1, 1, 0, 1, 0, 0, 1, 0, 1, 1, 0, 0, 1, 1, 1, 1, 0, 1, 1, 1, 1, 0, 0, 0, 0, 1, 1, 0, 1, 0, 1, 1, 0, 1, 1, 0, 1, 1, 0, 1, 1, 1, 0, 1, 1, 1, 1, 1, 1, 1, 1, 0, 1, 1, 0, 1, 1, 1, 1, 1, 0, 0, 1, 1, 1, 1, 0, 0, 1, 0, 0, 0, 1, 1, 1, 1, 1, 1, 1, 1, 0, 1, 0, 0, 1, 1, 0, 1, 1, 1, 1, 1, 1, 1, 0, 1, 0, 1, 1, 1, 0, 1, 1, 0, 0, 0, 1, 1, 0, 0, 1, 0, 1, 1, 1, 0, 1, 0, 1, 1, 0, 0, 1, 1, 1, 0, 1, 1, 1, 1, 1, 1, 1, 1, 0, 1, 1, 0, 1, 1, 0, 1, 1, 0, 1, 1, 1, 1, 1, 0, 0, 1, 1, 1, 1, 1, 1, 1, 1, 0, 0, 1, 1, 1, 1, 0, 1, 0, 0, 0, 1, 1, 0, 0, 1, 1, 1, 1, 1, 1, 1, 1, 0, 1, 1, 1, 1, 0, 1, 1, 1, 1, 1, 1, 1, 1, 0, 1, 0, 1, 1, 1, 1, 1, 0, 1, 0, 1, 1, 0, 1, 0, 1, 1, 1, 0, 1, 1, 1, 1, 1, 0, 0, 0, 1, 1, 1, 1, 1, 1, 1, 1, 0, 1, 1, 1, 0, 1, 1, 1, 0, 0, 0, 1, 0, 0, 1, 0, 1, 0, 1, 1, 0, 1, 1, 0, 1, 1, 1, 0, 1, 1, 1, 1, 1, 1, 0, 1, 0, 1, 0, 1, 1, 1, 1, 1, 1, 1, 1, 1, 1, 1, 1, 0, 1, 0, 1, 1, 0, 0, 1, 0, 0, 1, 1, 1, 0, 1, 1, 0, 1, 1, 0, 1, 0, 1, 0, 1, 0, 1, 1, 1, 0, 1, 0, 0, 0, 1, 1, 1, 1, 0, 0, 0, 1, 1, 1, 1, 1, 1, 0, 1, 0, 1, 1, 0, 1, 1, 0, 1, 1, 1, 1, 1, 1, 0, 0, 1, 1, 0, 0, 1, 0, 1, 0, 0, 0, 1, 1, 1, 1, 1, 1, 1, 1, 1, 1, 1, 0, 1, 0, 0, 0, 1, 0, 1, 1, 1, 1, 1, 1, 0, 0, 0, 1, 0, 0, 0, 1, 1, 1, 0, 0, 0, 1, 0, 0, 0, 1, 1, 1, 1, 0, 1, 0, 1, 0, 1, 1, 1, 0, 0, 0, 1, 1, 1, 1, 1, 1, 1, 1, 0, 1, 0, 1, 1, 0, 1, 1, 1, 1, 1, 1, 1, 0, 0, 1, 1, 1, 1, 1, 0, 1, 1, 0, 1, 1, 1, 0, 0, 1, 1, 0, 1, 1, 1, 1, 1, 0, 1, 1, 1, 1, 1, 1, 0, 1, 1, 0, 1, 1, 0, 1, 0, 0, 0, 0, 0, 1, 1, 0, 0, 1, 1, 1, 1, 1, 1, 1, 1, 0, 0, 1, 1, 1, 1, 1, 1, 0, 1, 1, 1, 1, 1, 0, 0, 0, 0, 1, 0, 0, 1, 0, 1, 1, 1, 1, 1, 1, 1, 0, 1, 0, 1, 0, 0, 1, 1, 1, 0, 0, 1, 1, 0, 1, 1, 1, 0, 1, 1, 1, 1, 0, 0, 1, 0, 1, 0, 1, 1, 0, 1, 1, 1, 1, 1, 1, 0, 0, 1, 1, 1, 0, 0, 1, 1, 1, 1, 1, 1, 1, 0, 0, 1, 1, 1, 1, 0, 1, 0, 1, 0, 1, 0, 1, 1, 1, 0, 1, 1, 1, 1, 1, 0, 0, 1, 0, 1, 1, 1, 1, 1, 0, 0, 1, 0, 0, 1, 1, 0, 0, 0, 1, 1, 1, 0, 1, 0, 0, 0, 0, 0, 0, 1, 1, 0, 0, 1, 0, 0, 1, 0, 0, 1, 1, 1, 0, 1, 1, 1, 1, 1, 1, 1, 1, 1, 1, 1, 1, 0, 1, 1, 1, 0, 1, 0, 0, 0, 0, 1, 1, 1, 1, 0, 0, 1, 1, 1, 0, 1, 0, 1, 1, 0, 0, 1, 1, 1, 0, 1, 1, 1, 0, 1, 1, 1, 1, 1, 0, 1, 1, 1, 0, 1, 1, 0, 1, 0, 1, 0, 1, 0, 1, 1, 1, 0, 0, 0, 1, 1, 1, 1, 1, 1, 1, 1, 1, 1, 1, 1, 0, 0, 1, 1, 0, 1, 0, 1, 1, 0, 1, 1, 0, 0, 1, 1, 0, 0, 1, 0, 1, 0, 0, 0, 1, 1, 0, 1, 1, 1, 0, 0, 0, 1, 1, 0, 1, 1, 1, 1, 1, 1, 1, 1, 0, 1, 1, 1, 1, 0, 1, 1, 0, 0, 1, 0, 1, 0, 1, 1, 1, 1, 1, 1, 1, 1, 1, 1, 0, 0, 1, 0, 0, 1, 1, 1, 1, 1, 1, 1, 0, 0, 1, 1, 0, 0, 1, 1, 1, 1, 1, 1, 1, 0, 1, 1, 0, 0, 1, 0, 1, 0, 1, 0, 0, 1, 1, 0, 0, 1, 1, 0, 1, 1, 0, 1, 1, 1, 1, 1, 1, 1, 0, 1, 0, 0, 1, 1, 0, 1, 1, 1, 0, 1, 0, 0, 0, 1, 1, 0, 1, 0, 1, 1, 1, 0, 0, 1, 0, 1, 1, 1, 1, 0, 0, 0, 1, 1, 1, 1, 1, 0, 0, 0, 1, 0, 1, 0, 1, 1, 1, 0, 0, 1, 0, 0, 1, 0, 1, 0, 0, 1, 1, 1, 1, 1, 1, 1, 1, 0, 1, 0, 1, 1, 0, 1, 0, 1, 1, 1, 0, 0, 0, 1, 1, 0, 0, 0, 0, 1, 1, 0, 0, 1, 0, 0, 1, 1, 0, 0, 1, 1, 1, 1, 1, 0, 0, 1, 1, 0, 0, 0, 1, 1, 1, 1, 1, 1, 0, 0, 1, 0, 0, 0, 1, 0, 1, 1, 0, 1, 0, 1, 0, 1, 1, 1, 1, 0, 1, 1, 1, 1, 1, 1, 0, 1, 1, 0, 1, 0, 1, 1, 1, 1, 0, 0, 0, 1, 1, 0, 1, 1, 0, 1, 1, 1, 1, 0, 1, 0, 0, 1, 0, 1, 1, 1, 1, 0, 0, 1, 1, 1, 1, 1, 1, 0, 0, 1, 1, 1, 1, 1, 0, 1, 1, 0, 1, 1, 0, 1, 1, 1, 1, 1, 1, 0, 1, 1, 0, 1, 0, 1, 0, 1, 1, 1, 1, 1, 0, 1, 0, 1, 0, 1, 0, 1, 1, 0, 1, 1, 0, 1, 1, 0, 1, 1, 1, 1, 1, 1, 1, 0, 0, 0, 0, 1, 1, 1, 1, 0, 1, 0, 0, 0, 1, 0, 1, 1, 1, 1, 0, 1, 1, 1, 1, 0, 0, 1, 1, 0, 0, 1, 0, 0, 1, 1, 0, 1, 1, 1, 0, 0, 1, 1, 1, 0, 1, 0, 0, 0, 1, 1, 1, 0, 1, 1, 1, 0, 1, 1, 1, 0, 0, 1, 1, 1, 1, 1, 1, 0, 0, 0, 0, 0, 0, 0, 1, 0, 0, 1, 0, 1, 1, 1, 0, 1, 0, 1, 0, 0, 1, 1, 1, 0, 1, 1, 1, 1, 1, 1, 1, 1, 0, 1, 1, 1, 1, 1, 0, 1, 1, 1, 1, 1, 0, 1, 0, 0, 1, 1, 0, 0, 0, 1, 1, 1, 0, 1, 1, 1, 1, 1, 0, 0, 1, 1, 0, 0, 1, 1, 0, 1, 0, 0, 0, 0, 1, 0, 1, 1, 1, 1, 1, 1, 1, 0, 1, 1, 1, 0, 1, 0, 0, 1, 0, 1, 0, 1, 0, 1, 1, 0, 0, 0, 1, 1, 1, 0, 1, 1, 1, 0, 1, 1, 1, 1, 0, 0, 1, 0, 0, 1, 1, 1, 1, 1, 0, 1, 0, 0, 1, 0, 1, 1, 1, 1, 1, 1, 0, 0, 1, 0, 1, 1, 1, 1, 1, 0, 1, 0, 0, 0, 1, 1, 1, 1, 1, 1, 0, 1, 1, 1, 0, 1, 0, 0, 1, 1, 0, 1, 1, 0, 0, 1, 0, 1, 1, 1, 0, 0, 0, 1, 1, 1, 0, 0, 1, 1, 0, 0, 0, 1, 1, 1, 1, 1, 0, 1, 1, 0, 1, 1, 1, 0, 1, 1, 1, 1, 1, 1, 0, 1, 1, 1, 0, 0, 0, 1, 1, 1, 1, 0, 1, 1, 0, 0, 0, 1, 1, 0, 0, 1, 1, 1, 0, 1, 0, 1, 1, 0, 0, 1, 1, 0, 1, 0, 0, 0, 1, 0, 1, 1, 1, 0, 0, 1, 0, 1, 1, 1, 0, 0, 1, 1, 1, 0, 1, 1, 1, 1, 0, 1, 1, 1, 0, 1, 1, 1, 1, 1, 1, 1, 0, 1, 0, 1, 1, 1, 1, 1, 1, 0, 1, 1, 1, 1, 1, 0, 1, 1, 1, 1, 1, 0, 1, 1, 1, 1, 1, 0, 0, 1, 1, 1, 1, 0, 1, 0, 0, 0, 1, 0, 1, 0, 1, 1, 1, 1, 0, 1, 1, 1, 1, 1, 1, 0, 1, 1, 0, 1, 0, 1, 1, 1, 1, 1, 0, 1, 1, 1, 1, 1, 0, 1, 1, 1, 1, 0, 1, 1, 1, 0, 1, 1, 1, 1, 0, 0, 1, 1, 1, 1, 0, 1, 1, 0, 1, 1, 1, 0, 1, 1, 1, 1, 1, 1, 1, 0, 0, 1, 1, 1, 1, 1, 0, 1, 0, 1, 1, 0, 1, 1, 1, 1, 1, 0, 1, 1, 0, 1, 1, 1, 1, 0, 0, 1, 0, 0, 1, 0, 1, 1, 1, 0, 1, 1, 0, 0, 1, 1, 0, 1, 1, 1, 1, 1, 1, 1, 0, 1, 0, 0, 0, 1, 1, 1, 1, 1, 1, 0, 1, 1, 1, 1, 1, 0, 0, 0, 1, 1, 1, 1, 1, 1, 1, 0, 0, 1, 1, 1, 0, 1, 1, 0, 1, 0, 1, 1, 1, 0, 0, 1, 1, 0, 0, 1, 1, 1, 1, 1, 1, 1, 1, 1, 0, 1, 0, 1, 1, 1, 1, 0, 1, 1, 1, 0, 1, 0, 0, 1, 1, 1, 1, 0, 1, 0, 0, 1, 1, 0, 1, 1, 0, 0, 0, 1, 1, 1, 1, 1, 1, 0, 1, 1, 1, 1, 1, 0, 1, 0, 1, 0, 0, 0, 0, 0, 1, 0, 1, 0, 1, 0, 0, 1, 1]\n"
          ]
        }
      ],
      "source": [
        "print(y_test_l1)"
      ]
    },
    {
      "cell_type": "code",
      "execution_count": 721,
      "metadata": {
        "id": "01pIkFC6w1BJ"
      },
      "outputs": [],
      "source": [
        "model_l1 = load_model(directory + \"model_trial_1_level_1.h5\")"
      ]
    },
    {
      "cell_type": "code",
      "execution_count": 722,
      "metadata": {
        "id": "nNKY920YfEPO"
      },
      "outputs": [],
      "source": [
        "pred_l1 = model_l1.predict(X_test_l1)"
      ]
    },
    {
      "cell_type": "code",
      "execution_count": 723,
      "metadata": {
        "id": "DzgSDMkks44o"
      },
      "outputs": [],
      "source": [
        "# y_pred = np.argmax(pred_l1, axis = 1)\n",
        "# for i in range(2999):\n",
        "#   print(y_test_l1[i], y_pred[i])"
      ]
    },
    {
      "cell_type": "code",
      "execution_count": 724,
      "metadata": {
        "colab": {
          "base_uri": "https://localhost:8080/"
        },
        "id": "q31_lNxgfEPO",
        "outputId": "130af36f-d741-4de0-d989-99d7362a2517"
      },
      "outputs": [
        {
          "name": "stdout",
          "output_type": "stream",
          "text": [
            "Total no. of data samples in level 1: 2999\n",
            "No. of correct predictions: 2975\n",
            "Level 1 accuracy: 99.1997332444148\n",
            "No. of data samples sent to level 2 model: 1975\n"
          ]
        }
      ],
      "source": [
        "y_pred = np.argmax(pred_l1, axis = 1)\n",
        "correct_l1 = 0\n",
        "X_test_l2 = []\n",
        "y_test_l2 = []\n",
        "\n",
        "for i in range(len(y_test_l1)):\n",
        "  if y_pred[i]==y_test_l1[i]:\n",
        "    correct_l1 += 1\n",
        "\n",
        "  if y_pred[i]==1 and y_l2[i]!=-1:\n",
        "    X_test_l2.append(X_test_l1[i])\n",
        "    y_test_l2.append(y_l2[i])\n",
        "\n",
        "acc = (correct_l1/len(y_test_l1))*100\n",
        "print(f\"Total no. of data samples in level 1: {len(y)}\")\n",
        "print(f\"No. of correct predictions: {correct_l1}\")\n",
        "print(f\"Level 1 accuracy: {acc}\")\n",
        "print(f\"No. of data samples sent to level 2 model: {len(y_test_l2)}\")"
      ]
    },
    {
      "cell_type": "code",
      "execution_count": 725,
      "metadata": {
        "colab": {
          "base_uri": "https://localhost:8080/",
          "height": 0
        },
        "id": "P3Rlv4BKKe9-",
        "outputId": "242486fe-4da9-4127-e179-95a5de76d3d7"
      },
      "outputs": [
        {
          "name": "stdout",
          "output_type": "stream",
          "text": [
            "Precision: 1.000\n",
            "Recall: 0.988\n",
            "F1-Score: 0.994\n"
          ]
        },
        {
          "data": {
            "image/png": "[encoded data removed]",
            "text/plain": [
              "<Figure size 432x288 with 2 Axes>"
            ]
          },
          "metadata": {
            "needs_background": "light"
          },
          "output_type": "display_data"
        }
      ],
      "source": [
        "precision = precision_score(y_test_l1, y_pred, average='binary')\n",
        "print('Precision: %.3f' % precision)\n",
        "\n",
        "recall = recall_score(y_test_l1, y_pred, average='binary')\n",
        "print('Recall: %.3f' % recall)\n",
        "\n",
        "score = f1_score(y_test_l1, y_pred, average='binary')\n",
        "print('F1-Score: %.3f' % score)\n",
        "\n",
        "cm = confusion_matrix(y_test_l1, y_pred, labels=[0, 1])\n",
        "disp = ConfusionMatrixDisplay(confusion_matrix=cm, display_labels=[0, 1])\n",
        "disp.plot()\n",
        "plt.title('Acc.:'+str(round(acc, 3))+'   Prec.:'+str(round(precision, 3))+'   Recall:'+str(round(recall, 3))+'   F1:'+str(round(score, 3)))\n",
        "plt.savefig(directory[:-5]+\"screenshots/gen_test_cm_1_level_1.png\")\n",
        "plt.show()"
      ]
    },
    {
      "cell_type": "code",
      "execution_count": 726,
      "metadata": {
        "colab": {
          "base_uri": "https://localhost:8080/",
          "height": 0
        },
        "id": "MN43KC7mKezE",
        "outputId": "272a36a5-cf56-4175-a583-8511dad82c15"
      },
      "outputs": [
        {
          "data": {
            "image/png": "[encoded data removed]",
            "text/plain": [
              "<Figure size 432x288 with 1 Axes>"
            ]
          },
          "metadata": {
            "needs_background": "light"
          },
          "output_type": "display_data"
        }
      ],
      "source": [
        "pos_probs = pred_l1[:,1]\n",
        "fpr, tpr, _ = roc_curve(y_test_l1, pos_probs)\n",
        "plt.plot(fpr, tpr)\n",
        "plt.xlabel('False Positive Rate')\n",
        "plt.ylabel('True Positive Rate')\n",
        "plt.savefig(directory[:-5]+\"screenshots/gen_test_roc_1_level_1.png\")\n",
        "plt.show()"
      ]
    },
    {
      "cell_type": "markdown",
      "metadata": {
        "id": "GHzjiFipvWqi"
      },
      "source": [
        "## Level 2"
      ]
    },
    {
      "cell_type": "code",
      "execution_count": 727,
      "metadata": {
        "colab": {
          "base_uri": "https://localhost:8080/"
        },
        "id": "QIgYfCOofEPP",
        "outputId": "a6abb4fa-bf31-4c02-d8e0-9cdd14a1222b"
      },
      "outputs": [
        {
          "name": "stdout",
          "output_type": "stream",
          "text": [
            "(1975, 16384, 1)\n"
          ]
        }
      ],
      "source": [
        "X_test_l2 = np.array(X_test_l2)\n",
        "y_test_l2 = np.array(y_test_l2)\n",
        "print(X_test_l2.shape)"
      ]
    },
    {
      "cell_type": "code",
      "execution_count": 728,
      "metadata": {
        "id": "AUdwCsJLfEPP"
      },
      "outputs": [],
      "source": [
        "model2 = load_model(directory + \"model_trial_1_level_2.h5\")"
      ]
    },
    {
      "cell_type": "code",
      "execution_count": 729,
      "metadata": {
        "id": "dlZCrHf-fEPQ"
      },
      "outputs": [],
      "source": [
        "pred_l2 = model2.predict(X_test_l2)"
      ]
    },
    {
      "cell_type": "code",
      "execution_count": 730,
      "metadata": {
        "colab": {
          "base_uri": "https://localhost:8080/"
        },
        "id": "P5NSBSCPfEPQ",
        "outputId": "22870165-68c5-4fb0-e3eb-9e50ea2ca722"
      },
      "outputs": [
        {
          "name": "stdout",
          "output_type": "stream",
          "text": [
            "Total no. of data samples in level 2: 1975\n",
            "No. of correct predictions: 1975\n",
            "Level 2 accuracy: 100.0\n"
          ]
        }
      ],
      "source": [
        "y_pred = np.argmax(pred_l2, axis = 1)\n",
        "correct_l2 = 0\n",
        "\n",
        "for i in range(len(y_test_l2)):\n",
        "  if y_pred[i]==y_test_l2[i]:\n",
        "    correct_l2 += 1\n",
        "\n",
        "acc = (correct_l2/len(y_test_l2))*100\n",
        "print(f\"Total no. of data samples in level 2: {len(y_test_l2)}\")\n",
        "print(f\"No. of correct predictions: {correct_l2}\")\n",
        "print(f\"Level 2 accuracy: {acc}\")"
      ]
    },
    {
      "cell_type": "code",
      "execution_count": 731,
      "metadata": {
        "colab": {
          "base_uri": "https://localhost:8080/",
          "height": 0
        },
        "id": "UP1_HG2QLHFM",
        "outputId": "0166e14e-ae41-4a6a-fe85-38d7d3aab6a1"
      },
      "outputs": [
        {
          "name": "stdout",
          "output_type": "stream",
          "text": [
            "Precision: 1.000\n",
            "Recall: 1.000\n",
            "F1-Score: 1.000\n"
          ]
        },
        {
          "data": {
            "image/png": "[encoded data removed]",
            "text/plain": [
              "<Figure size 432x288 with 2 Axes>"
            ]
          },
          "metadata": {
            "needs_background": "light"
          },
          "output_type": "display_data"
        }
      ],
      "source": [
        "precision = precision_score(y_test_l2, y_pred, average='binary')\n",
        "print('Precision: %.3f' % precision)\n",
        "\n",
        "recall = recall_score(y_test_l2, y_pred, average='binary')\n",
        "print('Recall: %.3f' % recall)\n",
        "\n",
        "score = f1_score(y_test_l2, y_pred, average='binary')\n",
        "print('F1-Score: %.3f' % score)\n",
        "\n",
        "cm = confusion_matrix(y_test_l2, y_pred, labels=[0, 1])\n",
        "disp = ConfusionMatrixDisplay(confusion_matrix=cm, display_labels=[0, 1])\n",
        "disp.plot()\n",
        "plt.title('Acc.:'+str(round(acc, 3))+'   Prec.:'+str(round(precision, 3))+'   Recall:'+str(round(recall, 3))+'   F1:'+str(round(score, 3)))\n",
        "plt.savefig(directory[:-5]+\"screenshots/gen_test_cm_1_level_2.png\")\n",
        "plt.show()"
      ]
    },
    {
      "cell_type": "code",
      "execution_count": 732,
      "metadata": {
        "colab": {
          "base_uri": "https://localhost:8080/"
        },
        "id": "5WwOnRqSK2EN",
        "outputId": "7a6cc84b-85f6-41fd-cf60-e32f1a6c0788"
      },
      "outputs": [
        {
          "name": "stdout",
          "output_type": "stream",
          "text": [
            "[0 1 1 ... 1 0 0]\n"
          ]
        }
      ],
      "source": [
        "print(y_test_l2)"
      ]
    },
    {
      "cell_type": "code",
      "execution_count": 733,
      "metadata": {
        "colab": {
          "base_uri": "https://localhost:8080/",
          "height": 0
        },
        "id": "lY7LzIFKLHFP",
        "outputId": "7c9ceab9-0848-4a79-d76f-893e0b36eb91"
      },
      "outputs": [
        {
          "data": {
            "image/png": "[encoded data removed]",
            "text/plain": [
              "<Figure size 432x288 with 1 Axes>"
            ]
          },
          "metadata": {
            "needs_background": "light"
          },
          "output_type": "display_data"
        }
      ],
      "source": [
        "pos_probs = pred_l2[:,1]\n",
        "fpr, tpr, _ = roc_curve(y_test_l2, pos_probs)\n",
        "plt.plot(fpr, tpr)\n",
        "plt.xlabel('False Positive Rate')\n",
        "plt.ylabel('True Positive Rate')\n",
        "plt.savefig(directory[:-5]+\"screenshots/gen_test_roc_1_level_2.png\")\n",
        "plt.show()"
      ]
    },
    {
      "cell_type": "markdown",
      "metadata": {
        "id": "urP961IMK3eD"
      },
      "source": [
        "## Overall"
      ]
    },
    {
      "cell_type": "code",
      "execution_count": 734,
      "metadata": {
        "id": "75YdQGG8M0o8"
      },
      "outputs": [],
      "source": [
        "y_true = []\n",
        "probs = []\n",
        "tmp = []\n",
        "j = 0\n",
        "\n",
        "for i in range(len(y)):\n",
        "\n",
        "  if y[i, 0] == 0:\n",
        "    y_true.append(0)\n",
        "    tmp.append(pred_l1[i, 0])\n",
        "    tmp.append(pred_l1[i, 1])\n",
        "    tmp.append(pred_l1[i, 1])\n",
        "    probs.append(tmp)\n",
        "    tmp = []\n",
        "  \n",
        "  elif y[i, 1] == 0:\n",
        "    y_true.append(1)\n",
        "    tmp.append(pred_l1[i, 0])\n",
        "\n",
        "    if pred_l1[i, 0] > pred_l1[i, 1]:\n",
        "      tmp.append(pred_l1[i, 1])\n",
        "      tmp.append(pred_l1[i, 1])\n",
        "\n",
        "    else:\n",
        "      tmp.append(pred_l2[j, 0])\n",
        "      tmp.append(pred_l2[j, 1])\n",
        "      j += 1\n",
        "    \n",
        "    probs.append(tmp)\n",
        "    tmp = []\n",
        "\n",
        "  else:\n",
        "    y_true.append(2)\n",
        "    tmp.append(pred_l1[i, 0])\n",
        "\n",
        "    if pred_l1[i, 0] > pred_l1[i, 1]:\n",
        "      tmp.append(pred_l1[i, 1])\n",
        "      tmp.append(pred_l1[i, 1])\n",
        "\n",
        "    else:\n",
        "      tmp.append(pred_l2[j, 0])\n",
        "      tmp.append(pred_l2[j, 1])\n",
        "      j += 1\n",
        "\n",
        "    probs.append(tmp)\n",
        "    tmp = []\n",
        "\n",
        "probs = np.array(probs)\n",
        "y_pred = np.argmax(probs, axis = 1)"
      ]
    },
    {
      "cell_type": "code",
      "execution_count": 735,
      "metadata": {
        "colab": {
          "base_uri": "https://localhost:8080/",
          "height": 0
        },
        "id": "uV1jj-h3MDww",
        "outputId": "01899045-977e-440f-f7d2-9e611e6be5df"
      },
      "outputs": [
        {
          "name": "stdout",
          "output_type": "stream",
          "text": [
            "Accuracy: 0.992\n",
            "Precision: 0.992\n",
            "Recall: 0.992\n",
            "F1-Score: 0.992\n"
          ]
        },
        {
          "data": {
            "image/png": "[encoded data removed]",
            "text/plain": [
              "<Figure size 432x288 with 2 Axes>"
            ]
          },
          "metadata": {
            "needs_background": "light"
          },
          "output_type": "display_data"
        }
      ],
      "source": [
        "acc = accuracy_score(y_true, y_pred)\n",
        "print('Accuracy: %.3f' % acc)\n",
        "\n",
        "cm = confusion_matrix(y_true, y_pred, labels=[0, 1, 2])\n",
        "disp = ConfusionMatrixDisplay(confusion_matrix=cm, display_labels=[0, 1, 2])\n",
        "plt.show()\n",
        "\n",
        "precision = np.diag(cm) / np.sum(cm, axis = 0)\n",
        "precision = sum(precision)/3\n",
        "print('Precision: %.3f' % precision)\n",
        "\n",
        "recall = np.diag(cm) / np.sum(cm, axis = 1)\n",
        "recall = sum(recall)/3\n",
        "print('Recall: %.3f' % recall)\n",
        "\n",
        "score = (2*precision*recall)/(precision + recall)\n",
        "print('F1-Score: %.3f' % score)\n",
        "\n",
        "disp.plot()\n",
        "plt.title('Acc.:'+str(round(acc, 3))+'   Prec.:'+str(round(precision, 3))+'   Recall:'+str(round(recall, 3))+'   F1:'+str(round(score, 3)))\n",
        "plt.savefig(directory[:-5]+\"screenshots/gen_test_cm_1_overall.png\")\n",
        "plt.show()"
      ]
    },
    {
      "cell_type": "code",
      "execution_count": 736,
      "metadata": {
        "colab": {
          "base_uri": "https://localhost:8080/",
          "height": 0
        },
        "id": "_aXjO6_WMDw_",
        "outputId": "9ec34ec0-ffb7-465c-9976-b6cb4030e94d"
      },
      "outputs": [
        {
          "data": {
            "image/png": "[encoded data removed]",
            "text/plain": [
              "<Figure size 432x288 with 1 Axes>"
            ]
          },
          "metadata": {
            "needs_background": "light"
          },
          "output_type": "display_data"
        }
      ],
      "source": [
        "classes = [\"Noise\", \"BBH\", \"BNS\"]\n",
        "fpr = dict()\n",
        "tpr = dict()\n",
        "y_true = tf.keras.utils.to_categorical(y_true)\n",
        "\n",
        "for i in range(3):\n",
        "  fpr[i], tpr[i], _ = roc_curve(y_true[:, i], probs[:, i])\n",
        "\n",
        "colors = itertools.cycle([\"aqua\", \"darkorange\", \"cornflowerblue\"])\n",
        "for i, color in zip(range(3), colors):\n",
        "    plt.plot(\n",
        "        fpr[i],\n",
        "        tpr[i],\n",
        "        color=color,\n",
        "        label=f\"{classes[i]}\",\n",
        "    )\n",
        "\n",
        "plt.xlabel(\"False Positive Rate\")\n",
        "plt.ylabel(\"True Positive Rate\")\n",
        "plt.legend(loc=\"lower right\")\n",
        "plt.savefig(directory[:-5]+\"screenshots/gen_test_roc_1_overall.png\")\n",
        "plt.show()"
      ]
    },
    {
      "cell_type": "markdown",
      "metadata": {
        "id": "ImQHT-aaaTLh"
      },
      "source": [
        "# Testing on Real data"
      ]
    },
    {
      "cell_type": "markdown",
      "metadata": {
        "id": "ijRG871saTL8"
      },
      "source": [
        "## Level 1"
      ]
    },
    {
      "cell_type": "code",
      "execution_count": 737,
      "metadata": {
        "id": "mLnP3wc1aTL8"
      },
      "outputs": [],
      "source": [
        "noise_df = pd.read_csv(\"/content/gdrive/MyDrive/GW_SOP/Data/better_results/Noise.csv\", header=None)\n",
        "noise = noise_df.values.astype(float)\n",
        "\n",
        "\n",
        "data_BBH_df = pd.read_csv(\"/content/gdrive/MyDrive/GW_SOP/Data/better_results/Processed_BBH_Merged_original.csv\", header=None)\n",
        "data_BBH = data_BBH_df.values.astype(float)\n",
        "\n",
        "\n",
        "data_BNS_df = pd.read_csv(\"/content/gdrive/MyDrive/GW_SOP/Data/better_results/Processed_BNS_Merged_original.csv\", header=None)\n",
        "data_BNS = data_BNS_df.values.astype(float)"
      ]
    },
    {
      "cell_type": "code",
      "execution_count": 738,
      "metadata": {
        "colab": {
          "base_uri": "https://localhost:8080/"
        },
        "id": "Uj_E0oqIaTL9",
        "outputId": "ca92a9a9-0d36-4fec-bfd4-6641653b1607"
      },
      "outputs": [
        {
          "name": "stdout",
          "output_type": "stream",
          "text": [
            "(74, 16384)\n"
          ]
        }
      ],
      "source": [
        "X = np.concatenate((noise, data_BBH, data_BNS), axis=0)\n",
        "print(X.shape)"
      ]
    },
    {
      "cell_type": "code",
      "execution_count": 739,
      "metadata": {
        "colab": {
          "base_uri": "https://localhost:8080/"
        },
        "id": "4z4e6EYqaTL_",
        "outputId": "459516fb-6557-4070-f431-64b8cfb3a238"
      },
      "outputs": [
        {
          "name": "stdout",
          "output_type": "stream",
          "text": [
            "[[ -9.59329913   3.0796441    6.2065329  ...  19.55120984 -16.78024269\n",
            "   21.6448887 ]\n",
            " [ 10.74752082  -4.77219826   6.13033155 ...  10.74680815   5.01569204\n",
            "    2.98535439]\n",
            " [ -4.23504473   4.21567553   7.43734108 ...   6.39244242  -4.57442745\n",
            "   16.42978735]\n",
            " ...\n",
            " [  0.74529762   0.79148571   0.82671144 ...  -2.28289352  -2.2548838\n",
            "   -2.33924027]\n",
            " [ -1.30982823  -1.33978366  -1.34902886 ...  -0.60990832  -0.64637572\n",
            "   -0.58081613]\n",
            " [ -2.33834513  -2.33877564  -2.40204724 ...   3.76481395   3.6659587\n",
            "    3.58546225]]\n"
          ]
        }
      ],
      "source": [
        "X *= 1e19\n",
        "print(X)"
      ]
    },
    {
      "cell_type": "code",
      "execution_count": 740,
      "metadata": {
        "colab": {
          "base_uri": "https://localhost:8080/"
        },
        "id": "ngVqnkPmaTL_",
        "outputId": "f09ec6fb-3739-4d13-d514-efa923bb6426"
      },
      "outputs": [
        {
          "name": "stdout",
          "output_type": "stream",
          "text": [
            "[[ 0 -1]\n",
            " [ 0 -1]\n",
            " [ 0 -1]\n",
            " [ 0 -1]\n",
            " [ 0 -1]\n",
            " [ 0 -1]\n",
            " [ 0 -1]\n",
            " [ 0 -1]\n",
            " [ 0 -1]\n",
            " [ 0 -1]\n",
            " [ 0 -1]\n",
            " [ 0 -1]\n",
            " [ 0 -1]\n",
            " [ 0 -1]\n",
            " [ 0 -1]\n",
            " [ 0 -1]\n",
            " [ 0 -1]\n",
            " [ 0 -1]\n",
            " [ 0 -1]\n",
            " [ 0 -1]\n",
            " [ 0 -1]\n",
            " [ 0 -1]\n",
            " [ 0 -1]\n",
            " [ 0 -1]\n",
            " [ 1  0]\n",
            " [ 1  0]\n",
            " [ 1  0]\n",
            " [ 1  0]\n",
            " [ 1  0]\n",
            " [ 1  0]\n",
            " [ 1  0]\n",
            " [ 1  0]\n",
            " [ 1  0]\n",
            " [ 1  0]\n",
            " [ 1  0]\n",
            " [ 1  0]\n",
            " [ 1  0]\n",
            " [ 1  0]\n",
            " [ 1  0]\n",
            " [ 1  0]\n",
            " [ 1  0]\n",
            " [ 1  0]\n",
            " [ 1  0]\n",
            " [ 1  0]\n",
            " [ 1  0]\n",
            " [ 1  0]\n",
            " [ 1  0]\n",
            " [ 1  0]\n",
            " [ 1  0]\n",
            " [ 1  0]\n",
            " [ 1  0]\n",
            " [ 1  0]\n",
            " [ 1  0]\n",
            " [ 1  0]\n",
            " [ 1  0]\n",
            " [ 1  0]\n",
            " [ 1  0]\n",
            " [ 1  0]\n",
            " [ 1  0]\n",
            " [ 1  0]\n",
            " [ 1  0]\n",
            " [ 1  0]\n",
            " [ 1  0]\n",
            " [ 1  0]\n",
            " [ 1  0]\n",
            " [ 1  0]\n",
            " [ 1  0]\n",
            " [ 1  0]\n",
            " [ 1  0]\n",
            " [ 1  0]\n",
            " [ 1  0]\n",
            " [ 1  0]\n",
            " [ 1  1]\n",
            " [ 1  1]]\n"
          ]
        }
      ],
      "source": [
        "y = [[0, -1] for i in range(24)] + [[1, 0] for i in range(48)] + [[1, 1] for i in range(2)]\n",
        "y = np.array(y)\n",
        "print(y)"
      ]
    },
    {
      "cell_type": "code",
      "execution_count": 741,
      "metadata": {
        "colab": {
          "base_uri": "https://localhost:8080/"
        },
        "id": "48B69SX9aTMA",
        "outputId": "c3e06527-4722-441a-e539-0272e42cf420"
      },
      "outputs": [
        {
          "name": "stdout",
          "output_type": "stream",
          "text": [
            "(74, 16384, 1)\n"
          ]
        }
      ],
      "source": [
        "X_test_l1 = np.expand_dims(X, axis=-1)\n",
        "print(X_test_l1.shape)"
      ]
    },
    {
      "cell_type": "code",
      "execution_count": 742,
      "metadata": {
        "id": "6_jLpaOwaTMA"
      },
      "outputs": [],
      "source": [
        "y_l2 = [y[i,1] for i in range(len(y))]\n",
        "y_test_l1 = [y[i,0] for i in range(len(y))]"
      ]
    },
    {
      "cell_type": "code",
      "execution_count": 743,
      "metadata": {
        "colab": {
          "base_uri": "https://localhost:8080/"
        },
        "id": "a_R5DPm4aTMB",
        "outputId": "79e77559-d55c-4235-8398-5a70491b1497"
      },
      "outputs": [
        {
          "name": "stdout",
          "output_type": "stream",
          "text": [
            "[-1, -1, -1, -1, -1, -1, -1, -1, -1, -1, -1, -1, -1, -1, -1, -1, -1, -1, -1, -1, -1, -1, -1, -1, 0, 0, 0, 0, 0, 0, 0, 0, 0, 0, 0, 0, 0, 0, 0, 0, 0, 0, 0, 0, 0, 0, 0, 0, 0, 0, 0, 0, 0, 0, 0, 0, 0, 0, 0, 0, 0, 0, 0, 0, 0, 0, 0, 0, 0, 0, 0, 0, 1, 1]\n"
          ]
        }
      ],
      "source": [
        "print(y_l2)"
      ]
    },
    {
      "cell_type": "code",
      "execution_count": 744,
      "metadata": {
        "colab": {
          "base_uri": "https://localhost:8080/"
        },
        "id": "7JK6U4RFaTMB",
        "outputId": "ab9d4c9a-d0d1-48f5-defd-49d23663c0f5"
      },
      "outputs": [
        {
          "name": "stdout",
          "output_type": "stream",
          "text": [
            "[0, 0, 0, 0, 0, 0, 0, 0, 0, 0, 0, 0, 0, 0, 0, 0, 0, 0, 0, 0, 0, 0, 0, 0, 1, 1, 1, 1, 1, 1, 1, 1, 1, 1, 1, 1, 1, 1, 1, 1, 1, 1, 1, 1, 1, 1, 1, 1, 1, 1, 1, 1, 1, 1, 1, 1, 1, 1, 1, 1, 1, 1, 1, 1, 1, 1, 1, 1, 1, 1, 1, 1, 1, 1]\n"
          ]
        }
      ],
      "source": [
        "print(y_test_l1)"
      ]
    },
    {
      "cell_type": "code",
      "execution_count": 745,
      "metadata": {
        "id": "E0xpuwaHaTMB"
      },
      "outputs": [],
      "source": [
        "model_l1 = load_model(directory + \"model_trial_1_level_1.h5\")"
      ]
    },
    {
      "cell_type": "code",
      "execution_count": 746,
      "metadata": {
        "id": "kWcF6fqcaTMC"
      },
      "outputs": [],
      "source": [
        "pred_l1 = model_l1.predict(X_test_l1)"
      ]
    },
    {
      "cell_type": "code",
      "execution_count": 747,
      "metadata": {
        "id": "OGtHDTnxaTMC"
      },
      "outputs": [],
      "source": [
        "# y_pred = np.argmax(pred_l1, axis = 1)\n",
        "# for i in range(2999):\n",
        "#   print(y_test_l1[i], y_pred[i])"
      ]
    },
    {
      "cell_type": "code",
      "execution_count": 748,
      "metadata": {
        "colab": {
          "base_uri": "https://localhost:8080/"
        },
        "id": "FQ7ZDYpraTMC",
        "outputId": "89375bdd-2b62-486a-ad0a-4e9ee7855f6c"
      },
      "outputs": [
        {
          "name": "stdout",
          "output_type": "stream",
          "text": [
            "Total no. of data samples in level 1: 74\n",
            "No. of correct predictions: 74\n",
            "Level 1 accuracy: 100.0\n",
            "No. of data samples sent to level 2 model: 50\n"
          ]
        }
      ],
      "source": [
        "y_pred = np.argmax(pred_l1, axis = 1)\n",
        "correct_l1 = 0\n",
        "X_test_l2 = []\n",
        "y_test_l2 = []\n",
        "name = []\n",
        "\n",
        "for i in range(len(y_test_l1)):\n",
        "  if y_pred[i]==y_test_l1[i]:\n",
        "    correct_l1 += 1\n",
        "\n",
        "  if y_pred[i]==1 and y_l2[i]!=-1:\n",
        "    X_test_l2.append(X_test_l1[i])\n",
        "    y_test_l2.append(y_l2[i])\n",
        "\n",
        "    if i < 72:\n",
        "      name.append(bbh_events[i-24])\n",
        "\n",
        "    else:\n",
        "      name.append(bns_events[i-72])\n",
        "\n",
        "acc = (correct_l1/len(y_test_l1))*100\n",
        "print(f\"Total no. of data samples in level 1: {len(y)}\")\n",
        "print(f\"No. of correct predictions: {correct_l1}\")\n",
        "print(f\"Level 1 accuracy: {acc}\")\n",
        "print(f\"No. of data samples sent to level 2 model: {len(y_test_l2)}\")"
      ]
    },
    {
      "cell_type": "code",
      "execution_count": 749,
      "metadata": {
        "colab": {
          "base_uri": "https://localhost:8080/",
          "height": 0
        },
        "id": "wVaG4ST3aTMD",
        "outputId": "747b6fa8-7dcf-494f-9ef6-78809f555287"
      },
      "outputs": [
        {
          "name": "stdout",
          "output_type": "stream",
          "text": [
            "Precision: 1.000\n",
            "Recall: 1.000\n",
            "F1-Score: 1.000\n"
          ]
        },
        {
          "data": {
            "image/png": "[encoded data removed]",
            "text/plain": [
              "<Figure size 432x288 with 2 Axes>"
            ]
          },
          "metadata": {
            "needs_background": "light"
          },
          "output_type": "display_data"
        }
      ],
      "source": [
        "precision = precision_score(y_test_l1, y_pred, average='binary')\n",
        "print('Precision: %.3f' % precision)\n",
        "\n",
        "recall = recall_score(y_test_l1, y_pred, average='binary')\n",
        "print('Recall: %.3f' % recall)\n",
        "\n",
        "score = f1_score(y_test_l1, y_pred, average='binary')\n",
        "print('F1-Score: %.3f' % score)\n",
        "\n",
        "cm = confusion_matrix(y_test_l1, y_pred, labels=[0, 1])\n",
        "disp = ConfusionMatrixDisplay(confusion_matrix=cm, display_labels=[0, 1])\n",
        "disp.plot()\n",
        "plt.title('Acc.:'+str(round(acc, 3))+'   Prec.:'+str(round(precision, 3))+'   Recall:'+str(round(recall, 3))+'   F1:'+str(round(score, 3)))\n",
        "plt.savefig(directory[:-5]+\"screenshots/real_cm_1_level_1.png\")\n",
        "plt.show()"
      ]
    },
    {
      "cell_type": "code",
      "execution_count": 750,
      "metadata": {
        "colab": {
          "base_uri": "https://localhost:8080/",
          "height": 0
        },
        "id": "jl3DzUBlaTMD",
        "outputId": "822f3901-429b-42b5-90b0-969bc33838e5"
      },
      "outputs": [
        {
          "data": {
            "image/png": "[encoded data removed]",
            "text/plain": [
              "<Figure size 432x288 with 1 Axes>"
            ]
          },
          "metadata": {
            "needs_background": "light"
          },
          "output_type": "display_data"
        }
      ],
      "source": [
        "pos_probs = pred_l1[:,1]\n",
        "fpr, tpr, _ = roc_curve(y_test_l1, pos_probs)\n",
        "plt.plot(fpr, tpr)\n",
        "plt.xlabel('False Positive Rate')\n",
        "plt.ylabel('True Positive Rate')\n",
        "plt.savefig(directory[:-5]+\"screenshots/real_roc_1_level_1.png\")\n",
        "plt.show()"
      ]
    },
    {
      "cell_type": "code",
      "execution_count": 751,
      "metadata": {
        "id": "KCEWbMHaaTME"
      },
      "outputs": [],
      "source": [
        "classes = [\"Noise\", \"Signal\"]\n",
        "\n",
        "for i in range(len(X_test_l1)):\n",
        "  prob = list(pred_l1[i])\n",
        "  fig = plt.figure(figsize =(4.5,4.5))\n",
        "\n",
        "  plt.bar(classes, prob, color ='maroon',\n",
        "          width = 0.4)\n",
        "  \n",
        "  plt.ylabel(\"Probability\")\n",
        "\n",
        "  if i < 24:\n",
        "    plt.title(\"Noise\")\n",
        "  else:\n",
        "    plt.title(\"Signal\")\n",
        "\n",
        "  plt.savefig(directory + \"bar plots/Level 1/\" + str(i) + \".png\")\n",
        "  plt.close()\n",
        "  # plt.show()\n",
        "\n",
        "np.savetxt(directory + \"bar plots/Level 1/probabilities.csv\", pred_l1, delimiter=\",\")"
      ]
    },
    {
      "cell_type": "markdown",
      "metadata": {
        "id": "uQCcAfQpaTME"
      },
      "source": [
        "## Level 2"
      ]
    },
    {
      "cell_type": "code",
      "execution_count": 752,
      "metadata": {
        "colab": {
          "base_uri": "https://localhost:8080/"
        },
        "id": "d8WkdUPqaTMF",
        "outputId": "da693f1d-9529-404b-b860-26d1fa21d76b"
      },
      "outputs": [
        {
          "name": "stdout",
          "output_type": "stream",
          "text": [
            "(50, 16384, 1)\n"
          ]
        }
      ],
      "source": [
        "X_test_l2 = np.array(X_test_l2)\n",
        "y_test_l2 = np.array(y_test_l2)\n",
        "print(X_test_l2.shape)"
      ]
    },
    {
      "cell_type": "code",
      "execution_count": 753,
      "metadata": {
        "id": "N6YWytLKaTMF"
      },
      "outputs": [],
      "source": [
        "model2 = load_model(directory + \"model_trial_1_level_2.h5\")"
      ]
    },
    {
      "cell_type": "code",
      "execution_count": 754,
      "metadata": {
        "id": "PbfGxmaRaTMF"
      },
      "outputs": [],
      "source": [
        "pred_l2 = model2.predict(X_test_l2)"
      ]
    },
    {
      "cell_type": "code",
      "execution_count": 755,
      "metadata": {
        "colab": {
          "base_uri": "https://localhost:8080/"
        },
        "id": "RCNXyCZraTMF",
        "outputId": "ce353dec-fc47-4c5d-a187-691da0b6a2d5"
      },
      "outputs": [
        {
          "name": "stdout",
          "output_type": "stream",
          "text": [
            "Total no. of data samples in level 2: 50\n",
            "No. of correct predictions: 48\n",
            "Level 2 accuracy: 96.0\n"
          ]
        }
      ],
      "source": [
        "y_pred = np.argmax(pred_l2, axis = 1)\n",
        "correct_l2 = 0\n",
        "\n",
        "for i in range(len(y_test_l2)):\n",
        "  if y_pred[i]==y_test_l2[i]:\n",
        "    correct_l2 += 1\n",
        "\n",
        "acc = (correct_l2/len(y_test_l2))*100\n",
        "print(f\"Total no. of data samples in level 2: {len(y_test_l2)}\")\n",
        "print(f\"No. of correct predictions: {correct_l2}\")\n",
        "print(f\"Level 2 accuracy: {acc}\")"
      ]
    },
    {
      "cell_type": "code",
      "execution_count": 756,
      "metadata": {
        "colab": {
          "base_uri": "https://localhost:8080/",
          "height": 0
        },
        "id": "DOE19kx6aTMG",
        "outputId": "8087f6d6-3213-4dbe-ab96-5f80e795c79f"
      },
      "outputs": [
        {
          "name": "stdout",
          "output_type": "stream",
          "text": [
            "Precision: 0.000\n",
            "Recall: 0.000\n",
            "F1-Score: 0.000\n"
          ]
        },
        {
          "name": "stderr",
          "output_type": "stream",
          "text": [
            "/usr/local/lib/python3.7/dist-packages/sklearn/metrics/_classification.py:1318: UndefinedMetricWarning: Precision is ill-defined and being set to 0.0 due to no predicted samples. Use `zero_division` parameter to control this behavior.\n",
            "  _warn_prf(average, modifier, msg_start, len(result))\n"
          ]
        },
        {
          "data": {
            "image/png": "[encoded data removed]",
            "text/plain": [
              "<Figure size 432x288 with 2 Axes>"
            ]
          },
          "metadata": {
            "needs_background": "light"
          },
          "output_type": "display_data"
        }
      ],
      "source": [
        "precision = precision_score(y_test_l2, y_pred, average='binary')\n",
        "print('Precision: %.3f' % precision)\n",
        "\n",
        "recall = recall_score(y_test_l2, y_pred, average='binary')\n",
        "print('Recall: %.3f' % recall)\n",
        "\n",
        "score = f1_score(y_test_l2, y_pred, average='binary')\n",
        "print('F1-Score: %.3f' % score)\n",
        "\n",
        "cm = confusion_matrix(y_test_l2, y_pred, labels=[0, 1])\n",
        "disp = ConfusionMatrixDisplay(confusion_matrix=cm, display_labels=[0, 1])\n",
        "disp.plot()\n",
        "plt.title('Acc.:'+str(round(acc, 3))+'   Prec.:'+str(round(precision, 3))+'   Recall:'+str(round(recall, 3))+'   F1:'+str(round(score, 3)))\n",
        "plt.savefig(directory[:-5]+\"screenshots/real_cm_1_level_2.png\")\n",
        "plt.show()"
      ]
    },
    {
      "cell_type": "code",
      "execution_count": 757,
      "metadata": {
        "colab": {
          "base_uri": "https://localhost:8080/",
          "height": 0
        },
        "id": "NpxIiXYJaTMG",
        "outputId": "89421182-ec3b-4865-8794-5e41f3b8ddaa"
      },
      "outputs": [
        {
          "data": {
            "image/png": "[encoded data removed]",
            "text/plain": [
              "<Figure size 432x288 with 1 Axes>"
            ]
          },
          "metadata": {
            "needs_background": "light"
          },
          "output_type": "display_data"
        }
      ],
      "source": [
        "pos_probs = pred_l2[:,1]\n",
        "fpr, tpr, _ = roc_curve(y_test_l2, pos_probs)\n",
        "plt.plot(fpr, tpr)\n",
        "plt.xlabel('False Positive Rate')\n",
        "plt.ylabel('True Positive Rate')\n",
        "plt.savefig(directory[:-5]+\"screenshots/real_roc_1_level_2.png\")\n",
        "plt.show()"
      ]
    },
    {
      "cell_type": "code",
      "execution_count": 758,
      "metadata": {
        "id": "RImXxYU5aTMG"
      },
      "outputs": [],
      "source": [
        "classes = [\"BBH\", \"BNS\"]\n",
        "\n",
        "for i in range(len(X_test_l2)):\n",
        "  prob = list(pred_l2[i])\n",
        "  fig = plt.figure(figsize =(4.5,4.5))\n",
        "\n",
        "  plt.bar(classes, prob, color ='maroon',\n",
        "          width = 0.4)\n",
        "  \n",
        "  plt.ylabel(\"Probability\")\n",
        "\n",
        "  plt.title(name[i])\n",
        "\n",
        "  plt.savefig(directory + \"bar plots/Level 2/\" + str(i) + \".png\")\n",
        "  plt.close()\n",
        "  # plt.show()\n",
        "\n",
        "np.savetxt(directory + \"bar plots/Level 2/probabilities.csv\", pred_l2, delimiter=\",\")"
      ]
    },
    {
      "cell_type": "markdown",
      "metadata": {
        "id": "iMYGeW0UaTMH"
      },
      "source": [
        "## Overall"
      ]
    },
    {
      "cell_type": "code",
      "execution_count": 759,
      "metadata": {
        "id": "jLv9np9oaTMH"
      },
      "outputs": [],
      "source": [
        "y_true = []\n",
        "probs = []\n",
        "tmp = []\n",
        "j = 0\n",
        "\n",
        "for i in range(len(y)):\n",
        "\n",
        "  if y[i, 0] == 0:\n",
        "    y_true.append(0)\n",
        "    tmp.append(pred_l1[i, 0])\n",
        "    tmp.append(pred_l1[i, 1])\n",
        "    tmp.append(pred_l1[i, 1])\n",
        "    probs.append(tmp)\n",
        "    tmp = []\n",
        "  \n",
        "  elif y[i, 1] == 0:\n",
        "    y_true.append(1)\n",
        "    tmp.append(pred_l1[i, 0])\n",
        "\n",
        "    if pred_l1[i, 0] > pred_l1[i, 1]:\n",
        "      tmp.append(pred_l1[i, 1])\n",
        "      tmp.append(pred_l1[i, 1])\n",
        "\n",
        "    else:\n",
        "      tmp.append(pred_l2[j, 0])\n",
        "      tmp.append(pred_l2[j, 1])\n",
        "      j += 1\n",
        "    \n",
        "    probs.append(tmp)\n",
        "    tmp = []\n",
        "\n",
        "  else:\n",
        "    y_true.append(2)\n",
        "    tmp.append(pred_l1[i, 0])\n",
        "\n",
        "    if pred_l1[i, 0] > pred_l1[i, 1]:\n",
        "      tmp.append(pred_l1[i, 1])\n",
        "      tmp.append(pred_l1[i, 1])\n",
        "\n",
        "    else:\n",
        "      tmp.append(pred_l2[j, 0])\n",
        "      tmp.append(pred_l2[j, 1])\n",
        "      j += 1\n",
        "\n",
        "    probs.append(tmp)\n",
        "    tmp = []\n",
        "\n",
        "probs = np.array(probs)\n",
        "y_pred = np.argmax(probs, axis = 1)"
      ]
    },
    {
      "cell_type": "code",
      "execution_count": 760,
      "metadata": {
        "colab": {
          "base_uri": "https://localhost:8080/",
          "height": 0
        },
        "id": "hQy6YoYUaTMH",
        "outputId": "eb13a13b-5324-43b5-9750-fcb713e25d99"
      },
      "outputs": [
        {
          "name": "stdout",
          "output_type": "stream",
          "text": [
            "Accuracy: 0.973\n",
            "Precision: nan\n",
            "Recall: 0.667\n",
            "F1-Score: nan\n"
          ]
        },
        {
          "name": "stderr",
          "output_type": "stream",
          "text": [
            "/usr/local/lib/python3.7/dist-packages/ipykernel_launcher.py:8: RuntimeWarning: invalid value encountered in true_divide\n",
            "  \n"
          ]
        },
        {
          "data": {
            "image/png": "[encoded data removed]",
            "text/plain": [
              "<Figure size 432x288 with 2 Axes>"
            ]
          },
          "metadata": {
            "needs_background": "light"
          },
          "output_type": "display_data"
        }
      ],
      "source": [
        "acc = accuracy_score(y_true, y_pred)\n",
        "print('Accuracy: %.3f' % acc)\n",
        "\n",
        "cm = confusion_matrix(y_true, y_pred, labels=[0, 1, 2])\n",
        "disp = ConfusionMatrixDisplay(confusion_matrix=cm, display_labels=[0, 1, 2])\n",
        "plt.show()\n",
        "\n",
        "precision = np.diag(cm) / np.sum(cm, axis = 0)\n",
        "precision = sum(precision)/3\n",
        "print('Precision: %.3f' % precision)\n",
        "\n",
        "recall = np.diag(cm) / np.sum(cm, axis = 1)\n",
        "recall = sum(recall)/3\n",
        "print('Recall: %.3f' % recall)\n",
        "\n",
        "score = (2*precision*recall)/(precision + recall)\n",
        "print('F1-Score: %.3f' % score)\n",
        "\n",
        "disp.plot()\n",
        "plt.title('Acc.:'+str(round(acc, 3))+'   Prec.:'+str(round(precision, 3))+'   Recall:'+str(round(recall, 3))+'   F1:'+str(round(score, 3)))\n",
        "plt.savefig(directory[:-5]+\"screenshots/real_cm_1_overall.png\")\n",
        "plt.show()"
      ]
    },
    {
      "cell_type": "code",
      "execution_count": 761,
      "metadata": {
        "colab": {
          "base_uri": "https://localhost:8080/",
          "height": 0
        },
        "id": "OiIE_J1PaTMI",
        "outputId": "de15a5a3-67ee-440f-963a-0c44c122d460"
      },
      "outputs": [
        {
          "data": {
            "image/png": "[encoded data removed]",
            "text/plain": [
              "<Figure size 432x288 with 1 Axes>"
            ]
          },
          "metadata": {
            "needs_background": "light"
          },
          "output_type": "display_data"
        }
      ],
      "source": [
        "classes = [\"Noise\", \"BBH\", \"BNS\"]\n",
        "fpr = dict()\n",
        "tpr = dict()\n",
        "y_true = tf.keras.utils.to_categorical(y_true)\n",
        "\n",
        "for i in range(3):\n",
        "  fpr[i], tpr[i], _ = roc_curve(y_true[:, i], probs[:, i])\n",
        "\n",
        "colors = itertools.cycle([\"aqua\", \"darkorange\", \"cornflowerblue\"])\n",
        "for i, color in zip(range(3), colors):\n",
        "    plt.plot(\n",
        "        fpr[i],\n",
        "        tpr[i],\n",
        "        color=color,\n",
        "        label=f\"{classes[i]}\",\n",
        "    )\n",
        "\n",
        "plt.xlabel(\"False Positive Rate\")\n",
        "plt.ylabel(\"True Positive Rate\")\n",
        "plt.legend(loc=\"lower right\")\n",
        "plt.savefig(directory[:-5]+\"screenshots/real_roc_1_overall.png\")\n",
        "plt.show()"
      ]
    },
    {
      "cell_type": "code",
      "execution_count": 762,
      "metadata": {
        "id": "aBTfzf8DaTMI"
      },
      "outputs": [],
      "source": [
        "classes = [\"Noise\", \"BBH\", \"BNS\"]\n",
        "\n",
        "for i in range(len(X)):\n",
        "  prob = list(probs[i])\n",
        "  fig = plt.figure(figsize =(4.5,4.5))\n",
        "\n",
        "  plt.bar(classes, prob, color ='maroon',\n",
        "          width = 0.4)\n",
        "  \n",
        "  plt.ylabel(\"Probability\")\n",
        "\n",
        "  if i < 24:\n",
        "    plt.title(\"Noise\")\n",
        "\n",
        "  elif i < 72:\n",
        "    plt.title(bbh_events[i-24])\n",
        "\n",
        "  else:\n",
        "    plt.title(bns_events[i-72])\n",
        "\n",
        "  plt.savefig(directory + \"bar plots/Overall/\" + str(i) + \".png\")\n",
        "  plt.close()\n",
        "  # plt.show()\n",
        "\n",
        "np.savetxt(directory + \"bar plots/Overall/probabilities.csv\", probs, delimiter=\",\")"
      ]
    }
  ],
  "metadata": {
    "accelerator": "GPU",
    "colab": {
      "collapsed_sections": [],
      "name": "colab_multi_level_model_testing.ipynb",
      "provenance": []
    },
    "interpreter": {
      "hash": "8356d31dd4c50017c60d528a0c40a4935f9d791f54e24c10e32e3a312d5b6882"
    },
    "kernelspec": {
      "display_name": "Python 3.7.6 64-bit ('base': conda)",
      "language": "python",
      "name": "python3"
    },
    "language_info": {
      "codemirror_mode": {
        "name": "ipython",
        "version": 3
      },
      "file_extension": ".py",
      "mimetype": "text/x-python",
      "name": "python",
      "nbconvert_exporter": "python",
      "pygments_lexer": "ipython3",
      "version": "3.7.6"
    },
    "orig_nbformat": 4
  },
  "nbformat": 4,
  "nbformat_minor": 0
}
