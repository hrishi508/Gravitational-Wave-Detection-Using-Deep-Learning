{
  "cells": [
    {
      "cell_type": "code",
      "execution_count": 1,
      "metadata": {
        "colab": {
          "base_uri": "https://localhost:8080/"
        },
        "id": "Xs_OpQDIxDQW",
        "outputId": "0ef41494-cf65-448e-bb5b-9953865dc275"
      },
      "outputs": [
        {
          "output_type": "stream",
          "name": "stdout",
          "text": [
            "Mounted at /content/gdrive\n"
          ]
        }
      ],
      "source": [
        "from google.colab import drive\n",
        "drive.mount('/content/gdrive')"
      ]
    },
    {
      "cell_type": "code",
      "execution_count": 2,
      "metadata": {
        "id": "L5inbyEdw1A7"
      },
      "outputs": [],
      "source": [
        "import numpy as np\n",
        "import pandas as pd\n",
        "import matplotlib.pyplot as plt\n",
        "\n",
        "import tensorflow as tf\n",
        "from tensorflow.keras.models import Sequential\n",
        "from tensorflow.keras.layers import Dense, Conv1D, Dropout, MaxPool1D, ReLU, Flatten, BatchNormalization\n",
        "\n",
        "from sklearn.metrics import f1_score\n",
        "from sklearn.metrics import recall_score\n",
        "from sklearn.metrics import precision_score\n",
        "from sklearn.metrics import confusion_matrix\n",
        "from sklearn.preprocessing import StandardScaler\n",
        "from sklearn.model_selection import train_test_split\n",
        "from sklearn.metrics import confusion_matrix, ConfusionMatrixDisplay, roc_curve, accuracy_score"
      ]
    },
    {
      "cell_type": "code",
      "source": [
        "samples_per_class = 5000\n",
        "no_of_classes = 3\n",
        "directory = \"/content/gdrive/MyDrive/GW_SOP/Code/debugging/1D-CNN Multi-level/Signal_HIDDEN_in_strain_data/White_noise/Test 5/data/\""
      ],
      "metadata": {
        "id": "H32w5Jsy-zDP"
      },
      "execution_count": 3,
      "outputs": []
    },
    {
      "cell_type": "code",
      "execution_count": 4,
      "metadata": {
        "id": "MzCUizYfw1A_"
      },
      "outputs": [],
      "source": [
        "noise_df = pd.read_csv(directory + \"Final_Merged_Noise_Reduced_No_Abs.csv\", header=None)\n",
        "noise = noise_df.values.astype(float)\n",
        "\n",
        "data_BBH_df = pd.read_csv(directory + \"Final_BBH_Merged_Noise_Signal.csv\", header=None)\n",
        "data_BBH = data_BBH_df.values.astype(float)\n",
        "\n",
        "data_BNS_df = pd.read_csv(directory + \"Final_BNS_Merged_Noise_Signal.csv\", header=None)\n",
        "data_BNS = data_BNS_df.values.astype(float)"
      ]
    },
    {
      "cell_type": "code",
      "execution_count": 5,
      "metadata": {
        "colab": {
          "base_uri": "https://localhost:8080/"
        },
        "id": "kmYHuecJw1BB",
        "outputId": "9ce6135c-5cd2-4e6f-ba63-14811111d452"
      },
      "outputs": [
        {
          "output_type": "stream",
          "name": "stdout",
          "text": [
            "(15000, 16384)\n"
          ]
        }
      ],
      "source": [
        "X = np.concatenate((noise, data_BBH, data_BNS), axis=0)\n",
        "print(X.shape)"
      ]
    },
    {
      "cell_type": "code",
      "execution_count": 6,
      "metadata": {
        "id": "09WR_MVM-RId"
      },
      "outputs": [],
      "source": [
        "noise = None\n",
        "noise_df = None"
      ]
    },
    {
      "cell_type": "code",
      "source": [
        "X1 = np.concatenate((data_BBH, data_BNS), axis=0)\n",
        "print(X1.shape)"
      ],
      "metadata": {
        "colab": {
          "base_uri": "https://localhost:8080/"
        },
        "id": "7HTJ2R46Df2A",
        "outputId": "1d7c1095-19c8-4baf-f4d3-b8231ac2ffe7"
      },
      "execution_count": 7,
      "outputs": [
        {
          "output_type": "stream",
          "name": "stdout",
          "text": [
            "(10000, 16384)\n"
          ]
        }
      ]
    },
    {
      "cell_type": "code",
      "source": [
        "data_BBH = None\n",
        "data_BNS = None\n",
        "data_BBH_df = None\n",
        "data_BNS_df = None"
      ],
      "metadata": {
        "id": "d0zRVPlRDj7f"
      },
      "execution_count": 8,
      "outputs": []
    },
    {
      "cell_type": "code",
      "execution_count": 9,
      "metadata": {
        "colab": {
          "base_uri": "https://localhost:8080/"
        },
        "id": "J_dSmj6xw1BE",
        "outputId": "fd5cdcd8-8dbc-453d-b8aa-ce419d340946"
      },
      "outputs": [
        {
          "output_type": "stream",
          "name": "stdout",
          "text": [
            "[[1. 0.]\n",
            " [1. 0.]\n",
            " [1. 0.]\n",
            " ...\n",
            " [0. 1.]\n",
            " [0. 1.]\n",
            " [0. 1.]]\n",
            "[[1. 0.]\n",
            " [1. 0.]\n",
            " [1. 0.]\n",
            " ...\n",
            " [0. 1.]\n",
            " [0. 1.]\n",
            " [0. 1.]]\n"
          ]
        }
      ],
      "source": [
        "y = [0 for i in range(5000)] + [1 for i in range(10000)]\n",
        "y1 = [0 for i in range(5000)] + [1 for i in range(5000)] \n",
        "\n",
        "y = tf.keras.utils.to_categorical(y)\n",
        "y1 = tf.keras.utils.to_categorical(y1)\n",
        "print(y)\n",
        "print(y1)"
      ]
    },
    {
      "cell_type": "code",
      "source": [
        "X *= 1e19\n",
        "X1 *= 1e19\n",
        "\n",
        "print(X)\n",
        "print(X1)"
      ],
      "metadata": {
        "colab": {
          "base_uri": "https://localhost:8080/"
        },
        "id": "cj-vOEBr_Urs",
        "outputId": "dc02fe07-5a87-4033-ba60-fad13541deba"
      },
      "execution_count": 10,
      "outputs": [
        {
          "output_type": "stream",
          "name": "stdout",
          "text": [
            "[[  8.65473393  -4.32729419  -3.26525906 ...   0.83292354  -3.52991081\n",
            "   -7.59845202]\n",
            " [  3.87703089  -5.71315878  10.08591533 ...  10.26368544  17.05250296\n",
            "    0.23558046]\n",
            " [  4.72886208  13.64311238  -9.2637261  ... -11.81785379 -14.40443602\n",
            "   -7.49923767]\n",
            " ...\n",
            " [ -1.3682779    3.32131249  -1.45307157 ...  -3.26014527  14.0182199\n",
            "    2.99613838]\n",
            " [  3.97594363  -5.79762639   1.94107332 ...  -0.38252231  12.78447127\n",
            "    3.8614071 ]\n",
            " [-17.35933092   2.04440358  -9.3067805  ...   0.53713142  -5.9852591\n",
            "    1.00235778]]\n",
            "[[  6.05327494 -11.44179437   1.42285591 ...  11.57394988  -8.75094291\n",
            "   -1.29104887]\n",
            " [  1.91975345  -6.7081553   -8.86090063 ...   0.98500265  -9.60227719\n",
            "    1.35011481]\n",
            " [  0.34545884   7.40188999   4.37775549 ...  12.2019443    6.67455099\n",
            "  -10.10748794]\n",
            " ...\n",
            " [ -1.3682779    3.32131249  -1.45307157 ...  -3.26014527  14.0182199\n",
            "    2.99613838]\n",
            " [  3.97594363  -5.79762639   1.94107332 ...  -0.38252231  12.78447127\n",
            "    3.8614071 ]\n",
            " [-17.35933092   2.04440358  -9.3067805  ...   0.53713142  -5.9852591\n",
            "    1.00235778]]\n"
          ]
        }
      ]
    },
    {
      "cell_type": "code",
      "execution_count": 11,
      "metadata": {
        "colab": {
          "base_uri": "https://localhost:8080/"
        },
        "id": "8xirD0GDBQgm",
        "outputId": "c07bf5c9-84f2-4246-c744-bec13b7a66bb"
      },
      "outputs": [
        {
          "output_type": "stream",
          "name": "stdout",
          "text": [
            "(15000, 16384, 1)\n",
            "(10000, 16384, 1)\n"
          ]
        }
      ],
      "source": [
        "X = np.expand_dims(X, axis=-1)\n",
        "X1 = np.expand_dims(X1, axis=-1)\n",
        "\n",
        "print(X.shape)\n",
        "print(X1.shape)"
      ]
    },
    {
      "cell_type": "markdown",
      "source": [
        "# Level 1"
      ],
      "metadata": {
        "id": "di02HGQtAgBh"
      }
    },
    {
      "cell_type": "code",
      "source": [
        "X_train, X2, y_train, y2 = train_test_split(X, y, test_size=0.2)\n",
        "\n",
        "X_val, X_test, y_val, y_test = train_test_split(X2, y2, test_size=0.5)\n",
        "\n",
        "print(X_train.shape, y_train.shape)"
      ],
      "metadata": {
        "colab": {
          "base_uri": "https://localhost:8080/"
        },
        "id": "6-UlIw-p_jLh",
        "outputId": "56b47fec-d981-434a-9647-353a5ab6f234"
      },
      "execution_count": 12,
      "outputs": [
        {
          "output_type": "stream",
          "name": "stdout",
          "text": [
            "(12000, 16384, 1) (12000, 2)\n"
          ]
        }
      ]
    },
    {
      "cell_type": "code",
      "execution_count": 13,
      "metadata": {
        "id": "7mkfkCjG-RIg"
      },
      "outputs": [],
      "source": [
        "X = None\n",
        "y = None\n",
        "\n",
        "X2 = None\n",
        "y2 = None"
      ]
    },
    {
      "cell_type": "code",
      "execution_count": 17,
      "metadata": {
        "id": "01pIkFC6w1BJ"
      },
      "outputs": [],
      "source": [
        "model1 = Sequential()\n",
        "\n",
        "model1.add(Conv1D(16, 16, input_shape = (16384,1)))\n",
        "model1.add(MaxPool1D(4, 4))\n",
        "model1.add(ReLU())\n",
        "model1.add(Conv1D(32, 8))\n",
        "model1.add(MaxPool1D(4, 4))\n",
        "model1.add(ReLU())\n",
        "model1.add(Conv1D(64, 8))\n",
        "model1.add(MaxPool1D(4, 4))\n",
        "model1.add(ReLU())\n",
        "model1.add(Conv1D(128, 8))\n",
        "model1.add(MaxPool1D(4, 4))\n",
        "model1.add(ReLU())\n",
        "model1.add(Flatten())\n",
        "model1.add(Dense(64, activation='relu'))\n",
        "model1.add(Dense(2, activation='sigmoid'))\n",
        "\n",
        "model1.compile(optimizer=tf.keras.optimizers.Adam(0.001), loss='binary_crossentropy', metrics=['accuracy'])"
      ]
    },
    {
      "cell_type": "code",
      "execution_count": 18,
      "metadata": {
        "id": "-2PqOqLjw1BK"
      },
      "outputs": [],
      "source": [
        "# model.summary()"
      ]
    },
    {
      "cell_type": "code",
      "execution_count": 19,
      "metadata": {
        "colab": {
          "base_uri": "https://localhost:8080/"
        },
        "id": "qxVd6XC9w1BM",
        "outputId": "7cdce7b4-d9b7-41dd-9b34-ba3d158e2aec"
      },
      "outputs": [
        {
          "output_type": "stream",
          "name": "stdout",
          "text": [
            "Epoch 1/5\n",
            "94/94 [==============================] - 11s 105ms/step - loss: 0.6354 - accuracy: 0.6658 - val_loss: 0.6424 - val_accuracy: 0.5260\n",
            "Epoch 2/5\n",
            "94/94 [==============================] - 9s 99ms/step - loss: 0.5188 - accuracy: 0.6823 - val_loss: 0.4669 - val_accuracy: 0.6987\n",
            "Epoch 3/5\n",
            "94/94 [==============================] - 9s 100ms/step - loss: 0.1593 - accuracy: 0.9144 - val_loss: 0.0122 - val_accuracy: 0.9980\n",
            "Epoch 4/5\n",
            "94/94 [==============================] - 9s 100ms/step - loss: 0.0037 - accuracy: 0.9990 - val_loss: 0.0047 - val_accuracy: 0.9987\n",
            "Epoch 5/5\n",
            "94/94 [==============================] - 9s 101ms/step - loss: 0.0031 - accuracy: 0.9991 - val_loss: 0.0040 - val_accuracy: 0.9993\n"
          ]
        }
      ],
      "source": [
        "history = model1.fit(X_train, y_train, batch_size=128, epochs=5, validation_data=(X_val, y_val))"
      ]
    },
    {
      "cell_type": "code",
      "execution_count": 20,
      "metadata": {
        "colab": {
          "base_uri": "https://localhost:8080/",
          "height": 295
        },
        "outputId": "4cedb08f-7569-4c55-b912-b21ec98a6e71",
        "id": "OPkSMPC2AO-x"
      },
      "outputs": [
        {
          "output_type": "display_data",
          "data": {
            "image/png": "[encoded data removed]",
            "text/plain": [
              "<Figure size 936x288 with 2 Axes>"
            ]
          },
          "metadata": {
            "needs_background": "light"
          }
        }
      ],
      "source": [
        "acc = [0.] + history.history['accuracy']\n",
        "val_acc = [0.] + history.history['val_accuracy']\n",
        "loss = history.history['loss']\n",
        "val_loss = history.history['val_loss']\n",
        "\n",
        "plt.figure(figsize=(13, 4))\n",
        "plt.subplot(1, 2, 1)\n",
        "plt.plot(acc, label='Training Accuracy')\n",
        "plt.plot(val_acc, label='Validation Accuracy')\n",
        "plt.legend(loc='lower right')\n",
        "plt.ylabel('Accuracy')\n",
        "plt.ylim([min(plt.ylim()),1])\n",
        "plt.title('Training and Validation Accuracy')\n",
        "plt.xlabel('epoch')\n",
        "\n",
        "plt.subplot(1, 2, 2)\n",
        "plt.plot(loss, label='Training Loss')\n",
        "plt.plot(val_loss, label='Validation Loss')\n",
        "plt.legend(loc='upper right')\n",
        "plt.ylabel('Categorical Cross Entropy')\n",
        "plt.ylim([0,2])\n",
        "plt.title('Training and Validation Loss')\n",
        "plt.xlabel('epoch')\n",
        "plt.savefig(directory[:-5]+\"screenshots/graph_1_level_1.png\")\n",
        "plt.show()"
      ]
    },
    {
      "cell_type": "code",
      "execution_count": 21,
      "metadata": {
        "colab": {
          "base_uri": "https://localhost:8080/",
          "height": 364
        },
        "id": "rm720erevzt2",
        "outputId": "2fd193a8-22bb-42df-f1a2-fd1fdef8bbec"
      },
      "outputs": [
        {
          "output_type": "stream",
          "name": "stdout",
          "text": [
            "Accuracy: 1.000\n",
            "Precision: 1.000\n",
            "Recall: 1.000\n",
            "F1-Score: 1.000\n"
          ]
        },
        {
          "output_type": "display_data",
          "data": {
            "image/png": "[encoded data removed]",
            "text/plain": [
              "<Figure size 432x288 with 2 Axes>"
            ]
          },
          "metadata": {
            "needs_background": "light"
          }
        }
      ],
      "source": [
        "# Training Data\n",
        "\n",
        "pred = model1.predict(X_train)\n",
        "y_pred = np.argmax(pred, axis = 1)\n",
        "y_true = np.argmax(y_train, axis = 1)\n",
        "\n",
        "accuracy = accuracy_score(y_true, y_pred)\n",
        "print('Accuracy: %.3f' % accuracy)\n",
        "\n",
        "precision = precision_score(y_true, y_pred, average='binary')\n",
        "print('Precision: %.3f' % precision)\n",
        "\n",
        "recall = recall_score(y_true, y_pred, average='binary')\n",
        "print('Recall: %.3f' % recall)\n",
        "\n",
        "score = f1_score(y_true, y_pred, average='binary')\n",
        "print('F1-Score: %.3f' % score)\n",
        "\n",
        "cm = confusion_matrix(y_true, y_pred, labels=[0, 1])\n",
        "disp = ConfusionMatrixDisplay(confusion_matrix=cm, display_labels=[0, 1])\n",
        "disp.plot()\n",
        "plt.title('Acc.:'+str(round(accuracy, 3))+'   Prec.:'+str(round(precision, 3))+'   Recall:'+str(round(recall, 3))+'   F1:'+str(round(score, 3)))\n",
        "plt.savefig(directory[:-5]+\"screenshots/train_cm_1_level_1.png\")\n",
        "plt.show()"
      ]
    },
    {
      "cell_type": "code",
      "execution_count": 22,
      "metadata": {
        "colab": {
          "base_uri": "https://localhost:8080/",
          "height": 364
        },
        "id": "RTF4jCZCEG3Z",
        "outputId": "c5a4a74a-caf1-4166-e20a-749f87770fdb"
      },
      "outputs": [
        {
          "output_type": "stream",
          "name": "stdout",
          "text": [
            "Accuracy: 0.999\n",
            "Precision: 1.000\n",
            "Recall: 0.999\n",
            "F1-Score: 1.000\n"
          ]
        },
        {
          "output_type": "display_data",
          "data": {
            "image/png": "[encoded data removed]",
            "text/plain": [
              "<Figure size 432x288 with 2 Axes>"
            ]
          },
          "metadata": {
            "needs_background": "light"
          }
        }
      ],
      "source": [
        "# Validation Data\n",
        "\n",
        "pred = model1.predict(X_val)\n",
        "y_pred = np.argmax(pred, axis = 1)\n",
        "y_true = np.argmax(y_val, axis = 1)\n",
        "\n",
        "accuracy = accuracy_score(y_true, y_pred)\n",
        "print('Accuracy: %.3f' % accuracy)\n",
        "\n",
        "precision = precision_score(y_true, y_pred, average='binary')\n",
        "print('Precision: %.3f' % precision)\n",
        "\n",
        "recall = recall_score(y_true, y_pred, average='binary')\n",
        "print('Recall: %.3f' % recall)\n",
        "\n",
        "score = f1_score(y_true, y_pred, average='binary')\n",
        "print('F1-Score: %.3f' % score)\n",
        "\n",
        "cm = confusion_matrix(y_true, y_pred, labels=[0, 1])\n",
        "disp = ConfusionMatrixDisplay(confusion_matrix=cm, display_labels=[0, 1])\n",
        "disp.plot()\n",
        "plt.title('Acc.:'+str(round(accuracy, 3))+'   Prec.:'+str(round(precision, 3))+'   Recall:'+str(round(recall, 3))+'   F1:'+str(round(score, 3)))\n",
        "plt.savefig(directory[:-5]+\"screenshots/val_cm_1_level_1.png\")\n",
        "plt.show()"
      ]
    },
    {
      "cell_type": "code",
      "execution_count": 23,
      "metadata": {
        "colab": {
          "base_uri": "https://localhost:8080/",
          "height": 364
        },
        "id": "cv7Ycs1AEjSX",
        "outputId": "5aaa1c24-5b2d-4e21-9172-2edd0857382b"
      },
      "outputs": [
        {
          "output_type": "stream",
          "name": "stdout",
          "text": [
            "Accuracy: 0.999\n",
            "Precision: 0.999\n",
            "Recall: 1.000\n",
            "F1-Score: 0.999\n"
          ]
        },
        {
          "output_type": "display_data",
          "data": {
            "image/png": "[encoded data removed]",
            "text/plain": [
              "<Figure size 432x288 with 2 Axes>"
            ]
          },
          "metadata": {
            "needs_background": "light"
          }
        }
      ],
      "source": [
        "# Testing Data\n",
        "\n",
        "pred = model1.predict(X_test)\n",
        "y_pred = np.argmax(pred, axis = 1)\n",
        "y_true = np.argmax(y_test, axis = 1)\n",
        "\n",
        "accuracy = accuracy_score(y_true, y_pred)\n",
        "print('Accuracy: %.3f' % accuracy)\n",
        "\n",
        "precision = precision_score(y_true, y_pred, average='binary')\n",
        "print('Precision: %.3f' % precision)\n",
        "\n",
        "recall = recall_score(y_true, y_pred, average='binary')\n",
        "print('Recall: %.3f' % recall)\n",
        "\n",
        "score = f1_score(y_true, y_pred, average='binary')\n",
        "print('F1-Score: %.3f' % score)\n",
        "\n",
        "cm = confusion_matrix(y_true, y_pred, labels=[0, 1])\n",
        "disp = ConfusionMatrixDisplay(confusion_matrix=cm, display_labels=[0, 1])\n",
        "disp.plot()\n",
        "plt.title('Acc.:'+str(round(accuracy, 3))+'   Prec.:'+str(round(precision, 3))+'   Recall:'+str(round(recall, 3))+'   F1:'+str(round(score, 3)))\n",
        "plt.savefig(directory[:-5]+\"screenshots/test_cm_1_level_1.png\")\n",
        "plt.show()"
      ]
    },
    {
      "cell_type": "code",
      "execution_count": 24,
      "metadata": {
        "colab": {
          "base_uri": "https://localhost:8080/",
          "height": 279
        },
        "id": "34vPifbiIPCx",
        "outputId": "b67a27d7-be74-44be-dae9-c641ac631f1e"
      },
      "outputs": [
        {
          "output_type": "display_data",
          "data": {
            "image/png": "[encoded data removed]",
            "text/plain": [
              "<Figure size 432x288 with 1 Axes>"
            ]
          },
          "metadata": {
            "needs_background": "light"
          }
        }
      ],
      "source": [
        "# ROC for validation data\n",
        "\n",
        "pred = model1.predict(X_val)\n",
        "y_true = np.argmax(y_val, axis = 1)\n",
        "pos_probs = pred[:,1]\n",
        "fpr, tpr, _ = roc_curve(y_true, pos_probs)\n",
        "plt.plot(fpr, tpr)\n",
        "plt.xlabel('False Positive Rate')\n",
        "plt.ylabel('True Positive Rate')\n",
        "plt.savefig(directory[:-5]+\"screenshots/val_roc_1_level_1.png\")\n",
        "plt.show()"
      ]
    },
    {
      "cell_type": "code",
      "execution_count": 25,
      "metadata": {
        "colab": {
          "base_uri": "https://localhost:8080/",
          "height": 279
        },
        "id": "lwgqYoYOEtA5",
        "outputId": "ac3c05ec-61bb-473b-d6f6-b6e28760c8a8"
      },
      "outputs": [
        {
          "output_type": "display_data",
          "data": {
            "image/png": "[encoded data removed]",
            "text/plain": [
              "<Figure size 432x288 with 1 Axes>"
            ]
          },
          "metadata": {
            "needs_background": "light"
          }
        }
      ],
      "source": [
        "# ROC for testing data\n",
        "\n",
        "pred = model1.predict(X_test)\n",
        "y_true = np.argmax(y_test, axis = 1)\n",
        "pos_probs = pred[:,1]\n",
        "fpr, tpr, _ = roc_curve(y_true, pos_probs)\n",
        "plt.plot(fpr, tpr)\n",
        "plt.xlabel('False Positive Rate')\n",
        "plt.ylabel('True Positive Rate')\n",
        "plt.savefig(directory[:-5]+\"screenshots/test_roc_1_level_1.png\")\n",
        "plt.show()"
      ]
    },
    {
      "cell_type": "code",
      "execution_count": 26,
      "metadata": {
        "id": "2WJdR2oW-RIi"
      },
      "outputs": [],
      "source": [
        "# model1.save(directory + \"model_trial_1_level_1.h5\")"
      ]
    },
    {
      "cell_type": "code",
      "execution_count": 27,
      "metadata": {
        "id": "3KlCHWpG-RIi"
      },
      "outputs": [],
      "source": [
        "model1 = None\n",
        "X_train = None\n",
        "y_train = None\n",
        "X_test = None\n",
        "y_test = None"
      ]
    },
    {
      "cell_type": "markdown",
      "source": [
        "# Level 2"
      ],
      "metadata": {
        "id": "T-vCo_uDATO9"
      }
    },
    {
      "cell_type": "code",
      "source": [
        "X_train, X2, y_train, y2 = train_test_split(X1, y1, test_size=0.2)\n",
        "\n",
        "X_val, X_test, y_val, y_test = train_test_split(X2, y2, test_size=0.5)\n",
        "\n",
        "print(X_train.shape, y_train.shape)"
      ],
      "metadata": {
        "colab": {
          "base_uri": "https://localhost:8080/"
        },
        "id": "af1c8MkdBePf",
        "outputId": "7bf890e2-fdfd-43a5-8276-7d89b3b3ad21"
      },
      "execution_count": 28,
      "outputs": [
        {
          "output_type": "stream",
          "name": "stdout",
          "text": [
            "(8000, 16384, 1) (8000, 2)\n"
          ]
        }
      ]
    },
    {
      "cell_type": "code",
      "execution_count": 29,
      "metadata": {
        "id": "xRUshtV_BePj"
      },
      "outputs": [],
      "source": [
        "X1 = None\n",
        "y1 = None\n",
        "\n",
        "X2 = None\n",
        "y2 = None"
      ]
    },
    {
      "cell_type": "code",
      "execution_count": 30,
      "metadata": {
        "id": "P34_6BLRBePj"
      },
      "outputs": [],
      "source": [
        "model2 = Sequential()\n",
        "\n",
        "model2.add(Conv1D(16, 16, input_shape = (16384,1)))\n",
        "model2.add(MaxPool1D(4, 4))\n",
        "model2.add(ReLU())\n",
        "model2.add(Conv1D(32, 8))\n",
        "model2.add(MaxPool1D(4, 4))\n",
        "model2.add(ReLU())\n",
        "model2.add(Conv1D(64, 8))\n",
        "model2.add(MaxPool1D(4, 4))\n",
        "model2.add(ReLU())\n",
        "model2.add(Conv1D(128, 8))\n",
        "model2.add(MaxPool1D(4, 4))\n",
        "model2.add(ReLU())\n",
        "model2.add(Flatten())\n",
        "model2.add(Dense(64, activation='relu'))\n",
        "model2.add(Dense(2, activation='sigmoid'))\n",
        "\n",
        "model2.compile(optimizer=tf.keras.optimizers.Adam(0.001), loss='binary_crossentropy', metrics=['accuracy'])"
      ]
    },
    {
      "cell_type": "code",
      "execution_count": 31,
      "metadata": {
        "id": "8ZWZksi7BePk"
      },
      "outputs": [],
      "source": [
        "# model.summary()"
      ]
    },
    {
      "cell_type": "code",
      "execution_count": 32,
      "metadata": {
        "colab": {
          "base_uri": "https://localhost:8080/"
        },
        "id": "2Xw_ms0YBePm",
        "outputId": "fb1cf1ff-ba8c-406e-cee2-78b601f9e0ed"
      },
      "outputs": [
        {
          "output_type": "stream",
          "name": "stdout",
          "text": [
            "Epoch 1/5\n",
            "63/63 [==============================] - 9s 125ms/step - loss: 0.9390 - accuracy: 0.5029 - val_loss: 0.6925 - val_accuracy: 0.5270\n",
            "Epoch 2/5\n",
            "63/63 [==============================] - 7s 106ms/step - loss: 0.6891 - accuracy: 0.5610 - val_loss: 0.6804 - val_accuracy: 0.5250\n",
            "Epoch 3/5\n",
            "63/63 [==============================] - 6s 101ms/step - loss: 0.5476 - accuracy: 0.7731 - val_loss: 0.1925 - val_accuracy: 0.9440\n",
            "Epoch 4/5\n",
            "63/63 [==============================] - 6s 100ms/step - loss: 0.0651 - accuracy: 0.9824 - val_loss: 0.0049 - val_accuracy: 1.0000\n",
            "Epoch 5/5\n",
            "63/63 [==============================] - 6s 100ms/step - loss: 0.0032 - accuracy: 0.9995 - val_loss: 6.5940e-04 - val_accuracy: 1.0000\n"
          ]
        }
      ],
      "source": [
        "history = model2.fit(X_train, y_train, batch_size=128, epochs=5, validation_data=(X_val, y_val))"
      ]
    },
    {
      "cell_type": "code",
      "execution_count": 33,
      "metadata": {
        "id": "YGkAAlc9BePm",
        "colab": {
          "base_uri": "https://localhost:8080/",
          "height": 295
        },
        "outputId": "09bcaa00-72ee-411a-e2b7-4e5c19b6a42c"
      },
      "outputs": [
        {
          "output_type": "display_data",
          "data": {
            "image/png": "[encoded data removed]",
            "text/plain": [
              "<Figure size 936x288 with 2 Axes>"
            ]
          },
          "metadata": {
            "needs_background": "light"
          }
        }
      ],
      "source": [
        "acc = [0.] + history.history['accuracy']\n",
        "val_acc = [0.] + history.history['val_accuracy']\n",
        "loss = history.history['loss']\n",
        "val_loss = history.history['val_loss']\n",
        "\n",
        "plt.figure(figsize=(13, 4))\n",
        "plt.subplot(1, 2, 1)\n",
        "plt.plot(acc, label='Training Accuracy')\n",
        "plt.plot(val_acc, label='Validation Accuracy')\n",
        "plt.legend(loc='lower right')\n",
        "plt.ylabel('Accuracy')\n",
        "plt.ylim([min(plt.ylim()),1])\n",
        "plt.title('Training and Validation Accuracy')\n",
        "plt.xlabel('epoch')\n",
        "\n",
        "plt.subplot(1, 2, 2)\n",
        "plt.plot(loss, label='Training Loss')\n",
        "plt.plot(val_loss, label='Validation Loss')\n",
        "plt.legend(loc='upper right')\n",
        "plt.ylabel('Categorical Cross Entropy')\n",
        "plt.ylim([0,2])\n",
        "plt.title('Training and Validation Loss')\n",
        "plt.xlabel('epoch')\n",
        "plt.savefig(directory[:-5]+\"screenshots/graph_1_level_2.png\")\n",
        "plt.show()"
      ]
    },
    {
      "cell_type": "code",
      "execution_count": 34,
      "metadata": {
        "id": "0mGalfhGBePo",
        "colab": {
          "base_uri": "https://localhost:8080/",
          "height": 364
        },
        "outputId": "669f42e9-c259-4657-fc03-40f8f94e9746"
      },
      "outputs": [
        {
          "output_type": "stream",
          "name": "stdout",
          "text": [
            "Accuracy: 1.000\n",
            "Precision: 1.000\n",
            "Recall: 1.000\n",
            "F1-Score: 1.000\n"
          ]
        },
        {
          "output_type": "display_data",
          "data": {
            "image/png": "[encoded data removed]",
            "text/plain": [
              "<Figure size 432x288 with 2 Axes>"
            ]
          },
          "metadata": {
            "needs_background": "light"
          }
        }
      ],
      "source": [
        "# Training Data\n",
        "\n",
        "pred = model2.predict(X_train)\n",
        "y_pred = np.argmax(pred, axis = 1)\n",
        "y_true = np.argmax(y_train, axis = 1)\n",
        "\n",
        "accuracy = accuracy_score(y_true, y_pred)\n",
        "print('Accuracy: %.3f' % accuracy)\n",
        "\n",
        "precision = precision_score(y_true, y_pred, average='binary')\n",
        "print('Precision: %.3f' % precision)\n",
        "\n",
        "recall = recall_score(y_true, y_pred, average='binary')\n",
        "print('Recall: %.3f' % recall)\n",
        "\n",
        "score = f1_score(y_true, y_pred, average='binary')\n",
        "print('F1-Score: %.3f' % score)\n",
        "\n",
        "cm = confusion_matrix(y_true, y_pred, labels=[0, 1])\n",
        "disp = ConfusionMatrixDisplay(confusion_matrix=cm, display_labels=[0, 1])\n",
        "disp.plot()\n",
        "plt.title('Acc.:'+str(round(accuracy, 3))+'   Prec.:'+str(round(precision, 3))+'   Recall:'+str(round(recall, 3))+'   F1:'+str(round(score, 3)))\n",
        "plt.savefig(directory[:-5]+\"screenshots/train_cm_1_level_2.png\")\n",
        "plt.show()"
      ]
    },
    {
      "cell_type": "code",
      "execution_count": 35,
      "metadata": {
        "id": "-13PUBU5BePp",
        "colab": {
          "base_uri": "https://localhost:8080/",
          "height": 364
        },
        "outputId": "6d34e0bc-49a4-4d58-8794-6fdbde23cd54"
      },
      "outputs": [
        {
          "output_type": "stream",
          "name": "stdout",
          "text": [
            "Accuracy: 1.000\n",
            "Precision: 1.000\n",
            "Recall: 1.000\n",
            "F1-Score: 1.000\n"
          ]
        },
        {
          "output_type": "display_data",
          "data": {
            "image/png": "[encoded data removed]",
            "text/plain": [
              "<Figure size 432x288 with 2 Axes>"
            ]
          },
          "metadata": {
            "needs_background": "light"
          }
        }
      ],
      "source": [
        "# Validation Data\n",
        "\n",
        "pred = model2.predict(X_val)\n",
        "y_pred = np.argmax(pred, axis = 1)\n",
        "y_true = np.argmax(y_val, axis = 1)\n",
        "\n",
        "accuracy = accuracy_score(y_true, y_pred)\n",
        "print('Accuracy: %.3f' % accuracy)\n",
        "\n",
        "precision = precision_score(y_true, y_pred, average='binary')\n",
        "print('Precision: %.3f' % precision)\n",
        "\n",
        "recall = recall_score(y_true, y_pred, average='binary')\n",
        "print('Recall: %.3f' % recall)\n",
        "\n",
        "score = f1_score(y_true, y_pred, average='binary')\n",
        "print('F1-Score: %.3f' % score)\n",
        "\n",
        "cm = confusion_matrix(y_true, y_pred, labels=[0, 1])\n",
        "disp = ConfusionMatrixDisplay(confusion_matrix=cm, display_labels=[0, 1])\n",
        "disp.plot()\n",
        "plt.title('Acc.:'+str(round(accuracy, 3))+'   Prec.:'+str(round(precision, 3))+'   Recall:'+str(round(recall, 3))+'   F1:'+str(round(score, 3)))\n",
        "plt.savefig(directory[:-5]+\"screenshots/val_cm_1_level_2.png\")\n",
        "plt.show()"
      ]
    },
    {
      "cell_type": "code",
      "execution_count": 36,
      "metadata": {
        "id": "r1Y_8NrwBePq",
        "colab": {
          "base_uri": "https://localhost:8080/",
          "height": 364
        },
        "outputId": "d924478d-1483-4e05-ed0f-0b4f22397556"
      },
      "outputs": [
        {
          "output_type": "stream",
          "name": "stdout",
          "text": [
            "Accuracy: 1.000\n",
            "Precision: 1.000\n",
            "Recall: 1.000\n",
            "F1-Score: 1.000\n"
          ]
        },
        {
          "output_type": "display_data",
          "data": {
            "image/png": "[encoded data removed]",
            "text/plain": [
              "<Figure size 432x288 with 2 Axes>"
            ]
          },
          "metadata": {
            "needs_background": "light"
          }
        }
      ],
      "source": [
        "# Testing Data\n",
        "\n",
        "pred = model2.predict(X_test)\n",
        "y_pred = np.argmax(pred, axis = 1)\n",
        "y_true = np.argmax(y_test, axis = 1)\n",
        "\n",
        "accuracy = accuracy_score(y_true, y_pred)\n",
        "print('Accuracy: %.3f' % accuracy)\n",
        "\n",
        "precision = precision_score(y_true, y_pred, average='binary')\n",
        "print('Precision: %.3f' % precision)\n",
        "\n",
        "recall = recall_score(y_true, y_pred, average='binary')\n",
        "print('Recall: %.3f' % recall)\n",
        "\n",
        "score = f1_score(y_true, y_pred, average='binary')\n",
        "print('F1-Score: %.3f' % score)\n",
        "\n",
        "cm = confusion_matrix(y_true, y_pred, labels=[0, 1])\n",
        "disp = ConfusionMatrixDisplay(confusion_matrix=cm, display_labels=[0, 1])\n",
        "disp.plot()\n",
        "plt.title('Acc.:'+str(round(accuracy, 3))+'   Prec.:'+str(round(precision, 3))+'   Recall:'+str(round(recall, 3))+'   F1:'+str(round(score, 3)))\n",
        "plt.savefig(directory[:-5]+\"screenshots/test_cm_1_level_2.png\")\n",
        "plt.show()"
      ]
    },
    {
      "cell_type": "code",
      "execution_count": 37,
      "metadata": {
        "id": "qYywz0xYBePr",
        "colab": {
          "base_uri": "https://localhost:8080/",
          "height": 279
        },
        "outputId": "d8006d5e-6933-4f8e-feca-debe14404cd7"
      },
      "outputs": [
        {
          "output_type": "display_data",
          "data": {
            "image/png": "[encoded data removed]",
            "text/plain": [
              "<Figure size 432x288 with 1 Axes>"
            ]
          },
          "metadata": {
            "needs_background": "light"
          }
        }
      ],
      "source": [
        "# ROC for validation data\n",
        "\n",
        "pred = model2.predict(X_val)\n",
        "y_true = np.argmax(y_val, axis = 1)\n",
        "pos_probs = pred[:,1]\n",
        "fpr, tpr, _ = roc_curve(y_true, pos_probs)\n",
        "plt.plot(fpr, tpr)\n",
        "plt.xlabel('False Positive Rate')\n",
        "plt.ylabel('True Positive Rate')\n",
        "plt.savefig(directory[:-5]+\"screenshots/val_roc_1_level_2.png\")\n",
        "plt.show()"
      ]
    },
    {
      "cell_type": "code",
      "execution_count": 38,
      "metadata": {
        "id": "s1BrfQwIBePs",
        "colab": {
          "base_uri": "https://localhost:8080/",
          "height": 279
        },
        "outputId": "a7915ae0-b579-497a-b91d-eaf61822200b"
      },
      "outputs": [
        {
          "output_type": "display_data",
          "data": {
            "image/png": "[encoded data removed]",
            "text/plain": [
              "<Figure size 432x288 with 1 Axes>"
            ]
          },
          "metadata": {
            "needs_background": "light"
          }
        }
      ],
      "source": [
        "# ROC for testing data\n",
        "\n",
        "pred = model2.predict(X_test)\n",
        "y_true = np.argmax(y_test, axis = 1)\n",
        "pos_probs = pred[:,1]\n",
        "fpr, tpr, _ = roc_curve(y_true, pos_probs)\n",
        "plt.plot(fpr, tpr)\n",
        "plt.xlabel('False Positive Rate')\n",
        "plt.ylabel('True Positive Rate')\n",
        "plt.savefig(directory[:-5]+\"screenshots/test_roc_1_level_2.png\")\n",
        "plt.show()"
      ]
    },
    {
      "cell_type": "code",
      "execution_count": 39,
      "metadata": {
        "id": "6cDpRHRyBePs"
      },
      "outputs": [],
      "source": [
        "# model2.save(directory + \"model_trial_1_level_2.h5\")"
      ]
    }
  ],
  "metadata": {
    "accelerator": "GPU",
    "colab": {
      "collapsed_sections": [],
      "name": "test_5.ipynb",
      "provenance": []
    },
    "interpreter": {
      "hash": "8356d31dd4c50017c60d528a0c40a4935f9d791f54e24c10e32e3a312d5b6882"
    },
    "kernelspec": {
      "display_name": "Python 3.7.6 64-bit ('base': conda)",
      "language": "python",
      "name": "python3"
    },
    "language_info": {
      "codemirror_mode": {
        "name": "ipython",
        "version": 3
      },
      "file_extension": ".py",
      "mimetype": "text/x-python",
      "name": "python",
      "nbconvert_exporter": "python",
      "pygments_lexer": "ipython3",
      "version": "3.7.6"
    },
    "orig_nbformat": 4
  },
  "nbformat": 4,
  "nbformat_minor": 0
}