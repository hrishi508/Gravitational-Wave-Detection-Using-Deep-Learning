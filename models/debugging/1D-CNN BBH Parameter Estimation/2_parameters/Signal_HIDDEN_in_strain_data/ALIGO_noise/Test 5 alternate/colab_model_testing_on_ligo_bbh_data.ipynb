{
  "cells": [
    {
      "cell_type": "markdown",
      "metadata": {
        "id": "dwy3ztM1krqq"
      },
      "source": [
        "# Imports"
      ]
    },
    {
      "cell_type": "code",
      "execution_count": null,
      "metadata": {
        "colab": {
          "base_uri": "https://localhost:8080/"
        },
        "id": "Xs_OpQDIxDQW",
        "outputId": "94e19074-0aa5-4924-c107-1d3b072ed622"
      },
      "outputs": [],
      "source": [
        "from google.colab import drive\n",
        "drive.mount('/content/gdrive')"
      ]
    },
    {
      "cell_type": "code",
      "execution_count": null,
      "metadata": {
        "id": "L5inbyEdw1A7"
      },
      "outputs": [],
      "source": [
        "import numpy as np\n",
        "import pandas as pd\n",
        "import matplotlib.pyplot as plt\n",
        "import itertools\n",
        "\n",
        "import tensorflow as tf\n",
        "from keras.models import load_model\n",
        "from tensorflow.keras.models import Sequential\n",
        "from tensorflow.keras.layers import Dense, Conv1D, Dropout, MaxPool1D, ReLU, Flatten, BatchNormalization\n",
        "\n",
        "from sklearn.metrics import f1_score\n",
        "from sklearn.metrics import recall_score\n",
        "from sklearn.metrics import precision_score\n",
        "from sklearn.metrics import confusion_matrix\n",
        "from sklearn.preprocessing import StandardScaler\n",
        "from sklearn.model_selection import train_test_split\n",
        "from sklearn.metrics import confusion_matrix, ConfusionMatrixDisplay, roc_curve, accuracy_score, mean_absolute_error, mean_squared_error"
      ]
    },
    {
      "cell_type": "code",
      "execution_count": null,
      "metadata": {},
      "outputs": [],
      "source": [
        "no_of_params = 2"
      ]
    },
    {
      "cell_type": "code",
      "execution_count": null,
      "metadata": {
        "id": "5F2nsIcjoKyP"
      },
      "outputs": [],
      "source": [
        "real_data_directory = \"/content/gdrive/MyDrive/GW_SOP/Data/better_results/\"\n",
        "gen_data_directory = \"/content/gdrive/MyDrive/GW_SOP/Data/\"\n",
        "model1_directory = \"/content/gdrive/MyDrive/GW_SOP/Code/debugging/1D-CNN Binary Classification/Signal_HIDDEN_in_strain_data/ALIGO_noise/Test 5/data/\"\n",
        "model2_directory = \"/content/gdrive/MyDrive/GW_SOP/Code/debugging/1D-CNN BBH Parameter Estimation/\"+str(no_of_params)+\"_parameters/Signal_HIDDEN_in_strain_data/ALIGO_noise/Test 5 alternate/data/\""
      ]
    },
    {
      "cell_type": "code",
      "execution_count": null,
      "metadata": {
        "id": "twXvncE4vczL"
      },
      "outputs": [],
      "source": [
        "idx =   [ 23, 10, 40, 37, 3, 15, 36, 20, 25, 11, 6, 45, 47, 44, 4, 43, 16, 19, 12, 22, \n",
        "          28, 31, 8, 33, 2, 48, 38, 42, 30, 1, 35, 34, 46, 5, 18, 21, 26, 14, 17, 27,\n",
        "          24, 7, 9, 13, 41, 32, 29, 39\n",
        "        ]\n",
        "\n",
        "bbh_events= ['GW190519_153544',\n",
        "             'GW170823',\n",
        "             'GW190814',\n",
        "             'GW190728_064510',\n",
        "             'GW151226',\n",
        "             'GW190421_213856',\n",
        "             'GW190727_060333',\n",
        "             'GW190513_205428',\n",
        "             'GW190521_074359',\n",
        "             'GW190408_181802',\n",
        "             'GW170729',\n",
        "             'GW190915_235702',\n",
        "             'GW190929_012149',\n",
        "             'GW190910_112807',\n",
        "             'GW170104',\n",
        "             'GW190909_114149',\n",
        "             'GW190424_180648',\n",
        "             'GW190512_180714',\n",
        "             'GW190412',\n",
        "             'GW190517_055101',\n",
        "             'GW190620_030421',\n",
        "             'GW190706_222641',\n",
        "             'GW170814',\n",
        "             'GW190708_232457',\n",
        "             'GW151012',\n",
        "             'GW190930_133541',\n",
        "             'GW190731_140936',\n",
        "             'GW190828_065509',\n",
        "             'GW190701_203306',\n",
        "             'GW150914',\n",
        "             'GW190720_000836',\n",
        "             'GW190719_215514',\n",
        "             'GW190924_021846',\n",
        "             'GW170608',\n",
        "             'GW190503_185404',\n",
        "             'GW190514_065416',\n",
        "             'GW190527_092055',\n",
        "             'GW190413_134308',\n",
        "             'GW190425',\n",
        "             'GW190602_175927',\n",
        "             'GW190521',\n",
        "             'GW170809',\n",
        "             'GW170818',\n",
        "             'GW190413_052954',\n",
        "             'GW190828_063405',\n",
        "             'GW190707_093326',\n",
        "             'GW190630_185205',\n",
        "             'GW190803_022701'\n",
        "             ]"
      ]
    },
    {
      "cell_type": "markdown",
      "metadata": {
        "id": "LV9CfWZRisV7"
      },
      "source": [
        "# Testing on unseen generated data"
      ]
    },
    {
      "cell_type": "markdown",
      "metadata": {
        "id": "KR2Mz-kgvPm-"
      },
      "source": [
        "## Level 1"
      ]
    },
    {
      "cell_type": "code",
      "execution_count": null,
      "metadata": {
        "id": "MzCUizYfw1A_"
      },
      "outputs": [],
      "source": [
        "noise_df = pd.read_csv(gen_data_directory + \"val_Final_Merged_Noise_Reduced_No_ABS_\" + str(no_of_params) + \"_parameters.csv\", header=None)\n",
        "noise = noise_df.values.astype(float)\n",
        "\n",
        "data_BBH_df = pd.read_csv(gen_data_directory + \"val_Final_BBH_Merged_Noise_Signal_Reduced_No_ABS_\"+str(no_of_params)+\"_parameters.csv\", header=None)\n",
        "data_BBH = data_BBH_df.values.astype(float)\n",
        "\n",
        "data_BBH_df_targets = pd.read_csv(gen_data_directory + \"val_Final_BBH_Merged_Noise_Signal_Targets_\"+str(no_of_params)+\"_parameters.csv\", header=None)\n",
        "data_BBH_targets = data_BBH_df_targets.values.astype(float)"
      ]
    },
    {
      "cell_type": "code",
      "execution_count": null,
      "metadata": {
        "colab": {
          "base_uri": "https://localhost:8080/"
        },
        "id": "kmYHuecJw1BB",
        "outputId": "da5e04ee-e6e1-4e4d-e125-4286f6fd71ce"
      },
      "outputs": [],
      "source": [
        "X = np.concatenate((noise, data_BBH), axis=0)\n",
        "print(X.shape)"
      ]
    },
    {
      "cell_type": "code",
      "execution_count": null,
      "metadata": {
        "colab": {
          "base_uri": "https://localhost:8080/"
        },
        "id": "8QXIloAgn9Zr",
        "outputId": "d218366f-d5fe-4022-ba2d-80b89bbc0bd4"
      },
      "outputs": [],
      "source": [
        "X *= 1e19\n",
        "print(X)"
      ]
    },
    {
      "cell_type": "code",
      "execution_count": null,
      "metadata": {
        "colab": {
          "base_uri": "https://localhost:8080/"
        },
        "id": "J_dSmj6xw1BE",
        "outputId": "5ed33760-f1c5-4538-9b88-2364a21f09d4"
      },
      "outputs": [],
      "source": [
        "y = [[0, -1] for i in range(1000)] + [[1, 0] for i in range(1000)]\n",
        "y = np.array(y)\n",
        "print(y)"
      ]
    },
    {
      "cell_type": "code",
      "execution_count": null,
      "metadata": {
        "colab": {
          "base_uri": "https://localhost:8080/"
        },
        "id": "8xirD0GDBQgm",
        "outputId": "bb72c24b-e2a6-4efe-eedc-09e8240b5214"
      },
      "outputs": [],
      "source": [
        "X = np.expand_dims(X, axis=-1)\n",
        "print(X.shape)"
      ]
    },
    {
      "cell_type": "code",
      "execution_count": null,
      "metadata": {
        "id": "I-Jk3rjDioj0"
      },
      "outputs": [],
      "source": [
        "X_test_l1, tmp1, y, tmp2 = train_test_split(X, y, test_size=1)\n",
        "\n",
        "X_test_l1 = np.concatenate((X_test_l1, tmp1), axis = 0)\n",
        "y = np.concatenate((y, tmp2), axis = 0)\n",
        "\n",
        "y_l2 = [y[i,1] for i in range(len(y))]\n",
        "y_test_l1 = [y[i,0] for i in range(len(y))]"
      ]
    },
    {
      "cell_type": "code",
      "execution_count": null,
      "metadata": {
        "colab": {
          "base_uri": "https://localhost:8080/"
        },
        "id": "boi3V2dgpu7G",
        "outputId": "6007fc02-dcd6-42c8-81ee-de4f68f69891"
      },
      "outputs": [],
      "source": [
        "print(y_test_l1)"
      ]
    },
    {
      "cell_type": "code",
      "execution_count": null,
      "metadata": {
        "id": "01pIkFC6w1BJ"
      },
      "outputs": [],
      "source": [
        "model_l1 = load_model(model1_directory + \"model_trial_1.h5\")"
      ]
    },
    {
      "cell_type": "code",
      "execution_count": null,
      "metadata": {
        "id": "nNKY920YfEPO"
      },
      "outputs": [],
      "source": [
        "pred_l1 = model_l1.predict(X_test_l1)"
      ]
    },
    {
      "cell_type": "code",
      "execution_count": null,
      "metadata": {
        "id": "DzgSDMkks44o"
      },
      "outputs": [],
      "source": [
        "# y_pred = np.argmax(pred_l1, axis = 1)\n",
        "# for i in range(2999):\n",
        "#   print(y_test_l1[i], y_pred[i])"
      ]
    },
    {
      "cell_type": "code",
      "execution_count": null,
      "metadata": {
        "colab": {
          "base_uri": "https://localhost:8080/"
        },
        "id": "q31_lNxgfEPO",
        "outputId": "d3ea4371-e52c-48dd-fe24-bee030bcfe8c"
      },
      "outputs": [],
      "source": [
        "y_pred = np.argmax(pred_l1, axis = 1)\n",
        "correct_l1 = 0\n",
        "X_test_l2 = []\n",
        "\n",
        "for i in range(len(y_test_l1)):\n",
        "  if y_pred[i]==y_test_l1[i]:\n",
        "    correct_l1 += 1\n",
        "\n",
        "  if y_pred[i]==1 and y_l2[i]!=-1:\n",
        "    X_test_l2.append(X_test_l1[i])\n",
        "\n",
        "acc = (correct_l1/len(y_test_l1))*100\n",
        "print(f\"Total no. of data samples in level 1: {len(y)}\")\n",
        "print(f\"No. of correct predictions: {correct_l1}\")\n",
        "print(f\"Level 1 accuracy: {acc}\")\n",
        "print(f\"No. of data samples sent to level 2 model: {len(X_test_l2)}\")"
      ]
    },
    {
      "cell_type": "code",
      "execution_count": null,
      "metadata": {
        "colab": {
          "base_uri": "https://localhost:8080/",
          "height": 0
        },
        "id": "P3Rlv4BKKe9-",
        "outputId": "3ec9a93c-d560-47f8-8b38-525546f5fa7c"
      },
      "outputs": [],
      "source": [
        "precision = precision_score(y_test_l1, y_pred, average='binary')\n",
        "print('Precision: %.3f' % precision)\n",
        "\n",
        "recall = recall_score(y_test_l1, y_pred, average='binary')\n",
        "print('Recall: %.3f' % recall)\n",
        "\n",
        "score = f1_score(y_test_l1, y_pred, average='binary')\n",
        "print('F1-Score: %.3f' % score)\n",
        "\n",
        "cm = confusion_matrix(y_test_l1, y_pred, labels=[0, 1])\n",
        "disp = ConfusionMatrixDisplay(confusion_matrix=cm, display_labels=[0, 1])\n",
        "disp.plot()\n",
        "plt.title('Acc.:'+str(round(acc, 3))+'   Prec.:'+str(round(precision, 3))+'   Recall:'+str(round(recall, 3))+'   F1:'+str(round(score, 3)))\n",
        "plt.savefig(model2_directory[:-5]+\"screenshots/gen_test_cm_1_level_1.png\")\n",
        "plt.show()"
      ]
    },
    {
      "cell_type": "code",
      "execution_count": null,
      "metadata": {
        "colab": {
          "base_uri": "https://localhost:8080/",
          "height": 0
        },
        "id": "MN43KC7mKezE",
        "outputId": "6f2bceeb-3a5e-48ba-84cf-b7dc81b412ed"
      },
      "outputs": [],
      "source": [
        "pos_probs = pred_l1[:,1]\n",
        "fpr, tpr, _ = roc_curve(y_test_l1, pos_probs)\n",
        "plt.plot(fpr, tpr)\n",
        "plt.xlabel('False Positive Rate')\n",
        "plt.ylabel('True Positive Rate')\n",
        "plt.savefig(model2_directory[:-5]+\"screenshots/gen_test_roc_1_level_1.png\")\n",
        "plt.show()"
      ]
    },
    {
      "cell_type": "markdown",
      "metadata": {
        "id": "GHzjiFipvWqi"
      },
      "source": [
        "## Level 2 (Parameter Estimation)"
      ]
    },
    {
      "cell_type": "code",
      "execution_count": null,
      "metadata": {
        "colab": {
          "base_uri": "https://localhost:8080/"
        },
        "id": "QIgYfCOofEPP",
        "outputId": "26ab42af-a379-40ef-814f-4ec853f6bd90"
      },
      "outputs": [],
      "source": [
        "X_test_l2 = np.array(X_test_l2)\n",
        "y_test_l2 = data_BBH_targets\n",
        "\n",
        "print(X_test_l2.shape)\n",
        "print(y_test_l2.shape)"
      ]
    },
    {
      "cell_type": "code",
      "execution_count": null,
      "metadata": {
        "id": "AUdwCsJLfEPP"
      },
      "outputs": [],
      "source": [
        "model2 = load_model(model2_directory + \"model_trial_1.h5\")"
      ]
    },
    {
      "cell_type": "code",
      "execution_count": null,
      "metadata": {
        "id": "dlZCrHf-fEPQ"
      },
      "outputs": [],
      "source": [
        "pred_l2 = model2.predict(X_test_l2)"
      ]
    },
    {
      "cell_type": "code",
      "execution_count": null,
      "metadata": {
        "colab": {
          "base_uri": "https://localhost:8080/"
        },
        "id": "P5NSBSCPfEPQ",
        "outputId": "c47d1742-5ff5-4fa8-99cf-85a7132b0525"
      },
      "outputs": [],
      "source": [
        "y_pred = pred_l2\n",
        "y_true = y_test_l2\n",
        "\n",
        "print(f\"Total no. of data samples in level 2: {len(y_test_l2)}\")\n",
        "\n",
        "mse = mean_squared_error(y_true, y_pred)\n",
        "print('Mean Squared Error: %.3f' % mse)\n",
        "\n",
        "mae = mean_absolute_error(y_true, y_pred)\n",
        "print('Mean Absolute Error: %.3f' % mae)"
      ]
    },
    {
      "cell_type": "markdown",
      "metadata": {
        "id": "ImQHT-aaaTLh"
      },
      "source": [
        "# Testing on Real data"
      ]
    },
    {
      "cell_type": "markdown",
      "metadata": {
        "id": "ijRG871saTL8"
      },
      "source": [
        "## Level 1"
      ]
    },
    {
      "cell_type": "code",
      "execution_count": null,
      "metadata": {
        "id": "mLnP3wc1aTL8"
      },
      "outputs": [],
      "source": [
        "noise_df = pd.read_csv(real_data_directory+\"Noise.csv\", header=None)\n",
        "noise = noise_df.values.astype(float)\n",
        "\n",
        "\n",
        "# data_BBH_df = pd.read_csv(real_data_directory+\"Processed_BBH_Merged_original.csv\", header=None)\n",
        "data_BBH_df = pd.read_csv(real_data_directory+\"latest data/Scaled_Processed_BBH_Merged.csv\", header=None)\n",
        "# data_BBH_df = pd.read_csv(real_data_directory+\"latest data/Scaled_Sliced_BBH_Merged.csv\", header=None)\n",
        "data_BBH = data_BBH_df.values.astype(float)"
      ]
    },
    {
      "cell_type": "code",
      "execution_count": null,
      "metadata": {
        "colab": {
          "base_uri": "https://localhost:8080/"
        },
        "id": "Uj_E0oqIaTL9",
        "outputId": "2de543ab-542c-45f1-c45e-0a5446787860"
      },
      "outputs": [],
      "source": [
        "X = np.concatenate((noise, data_BBH), axis=0)\n",
        "print(X.shape)"
      ]
    },
    {
      "cell_type": "code",
      "execution_count": null,
      "metadata": {
        "colab": {
          "base_uri": "https://localhost:8080/"
        },
        "id": "4z4e6EYqaTL_",
        "outputId": "ef11db62-d981-4617-b744-882e120bc0ba"
      },
      "outputs": [],
      "source": [
        "X *= 1e19\n",
        "print(X)"
      ]
    },
    {
      "cell_type": "code",
      "execution_count": null,
      "metadata": {
        "colab": {
          "base_uri": "https://localhost:8080/"
        },
        "id": "ngVqnkPmaTL_",
        "outputId": "b4834945-1095-4bfb-8d0a-e3157befe6d2"
      },
      "outputs": [],
      "source": [
        "y = [[0, -1] for i in range(len(noise))] + [[1, 0] for i in range(len(data_BBH))]\n",
        "y = np.array(y)\n",
        "print(y)"
      ]
    },
    {
      "cell_type": "code",
      "execution_count": null,
      "metadata": {
        "colab": {
          "base_uri": "https://localhost:8080/"
        },
        "id": "48B69SX9aTMA",
        "outputId": "fe16d946-a69d-49d8-9c58-c4a2e69b90c9"
      },
      "outputs": [],
      "source": [
        "X_test_l1 = np.expand_dims(X, axis=-1)\n",
        "print(X_test_l1.shape)"
      ]
    },
    {
      "cell_type": "code",
      "execution_count": null,
      "metadata": {
        "id": "6_jLpaOwaTMA"
      },
      "outputs": [],
      "source": [
        "y_l2 = [y[i,1] for i in range(len(y))]\n",
        "y_test_l1 = [y[i,0] for i in range(len(y))]"
      ]
    },
    {
      "cell_type": "code",
      "execution_count": null,
      "metadata": {
        "colab": {
          "base_uri": "https://localhost:8080/"
        },
        "id": "a_R5DPm4aTMB",
        "outputId": "3cdf8ccd-a9ce-401a-fa62-6529022f5e6a"
      },
      "outputs": [],
      "source": [
        "print(y_l2)"
      ]
    },
    {
      "cell_type": "code",
      "execution_count": null,
      "metadata": {
        "colab": {
          "base_uri": "https://localhost:8080/"
        },
        "id": "7JK6U4RFaTMB",
        "outputId": "59938949-b579-48ab-c8f1-34958435ee4b"
      },
      "outputs": [],
      "source": [
        "print(y_test_l1)"
      ]
    },
    {
      "cell_type": "code",
      "execution_count": null,
      "metadata": {
        "id": "E0xpuwaHaTMB"
      },
      "outputs": [],
      "source": [
        "model_l1 = load_model(model1_directory + \"model_trial_1.h5\")"
      ]
    },
    {
      "cell_type": "code",
      "execution_count": null,
      "metadata": {
        "id": "kWcF6fqcaTMC"
      },
      "outputs": [],
      "source": [
        "pred_l1 = model_l1.predict(X_test_l1)"
      ]
    },
    {
      "cell_type": "code",
      "execution_count": null,
      "metadata": {
        "colab": {
          "base_uri": "https://localhost:8080/"
        },
        "id": "FQ7ZDYpraTMC",
        "outputId": "4921b519-dd66-4704-85ae-a3b3f03a6d22"
      },
      "outputs": [],
      "source": [
        "y_pred = np.argmax(pred_l1, axis = 1)\n",
        "correct_l1 = 0\n",
        "X_test_l2 = []\n",
        "name = []\n",
        "sample_idx = []\n",
        "\n",
        "for i in range(len(y_test_l1)):\n",
        "  if y_pred[i]==y_test_l1[i]:\n",
        "    correct_l1 += 1\n",
        "\n",
        "  if y_pred[i]==1 and y_l2[i]!=-1:\n",
        "    X_test_l2.append(X_test_l1[i])\n",
        "    name.append(bbh_events[i-24])\n",
        "    sample_idx.append(i)\n",
        "\n",
        "acc = (correct_l1/len(y_test_l1))*100\n",
        "print(f\"Total no. of data samples in level 1: {len(y)}\")\n",
        "print(f\"No. of correct predictions: {correct_l1}\")\n",
        "print(f\"Level 1 accuracy: {acc}\")\n",
        "print(f\"No. of data samples sent to level 2 model: {len(X_test_l2)}\")"
      ]
    },
    {
      "cell_type": "code",
      "execution_count": null,
      "metadata": {
        "colab": {
          "base_uri": "https://localhost:8080/",
          "height": 346
        },
        "id": "wVaG4ST3aTMD",
        "outputId": "290cd34d-112a-4f90-a8ee-253df25bc987"
      },
      "outputs": [],
      "source": [
        "precision = precision_score(y_test_l1, y_pred, average='binary')\n",
        "print('Precision: %.3f' % precision)\n",
        "\n",
        "recall = recall_score(y_test_l1, y_pred, average='binary')\n",
        "print('Recall: %.3f' % recall)\n",
        "\n",
        "score = f1_score(y_test_l1, y_pred, average='binary')\n",
        "print('F1-Score: %.3f' % score)\n",
        "\n",
        "cm = confusion_matrix(y_test_l1, y_pred, labels=[0, 1])\n",
        "disp = ConfusionMatrixDisplay(confusion_matrix=cm, display_labels=[0, 1])\n",
        "disp.plot()\n",
        "plt.title('Acc.:'+str(round(acc, 3))+'   Prec.:'+str(round(precision, 3))+'   Recall:'+str(round(recall, 3))+'   F1:'+str(round(score, 3)))\n",
        "plt.savefig(model2_directory[:-5]+\"screenshots/real_cm_1_level_1.png\")\n",
        "plt.show()"
      ]
    },
    {
      "cell_type": "code",
      "execution_count": null,
      "metadata": {
        "colab": {
          "base_uri": "https://localhost:8080/",
          "height": 279
        },
        "id": "jl3DzUBlaTMD",
        "outputId": "d1def36d-cf44-4dfc-ac78-fbe53ee4802b"
      },
      "outputs": [],
      "source": [
        "pos_probs = pred_l1[:,1]\n",
        "fpr, tpr, _ = roc_curve(y_test_l1, pos_probs)\n",
        "plt.plot(fpr, tpr)\n",
        "plt.xlabel('False Positive Rate')\n",
        "plt.ylabel('True Positive Rate')\n",
        "plt.savefig(model2_directory[:-5]+\"screenshots/real_roc_1_level_1.png\")\n",
        "plt.show()"
      ]
    },
    {
      "cell_type": "markdown",
      "metadata": {
        "id": "uQCcAfQpaTME"
      },
      "source": [
        "## Level 2"
      ]
    },
    {
      "cell_type": "code",
      "execution_count": null,
      "metadata": {
        "colab": {
          "base_uri": "https://localhost:8080/"
        },
        "id": "d8WkdUPqaTMF",
        "outputId": "1f12fbf0-c6be-4406-db27-5a556ca3c91c"
      },
      "outputs": [],
      "source": [
        "X_test_l2 = np.array(X_test_l2)\n",
        "y_test_l2 = np.array(\n",
        "    [\n",
        "        [66.0, 40.5],\n",
        "        [39.5, 29.0],\n",
        "        [23.2, 2.59],\n",
        "        [12.3, 8.1],\n",
        "        [13.7, 7.7],\n",
        "        [41.3, 31.9],\n",
        "        [38.0, 29.4],\n",
        "        [35.7, 18.0],\n",
        "        [42.2, 32.8],\n",
        "        [24.6, 18.4],\n",
        "        [50.2, 34.0],\n",
        "        [35.3, 24.4],\n",
        "        [80.8, 24.1],\n",
        "        [43.9, 35.6],\n",
        "        [30.8, 20.0],\n",
        "        [45.8, 28.3],\n",
        "        [40.5, 31.8],\n",
        "        [23.3, 12.6],\n",
        "        [30.1, 8.3],\n",
        "        [37.4, 25.3],\n",
        "        [57.1, 35.5],\n",
        "        [67.0, 38.2],\n",
        "        [30.6, 25.2],\n",
        "        [17.6, 13.2],\n",
        "        [23.2, 13.6],\n",
        "        [12.3, 7.8],\n",
        "        [41.5, 28.8],\n",
        "        [24.1, 10.2],\n",
        "        [53.9, 40.8],\n",
        "        [35.6, 30.6],\n",
        "        [13.4, 7.8],\n",
        "        [36.5, 20.8],\n",
        "        [8.9, 5.0],\n",
        "        [11.0, 7.6],\n",
        "        [43.3, 28.4],\n",
        "        [39.0, 28.4],\n",
        "        [36.5, 22.6],\n",
        "        [47.5, 31.8],\n",
        "        [2.0, 1.4],\n",
        "        [69.1, 47.8],\n",
        "        [95.3, 69.0],\n",
        "        [35.0, 23.8],\n",
        "        [35.4, 26.7],\n",
        "        [34.7, 23.7],\n",
        "        [32.1, 26.2],\n",
        "        [11.6, 8.4],\n",
        "        [35.1, 23.7],\n",
        "        [37.3, 27.3]    \n",
        "    ]        \n",
        ")\n",
        "print(X_test_l2.shape)"
      ]
    },
    {
      "cell_type": "code",
      "execution_count": null,
      "metadata": {
        "id": "N6YWytLKaTMF"
      },
      "outputs": [],
      "source": [
        "model2 = load_model(model2_directory + \"model_trial_1.h5\")"
      ]
    },
    {
      "cell_type": "code",
      "execution_count": null,
      "metadata": {
        "id": "PbfGxmaRaTMF"
      },
      "outputs": [],
      "source": [
        "pred_l2 = model2.predict(X_test_l2)"
      ]
    },
    {
      "cell_type": "code",
      "execution_count": null,
      "metadata": {
        "colab": {
          "base_uri": "https://localhost:8080/"
        },
        "id": "RCNXyCZraTMF",
        "outputId": "080c872c-f8a0-4c4e-8da5-414e25327680"
      },
      "outputs": [],
      "source": [
        "y_pred = pred_l2\n",
        "y_true = [y_test_l2[i - 24] for i in sample_idx]\n",
        "\n",
        "print(f\"Total no. of data samples in level 2: {len(y_true)}\")\n",
        "\n",
        "mse = mean_squared_error(y_true, y_pred)\n",
        "print('Mean Squared Error: %.3f' % mse)\n",
        "\n",
        "mae = mean_absolute_error(y_true, y_pred)\n",
        "print('Mean Absolute Error: %.3f' % mae)"
      ]
    },
    {
      "cell_type": "code",
      "execution_count": null,
      "metadata": {
        "id": "0SAVCuAGUl-_"
      },
      "outputs": [],
      "source": [
        "results = np.zeros((len(X_test_l2), 5))\n",
        "df = pd.DataFrame(results, columns=['True m1', 'Pred m1', 'True m2', 'Pred m2', 'Sum of Absolute Errors'])\n",
        "\n",
        "for i in range(len(y_true)):\n",
        "  df.iloc[i, 0] = y_true[i][0]\n",
        "  df.iloc[i, 1] = y_pred[i][0]\n",
        "  df.iloc[i, 2] = y_true[i][1]\n",
        "  df.iloc[i, 3] = y_pred[i][1]\n",
        "  df.iloc[i, 4] = sum(abs(y_true[i] - y_pred[i]))\n",
        "\n",
        "df.to_csv(model2_directory[:-5]+\"data/Real Data Results/results.csv\", index=False) "
      ]
    }
  ],
  "metadata": {
    "accelerator": "GPU",
    "colab": {
      "collapsed_sections": [],
      "name": "colab_multi_level_model_testing.ipynb",
      "provenance": []
    },
    "interpreter": {
      "hash": "8356d31dd4c50017c60d528a0c40a4935f9d791f54e24c10e32e3a312d5b6882"
    },
    "kernelspec": {
      "display_name": "Python 3.7.6 64-bit ('base': conda)",
      "language": "python",
      "name": "python3"
    },
    "language_info": {
      "codemirror_mode": {
        "name": "ipython",
        "version": 3
      },
      "file_extension": ".py",
      "mimetype": "text/x-python",
      "name": "python",
      "nbconvert_exporter": "python",
      "pygments_lexer": "ipython3",
      "version": "3.6.9"
    },
    "orig_nbformat": 4
  },
  "nbformat": 4,
  "nbformat_minor": 0
}
