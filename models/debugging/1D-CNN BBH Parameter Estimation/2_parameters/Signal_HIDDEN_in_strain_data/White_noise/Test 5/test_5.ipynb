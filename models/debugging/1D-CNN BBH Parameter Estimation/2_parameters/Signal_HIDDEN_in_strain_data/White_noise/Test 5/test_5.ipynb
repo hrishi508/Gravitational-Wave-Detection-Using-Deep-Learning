{
  "cells": [
    {
      "cell_type": "code",
      "execution_count": null,
      "metadata": {
        "colab": {
          "base_uri": "https://localhost:8080/"
        },
        "id": "Xs_OpQDIxDQW",
        "outputId": "df14d348-6d09-4f7d-84a6-8268d7b38077"
      },
      "outputs": [],
      "source": [
        "from google.colab import drive\n",
        "drive.mount('/content/gdrive')"
      ]
    },
    {
      "cell_type": "code",
      "execution_count": null,
      "metadata": {
        "id": "L5inbyEdw1A7"
      },
      "outputs": [],
      "source": [
        "import numpy as np\n",
        "import pandas as pd\n",
        "import matplotlib.pyplot as plt\n",
        "\n",
        "import tensorflow as tf\n",
        "from tensorflow.keras.models import Sequential\n",
        "from tensorflow.keras.layers import Dense, Conv1D, Dropout, MaxPool1D, ReLU, Flatten\n",
        "\n",
        "from sklearn.metrics import f1_score\n",
        "from sklearn.metrics import recall_score\n",
        "from sklearn.metrics import precision_score\n",
        "from sklearn.metrics import confusion_matrix\n",
        "from sklearn.preprocessing import StandardScaler\n",
        "from sklearn.model_selection import train_test_split\n",
        "from sklearn.metrics import confusion_matrix, ConfusionMatrixDisplay, roc_curve, mean_squared_error, mean_absolute_error"
      ]
    },
    {
      "cell_type": "code",
      "execution_count": null,
      "metadata": {
        "id": "hF5cR2kzw1A-"
      },
      "outputs": [],
      "source": [
        "# no_of_noise_samples = 5000\n",
        "no_of_merged_samples = 5000\n",
        "no_of_params = 2\n",
        "directory = \"/content/gdrive/MyDrive/GW_SOP/Code/debugging/1D-CNN BBH Parameter Estimation/\"+str(no_of_params)+\"_parameters/Signal_HIDDEN_in_strain_data/White_noise/Test 5/data/\""
      ]
    },
    {
      "cell_type": "code",
      "execution_count": null,
      "metadata": {
        "id": "MzCUizYfw1A_"
      },
      "outputs": [],
      "source": [
        "# noise_df = pd.read_csv(directory + \"Final_Merged_Noise_Reduced_No_Abs.csv\", header=None)\n",
        "# noise = noise_df.values.astype(float)\n",
        "\n",
        "# noise_targets = np.zeros((no_of_noise_samples, no_of_params))\n",
        "\n",
        "\n",
        "data_BBH_df = pd.read_csv(directory + \"Final_BBH_Merged_Noise_Signal.csv\", header=None)\n",
        "data_BBH = data_BBH_df.values.astype(float)\n",
        "\n",
        "data_BBH_df_targets = pd.read_csv(directory + \"Final_BBH_Merged_Noise_Signal_Targets.csv\", header=None)\n",
        "data_BBH_targets = data_BBH_df_targets.values.astype(float)"
      ]
    },
    {
      "cell_type": "code",
      "execution_count": null,
      "metadata": {
        "colab": {
          "base_uri": "https://localhost:8080/"
        },
        "id": "kmYHuecJw1BB",
        "outputId": "23143f16-b371-484f-e134-312d6008fcab"
      },
      "outputs": [],
      "source": [
        "# X = np.concatenate((noise, data_BBH), axis=0)\n",
        "X = data_BBH\n",
        "print(X.shape)"
      ]
    },
    {
      "cell_type": "code",
      "execution_count": null,
      "metadata": {
        "colab": {
          "base_uri": "https://localhost:8080/"
        },
        "id": "J_dSmj6xw1BE",
        "outputId": "fec77c5b-5b00-425c-8f0b-b942d1612a88"
      },
      "outputs": [],
      "source": [
        "# y = np.concatenate((noise_targets, data_BBH_targets), axis=0)\n",
        "y = data_BBH_targets\n",
        "\n",
        "print(y)\n",
        "print(y.shape)"
      ]
    },
    {
      "cell_type": "code",
      "execution_count": null,
      "metadata": {
        "colab": {
          "base_uri": "https://localhost:8080/"
        },
        "id": "c9h1LUqxBQgm",
        "outputId": "025cb575-caf8-47de-9ed1-1ef4e2656e52"
      },
      "outputs": [],
      "source": [
        "X *= 1e19\n",
        "print(X)"
      ]
    },
    {
      "cell_type": "code",
      "execution_count": null,
      "metadata": {
        "colab": {
          "base_uri": "https://localhost:8080/"
        },
        "id": "8xirD0GDBQgm",
        "outputId": "ae65528d-8b29-426a-d07d-af16273bda74"
      },
      "outputs": [],
      "source": [
        "X = np.expand_dims(X, axis=-1)\n",
        "print(X.shape)"
      ]
    },
    {
      "cell_type": "code",
      "execution_count": null,
      "metadata": {
        "id": "Zxu2uCZyz8kD"
      },
      "outputs": [],
      "source": [
        "X_train, X1, y_train, y1 = train_test_split(X, y, test_size=0.2)\n",
        "\n",
        "X_val, X_test, y_val, y_test = train_test_split(X1, y1, test_size=0.5)"
      ]
    },
    {
      "cell_type": "code",
      "execution_count": null,
      "metadata": {
        "colab": {
          "base_uri": "https://localhost:8080/"
        },
        "id": "-Cqz7kE80mty",
        "outputId": "a117fc1f-08db-4b5f-f73b-5b3c3c308535"
      },
      "outputs": [],
      "source": [
        "print(X_train.shape, y_train.shape)"
      ]
    },
    {
      "cell_type": "code",
      "execution_count": null,
      "metadata": {
        "id": "01pIkFC6w1BJ"
      },
      "outputs": [],
      "source": [
        "model = Sequential()\n",
        "\n",
        "model.add(Conv1D(16, 16, input_shape = (16384,1)))\n",
        "model.add(MaxPool1D(4, 4))\n",
        "model.add(ReLU())\n",
        "model.add(Conv1D(32, 8))\n",
        "model.add(MaxPool1D(4, 4))\n",
        "model.add(ReLU())\n",
        "model.add(Conv1D(64, 8))\n",
        "model.add(MaxPool1D(4, 4))\n",
        "model.add(ReLU())\n",
        "model.add(Conv1D(128, 8))\n",
        "model.add(MaxPool1D(4, 4))\n",
        "model.add(ReLU())\n",
        "model.add(Flatten())\n",
        "model.add(Dense(64, activation='relu'))\n",
        "model.add(Dense(2, activation=None))\n",
        "\n",
        "model.compile(optimizer=tf.keras.optimizers.Adam(0.001), loss='mean_squared_error')"
      ]
    },
    {
      "cell_type": "code",
      "execution_count": null,
      "metadata": {
        "colab": {
          "base_uri": "https://localhost:8080/"
        },
        "id": "qxVd6XC9w1BM",
        "outputId": "d705c6f1-4857-4186-efe2-02993dd58a50"
      },
      "outputs": [],
      "source": [
        "history = model.fit(X_train, y_train, batch_size=128, epochs=5, validation_data = (X_val, y_val))"
      ]
    },
    {
      "cell_type": "code",
      "execution_count": null,
      "metadata": {
        "colab": {
          "base_uri": "https://localhost:8080/",
          "height": 295
        },
        "id": "IqssaFdDw1BN",
        "outputId": "1903e4a0-4e31-448f-b321-211739181b3a"
      },
      "outputs": [],
      "source": [
        "loss = history.history['loss']\n",
        "val_loss = history.history['val_loss']\n",
        "\n",
        "epochs = [i for i in range(len(loss))]\n",
        "plt.plot(epochs, loss, label='Training Loss')\n",
        "plt.plot(epochs, val_loss, label='Validation Loss')\n",
        "plt.legend(loc='upper right')\n",
        "plt.xticks(np.arange(min(epochs), max(epochs)+1, 1))\n",
        "plt.ylabel('Mean Squared Error')\n",
        "plt.title('Training and Validation Loss')\n",
        "plt.xlabel('epoch')\n",
        "plt.savefig(directory[:-5]+\"screenshots/graph_1.png\")\n",
        "plt.show()"
      ]
    },
    {
      "cell_type": "code",
      "execution_count": null,
      "metadata": {
        "colab": {
          "base_uri": "https://localhost:8080/",
          "height": 334
        },
        "id": "rm720erevzt2",
        "outputId": "38c25912-5469-4f68-fea4-3b3d737c935a"
      },
      "outputs": [],
      "source": [
        "# Training Data\n",
        "\n",
        "pred = model.predict(X_train)\n",
        "y_pred = pred\n",
        "y_true = y_train\n",
        "\n",
        "mse = mean_squared_error(y_true, y_pred)\n",
        "print('Mean Squared Error: %.3f' % mse)\n",
        "\n",
        "mae = mean_absolute_error(y_true, y_pred)\n",
        "print('Mean Absolute Error: %.3f' % mae)"
      ]
    },
    {
      "cell_type": "code",
      "execution_count": null,
      "metadata": {
        "colab": {
          "base_uri": "https://localhost:8080/",
          "height": 330
        },
        "id": "RTF4jCZCEG3Z",
        "outputId": "cda366c0-7a96-4c01-8885-bfe856498df7"
      },
      "outputs": [],
      "source": [
        "# Validation Data\n",
        "\n",
        "pred = model.predict(X_val)\n",
        "y_pred = pred\n",
        "y_true = y_val\n",
        "\n",
        "mse = mean_squared_error(y_true, y_pred)\n",
        "print('Mean Squared Error: %.3f' % mse)\n",
        "\n",
        "mae = mean_absolute_error(y_true, y_pred)\n",
        "print('Mean Absolute Error: %.3f' % mae)"
      ]
    },
    {
      "cell_type": "code",
      "execution_count": null,
      "metadata": {
        "colab": {
          "base_uri": "https://localhost:8080/",
          "height": 334
        },
        "id": "cv7Ycs1AEjSX",
        "outputId": "4dd78198-be2c-4620-f3e4-64efe2d51505"
      },
      "outputs": [],
      "source": [
        "# Testing Data\n",
        "\n",
        "pred = model.predict(X_test)\n",
        "y_pred = pred\n",
        "y_true = y_test\n",
        "\n",
        "mse = mean_squared_error(y_true, y_pred)\n",
        "print('Mean Squared Error: %.3f' % mse)\n",
        "\n",
        "mae = mean_absolute_error(y_true, y_pred)\n",
        "print('Mean Absolute Error: %.3f' % mae)"
      ]
    },
    {
      "cell_type": "code",
      "execution_count": null,
      "metadata": {
        "id": "b0xR-lJKh1IZ"
      },
      "outputs": [],
      "source": [
        "# model.save(directory + \"model_trial_1.h5\")"
      ]
    }
  ],
  "metadata": {
    "accelerator": "GPU",
    "colab": {
      "collapsed_sections": [],
      "name": "test_5.ipynb",
      "provenance": []
    },
    "interpreter": {
      "hash": "8356d31dd4c50017c60d528a0c40a4935f9d791f54e24c10e32e3a312d5b6882"
    },
    "kernelspec": {
      "display_name": "Python 3.7.6 64-bit ('base': conda)",
      "language": "python",
      "name": "python3"
    },
    "language_info": {
      "codemirror_mode": {
        "name": "ipython",
        "version": 3
      },
      "file_extension": ".py",
      "mimetype": "text/x-python",
      "name": "python",
      "nbconvert_exporter": "python",
      "pygments_lexer": "ipython3",
      "version": "3.6.9"
    },
    "orig_nbformat": 4
  },
  "nbformat": 4,
  "nbformat_minor": 0
}
